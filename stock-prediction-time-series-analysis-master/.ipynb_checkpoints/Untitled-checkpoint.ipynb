{
 "cells": [
  {
   "cell_type": "code",
   "execution_count": 1,
   "id": "191e3f2d",
   "metadata": {},
   "outputs": [
    {
     "name": "stderr",
     "output_type": "stream",
     "text": [
      "<ipython-input-1-f45387cfe4bd>:7: FutureWarning: The pandas.datetime class is deprecated and will be removed from pandas in a future version. Import from datetime module instead.\n",
      "  from pandas import datetime\n"
     ]
    }
   ],
   "source": [
    "import pandas as pd\n",
    "import matplotlib.pyplot as plt\n",
    "import seaborn as sns\n",
    "from pandas.plotting import autocorrelation_plot\n",
    "color = sns.color_palette()\n",
    "from statsmodels.tsa.arima_model import ARIMA\n",
    "from pandas import datetime\n",
    "from sklearn.metrics import mean_squared_error\n",
    "from sklearn.metrics import accuracy_score\n",
    "import numpy as np\n"
   ]
  },
  {
   "cell_type": "code",
   "execution_count": 2,
   "id": "979f1083",
   "metadata": {},
   "outputs": [],
   "source": [
    "\n",
    "def parser(x):\n",
    "    return datetime.strptime(x, '%Y-%m')\n"
   ]
  },
  {
   "cell_type": "code",
   "execution_count": 3,
   "id": "8b9088e8",
   "metadata": {},
   "outputs": [
    {
     "name": "stdout",
     "output_type": "stream",
     "text": [
      "please wait. importing...\n",
      "importing finished.\n"
     ]
    }
   ],
   "source": [
    "print(\"please wait. importing...\")\n",
    "data = pd.read_csv(\"dataset.csv\")\n",
    "\n",
    "print(\"importing finished.\")"
   ]
  },
  {
   "cell_type": "code",
   "execution_count": 4,
   "id": "c338800c",
   "metadata": {},
   "outputs": [],
   "source": [
    "data['Total_Price'] = data['Quantity']*data['UnitPrice']\n",
    "\n",
    "data = data[data.Quantity > 0]\n",
    "data = data[data.UnitPrice > 0]\n",
    "data = data[data.iloc[:, :] != '']"
   ]
  },
  {
   "cell_type": "code",
   "execution_count": 5,
   "id": "60990032",
   "metadata": {},
   "outputs": [],
   "source": [
    "data['date'] = data['InvoiceDate'].map(lambda x: str(x)[:7])"
   ]
  },
  {
   "cell_type": "code",
   "execution_count": null,
   "id": "69900fb7",
   "metadata": {},
   "outputs": [],
   "source": [
    "print(data)\n",
    "Quantity_date=data[['date', 'Quantity']].drop_duplicates()\n",
    "Quantity_date_count=Quantity_date.groupby(['date'])['Quantity'].aggregate('sum').reset_index().sort_values(by='date', ascending=0)"
   ]
  }
 ],
 "metadata": {
  "kernelspec": {
   "display_name": "Python 3",
   "language": "python",
   "name": "python3"
  },
  "language_info": {
   "codemirror_mode": {
    "name": "ipython",
    "version": 3
   },
   "file_extension": ".py",
   "mimetype": "text/x-python",
   "name": "python",
   "nbconvert_exporter": "python",
   "pygments_lexer": "ipython3",
   "version": "3.8.8"
  }
 },
 "nbformat": 4,
 "nbformat_minor": 5
}
