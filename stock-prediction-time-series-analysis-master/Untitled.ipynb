{
 "cells": [
  {
   "cell_type": "code",
   "execution_count": 1,
   "id": "3455f8f7",
   "metadata": {},
   "outputs": [
    {
     "name": "stderr",
     "output_type": "stream",
     "text": [
      "<ipython-input-1-f45387cfe4bd>:7: FutureWarning: The pandas.datetime class is deprecated and will be removed from pandas in a future version. Import from datetime module instead.\n",
      "  from pandas import datetime\n"
     ]
    }
   ],
   "source": [
    "import pandas as pd\n",
    "import matplotlib.pyplot as plt\n",
    "import seaborn as sns\n",
    "from pandas.plotting import autocorrelation_plot\n",
    "color = sns.color_palette()\n",
    "from statsmodels.tsa.arima_model import ARIMA\n",
    "from pandas import datetime\n",
    "from sklearn.metrics import mean_squared_error\n",
    "from sklearn.metrics import accuracy_score\n",
    "import numpy as np\n"
   ]
  },
  {
   "cell_type": "code",
   "execution_count": 2,
   "id": "f674d7c9",
   "metadata": {},
   "outputs": [],
   "source": [
    "\n",
    "def parser(x):\n",
    "    return datetime.strptime(x, '%Y-%m')\n"
   ]
  },
  {
   "cell_type": "code",
   "execution_count": 3,
   "id": "534bdec7",
   "metadata": {},
   "outputs": [
    {
     "name": "stdout",
     "output_type": "stream",
     "text": [
      "please wait. importing...\n",
      "importing finished.\n"
     ]
    }
   ],
   "source": [
    "print(\"please wait. importing...\")\n",
    "data = pd.read_csv(\"dataset.csv\")\n",
    "\n",
    "print(\"importing finished.\")"
   ]
  },
  {
   "cell_type": "code",
   "execution_count": 4,
   "id": "b67e3907",
   "metadata": {},
   "outputs": [],
   "source": [
    "data['Total_Price'] = data['Quantity']*data['UnitPrice']\n",
    "\n",
    "data = data[data.Quantity > 0]\n",
    "data = data[data.UnitPrice > 0]\n",
    "data = data[data.iloc[:, :] != '']"
   ]
  },
  {
   "cell_type": "code",
   "execution_count": 5,
   "id": "c2f5f569",
   "metadata": {},
   "outputs": [],
   "source": [
    "data['date'] = data['InvoiceDate'].map(lambda x: str(x)[:7])"
   ]
  },
  {
   "cell_type": "code",
   "execution_count": 6,
   "id": "ca3312a4",
   "metadata": {},
   "outputs": [
    {
     "name": "stdout",
     "output_type": "stream",
     "text": [
      "        Unnamed: 0 InvoiceNo StockCode                          Description  \\\n",
      "0                0    536365    85123A   WHITE HANGING HEART T-LIGHT HOLDER   \n",
      "1                1    536365     71053                  WHITE METAL LANTERN   \n",
      "2                2    536365    84406B       CREAM CUPID HEARTS COAT HANGER   \n",
      "3                3    536365    84029G  KNITTED UNION FLAG HOT WATER BOTTLE   \n",
      "4                4    536365    84029E       RED WOOLLY HOTTIE WHITE HEART.   \n",
      "...            ...       ...       ...                                  ...   \n",
      "541904      541904    581587     22613          PACK OF 20 SPACEBOY NAPKINS   \n",
      "541905      541905    581587     22899         CHILDREN'S APRON DOLLY GIRL    \n",
      "541906      541906    581587     23254        CHILDRENS CUTLERY DOLLY GIRL    \n",
      "541907      541907    581587     23255      CHILDRENS CUTLERY CIRCUS PARADE   \n",
      "541908      541908    581587     22138        BAKING SET 9 PIECE RETROSPOT    \n",
      "\n",
      "        Quantity          InvoiceDate  UnitPrice  CustomerID         Country  \\\n",
      "0              6  2010-12-01 08:26:00       2.55     17850.0  United Kingdom   \n",
      "1              6  2010-12-01 08:26:00       3.39     17850.0  United Kingdom   \n",
      "2              8  2010-12-01 08:26:00       2.75     17850.0  United Kingdom   \n",
      "3              6  2010-12-01 08:26:00       3.39     17850.0  United Kingdom   \n",
      "4              6  2010-12-01 08:26:00       3.39     17850.0  United Kingdom   \n",
      "...          ...                  ...        ...         ...             ...   \n",
      "541904        12  2011-12-09 12:50:00       0.85     12680.0          France   \n",
      "541905         6  2011-12-09 12:50:00       2.10     12680.0          France   \n",
      "541906         4  2011-12-09 12:50:00       4.15     12680.0          France   \n",
      "541907         4  2011-12-09 12:50:00       4.15     12680.0          France   \n",
      "541908         3  2011-12-09 12:50:00       4.95     12680.0          France   \n",
      "\n",
      "        Total_Price     date  \n",
      "0             15.30  2010-12  \n",
      "1             20.34  2010-12  \n",
      "2             22.00  2010-12  \n",
      "3             20.34  2010-12  \n",
      "4             20.34  2010-12  \n",
      "...             ...      ...  \n",
      "541904        10.20  2011-12  \n",
      "541905        12.60  2011-12  \n",
      "541906        16.60  2011-12  \n",
      "541907        16.60  2011-12  \n",
      "541908        14.85  2011-12  \n",
      "\n",
      "[530104 rows x 11 columns]\n"
     ]
    }
   ],
   "source": [
    "print(data)\n",
    "Quantity_date=data[['date', 'Quantity']].drop_duplicates()\n",
    "Quantity_date_count=Quantity_date.groupby(['date'])['Quantity'].aggregate('sum').reset_index().sort_values(by='date', ascending=0)"
   ]
  },
  {
   "cell_type": "code",
   "execution_count": null,
   "id": "497a23ec",
   "metadata": {},
   "outputs": [],
   "source": []
  }
 ],
 "metadata": {
  "kernelspec": {
   "display_name": "Python 3",
   "language": "python",
   "name": "python3"
  },
  "language_info": {
   "codemirror_mode": {
    "name": "ipython",
    "version": 3
   },
   "file_extension": ".py",
   "mimetype": "text/x-python",
   "name": "python",
   "nbconvert_exporter": "python",
   "pygments_lexer": "ipython3",
   "version": "3.8.8"
  }
 },
 "nbformat": 4,
 "nbformat_minor": 5
}
