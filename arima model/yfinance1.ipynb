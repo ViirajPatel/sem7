{
 "cells": [
  {
   "cell_type": "code",
   "execution_count": 1,
   "id": "56635736",
   "metadata": {},
   "outputs": [],
   "source": [
    "from pandas_datareader import data as pdr\n",
    "import pandas as pd\n",
    "import numpy as np\n",
    "from datetime import date\n",
    "\n",
    "import yfinance as yf\n",
    "#yf.pdr_override()  # <== that's all it takes :-)\n",
    "\n",
    "sym = \"INFY\"\n",
    "\n"
   ]
  },
  {
   "cell_type": "code",
   "execution_count": null,
   "id": "9571f6f0",
   "metadata": {},
   "outputs": [],
   "source": [
    "# download dataframe\n",
    "data = pdr.get_data_yahoo(sym+\".NS\", start=date(2019,8,13),end=date(2021,9,13))\n",
    "df = pd.DataFrame(data)\n",
    "df.to_csv(sym+\".csv\")"
   ]
  },
  {
   "cell_type": "code",
   "execution_count": 3,
   "id": "250a10d5",
   "metadata": {},
   "outputs": [
    {
     "name": "stdout",
     "output_type": "stream",
     "text": [
      "[*********************100%***********************]  1 of 1 completed\n"
     ]
    }
   ],
   "source": [
    "data = yf.download(tickers='RELIANCE.NS', period='1y', interval='1h')\n",
    "data.to_csv(\"RELIANCE.csv\")"
   ]
  },
  {
   "cell_type": "code",
   "execution_count": 2,
   "id": "1be25d2e",
   "metadata": {},
   "outputs": [
    {
     "name": "stdout",
     "output_type": "stream",
     "text": [
      "[*********************100%***********************]  1 of 1 completed\n"
     ]
    },
    {
     "data": {
      "text/html": [
       "<div>\n",
       "<style scoped>\n",
       "    .dataframe tbody tr th:only-of-type {\n",
       "        vertical-align: middle;\n",
       "    }\n",
       "\n",
       "    .dataframe tbody tr th {\n",
       "        vertical-align: top;\n",
       "    }\n",
       "\n",
       "    .dataframe thead th {\n",
       "        text-align: right;\n",
       "    }\n",
       "</style>\n",
       "<table border=\"1\" class=\"dataframe\">\n",
       "  <thead>\n",
       "    <tr style=\"text-align: right;\">\n",
       "      <th></th>\n",
       "      <th>Date</th>\n",
       "      <th>Open</th>\n",
       "      <th>High</th>\n",
       "      <th>Low</th>\n",
       "      <th>Close</th>\n",
       "      <th>Adj Close</th>\n",
       "      <th>Volume</th>\n",
       "    </tr>\n",
       "  </thead>\n",
       "  <tbody>\n",
       "    <tr>\n",
       "      <th>0</th>\n",
       "      <td>2020-10-26</td>\n",
       "      <td>1329.000000</td>\n",
       "      <td>1331.000000</td>\n",
       "      <td>1318.000000</td>\n",
       "      <td>1320.650024</td>\n",
       "      <td>1318.869141</td>\n",
       "      <td>159573</td>\n",
       "    </tr>\n",
       "    <tr>\n",
       "      <th>1</th>\n",
       "      <td>2020-10-27</td>\n",
       "      <td>1326.000000</td>\n",
       "      <td>1328.900024</td>\n",
       "      <td>1297.050049</td>\n",
       "      <td>1326.000000</td>\n",
       "      <td>1324.211914</td>\n",
       "      <td>214182</td>\n",
       "    </tr>\n",
       "    <tr>\n",
       "      <th>2</th>\n",
       "      <td>2020-10-28</td>\n",
       "      <td>1324.000000</td>\n",
       "      <td>1339.000000</td>\n",
       "      <td>1310.000000</td>\n",
       "      <td>1333.349976</td>\n",
       "      <td>1331.552002</td>\n",
       "      <td>185005</td>\n",
       "    </tr>\n",
       "    <tr>\n",
       "      <th>3</th>\n",
       "      <td>2020-10-29</td>\n",
       "      <td>1310.000000</td>\n",
       "      <td>1340.000000</td>\n",
       "      <td>1310.000000</td>\n",
       "      <td>1330.599976</td>\n",
       "      <td>1328.805664</td>\n",
       "      <td>165775</td>\n",
       "    </tr>\n",
       "    <tr>\n",
       "      <th>4</th>\n",
       "      <td>2020-10-30</td>\n",
       "      <td>1322.800049</td>\n",
       "      <td>1329.449951</td>\n",
       "      <td>1310.000000</td>\n",
       "      <td>1315.199951</td>\n",
       "      <td>1313.426392</td>\n",
       "      <td>116348</td>\n",
       "    </tr>\n",
       "    <tr>\n",
       "      <th>...</th>\n",
       "      <td>...</td>\n",
       "      <td>...</td>\n",
       "      <td>...</td>\n",
       "      <td>...</td>\n",
       "      <td>...</td>\n",
       "      <td>...</td>\n",
       "      <td>...</td>\n",
       "    </tr>\n",
       "    <tr>\n",
       "      <th>243</th>\n",
       "      <td>2021-10-20</td>\n",
       "      <td>4909.399902</td>\n",
       "      <td>4999.799805</td>\n",
       "      <td>4377.299805</td>\n",
       "      <td>4434.350098</td>\n",
       "      <td>4434.350098</td>\n",
       "      <td>19666785</td>\n",
       "    </tr>\n",
       "    <tr>\n",
       "      <th>244</th>\n",
       "      <td>2021-10-21</td>\n",
       "      <td>4440.700195</td>\n",
       "      <td>4750.000000</td>\n",
       "      <td>4414.100098</td>\n",
       "      <td>4573.250000</td>\n",
       "      <td>4573.250000</td>\n",
       "      <td>9272239</td>\n",
       "    </tr>\n",
       "    <tr>\n",
       "      <th>245</th>\n",
       "      <td>2021-10-22</td>\n",
       "      <td>4628.000000</td>\n",
       "      <td>4680.000000</td>\n",
       "      <td>4450.049805</td>\n",
       "      <td>4622.549805</td>\n",
       "      <td>4622.549805</td>\n",
       "      <td>5604504</td>\n",
       "    </tr>\n",
       "    <tr>\n",
       "      <th>246</th>\n",
       "      <td>2021-10-25</td>\n",
       "      <td>4685.000000</td>\n",
       "      <td>4685.000000</td>\n",
       "      <td>3961.100098</td>\n",
       "      <td>4022.350098</td>\n",
       "      <td>4022.350098</td>\n",
       "      <td>7773301</td>\n",
       "    </tr>\n",
       "    <tr>\n",
       "      <th>247</th>\n",
       "      <td>2021-10-26</td>\n",
       "      <td>4068.000000</td>\n",
       "      <td>4400.000000</td>\n",
       "      <td>4051.000000</td>\n",
       "      <td>4289.000000</td>\n",
       "      <td>4289.000000</td>\n",
       "      <td>4354962</td>\n",
       "    </tr>\n",
       "  </tbody>\n",
       "</table>\n",
       "<p>248 rows × 7 columns</p>\n",
       "</div>"
      ],
      "text/plain": [
       "          Date         Open         High          Low        Close  \\\n",
       "0   2020-10-26  1329.000000  1331.000000  1318.000000  1320.650024   \n",
       "1   2020-10-27  1326.000000  1328.900024  1297.050049  1326.000000   \n",
       "2   2020-10-28  1324.000000  1339.000000  1310.000000  1333.349976   \n",
       "3   2020-10-29  1310.000000  1340.000000  1310.000000  1330.599976   \n",
       "4   2020-10-30  1322.800049  1329.449951  1310.000000  1315.199951   \n",
       "..         ...          ...          ...          ...          ...   \n",
       "243 2021-10-20  4909.399902  4999.799805  4377.299805  4434.350098   \n",
       "244 2021-10-21  4440.700195  4750.000000  4414.100098  4573.250000   \n",
       "245 2021-10-22  4628.000000  4680.000000  4450.049805  4622.549805   \n",
       "246 2021-10-25  4685.000000  4685.000000  3961.100098  4022.350098   \n",
       "247 2021-10-26  4068.000000  4400.000000  4051.000000  4289.000000   \n",
       "\n",
       "       Adj Close    Volume  \n",
       "0    1318.869141    159573  \n",
       "1    1324.211914    214182  \n",
       "2    1331.552002    185005  \n",
       "3    1328.805664    165775  \n",
       "4    1313.426392    116348  \n",
       "..           ...       ...  \n",
       "243  4434.350098  19666785  \n",
       "244  4573.250000   9272239  \n",
       "245  4622.549805   5604504  \n",
       "246  4022.350098   7773301  \n",
       "247  4289.000000   4354962  \n",
       "\n",
       "[248 rows x 7 columns]"
      ]
     },
     "execution_count": 2,
     "metadata": {},
     "output_type": "execute_result"
    }
   ],
   "source": [
    "data = yf.download(tickers='IRCTC.NS', period='1y', interval='1d')\n",
    "ndata=data.reset_index()\n",
    "ndata"
   ]
  },
  {
   "cell_type": "code",
   "execution_count": 3,
   "id": "afda84f8",
   "metadata": {},
   "outputs": [],
   "source": [
    "ndata.to_json(\"IRCTC.json\")"
   ]
  },
  {
   "cell_type": "code",
   "execution_count": null,
   "id": "d54506ae",
   "metadata": {},
   "outputs": [],
   "source": []
  },
  {
   "cell_type": "code",
   "execution_count": 8,
   "id": "4d406a20",
   "metadata": {},
   "outputs": [],
   "source": [
    "var = yf.Ticker(\"IRCTC.NS\")"
   ]
  },
  {
   "cell_type": "code",
   "execution_count": 11,
   "id": "6b4c4245",
   "metadata": {},
   "outputs": [
    {
     "name": "stdout",
     "output_type": "stream",
     "text": [
      "- IRCTC.NS: No data found for this date range, symbol may be delisted\n"
     ]
    },
    {
     "data": {
      "text/html": [
       "<div>\n",
       "<style scoped>\n",
       "    .dataframe tbody tr th:only-of-type {\n",
       "        vertical-align: middle;\n",
       "    }\n",
       "\n",
       "    .dataframe tbody tr th {\n",
       "        vertical-align: top;\n",
       "    }\n",
       "\n",
       "    .dataframe thead th {\n",
       "        text-align: right;\n",
       "    }\n",
       "</style>\n",
       "<table border=\"1\" class=\"dataframe\">\n",
       "  <thead>\n",
       "    <tr style=\"text-align: right;\">\n",
       "      <th></th>\n",
       "      <th>Open</th>\n",
       "      <th>High</th>\n",
       "      <th>Low</th>\n",
       "      <th>Close</th>\n",
       "      <th>Adj Close</th>\n",
       "      <th>Volume</th>\n",
       "    </tr>\n",
       "    <tr>\n",
       "      <th>Date</th>\n",
       "      <th></th>\n",
       "      <th></th>\n",
       "      <th></th>\n",
       "      <th></th>\n",
       "      <th></th>\n",
       "      <th></th>\n",
       "    </tr>\n",
       "  </thead>\n",
       "  <tbody>\n",
       "  </tbody>\n",
       "</table>\n",
       "</div>"
      ],
      "text/plain": [
       "Empty DataFrame\n",
       "Columns: [Open, High, Low, Close, Adj Close, Volume]\n",
       "Index: []"
      ]
     },
     "execution_count": 11,
     "metadata": {},
     "output_type": "execute_result"
    }
   ],
   "source": [
    "var.history(period=\"1m\")"
   ]
  },
  {
   "cell_type": "code",
   "execution_count": null,
   "id": "9dcf1c7a",
   "metadata": {},
   "outputs": [],
   "source": []
  }
 ],
 "metadata": {
  "kernelspec": {
   "display_name": "Python 3",
   "language": "python",
   "name": "python3"
  },
  "language_info": {
   "codemirror_mode": {
    "name": "ipython",
    "version": 3
   },
   "file_extension": ".py",
   "mimetype": "text/x-python",
   "name": "python",
   "nbconvert_exporter": "python",
   "pygments_lexer": "ipython3",
   "version": "3.8.8"
  }
 },
 "nbformat": 4,
 "nbformat_minor": 5
}
