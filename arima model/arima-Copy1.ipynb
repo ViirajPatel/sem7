{
 "cells": [
  {
   "cell_type": "code",
   "execution_count": 1,
   "id": "5fb6139a",
   "metadata": {},
   "outputs": [],
   "source": [
    "import pandas as pd \n",
    "import numpy as np \n",
    "import os \n",
    "import matplotlib.pyplot as plt\n",
    "import time\n",
    "import yfinance as yf"
   ]
  },
  {
   "cell_type": "code",
   "execution_count": 26,
   "id": "9e066846",
   "metadata": {},
   "outputs": [],
   "source": [
    "df = pd.read_csv(\"reliance.csv\")"
   ]
  },
  {
   "cell_type": "code",
   "execution_count": 27,
   "id": "0acb33a8",
   "metadata": {},
   "outputs": [
    {
     "data": {
      "text/html": [
       "<div>\n",
       "<style scoped>\n",
       "    .dataframe tbody tr th:only-of-type {\n",
       "        vertical-align: middle;\n",
       "    }\n",
       "\n",
       "    .dataframe tbody tr th {\n",
       "        vertical-align: top;\n",
       "    }\n",
       "\n",
       "    .dataframe thead th {\n",
       "        text-align: right;\n",
       "    }\n",
       "</style>\n",
       "<table border=\"1\" class=\"dataframe\">\n",
       "  <thead>\n",
       "    <tr style=\"text-align: right;\">\n",
       "      <th></th>\n",
       "      <th>Date</th>\n",
       "      <th>Open</th>\n",
       "      <th>High</th>\n",
       "      <th>Low</th>\n",
       "      <th>Close</th>\n",
       "      <th>Adj Close</th>\n",
       "      <th>Volume</th>\n",
       "    </tr>\n",
       "  </thead>\n",
       "  <tbody>\n",
       "    <tr>\n",
       "      <th>0</th>\n",
       "      <td>2016-11-16</td>\n",
       "      <td>492.828491</td>\n",
       "      <td>493.720032</td>\n",
       "      <td>485.745605</td>\n",
       "      <td>488.643158</td>\n",
       "      <td>476.132629</td>\n",
       "      <td>7638174</td>\n",
       "    </tr>\n",
       "    <tr>\n",
       "      <th>1</th>\n",
       "      <td>2016-11-17</td>\n",
       "      <td>488.370728</td>\n",
       "      <td>494.388702</td>\n",
       "      <td>482.625183</td>\n",
       "      <td>484.284454</td>\n",
       "      <td>471.885529</td>\n",
       "      <td>5827994</td>\n",
       "    </tr>\n",
       "    <tr>\n",
       "      <th>2</th>\n",
       "      <td>2016-11-18</td>\n",
       "      <td>487.875427</td>\n",
       "      <td>491.689270</td>\n",
       "      <td>486.389526</td>\n",
       "      <td>489.113678</td>\n",
       "      <td>476.591095</td>\n",
       "      <td>8382568</td>\n",
       "    </tr>\n",
       "    <tr>\n",
       "      <th>3</th>\n",
       "      <td>2016-11-21</td>\n",
       "      <td>489.138458</td>\n",
       "      <td>492.110291</td>\n",
       "      <td>486.983887</td>\n",
       "      <td>491.094910</td>\n",
       "      <td>478.521637</td>\n",
       "      <td>6106766</td>\n",
       "    </tr>\n",
       "    <tr>\n",
       "      <th>4</th>\n",
       "      <td>2016-11-22</td>\n",
       "      <td>494.165802</td>\n",
       "      <td>499.168396</td>\n",
       "      <td>491.986450</td>\n",
       "      <td>496.023193</td>\n",
       "      <td>483.323700</td>\n",
       "      <td>8143790</td>\n",
       "    </tr>\n",
       "  </tbody>\n",
       "</table>\n",
       "</div>"
      ],
      "text/plain": [
       "         Date        Open        High         Low       Close   Adj Close  \\\n",
       "0  2016-11-16  492.828491  493.720032  485.745605  488.643158  476.132629   \n",
       "1  2016-11-17  488.370728  494.388702  482.625183  484.284454  471.885529   \n",
       "2  2016-11-18  487.875427  491.689270  486.389526  489.113678  476.591095   \n",
       "3  2016-11-21  489.138458  492.110291  486.983887  491.094910  478.521637   \n",
       "4  2016-11-22  494.165802  499.168396  491.986450  496.023193  483.323700   \n",
       "\n",
       "    Volume  \n",
       "0  7638174  \n",
       "1  5827994  \n",
       "2  8382568  \n",
       "3  6106766  \n",
       "4  8143790  "
      ]
     },
     "execution_count": 27,
     "metadata": {},
     "output_type": "execute_result"
    }
   ],
   "source": [
    "df.head()"
   ]
  },
  {
   "cell_type": "code",
   "execution_count": 28,
   "id": "7e084a79",
   "metadata": {},
   "outputs": [
    {
     "data": {
      "text/html": [
       "<div>\n",
       "<style scoped>\n",
       "    .dataframe tbody tr th:only-of-type {\n",
       "        vertical-align: middle;\n",
       "    }\n",
       "\n",
       "    .dataframe tbody tr th {\n",
       "        vertical-align: top;\n",
       "    }\n",
       "\n",
       "    .dataframe thead th {\n",
       "        text-align: right;\n",
       "    }\n",
       "</style>\n",
       "<table border=\"1\" class=\"dataframe\">\n",
       "  <thead>\n",
       "    <tr style=\"text-align: right;\">\n",
       "      <th></th>\n",
       "      <th>Date</th>\n",
       "      <th>Open</th>\n",
       "      <th>High</th>\n",
       "      <th>Low</th>\n",
       "      <th>Close</th>\n",
       "      <th>Adj Close</th>\n",
       "      <th>Volume</th>\n",
       "    </tr>\n",
       "  </thead>\n",
       "  <tbody>\n",
       "    <tr>\n",
       "      <th>1229</th>\n",
       "      <td>2021-11-10</td>\n",
       "      <td>2516.699951</td>\n",
       "      <td>2558.000000</td>\n",
       "      <td>2503.649902</td>\n",
       "      <td>2549.899902</td>\n",
       "      <td>2549.899902</td>\n",
       "      <td>4731975</td>\n",
       "    </tr>\n",
       "    <tr>\n",
       "      <th>1230</th>\n",
       "      <td>2021-11-11</td>\n",
       "      <td>2540.050049</td>\n",
       "      <td>2570.500000</td>\n",
       "      <td>2535.550049</td>\n",
       "      <td>2554.550049</td>\n",
       "      <td>2554.550049</td>\n",
       "      <td>4948422</td>\n",
       "    </tr>\n",
       "    <tr>\n",
       "      <th>1231</th>\n",
       "      <td>2021-11-12</td>\n",
       "      <td>2562.899902</td>\n",
       "      <td>2598.750000</td>\n",
       "      <td>2557.000000</td>\n",
       "      <td>2593.100098</td>\n",
       "      <td>2593.100098</td>\n",
       "      <td>4020744</td>\n",
       "    </tr>\n",
       "    <tr>\n",
       "      <th>1232</th>\n",
       "      <td>2021-11-15</td>\n",
       "      <td>2600.000000</td>\n",
       "      <td>2602.199951</td>\n",
       "      <td>2570.000000</td>\n",
       "      <td>2577.800049</td>\n",
       "      <td>2577.800049</td>\n",
       "      <td>2216708</td>\n",
       "    </tr>\n",
       "    <tr>\n",
       "      <th>1233</th>\n",
       "      <td>2021-11-16</td>\n",
       "      <td>2572.050049</td>\n",
       "      <td>2575.000000</td>\n",
       "      <td>2495.000000</td>\n",
       "      <td>2517.899902</td>\n",
       "      <td>2517.899902</td>\n",
       "      <td>5230607</td>\n",
       "    </tr>\n",
       "  </tbody>\n",
       "</table>\n",
       "</div>"
      ],
      "text/plain": [
       "            Date         Open         High          Low        Close  \\\n",
       "1229  2021-11-10  2516.699951  2558.000000  2503.649902  2549.899902   \n",
       "1230  2021-11-11  2540.050049  2570.500000  2535.550049  2554.550049   \n",
       "1231  2021-11-12  2562.899902  2598.750000  2557.000000  2593.100098   \n",
       "1232  2021-11-15  2600.000000  2602.199951  2570.000000  2577.800049   \n",
       "1233  2021-11-16  2572.050049  2575.000000  2495.000000  2517.899902   \n",
       "\n",
       "        Adj Close   Volume  \n",
       "1229  2549.899902  4731975  \n",
       "1230  2554.550049  4948422  \n",
       "1231  2593.100098  4020744  \n",
       "1232  2577.800049  2216708  \n",
       "1233  2517.899902  5230607  "
      ]
     },
     "execution_count": 28,
     "metadata": {},
     "output_type": "execute_result"
    }
   ],
   "source": [
    "df.tail()"
   ]
  },
  {
   "cell_type": "code",
   "execution_count": 29,
   "id": "7840d9fd",
   "metadata": {},
   "outputs": [],
   "source": [
    "df= df[\"High\"].copy()"
   ]
  },
  {
   "cell_type": "code",
   "execution_count": 30,
   "id": "a7ed71bf",
   "metadata": {},
   "outputs": [
    {
     "data": {
      "text/plain": [
       "0        493.720032\n",
       "1        494.388702\n",
       "2        491.689270\n",
       "3        492.110291\n",
       "4        499.168396\n",
       "           ...     \n",
       "1229    2558.000000\n",
       "1230    2570.500000\n",
       "1231    2598.750000\n",
       "1232    2602.199951\n",
       "1233    2575.000000\n",
       "Name: High, Length: 1234, dtype: float64"
      ]
     },
     "execution_count": 30,
     "metadata": {},
     "output_type": "execute_result"
    }
   ],
   "source": [
    "df"
   ]
  },
  {
   "cell_type": "code",
   "execution_count": 78,
   "id": "bdc8f6a4",
   "metadata": {},
   "outputs": [],
   "source": [
    "df_new=df"
   ]
  },
  {
   "cell_type": "code",
   "execution_count": 79,
   "id": "2c29355c",
   "metadata": {},
   "outputs": [],
   "source": [
    "df = df_new[:-100]"
   ]
  },
  {
   "cell_type": "code",
   "execution_count": 80,
   "id": "04df3723",
   "metadata": {},
   "outputs": [
    {
     "data": {
      "text/plain": [
       "count    1134.000000\n",
       "mean     1283.599878\n",
       "std       498.271500\n",
       "min       491.689270\n",
       "25%       918.295471\n",
       "50%      1228.232544\n",
       "75%      1559.554474\n",
       "max      2369.350098\n",
       "Name: High, dtype: float64"
      ]
     },
     "execution_count": 80,
     "metadata": {},
     "output_type": "execute_result"
    }
   ],
   "source": [
    "df.describe()"
   ]
  },
  {
   "cell_type": "code",
   "execution_count": 81,
   "id": "9a65091b",
   "metadata": {},
   "outputs": [],
   "source": [
    "n = int(len(df)*0.8)\n",
    "train = df[:n]\n",
    "test = df[n:]"
   ]
  },
  {
   "cell_type": "code",
   "execution_count": 82,
   "id": "3dcc2ddc",
   "metadata": {},
   "outputs": [
    {
     "name": "stdout",
     "output_type": "stream",
     "text": [
      "907\n",
      "227\n"
     ]
    }
   ],
   "source": [
    "print(len(train))\n",
    "print(len(test))"
   ]
  },
  {
   "cell_type": "code",
   "execution_count": 83,
   "id": "841da8c8",
   "metadata": {},
   "outputs": [],
   "source": [
    "from statsmodels.tsa.arima_model import ARIMA"
   ]
  },
  {
   "cell_type": "code",
   "execution_count": 84,
   "id": "d59d44ab",
   "metadata": {},
   "outputs": [
    {
     "name": "stderr",
     "output_type": "stream",
     "text": [
      "C:\\Users\\acer\\anaconda3\\lib\\site-packages\\statsmodels\\tsa\\arima_model.py:472: FutureWarning:\n",
      "\n",
      "\n",
      "statsmodels.tsa.arima_model.ARMA and statsmodels.tsa.arima_model.ARIMA have\n",
      "been deprecated in favor of statsmodels.tsa.arima.model.ARIMA (note the .\n",
      "between arima and model) and\n",
      "statsmodels.tsa.SARIMAX. These will be removed after the 0.12 release.\n",
      "\n",
      "statsmodels.tsa.arima.model.ARIMA makes use of the statespace framework and\n",
      "is both well tested and maintained.\n",
      "\n",
      "To silence this warning and continue using ARMA and ARIMA until they are\n",
      "removed, use:\n",
      "\n",
      "import warnings\n",
      "warnings.filterwarnings('ignore', 'statsmodels.tsa.arima_model.ARMA',\n",
      "                        FutureWarning)\n",
      "warnings.filterwarnings('ignore', 'statsmodels.tsa.arima_model.ARIMA',\n",
      "                        FutureWarning)\n",
      "\n",
      "\n",
      "C:\\Users\\acer\\anaconda3\\lib\\site-packages\\statsmodels\\tsa\\arima_model.py:472: FutureWarning:\n",
      "\n",
      "\n",
      "statsmodels.tsa.arima_model.ARMA and statsmodels.tsa.arima_model.ARIMA have\n",
      "been deprecated in favor of statsmodels.tsa.arima.model.ARIMA (note the .\n",
      "between arima and model) and\n",
      "statsmodels.tsa.SARIMAX. These will be removed after the 0.12 release.\n",
      "\n",
      "statsmodels.tsa.arima.model.ARIMA makes use of the statespace framework and\n",
      "is both well tested and maintained.\n",
      "\n",
      "To silence this warning and continue using ARMA and ARIMA until they are\n",
      "removed, use:\n",
      "\n",
      "import warnings\n",
      "warnings.filterwarnings('ignore', 'statsmodels.tsa.arima_model.ARMA',\n",
      "                        FutureWarning)\n",
      "warnings.filterwarnings('ignore', 'statsmodels.tsa.arima_model.ARIMA',\n",
      "                        FutureWarning)\n",
      "\n",
      "\n"
     ]
    }
   ],
   "source": [
    "model = ARIMA(df, order=(1,2,1))\n",
    "result = model.fit(disp=0)"
   ]
  },
  {
   "cell_type": "code",
   "execution_count": 85,
   "id": "57355c3f",
   "metadata": {},
   "outputs": [
    {
     "data": {
      "text/html": [
       "<table class=\"simpletable\">\n",
       "<caption>ARIMA Model Results</caption>\n",
       "<tr>\n",
       "  <th>Dep. Variable:</th>      <td>D2.High</td>     <th>  No. Observations:  </th>   <td>1132</td>   \n",
       "</tr>\n",
       "<tr>\n",
       "  <th>Model:</th>          <td>ARIMA(1, 2, 1)</td>  <th>  Log Likelihood     </th> <td>-5226.701</td>\n",
       "</tr>\n",
       "<tr>\n",
       "  <th>Method:</th>             <td>css-mle</td>     <th>  S.D. of innovations</th>  <td>24.417</td>  \n",
       "</tr>\n",
       "<tr>\n",
       "  <th>Date:</th>          <td>Wed, 17 Nov 2021</td> <th>  AIC                </th> <td>10461.401</td>\n",
       "</tr>\n",
       "<tr>\n",
       "  <th>Time:</th>              <td>15:15:09</td>     <th>  BIC                </th> <td>10481.528</td>\n",
       "</tr>\n",
       "<tr>\n",
       "  <th>Sample:</th>                <td>2</td>        <th>  HQIC               </th> <td>10469.005</td>\n",
       "</tr>\n",
       "<tr>\n",
       "  <th></th>                       <td> </td>        <th>                     </th>     <td> </td>    \n",
       "</tr>\n",
       "</table>\n",
       "<table class=\"simpletable\">\n",
       "<tr>\n",
       "        <td></td>           <th>coef</th>     <th>std err</th>      <th>z</th>      <th>P>|z|</th>  <th>[0.025</th>    <th>0.975]</th>  \n",
       "</tr>\n",
       "<tr>\n",
       "  <th>const</th>         <td>    0.0008</td> <td>    0.002</td> <td>    0.332</td> <td> 0.740</td> <td>   -0.004</td> <td>    0.006</td>\n",
       "</tr>\n",
       "<tr>\n",
       "  <th>ar.L1.D2.High</th> <td>    0.1027</td> <td>    0.030</td> <td>    3.472</td> <td> 0.001</td> <td>    0.045</td> <td>    0.161</td>\n",
       "</tr>\n",
       "<tr>\n",
       "  <th>ma.L1.D2.High</th> <td>   -1.0000</td> <td>    0.002</td> <td> -420.049</td> <td> 0.000</td> <td>   -1.005</td> <td>   -0.995</td>\n",
       "</tr>\n",
       "</table>\n",
       "<table class=\"simpletable\">\n",
       "<caption>Roots</caption>\n",
       "<tr>\n",
       "    <td></td>   <th>            Real</th>  <th>         Imaginary</th> <th>         Modulus</th>  <th>        Frequency</th>\n",
       "</tr>\n",
       "<tr>\n",
       "  <th>AR.1</th> <td>           9.7397</td> <td>          +0.0000j</td> <td>           9.7397</td> <td>           0.0000</td>\n",
       "</tr>\n",
       "<tr>\n",
       "  <th>MA.1</th> <td>           1.0000</td> <td>          +0.0000j</td> <td>           1.0000</td> <td>           0.0000</td>\n",
       "</tr>\n",
       "</table>"
      ],
      "text/plain": [
       "<class 'statsmodels.iolib.summary.Summary'>\n",
       "\"\"\"\n",
       "                             ARIMA Model Results                              \n",
       "==============================================================================\n",
       "Dep. Variable:                D2.High   No. Observations:                 1132\n",
       "Model:                 ARIMA(1, 2, 1)   Log Likelihood               -5226.701\n",
       "Method:                       css-mle   S.D. of innovations             24.417\n",
       "Date:                Wed, 17 Nov 2021   AIC                          10461.401\n",
       "Time:                        15:15:09   BIC                          10481.528\n",
       "Sample:                             2   HQIC                         10469.005\n",
       "                                                                              \n",
       "=================================================================================\n",
       "                    coef    std err          z      P>|z|      [0.025      0.975]\n",
       "---------------------------------------------------------------------------------\n",
       "const             0.0008      0.002      0.332      0.740      -0.004       0.006\n",
       "ar.L1.D2.High     0.1027      0.030      3.472      0.001       0.045       0.161\n",
       "ma.L1.D2.High    -1.0000      0.002   -420.049      0.000      -1.005      -0.995\n",
       "                                    Roots                                    \n",
       "=============================================================================\n",
       "                  Real          Imaginary           Modulus         Frequency\n",
       "-----------------------------------------------------------------------------\n",
       "AR.1            9.7397           +0.0000j            9.7397            0.0000\n",
       "MA.1            1.0000           +0.0000j            1.0000            0.0000\n",
       "-----------------------------------------------------------------------------\n",
       "\"\"\""
      ]
     },
     "execution_count": 85,
     "metadata": {},
     "output_type": "execute_result"
    }
   ],
   "source": [
    "result.summary()"
   ]
  },
  {
   "cell_type": "code",
   "execution_count": 86,
   "id": "c1e13c23",
   "metadata": {},
   "outputs": [],
   "source": [
    "step = 100 \n",
    "fc , se, conf = result.forecast(step )"
   ]
  },
  {
   "cell_type": "code",
   "execution_count": 87,
   "id": "e22931c1",
   "metadata": {},
   "outputs": [
    {
     "data": {
      "text/plain": [
       "array([2250.58222817, 2252.69824805, 2254.71580217, 2256.72398377,\n",
       "       2258.73194028, 2260.74061087, 2262.75009198, 2264.76039351,\n",
       "       2266.77151647, 2268.78346098, 2270.79622703, 2272.80981463,\n",
       "       2274.82422379, 2276.83945449, 2278.85550675, 2280.87238056,\n",
       "       2282.89007592, 2284.90859283, 2286.92793129, 2288.94809131,\n",
       "       2290.96907287, 2292.99087598, 2295.01350065, 2297.03694687,\n",
       "       2299.06121464, 2301.08630395, 2303.11221482, 2305.13894725,\n",
       "       2307.16650122, 2309.19487674, 2311.22407382, 2313.25409244,\n",
       "       2315.28493262, 2317.31659435, 2319.34907763, 2321.38238246,\n",
       "       2323.41650884, 2325.45145677, 2327.48722625, 2329.52381729,\n",
       "       2331.56122987, 2333.59946401, 2335.6385197 , 2337.67839694,\n",
       "       2339.71909573, 2341.76061607, 2343.80295796, 2345.8461214 ,\n",
       "       2347.8901064 , 2349.93491294, 2351.98054104, 2354.02699069,\n",
       "       2356.07426188, 2358.12235463, 2360.17126894, 2362.22100479,\n",
       "       2364.27156219, 2366.32294114, 2368.37514165, 2370.42816371,\n",
       "       2372.48200731, 2374.53667247, 2376.59215918, 2378.64846744,\n",
       "       2380.70559725, 2382.76354862, 2384.82232153, 2386.88191599,\n",
       "       2388.94233201, 2391.00356958, 2393.0656287 , 2395.12850936,\n",
       "       2397.19221158, 2399.25673536, 2401.32208068, 2403.38824755,\n",
       "       2405.45523598, 2407.52304595, 2409.59167748, 2411.66113056,\n",
       "       2413.73140519, 2415.80250137, 2417.8744191 , 2419.94715838,\n",
       "       2422.02071921, 2424.0951016 , 2426.17030553, 2428.24633102,\n",
       "       2430.32317806, 2432.40084665, 2434.47933679, 2436.55864848,\n",
       "       2438.63878172, 2440.71973651, 2442.80151286, 2444.88411075,\n",
       "       2446.9675302 , 2449.0517712 , 2451.13683374, 2453.22271784])"
      ]
     },
     "execution_count": 87,
     "metadata": {},
     "output_type": "execute_result"
    }
   ],
   "source": [
    "fc"
   ]
  },
  {
   "cell_type": "code",
   "execution_count": 88,
   "id": "e63603d7",
   "metadata": {},
   "outputs": [
    {
     "data": {
      "text/plain": [
       "array([ 24.41716657,  36.34753085,  45.38782716,  52.91922621,\n",
       "        59.50648877,  65.43435993,  70.86840383,  75.91473122,\n",
       "        80.64615663,  85.11521096,  89.36126729,  93.41473889,\n",
       "        97.29969779, 101.0355845 , 104.63836716, 108.12135232,\n",
       "       111.49576753, 114.77118945, 117.95586497, 121.05695619,\n",
       "       124.0807302 , 127.03270831, 129.91778463, 132.74032151,\n",
       "       135.50422708, 138.21301881, 140.86987611, 143.4776841 ,\n",
       "       146.03907042, 148.55643628, 151.03198287, 153.46773392,\n",
       "       155.86555515, 158.22717095, 160.554179  , 162.84806289,\n",
       "       165.1102032 , 167.34188728, 169.54431782, 171.71862041,\n",
       "       173.86585035, 175.98699857, 178.08299707, 180.15472366,\n",
       "       182.20300629, 184.22862693, 186.23232505, 188.2148008 ,\n",
       "       190.17671789, 192.11870614, 194.04136392, 195.94526025,\n",
       "       197.83093681, 199.69890973, 201.54967124, 203.38369122,\n",
       "       205.20141855, 207.00328244, 208.78969361, 210.56104536,\n",
       "       212.31771461, 214.06006284, 215.78843695, 217.50317008,\n",
       "       219.20458235, 220.89298157, 222.56866389, 224.23191442,\n",
       "       225.88300777, 227.52220862, 229.14977219, 230.7659447 ,\n",
       "       232.37096384, 233.96505915, 235.54845242, 237.12135804,\n",
       "       238.68398335, 240.23652895, 241.77918904, 243.31215163,\n",
       "       244.83559888, 246.34970734, 247.85464814, 249.35058728,\n",
       "       250.83768582, 252.31610007, 253.78598181, 255.24747844,\n",
       "       256.70073318, 258.14588524, 259.58306994, 261.0124189 ,\n",
       "       262.43406014, 263.84811826, 265.25471455, 266.65396707,\n",
       "       268.04599085, 269.43089793, 270.80879749, 272.17979596])"
      ]
     },
     "execution_count": 88,
     "metadata": {},
     "output_type": "execute_result"
    }
   ],
   "source": [
    "se"
   ]
  },
  {
   "cell_type": "code",
   "execution_count": 89,
   "id": "2939bd02",
   "metadata": {},
   "outputs": [
    {
     "data": {
      "text/plain": [
       "182.30701868760352"
      ]
     },
     "execution_count": 89,
     "metadata": {},
     "output_type": "execute_result"
    }
   ],
   "source": [
    "mse = np.mean(se)\n",
    "mse"
   ]
  },
  {
   "cell_type": "code",
   "execution_count": 90,
   "id": "2457aaf5",
   "metadata": {},
   "outputs": [
    {
     "data": {
      "text/plain": [
       "13.502111638095855"
      ]
     },
     "execution_count": 90,
     "metadata": {},
     "output_type": "execute_result"
    }
   ],
   "source": [
    "rmse = np.sqrt(mse)\n",
    "rmse"
   ]
  },
  {
   "cell_type": "code",
   "execution_count": 91,
   "id": "bba6d554",
   "metadata": {},
   "outputs": [],
   "source": [
    "from sklearn.metrics import r2_score"
   ]
  },
  {
   "cell_type": "code",
   "execution_count": 77,
   "id": "5ebc03f4",
   "metadata": {
    "scrolled": true
   },
   "outputs": [],
   "source": [
    "#df_d=df.to_numpy()"
   ]
  },
  {
   "cell_type": "code",
   "execution_count": 92,
   "id": "3e77451c",
   "metadata": {},
   "outputs": [],
   "source": [
    "r2 = r2_score(df_new[-100:], fc)"
   ]
  },
  {
   "cell_type": "code",
   "execution_count": 93,
   "id": "b439ba6b",
   "metadata": {},
   "outputs": [
    {
     "data": {
      "text/plain": [
       "0.4021742208493616"
      ]
     },
     "execution_count": 93,
     "metadata": {},
     "output_type": "execute_result"
    }
   ],
   "source": [
    "r2"
   ]
  },
  {
   "cell_type": "code",
   "execution_count": 98,
   "id": "b715d5d4",
   "metadata": {},
   "outputs": [
    {
     "data": {
      "text/plain": [
       "1134    2261.000000\n",
       "1135    2250.600098\n",
       "1136    2214.600098\n",
       "1137    2153.500000\n",
       "1138    2126.500000\n",
       "           ...     \n",
       "1229    2558.000000\n",
       "1230    2570.500000\n",
       "1231    2598.750000\n",
       "1232    2602.199951\n",
       "1233    2575.000000\n",
       "Name: High, Length: 100, dtype: float64"
      ]
     },
     "execution_count": 98,
     "metadata": {},
     "output_type": "execute_result"
    }
   ],
   "source": [
    "df_new[-100:]"
   ]
  },
  {
   "cell_type": "code",
   "execution_count": 48,
   "id": "4416b279",
   "metadata": {},
   "outputs": [],
   "source": [
    "#df_d=np.concatenate((df_d,fc))"
   ]
  },
  {
   "cell_type": "code",
   "execution_count": 49,
   "id": "e8027a37",
   "metadata": {
    "scrolled": true
   },
   "outputs": [],
   "source": [
    "#plt.plot(df_d)\n",
    "#plt.plot(df)\n",
    "\n",
    "#plt.show()"
   ]
  },
  {
   "cell_type": "code",
   "execution_count": 94,
   "id": "2000f20d",
   "metadata": {},
   "outputs": [],
   "source": [
    "import plotly.express as px"
   ]
  },
  {
   "cell_type": "code",
   "execution_count": 95,
   "id": "689bd267",
   "metadata": {},
   "outputs": [],
   "source": [
    "#df_d"
   ]
  },
  {
   "cell_type": "code",
   "execution_count": 96,
   "id": "803d3b47",
   "metadata": {},
   "outputs": [
    {
     "data": {
      "application/vnd.plotly.v1+json": {
       "config": {
        "plotlyServerURL": "https://plot.ly"
       },
       "data": [
        {
         "hovertemplate": "variable=High<br>index=%{x}<br>value=%{y}<extra></extra>",
         "legendgroup": "High",
         "line": {
          "color": "#636efa",
          "dash": "solid"
         },
         "marker": {
          "symbol": "circle"
         },
         "mode": "lines",
         "name": "High",
         "showlegend": true,
         "type": "scattergl",
         "x": [
          0,
          1,
          2,
          3,
          4,
          5,
          6,
          7,
          8,
          9,
          10,
          11,
          12,
          13,
          14,
          15,
          16,
          17,
          18,
          19,
          20,
          21,
          22,
          23,
          24,
          25,
          26,
          27,
          28,
          29,
          30,
          31,
          32,
          33,
          34,
          35,
          36,
          37,
          38,
          39,
          40,
          41,
          42,
          43,
          44,
          45,
          46,
          47,
          48,
          49,
          50,
          51,
          52,
          53,
          54,
          55,
          56,
          57,
          58,
          59,
          60,
          61,
          62,
          63,
          64,
          65,
          66,
          67,
          68,
          69,
          70,
          71,
          72,
          73,
          74,
          75,
          76,
          77,
          78,
          79,
          80,
          81,
          82,
          83,
          84,
          85,
          86,
          87,
          88,
          89,
          90,
          91,
          92,
          93,
          94,
          95,
          96,
          97,
          98,
          99,
          100,
          101,
          102,
          103,
          104,
          105,
          106,
          107,
          108,
          109,
          110,
          111,
          112,
          113,
          114,
          115,
          116,
          117,
          118,
          119,
          120,
          121,
          122,
          123,
          124,
          125,
          126,
          127,
          128,
          129,
          130,
          131,
          132,
          133,
          134,
          135,
          136,
          137,
          138,
          139,
          140,
          141,
          142,
          143,
          144,
          145,
          146,
          147,
          148,
          149,
          150,
          151,
          152,
          153,
          154,
          155,
          156,
          157,
          158,
          159,
          160,
          161,
          162,
          163,
          164,
          165,
          166,
          167,
          168,
          169,
          170,
          171,
          172,
          173,
          174,
          175,
          176,
          177,
          178,
          179,
          180,
          181,
          182,
          183,
          184,
          185,
          186,
          187,
          188,
          189,
          190,
          191,
          192,
          193,
          194,
          195,
          196,
          197,
          198,
          199,
          200,
          201,
          202,
          203,
          204,
          205,
          206,
          207,
          208,
          209,
          210,
          211,
          212,
          213,
          214,
          215,
          216,
          217,
          218,
          219,
          220,
          221,
          222,
          223,
          224,
          225,
          226,
          227,
          228,
          229,
          230,
          231,
          232,
          233,
          234,
          235,
          236,
          237,
          238,
          239,
          240,
          241,
          242,
          243,
          244,
          245,
          246,
          247,
          248,
          249,
          250,
          251,
          252,
          253,
          254,
          255,
          256,
          257,
          258,
          259,
          260,
          261,
          262,
          263,
          264,
          265,
          266,
          267,
          268,
          269,
          270,
          271,
          272,
          273,
          274,
          275,
          276,
          277,
          278,
          279,
          280,
          281,
          282,
          283,
          284,
          285,
          286,
          287,
          288,
          289,
          290,
          291,
          292,
          293,
          294,
          295,
          296,
          297,
          298,
          299,
          300,
          301,
          302,
          303,
          304,
          305,
          306,
          307,
          308,
          309,
          310,
          311,
          312,
          313,
          314,
          315,
          316,
          317,
          318,
          319,
          320,
          321,
          322,
          323,
          324,
          325,
          326,
          327,
          328,
          329,
          330,
          331,
          332,
          333,
          334,
          335,
          336,
          337,
          338,
          339,
          340,
          341,
          342,
          343,
          344,
          345,
          346,
          347,
          348,
          349,
          350,
          351,
          352,
          353,
          354,
          355,
          356,
          357,
          358,
          359,
          360,
          361,
          362,
          363,
          364,
          365,
          366,
          367,
          368,
          369,
          370,
          371,
          372,
          373,
          374,
          375,
          376,
          377,
          378,
          379,
          380,
          381,
          382,
          383,
          384,
          385,
          386,
          387,
          388,
          389,
          390,
          391,
          392,
          393,
          394,
          395,
          396,
          397,
          398,
          399,
          400,
          401,
          402,
          403,
          404,
          405,
          406,
          407,
          408,
          409,
          410,
          411,
          412,
          413,
          414,
          415,
          416,
          417,
          418,
          419,
          420,
          421,
          422,
          423,
          424,
          425,
          426,
          427,
          428,
          429,
          430,
          431,
          432,
          433,
          434,
          435,
          436,
          437,
          438,
          439,
          440,
          441,
          442,
          443,
          444,
          445,
          446,
          447,
          448,
          449,
          450,
          451,
          452,
          453,
          454,
          455,
          456,
          457,
          458,
          459,
          460,
          461,
          462,
          463,
          464,
          465,
          466,
          467,
          468,
          469,
          470,
          471,
          472,
          473,
          474,
          475,
          476,
          477,
          478,
          479,
          480,
          481,
          482,
          483,
          484,
          485,
          486,
          487,
          488,
          489,
          490,
          491,
          492,
          493,
          494,
          495,
          496,
          497,
          498,
          499,
          500,
          501,
          502,
          503,
          504,
          505,
          506,
          507,
          508,
          509,
          510,
          511,
          512,
          513,
          514,
          515,
          516,
          517,
          518,
          519,
          520,
          521,
          522,
          523,
          524,
          525,
          526,
          527,
          528,
          529,
          530,
          531,
          532,
          533,
          534,
          535,
          536,
          537,
          538,
          539,
          540,
          541,
          542,
          543,
          544,
          545,
          546,
          547,
          548,
          549,
          550,
          551,
          552,
          553,
          554,
          555,
          556,
          557,
          558,
          559,
          560,
          561,
          562,
          563,
          564,
          565,
          566,
          567,
          568,
          569,
          570,
          571,
          572,
          573,
          574,
          575,
          576,
          577,
          578,
          579,
          580,
          581,
          582,
          583,
          584,
          585,
          586,
          587,
          588,
          589,
          590,
          591,
          592,
          593,
          594,
          595,
          596,
          597,
          598,
          599,
          600,
          601,
          602,
          603,
          604,
          605,
          606,
          607,
          608,
          609,
          610,
          611,
          612,
          613,
          614,
          615,
          616,
          617,
          618,
          619,
          620,
          621,
          622,
          623,
          624,
          625,
          626,
          627,
          628,
          629,
          630,
          631,
          632,
          633,
          634,
          635,
          636,
          637,
          638,
          639,
          640,
          641,
          642,
          643,
          644,
          645,
          646,
          647,
          648,
          649,
          650,
          651,
          652,
          653,
          654,
          655,
          656,
          657,
          658,
          659,
          660,
          661,
          662,
          663,
          664,
          665,
          666,
          667,
          668,
          669,
          670,
          671,
          672,
          673,
          674,
          675,
          676,
          677,
          678,
          679,
          680,
          681,
          682,
          683,
          684,
          685,
          686,
          687,
          688,
          689,
          690,
          691,
          692,
          693,
          694,
          695,
          696,
          697,
          698,
          699,
          700,
          701,
          702,
          703,
          704,
          705,
          706,
          707,
          708,
          709,
          710,
          711,
          712,
          713,
          714,
          715,
          716,
          717,
          718,
          719,
          720,
          721,
          722,
          723,
          724,
          725,
          726,
          727,
          728,
          729,
          730,
          731,
          732,
          733,
          734,
          735,
          736,
          737,
          738,
          739,
          740,
          741,
          742,
          743,
          744,
          745,
          746,
          747,
          748,
          749,
          750,
          751,
          752,
          753,
          754,
          755,
          756,
          757,
          758,
          759,
          760,
          761,
          762,
          763,
          764,
          765,
          766,
          767,
          768,
          769,
          770,
          771,
          772,
          773,
          774,
          775,
          776,
          777,
          778,
          779,
          780,
          781,
          782,
          783,
          784,
          785,
          786,
          787,
          788,
          789,
          790,
          791,
          792,
          793,
          794,
          795,
          796,
          797,
          798,
          799,
          800,
          801,
          802,
          803,
          804,
          805,
          806,
          807,
          808,
          809,
          810,
          811,
          812,
          813,
          814,
          815,
          816,
          817,
          818,
          819,
          820,
          821,
          822,
          823,
          824,
          825,
          826,
          827,
          828,
          829,
          830,
          831,
          832,
          833,
          834,
          835,
          836,
          837,
          838,
          839,
          840,
          841,
          842,
          843,
          844,
          845,
          846,
          847,
          848,
          849,
          850,
          851,
          852,
          853,
          854,
          855,
          856,
          857,
          858,
          859,
          860,
          861,
          862,
          863,
          864,
          865,
          866,
          867,
          868,
          869,
          870,
          871,
          872,
          873,
          874,
          875,
          876,
          877,
          878,
          879,
          880,
          881,
          882,
          883,
          884,
          885,
          886,
          887,
          888,
          889,
          890,
          891,
          892,
          893,
          894,
          895,
          896,
          897,
          898,
          899,
          900,
          901,
          902,
          903,
          904,
          905,
          906,
          907,
          908,
          909,
          910,
          911,
          912,
          913,
          914,
          915,
          916,
          917,
          918,
          919,
          920,
          921,
          922,
          923,
          924,
          925,
          926,
          927,
          928,
          929,
          930,
          931,
          932,
          933,
          934,
          935,
          936,
          937,
          938,
          939,
          940,
          941,
          942,
          943,
          944,
          945,
          946,
          947,
          948,
          949,
          950,
          951,
          952,
          953,
          954,
          955,
          956,
          957,
          958,
          959,
          960,
          961,
          962,
          963,
          964,
          965,
          966,
          967,
          968,
          969,
          970,
          971,
          972,
          973,
          974,
          975,
          976,
          977,
          978,
          979,
          980,
          981,
          982,
          983,
          984,
          985,
          986,
          987,
          988,
          989,
          990,
          991,
          992,
          993,
          994,
          995,
          996,
          997,
          998,
          999,
          1000,
          1001,
          1002,
          1003,
          1004,
          1005,
          1006,
          1007,
          1008,
          1009,
          1010,
          1011,
          1012,
          1013,
          1014,
          1015,
          1016,
          1017,
          1018,
          1019,
          1020,
          1021,
          1022,
          1023,
          1024,
          1025,
          1026,
          1027,
          1028,
          1029,
          1030,
          1031,
          1032,
          1033,
          1034,
          1035,
          1036,
          1037,
          1038,
          1039,
          1040,
          1041,
          1042,
          1043,
          1044,
          1045,
          1046,
          1047,
          1048,
          1049,
          1050,
          1051,
          1052,
          1053,
          1054,
          1055,
          1056,
          1057,
          1058,
          1059,
          1060,
          1061,
          1062,
          1063,
          1064,
          1065,
          1066,
          1067,
          1068,
          1069,
          1070,
          1071,
          1072,
          1073,
          1074,
          1075,
          1076,
          1077,
          1078,
          1079,
          1080,
          1081,
          1082,
          1083,
          1084,
          1085,
          1086,
          1087,
          1088,
          1089,
          1090,
          1091,
          1092,
          1093,
          1094,
          1095,
          1096,
          1097,
          1098,
          1099,
          1100,
          1101,
          1102,
          1103,
          1104,
          1105,
          1106,
          1107,
          1108,
          1109,
          1110,
          1111,
          1112,
          1113,
          1114,
          1115,
          1116,
          1117,
          1118,
          1119,
          1120,
          1121,
          1122,
          1123,
          1124,
          1125,
          1126,
          1127,
          1128,
          1129,
          1130,
          1131,
          1132,
          1133
         ],
         "xaxis": "x",
         "y": [
          493.7200317382813,
          494.3887023925781,
          491.6892700195313,
          492.11029052734375,
          499.16839599609375,
          500.5057067871094,
          498.053955078125,
          493.2742614746094,
          495.6021728515625,
          497.434814453125,
          495.2802429199219,
          502.7345886230469,
          497.7815246582031,
          495.1564025878906,
          498.54925537109375,
          499.0693359375,
          506.1026611328125,
          511.0804748535156,
          515.959228515625,
          515.6124877929688,
          527.2274169921875,
          528.78759765625,
          526.013916015625,
          528.4656982421875,
          525.5186157226562,
          528.6390380859375,
          526.3358764648438,
          529.456298828125,
          527.9951171875,
          528.5399780273438,
          529.7534790039062,
          529.3819580078125,
          537.4059448242188,
          539.8824462890625,
          543.349609375,
          541.3683471679688,
          534.8798828125,
          537.4059448242188,
          537.9012451171875,
          542.061767578125,
          542.7056884765625,
          540.0557861328125,
          543.5972290039062,
          541.8389282226562,
          528.9857177734375,
          519.0796508789062,
          517.7423095703125,
          513.8541870117188,
          510.6594543457031,
          509.5697937011719,
          511.50146484375,
          509.6193237304688,
          518.3119506835938,
          521.952392578125,
          520.5160522460938,
          520.4664916992188,
          520.2931518554688,
          517.544189453125,
          516.2811889648438,
          514.2504272460938,
          512.1453857421875,
          512.9130859375,
          512.1453857421875,
          521.5066528320312,
          523.7850341796875,
          529.7039184570312,
          534.037841796875,
          534.3598022460938,
          540.3529663085938,
          600.1362915039062,
          605.2626953125,
          622.4993286132812,
          618.140625,
          616.3575439453125,
          621.4591674804688,
          637.853759765625,
          649.8401489257812,
          657.2697143554688,
          647.7103271484375,
          642.9058837890625,
          641.915283203125,
          653.3073120117188,
          651.969970703125,
          649.0476684570312,
          653.77783203125,
          646.9921875,
          635.922119140625,
          627.006591796875,
          632.7769165039062,
          639.93408203125,
          633.3712768554688,
          626.0655517578125,
          624.0842895507812,
          631.3900756835938,
          662.5447387695312,
          683.7685546875,
          702.3424682617188,
          717.6473999023438,
          710.2673950195312,
          705.7600708007812,
          693.64990234375,
          686.7156372070312,
          680.2518920898438,
          691.222900390625,
          698.3800659179688,
          684.783935546875,
          686.8889770507812,
          703.8284301757812,
          710.7626953125,
          726.9839477539062,
          713.2639770507812,
          705.3886108398438,
          703.481689453125,
          694.4176025390625,
          683.8923950195312,
          683.32275390625,
          677.2553100585938,
          663.4610595703125,
          660.5635375976562,
          675.3978881835938,
          678.4440307617188,
          675.5960083007812,
          671.8317260742188,
          681.9854736328125,
          676.5618896484375,
          668.6617431640625,
          661.5789184570312,
          660.5387573242188,
          658.6813354492188,
          650.6821899414062,
          650.0382690429688,
          665.8880615234375,
          676.314208984375,
          675.9427490234375,
          677.552490234375,
          663.7086791992188,
          663.0648193359375,
          664.2039794921875,
          660.7120971679688,
          664.6993408203125,
          666.086181640625,
          670.1229248046875,
          658.6318359375,
          657.2697143554688,
          673.6148071289062,
          690.9505004882812,
          691.3467407226562,
          701.2528076171875,
          704.3732299804688,
          707.2955322265625,
          715.9138793945312,
          714.2297973632812,
          714.72509765625,
          713.2144165039062,
          698.3800659179688,
          689.6626586914062,
          690.8018798828125,
          706.8497924804688,
          716.92919921875,
          718.1922607421875,
          741.8430786132812,
          743.4032592773438,
          745.1368408203125,
          755.3401489257812,
          755.3401489257812,
          760.7885131835938,
          772.4776611328125,
          768.6143188476562,
          761.7791137695312,
          767.7227783203125,
          788.376953125,
          804.8211059570312,
          804.8458862304688,
          807.297607421875,
          808.090087890625,
          795.43505859375,
          801.7997436523438,
          803.7561645507812,
          810.17041015625,
          824.63330078125,
          823.6921997070312,
          808.1396484375,
          802.9141845703125,
          802.3941040039062,
          795.7817993164062,
          782.5819091796875,
          784.810791015625,
          780.6007080078125,
          791.3240356445312,
          781.4922485351562,
          784.637451171875,
          782.5323486328125,
          785.826171875,
          789.0703735351562,
          783.5477294921875,
          776.3905639648438,
          777.0344848632812,
          791.2249755859375,
          800.7100830078125,
          810.393310546875,
          809.7493896484375,
          818.4915161132812,
          824.682861328125,
          815.5197143554688,
          819.0858764648438,
          817.2532348632812,
          851.8255615234375,
          853.4105224609375,
          844.8417358398438,
          843.0586547851562,
          840.7802734375,
          864.3072509765625,
          843.7025146484375,
          832.0133666992188,
          820.175537109375,
          819.2839965820312,
          817.9466552734375,
          795.3607788085938,
          785.949951171875,
          796.3018798828125,
          817.2037353515625,
          820.6708374023438,
          831.468505859375,
          831.914306640625,
          839.3438720703125,
          850.339599609375,
          868.5668334960938,
          882.3363037109375,
          883.6241455078125,
          875.69921875,
          909.2809448242188,
          913.2433471679688,
          935.8292846679688,
          938.8010864257812,
          937.0180053710938,
          948.8062744140624,
          947.7166137695312,
          936.6712646484376,
          936.869384765625,
          948.8062744140624,
          947.5184936523438,
          946.9736328125,
          933.64990234375,
          926.2203369140624,
          897.49267578125,
          901.3560180664062,
          892.4901123046875,
          883.5250854492188,
          886.595947265625,
          882.2372436523438,
          897.49267578125,
          916.2152099609376,
          915.6703491210938,
          930.8267211914062,
          929.8360595703124,
          940.98046875,
          950.4902954101562,
          948.5090942382812,
          942.4168090820312,
          941.0795288085938,
          932.6098022460938,
          922.5055541992188,
          905.2194213867188,
          912.1041870117188,
          921.5645141601562,
          927.2109375,
          928.1520385742188,
          917.3048706054688,
          920.2766723632812,
          916.2647094726562,
          916.2152099609376,
          924.1896362304688,
          923.8923950195312,
          918.2954711914062,
          918.6917114257812,
          915.2741088867188,
          913.7386474609376,
          930.083740234375,
          928.6968994140624,
          925.6259765625,
          923.5457153320312,
          914.0358276367188,
          910.9154052734376,
          917.3048706054688,
          913.144287109375,
          918.1964111328124,
          922.2579345703124,
          935.0368041992188,
          938.50390625,
          933.7985229492188,
          943.8532104492188,
          949.4996948242188,
          938.8010864257812,
          920.2766723632812,
          920.8710327148438,
          925.6259765625,
          965.1513061523438,
          981.6449584960938,
          972.5313720703124,
          962.8729248046876,
          968.1231689453124,
          956.7311401367188,
          955.443359375,
          963.46728515625,
          935.0863037109376,
          903.931640625,
          889.5678100585938,
          896.8983154296875,
          902.0989990234376,
          893.5302124023438,
          909.578125,
          933.64990234375,
          936.869384765625,
          933.7490234375,
          923.24853515625,
          920.821533203125,
          923.7438354492188,
          922.2579345703124,
          929.1921997070312,
          936.0274047851562,
          946.8250732421876,
          948.1128540039062,
          950.8865356445312,
          941.2280883789062,
          927.4091186523438,
          900.712158203125,
          905.912841796875,
          910.71728515625,
          924.3381958007812,
          927.2109375,
          923.2980346679688,
          920.7224731445312,
          901.1578979492188,
          898.3842163085938,
          895.511474609375,
          893.876953125,
          903.3867797851562,
          891.5490112304688,
          895.8086547851562,
          902.1980590820312,
          887.43798828125,
          892.4901123046875,
          893.2330322265625,
          903.2382202148438,
          901.455078125,
          909.8753051757812,
          910.37060546875,
          915.224609375,
          923.991455078125,
          927.8548583984376,
          932.857421875,
          931.1734008789062,
          938.3057861328124,
          939.29638671875,
          936.12646484375,
          933.0060424804688,
          935.4825439453124,
          966.5382080078124,
          972.5809326171876,
          978.7227172851562,
          1001.5067138671876,
          983.2794799804688,
          970.0053100585938,
          968.717529296875,
          955.6414794921876,
          964.1112060546876,
          972.779052734375,
          975.0574340820312,
          975.3546142578124,
          981.99169921875,
          982.6356201171876,
          990.6099853515624,
          964.8541259765624,
          950.985595703125,
          944.546630859375,
          926.9137573242188,
          925.229736328125,
          917.3048706054688,
          912.351806640625,
          914.7293090820312,
          918.2954711914062,
          919.2860717773438,
          914.5311889648438,
          913.6395874023438,
          926.9633178710938,
          935.1358642578124,
          946.0325317382812,
          947.023193359375,
          966.8353881835938,
          977.2863159179688,
          990.5604858398438,
          990.6099853515624,
          996.45458984375,
          1002.2991943359376,
          1013.8893432617188,
          1010.8679809570312,
          1005.2710571289062,
          1013.2949829101562,
          1026.27197265625,
          1019.5358276367188,
          1006.955078125,
          996.5536499023438,
          976.1470947265624,
          959.40576171875,
          966.340087890625,
          963.2196655273438,
          969.2623901367188,
          982.6851196289062,
          998.93115234375,
          973.7696533203124,
          990.6099853515624,
          1018.8424072265624,
          1031.1259765625,
          1088.680419921875,
          1098.5865478515625,
          1098.4874267578125,
          1085.6590576171875,
          1094.227783203125,
          1104.5301513671875,
          1127.8094482421875,
          1119.191162109375,
          1116.1697998046875,
          1112.455078125,
          1110.9691162109375,
          1126.7198486328125,
          1146.4329833984375,
          1179.22216796875,
          1191.604736328125,
          1180.311767578125,
          1172.386962890625,
          1184.76953125,
          1190.118896484375,
          1211.020751953125,
          1220.1343994140625,
          1203.5911865234375,
          1188.6824951171875,
          1205.7705078125,
          1204.581787109375,
          1203.9874267578125,
          1225.1864013671875,
          1239.7484130859375,
          1262.037109375,
          1267.9312744140625,
          1283.6820068359375,
          1310.5770263671875,
          1316.520751953125,
          1284.9697265625,
          1258.07470703125,
          1246.08837890625,
          1243.0174560546875,
          1240.8875732421875,
          1253.8150634765625,
          1269.318115234375,
          1265.009033203125,
          1256.48974609375,
          1246.880859375,
          1263.6220703125,
          1239.0054931640625,
          1227.7620849609375,
          1212.506591796875,
          1225.7808837890625,
          1228.25732421875,
          1233.3094482421875,
          1242.1754150390625,
          1251.140380859375,
          1259.7587890625,
          1245.8902587890625,
          1227.960205078125,
          1179.22216796875,
          1104.827392578125,
          1106.5113525390625,
          1112.752197265625,
          1105.3721923828125,
          1104.282470703125,
          1118.398681640625,
          1136.130615234375,
          1156.4381103515625,
          1168.27587890625,
          1100.5677490234375,
          1104.33203125,
          1054.7025146484375,
          1065.8468017578125,
          1030.8782958984375,
          1047.0748291015625,
          1083.5787353515625,
          1075.30712890625,
          1055.8416748046875,
          1057.8724365234375,
          1070.849365234375,
          1082.4395751953125,
          1101.558349609375,
          1104.5301513671875,
          1103.3414306640625,
          1088.4822998046875,
          1092.642822265625,
          1102.2022705078125,
          1092.642822265625,
          1119.3397216796875,
          1140.885498046875,
          1145.046142578125,
          1134.7437744140625,
          1114.782958984375,
          1107.0067138671875,
          1119.3892822265625,
          1146.8787841796875,
          1168.82080078125,
          1174.863525390625,
          1163.86767578125,
          1147.1263427734375,
          1147.9188232421875,
          1138.2109375,
          1126.2740478515625,
          1103.8367919921875,
          1091.7513427734375,
          1103.044189453125,
          1117.4080810546875,
          1104.43115234375,
          1122.361083984375,
          1128.3048095703125,
          1136.52685546875,
          1121.8658447265625,
          1120.6275634765625,
          1092.8409423828125,
          1089.6710205078125,
          1116.41748046875,
          1124.5899658203125,
          1123.203125,
          1116.7147216796875,
          1116.41748046875,
          1104.1339111328125,
          1094.0792236328125,
          1107.94775390625,
          1099.527587890625,
          1106.5113525390625,
          1100.5677490234375,
          1103.3414306640625,
          1090.166259765625,
          1121.3704833984375,
          1134.2484130859375,
          1137.1212158203125,
          1178.726806640625,
          1228.306884765625,
          1235.2410888671875,
          1232.5169677734375,
          1241.4324951171875,
          1252.824462890625,
          1244.1566162109375,
          1220.0848388671875,
          1213.497314453125,
          1218.153076171875,
          1243.215576171875,
          1284.7716064453125,
          1292.1517333984375,
          1305.2772216796875,
          1308.7939453125,
          1288.288330078125,
          1264.018310546875,
          1260.402587890625,
          1229.3470458984375,
          1238.1634521484375,
          1240.739013671875,
          1228.0592041015625,
          1228.3564453125,
          1245.9892578125,
          1233.606689453125,
          1231.3282470703125,
          1223.2052001953125,
          1233.21044921875,
          1228.207763671875,
          1230.684326171875,
          1228.1583251953125,
          1261.1456298828125,
          1267.78271484375,
          1262.48291015625,
          1299.6802978515625,
          1321.4737548828125,
          1347.2296142578125,
          1349.2108154296875,
          1346.0408935546875,
          1345.1988525390625,
          1367.0418701171875,
          1374.9666748046875,
          1367.933349609375,
          1324.2969970703125,
          1358.720703125,
          1365.0111083984375,
          1356.9376220703125,
          1393.5902099609375,
          1389.9249267578125,
          1389.8258056640625,
          1370.70703125,
          1351.093017578125,
          1344.7530517578125,
          1328.11083984375,
          1335.34228515625,
          1340.2952880859375,
          1344.15869140625,
          1336.2833251953125,
          1347.2296142578125,
          1376.7003173828125,
          1354.1639404296875,
          1360.1075439453125,
          1381.702880859375,
          1399.1375732421875,
          1382.842041015625,
          1383.287841796875,
          1400.62353515625,
          1404.189697265625,
          1389.627685546875,
          1381.9010009765625,
          1327.4173583984375,
          1276.6981201171875,
          1265.702392578125,
          1248.9610595703125,
          1257.4307861328125,
          1265.9996337890625,
          1259.9569091796875,
          1264.95947265625,
          1325.1390380859375,
          1354.1639404296875,
          1346.932373046875,
          1378.9290771484375,
          1341.0877685546875,
          1324.94091796875,
          1322.2662353515625,
          1320.7802734375,
          1329.398681640625,
          1329.299560546875,
          1354.4114990234375,
          1361.3458251953125,
          1349.11181640625,
          1314.787109375,
          1314.5394287109375,
          1321.968994140625,
          1325.8323974609375,
          1322.167236328125,
          1312.5582275390625,
          1307.605224609375,
          1275.856201171875,
          1289.774169921875,
          1287.79296875,
          1283.83056640625,
          1264.464111328125,
          1285.811767578125,
          1292.349853515625,
          1284.72216796875,
          1270.8040771484375,
          1260.6998291015625,
          1268.971435546875,
          1274.4197998046875,
          1278.8775634765625,
          1278.3822021484375,
          1256.1925048828125,
          1271.447998046875,
          1277.2430419921875,
          1277.6888427734375,
          1287.79296875,
          1277.3916015625,
          1282.7408447265625,
          1284.8211669921875,
          1274.3206787109375,
          1260.9969482421875,
          1272.4385986328125,
          1281.750244140625,
          1266.7921142578125,
          1257.1336669921875,
          1230.8328857421875,
          1210.525390625,
          1208.544189453125,
          1173.872802734375,
          1177.0428466796875,
          1186.9984130859375,
          1156.0418701171875,
          1138.8052978515625,
          1127.8590087890625,
          1147.1263427734375,
          1164.4620361328125,
          1290.5667724609375,
          1292.201171875,
          1279.6700439453125,
          1284.623046875,
          1280.4625244140625,
          1266.6434326171875,
          1259.0653076171875,
          1271.9432373046875,
          1281.849365234375,
          1272.933837890625,
          1268.971435546875,
          1248.416259765625,
          1242.6212158203125,
          1231.3282470703125,
          1193.9327392578125,
          1201.80810546875,
          1217.459716796875,
          1221.422119140625,
          1228.3564453125,
          1228.8021240234375,
          1216.96435546875,
          1207.6527099609375,
          1199.628662109375,
          1204.87890625,
          1198.3409423828125,
          1257.9757080078125,
          1268.971435546875,
          1286.604248046875,
          1282.8399658203125,
          1286.604248046875,
          1302.652099609375,
          1323.207275390625,
          1329.398681640625,
          1302.35498046875,
          1316.12451171875,
          1308.397705078125,
          1317.4617919921875,
          1356.1451416015625,
          1352.7769775390625,
          1352.1331787109375,
          1357.1357421875,
          1366.695068359375,
          1385.8634033203125,
          1414.4920654296875,
          1423.3580322265625,
          1412.560302734375,
          1427.865234375,
          1427.914794921875,
          1466.102783203125,
          1470.610107421875,
          1475.6622314453125,
          1448.07373046875,
          1457.1873779296875,
          1455.1566162109375,
          1432.8677978515625,
          1449.262451171875,
          1445.94384765625,
          1430.6884765625,
          1462.041259765625,
          1467.687744140625,
          1472.8389892578125,
          1472.0465087890625,
          1500.675048828125,
          1557.6351318359375,
          1541.38916015625,
          1554.762451171875,
          1550.1065673828125,
          1561.548095703125,
          1560.7060546875,
          1569.27490234375,
          1567.095458984375,
          1599.290283203125,
          1579.0323486328125,
          1562.687255859375,
          1564.9161376953125,
          1553.2764892578125,
          1562.5882568359375,
          1558.8238525390625,
          1559.7154541015625,
          1559.071533203125,
          1575.0699462890625,
          1578.933349609375,
          1564.1732177734375,
          1565.163818359375,
          1599.736083984375,
          1602.3612060546875,
          1562.73681640625,
          1557.2884521484375,
          1538.3677978515625,
          1531.68115234375,
          1533.1175537109375,
          1529.2047119140625,
          1512.760498046875,
          1526.48046875,
          1527.1739501953125,
          1513.552978515625,
          1520.091064453125,
          1520.04150390625,
          1535.445556640625,
          1543.32080078125,
          1544.0638427734375,
          1535.445556640625,
          1525.4403076171875,
          1528.85791015625,
          1570.0673828125,
          1593.8914794921875,
          1531.33447265625,
          1532.22607421875,
          1527.4710693359375,
          1521.9237060546875,
          1510.1353759765625,
          1495.8211669921875,
          1480.3675537109375,
          1465.8056640625,
          1439.60400390625,
          1386.804443359375,
          1419.048828125,
          1439.158203125,
          1453.224853515625,
          1438.71240234375,
          1431.9267578125,
          1452.432373046875,
          1461.001220703125,
          1463.8739013671875,
          1487.3514404296875,
          1492.0072021484375,
          1462.041259765625,
          1492.304443359375,
          1493.83984375,
          1463.1309814453125,
          1437.7713623046875,
          1399.0880126953125,
          1380.7122802734375,
          1344.2578125,
          1356.1451416015625,
          1341.1868896484375,
          1341.0877685546875,
          1345.1988525390625,
          1276.0543212890625,
          1229.3470458984375,
          1167.3843994140625,
          1090.66162109375,
          1129.29541015625,
          1069.5616455078125,
          1050.046630859375,
          1026.1728515625,
          957.9198608398438,
          1025.1822509765625,
          941.0795288085938,
          960.8917236328124,
          1140.7369384765625,
          1106.412353515625,
          1096.9024658203125,
          1064.7076416015625,
          1119.191162109375,
          1114.0400390625,
          1123.7974853515625,
          1202.6005859375,
          1217.459716796875,
          1221.2239990234375,
          1203.5911865234375,
          1224.3939208984375,
          1176.2998046875,
          1218.4503173828125,
          1245.19677734375,
          1240.2437744140625,
          1371.895751953125,
          1372.8369140625,
          1480.9124755859375,
          1461.1497802734375,
          1441.7833251953125,
          1440.000244140625,
          1480.9124755859375,
          1451.24365234375,
          1465.1121826171875,
          1471.00634765625,
          1499.4368896484375,
          1565.064697265625,
          1599.835205078125,
          1553.6231689453125,
          1527,
          1496.699951171875,
          1466.699951171875,
          1482,
          1461.699951171875,
          1446.8499755859375,
          1461.449951171875,
          1458,
          1449.699951171875,
          1454,
          1479.75,
          1472,
          1538.3499755859375,
          1540,
          1560,
          1589.5,
          1618,
          1618.4000244140625,
          1583,
          1579.550048828125,
          1567.949951171875,
          1593,
          1626.949951171875,
          1648.550048828125,
          1635.449951171875,
          1665,
          1788.800048828125,
          1804.199951171875,
          1763.75,
          1772.699951171875,
          1749,
          1752,
          1739.75,
          1741,
          1749,
          1767.5999755859375,
          1793,
          1858,
          1864.3499755859373,
          1834.949951171875,
          1835,
          1884.5999755859373,
          1947.699951171875,
          1941.699951171875,
          1978.800048828125,
          1869,
          1920,
          1932,
          1977,
          2010,
          2079.699951171875,
          2163,
          2198.800048828125,
          2194,
          2182.800048828125,
          2139.699951171875,
          2129,
          2057,
          2167,
          2196,
          2167.699951171875,
          2157.800048828125,
          2165,
          2160,
          2145,
          2138.89990234375,
          2157,
          2105,
          2134.300048828125,
          2154,
          2123.89990234375,
          2122,
          2104.5,
          2111.300048828125,
          2147.949951171875,
          2150,
          2132.89990234375,
          2174,
          2122.39990234375,
          2138,
          2138.75,
          2096.949951171875,
          2105.75,
          2121,
          2167.800048828125,
          2344.949951171875,
          2337.85009765625,
          2360,
          2325.75,
          2369.35009765625,
          2333.699951171875,
          2319.449951171875,
          2336,
          2277,
          2276.75,
          2226,
          2212.800048828125,
          2238,
          2264,
          2267,
          2263.800048828125,
          2249.14990234375,
          2233.89990234375,
          2309,
          2268,
          2253,
          2255.75,
          2285.75,
          2304,
          2290,
          2232.5,
          2228.699951171875,
          2193,
          2192,
          2132.5,
          2135,
          2101.949951171875,
          2059.85009765625,
          2057.699951171875,
          2042,
          2065.10009765625,
          2027,
          1909,
          1929,
          1960.949951171875,
          2040,
          2069,
          2090,
          2095,
          2008.449951171875,
          2036.6500244140625,
          2085,
          2006.5,
          2010.449951171875,
          1983.800048828125,
          1970,
          1974,
          1992.949951171875,
          1965,
          1956.0999755859373,
          1966.25,
          1962,
          1981.0999755859373,
          1969,
          1965,
          2014.25,
          2033.800048828125,
          2028.5,
          2038,
          2015,
          1989.699951171875,
          1994.949951171875,
          2005,
          2004.9000244140625,
          2022,
          1958.9000244140625,
          1951.449951171875,
          1998.800048828125,
          2018,
          2012.300048828125,
          2007.199951171875,
          2011.9000244140625,
          1997,
          1998.9000244140625,
          1983.5999755859373,
          1966,
          1945,
          1938.4000244140625,
          1938.800048828125,
          1960,
          1974.949951171875,
          1966.9000244140625,
          1973.800048828125,
          1997,
          2031,
          2058,
          2120,
          2115.35009765625,
          2034.949951171875,
          1925,
          1923.300048828125,
          1913.0999755859373,
          1905,
          1940,
          1952,
          1940,
          1944.6500244140625,
          1969,
          1989.5999755859373,
          1984.75,
          2064.199951171875,
          2078,
          2061.300048828125,
          2079.39990234375,
          2095.949951171875,
          2108.39990234375,
          2104.949951171875,
          2089.89990234375,
          2052.89990234375,
          2065.25,
          2152,
          2133.89990234375,
          2112,
          2130,
          2219.89990234375,
          2189.949951171875,
          2211.949951171875,
          2231.89990234375,
          2213.800048828125,
          2215.10009765625,
          2206.39990234375,
          2148.89990234375,
          2126,
          2103,
          2084.800048828125,
          2095.85009765625,
          2074,
          2109.699951171875,
          2079.75,
          2054,
          2013.699951171875,
          2048.89990234375,
          2049.89990234375,
          2030,
          2025,
          2004.949951171875,
          2046.9000244140625,
          2022,
          2006.3499755859373,
          1961.4000244140625,
          1940.5999755859373,
          1961,
          1949.9000244140625,
          1916.4000244140625,
          1919,
          1914.449951171875,
          1918.9000244140625,
          1962,
          1997.199951171875,
          2008,
          2044.5,
          2036,
          1979,
          1967.800048828125,
          1938.5,
          1935,
          1955.6500244140625,
          1946.800048828125,
          1938.550048828125,
          1932.9000244140625,
          1942,
          1963.449951171875,
          2002.5999755859373,
          2016.449951171875,
          2010.9000244140625,
          2009.5999755859373,
          2009.800048828125,
          1997,
          1979.5,
          1993,
          2105,
          2191.699951171875,
          2202,
          2209.5,
          2250,
          2216.449951171875,
          2242,
          2227.14990234375,
          2221,
          2230,
          2228,
          2258.25,
          2274.89990234375,
          2247.050048828125,
          2235,
          2235,
          2247.5
         ],
         "yaxis": "y"
        }
       ],
       "layout": {
        "legend": {
         "title": {
          "text": "variable"
         },
         "tracegroupgap": 0
        },
        "margin": {
         "t": 60
        },
        "template": {
         "data": {
          "bar": [
           {
            "error_x": {
             "color": "#2a3f5f"
            },
            "error_y": {
             "color": "#2a3f5f"
            },
            "marker": {
             "line": {
              "color": "#E5ECF6",
              "width": 0.5
             },
             "pattern": {
              "fillmode": "overlay",
              "size": 10,
              "solidity": 0.2
             }
            },
            "type": "bar"
           }
          ],
          "barpolar": [
           {
            "marker": {
             "line": {
              "color": "#E5ECF6",
              "width": 0.5
             },
             "pattern": {
              "fillmode": "overlay",
              "size": 10,
              "solidity": 0.2
             }
            },
            "type": "barpolar"
           }
          ],
          "carpet": [
           {
            "aaxis": {
             "endlinecolor": "#2a3f5f",
             "gridcolor": "white",
             "linecolor": "white",
             "minorgridcolor": "white",
             "startlinecolor": "#2a3f5f"
            },
            "baxis": {
             "endlinecolor": "#2a3f5f",
             "gridcolor": "white",
             "linecolor": "white",
             "minorgridcolor": "white",
             "startlinecolor": "#2a3f5f"
            },
            "type": "carpet"
           }
          ],
          "choropleth": [
           {
            "colorbar": {
             "outlinewidth": 0,
             "ticks": ""
            },
            "type": "choropleth"
           }
          ],
          "contour": [
           {
            "colorbar": {
             "outlinewidth": 0,
             "ticks": ""
            },
            "colorscale": [
             [
              0,
              "#0d0887"
             ],
             [
              0.1111111111111111,
              "#46039f"
             ],
             [
              0.2222222222222222,
              "#7201a8"
             ],
             [
              0.3333333333333333,
              "#9c179e"
             ],
             [
              0.4444444444444444,
              "#bd3786"
             ],
             [
              0.5555555555555556,
              "#d8576b"
             ],
             [
              0.6666666666666666,
              "#ed7953"
             ],
             [
              0.7777777777777778,
              "#fb9f3a"
             ],
             [
              0.8888888888888888,
              "#fdca26"
             ],
             [
              1,
              "#f0f921"
             ]
            ],
            "type": "contour"
           }
          ],
          "contourcarpet": [
           {
            "colorbar": {
             "outlinewidth": 0,
             "ticks": ""
            },
            "type": "contourcarpet"
           }
          ],
          "heatmap": [
           {
            "colorbar": {
             "outlinewidth": 0,
             "ticks": ""
            },
            "colorscale": [
             [
              0,
              "#0d0887"
             ],
             [
              0.1111111111111111,
              "#46039f"
             ],
             [
              0.2222222222222222,
              "#7201a8"
             ],
             [
              0.3333333333333333,
              "#9c179e"
             ],
             [
              0.4444444444444444,
              "#bd3786"
             ],
             [
              0.5555555555555556,
              "#d8576b"
             ],
             [
              0.6666666666666666,
              "#ed7953"
             ],
             [
              0.7777777777777778,
              "#fb9f3a"
             ],
             [
              0.8888888888888888,
              "#fdca26"
             ],
             [
              1,
              "#f0f921"
             ]
            ],
            "type": "heatmap"
           }
          ],
          "heatmapgl": [
           {
            "colorbar": {
             "outlinewidth": 0,
             "ticks": ""
            },
            "colorscale": [
             [
              0,
              "#0d0887"
             ],
             [
              0.1111111111111111,
              "#46039f"
             ],
             [
              0.2222222222222222,
              "#7201a8"
             ],
             [
              0.3333333333333333,
              "#9c179e"
             ],
             [
              0.4444444444444444,
              "#bd3786"
             ],
             [
              0.5555555555555556,
              "#d8576b"
             ],
             [
              0.6666666666666666,
              "#ed7953"
             ],
             [
              0.7777777777777778,
              "#fb9f3a"
             ],
             [
              0.8888888888888888,
              "#fdca26"
             ],
             [
              1,
              "#f0f921"
             ]
            ],
            "type": "heatmapgl"
           }
          ],
          "histogram": [
           {
            "marker": {
             "pattern": {
              "fillmode": "overlay",
              "size": 10,
              "solidity": 0.2
             }
            },
            "type": "histogram"
           }
          ],
          "histogram2d": [
           {
            "colorbar": {
             "outlinewidth": 0,
             "ticks": ""
            },
            "colorscale": [
             [
              0,
              "#0d0887"
             ],
             [
              0.1111111111111111,
              "#46039f"
             ],
             [
              0.2222222222222222,
              "#7201a8"
             ],
             [
              0.3333333333333333,
              "#9c179e"
             ],
             [
              0.4444444444444444,
              "#bd3786"
             ],
             [
              0.5555555555555556,
              "#d8576b"
             ],
             [
              0.6666666666666666,
              "#ed7953"
             ],
             [
              0.7777777777777778,
              "#fb9f3a"
             ],
             [
              0.8888888888888888,
              "#fdca26"
             ],
             [
              1,
              "#f0f921"
             ]
            ],
            "type": "histogram2d"
           }
          ],
          "histogram2dcontour": [
           {
            "colorbar": {
             "outlinewidth": 0,
             "ticks": ""
            },
            "colorscale": [
             [
              0,
              "#0d0887"
             ],
             [
              0.1111111111111111,
              "#46039f"
             ],
             [
              0.2222222222222222,
              "#7201a8"
             ],
             [
              0.3333333333333333,
              "#9c179e"
             ],
             [
              0.4444444444444444,
              "#bd3786"
             ],
             [
              0.5555555555555556,
              "#d8576b"
             ],
             [
              0.6666666666666666,
              "#ed7953"
             ],
             [
              0.7777777777777778,
              "#fb9f3a"
             ],
             [
              0.8888888888888888,
              "#fdca26"
             ],
             [
              1,
              "#f0f921"
             ]
            ],
            "type": "histogram2dcontour"
           }
          ],
          "mesh3d": [
           {
            "colorbar": {
             "outlinewidth": 0,
             "ticks": ""
            },
            "type": "mesh3d"
           }
          ],
          "parcoords": [
           {
            "line": {
             "colorbar": {
              "outlinewidth": 0,
              "ticks": ""
             }
            },
            "type": "parcoords"
           }
          ],
          "pie": [
           {
            "automargin": true,
            "type": "pie"
           }
          ],
          "scatter": [
           {
            "marker": {
             "colorbar": {
              "outlinewidth": 0,
              "ticks": ""
             }
            },
            "type": "scatter"
           }
          ],
          "scatter3d": [
           {
            "line": {
             "colorbar": {
              "outlinewidth": 0,
              "ticks": ""
             }
            },
            "marker": {
             "colorbar": {
              "outlinewidth": 0,
              "ticks": ""
             }
            },
            "type": "scatter3d"
           }
          ],
          "scattercarpet": [
           {
            "marker": {
             "colorbar": {
              "outlinewidth": 0,
              "ticks": ""
             }
            },
            "type": "scattercarpet"
           }
          ],
          "scattergeo": [
           {
            "marker": {
             "colorbar": {
              "outlinewidth": 0,
              "ticks": ""
             }
            },
            "type": "scattergeo"
           }
          ],
          "scattergl": [
           {
            "marker": {
             "colorbar": {
              "outlinewidth": 0,
              "ticks": ""
             }
            },
            "type": "scattergl"
           }
          ],
          "scattermapbox": [
           {
            "marker": {
             "colorbar": {
              "outlinewidth": 0,
              "ticks": ""
             }
            },
            "type": "scattermapbox"
           }
          ],
          "scatterpolar": [
           {
            "marker": {
             "colorbar": {
              "outlinewidth": 0,
              "ticks": ""
             }
            },
            "type": "scatterpolar"
           }
          ],
          "scatterpolargl": [
           {
            "marker": {
             "colorbar": {
              "outlinewidth": 0,
              "ticks": ""
             }
            },
            "type": "scatterpolargl"
           }
          ],
          "scatterternary": [
           {
            "marker": {
             "colorbar": {
              "outlinewidth": 0,
              "ticks": ""
             }
            },
            "type": "scatterternary"
           }
          ],
          "surface": [
           {
            "colorbar": {
             "outlinewidth": 0,
             "ticks": ""
            },
            "colorscale": [
             [
              0,
              "#0d0887"
             ],
             [
              0.1111111111111111,
              "#46039f"
             ],
             [
              0.2222222222222222,
              "#7201a8"
             ],
             [
              0.3333333333333333,
              "#9c179e"
             ],
             [
              0.4444444444444444,
              "#bd3786"
             ],
             [
              0.5555555555555556,
              "#d8576b"
             ],
             [
              0.6666666666666666,
              "#ed7953"
             ],
             [
              0.7777777777777778,
              "#fb9f3a"
             ],
             [
              0.8888888888888888,
              "#fdca26"
             ],
             [
              1,
              "#f0f921"
             ]
            ],
            "type": "surface"
           }
          ],
          "table": [
           {
            "cells": {
             "fill": {
              "color": "#EBF0F8"
             },
             "line": {
              "color": "white"
             }
            },
            "header": {
             "fill": {
              "color": "#C8D4E3"
             },
             "line": {
              "color": "white"
             }
            },
            "type": "table"
           }
          ]
         },
         "layout": {
          "annotationdefaults": {
           "arrowcolor": "#2a3f5f",
           "arrowhead": 0,
           "arrowwidth": 1
          },
          "autotypenumbers": "strict",
          "coloraxis": {
           "colorbar": {
            "outlinewidth": 0,
            "ticks": ""
           }
          },
          "colorscale": {
           "diverging": [
            [
             0,
             "#8e0152"
            ],
            [
             0.1,
             "#c51b7d"
            ],
            [
             0.2,
             "#de77ae"
            ],
            [
             0.3,
             "#f1b6da"
            ],
            [
             0.4,
             "#fde0ef"
            ],
            [
             0.5,
             "#f7f7f7"
            ],
            [
             0.6,
             "#e6f5d0"
            ],
            [
             0.7,
             "#b8e186"
            ],
            [
             0.8,
             "#7fbc41"
            ],
            [
             0.9,
             "#4d9221"
            ],
            [
             1,
             "#276419"
            ]
           ],
           "sequential": [
            [
             0,
             "#0d0887"
            ],
            [
             0.1111111111111111,
             "#46039f"
            ],
            [
             0.2222222222222222,
             "#7201a8"
            ],
            [
             0.3333333333333333,
             "#9c179e"
            ],
            [
             0.4444444444444444,
             "#bd3786"
            ],
            [
             0.5555555555555556,
             "#d8576b"
            ],
            [
             0.6666666666666666,
             "#ed7953"
            ],
            [
             0.7777777777777778,
             "#fb9f3a"
            ],
            [
             0.8888888888888888,
             "#fdca26"
            ],
            [
             1,
             "#f0f921"
            ]
           ],
           "sequentialminus": [
            [
             0,
             "#0d0887"
            ],
            [
             0.1111111111111111,
             "#46039f"
            ],
            [
             0.2222222222222222,
             "#7201a8"
            ],
            [
             0.3333333333333333,
             "#9c179e"
            ],
            [
             0.4444444444444444,
             "#bd3786"
            ],
            [
             0.5555555555555556,
             "#d8576b"
            ],
            [
             0.6666666666666666,
             "#ed7953"
            ],
            [
             0.7777777777777778,
             "#fb9f3a"
            ],
            [
             0.8888888888888888,
             "#fdca26"
            ],
            [
             1,
             "#f0f921"
            ]
           ]
          },
          "colorway": [
           "#636efa",
           "#EF553B",
           "#00cc96",
           "#ab63fa",
           "#FFA15A",
           "#19d3f3",
           "#FF6692",
           "#B6E880",
           "#FF97FF",
           "#FECB52"
          ],
          "font": {
           "color": "#2a3f5f"
          },
          "geo": {
           "bgcolor": "white",
           "lakecolor": "white",
           "landcolor": "#E5ECF6",
           "showlakes": true,
           "showland": true,
           "subunitcolor": "white"
          },
          "hoverlabel": {
           "align": "left"
          },
          "hovermode": "closest",
          "mapbox": {
           "style": "light"
          },
          "paper_bgcolor": "white",
          "plot_bgcolor": "#E5ECF6",
          "polar": {
           "angularaxis": {
            "gridcolor": "white",
            "linecolor": "white",
            "ticks": ""
           },
           "bgcolor": "#E5ECF6",
           "radialaxis": {
            "gridcolor": "white",
            "linecolor": "white",
            "ticks": ""
           }
          },
          "scene": {
           "xaxis": {
            "backgroundcolor": "#E5ECF6",
            "gridcolor": "white",
            "gridwidth": 2,
            "linecolor": "white",
            "showbackground": true,
            "ticks": "",
            "zerolinecolor": "white"
           },
           "yaxis": {
            "backgroundcolor": "#E5ECF6",
            "gridcolor": "white",
            "gridwidth": 2,
            "linecolor": "white",
            "showbackground": true,
            "ticks": "",
            "zerolinecolor": "white"
           },
           "zaxis": {
            "backgroundcolor": "#E5ECF6",
            "gridcolor": "white",
            "gridwidth": 2,
            "linecolor": "white",
            "showbackground": true,
            "ticks": "",
            "zerolinecolor": "white"
           }
          },
          "shapedefaults": {
           "line": {
            "color": "#2a3f5f"
           }
          },
          "ternary": {
           "aaxis": {
            "gridcolor": "white",
            "linecolor": "white",
            "ticks": ""
           },
           "baxis": {
            "gridcolor": "white",
            "linecolor": "white",
            "ticks": ""
           },
           "bgcolor": "#E5ECF6",
           "caxis": {
            "gridcolor": "white",
            "linecolor": "white",
            "ticks": ""
           }
          },
          "title": {
           "x": 0.05
          },
          "xaxis": {
           "automargin": true,
           "gridcolor": "white",
           "linecolor": "white",
           "ticks": "",
           "title": {
            "standoff": 15
           },
           "zerolinecolor": "white",
           "zerolinewidth": 2
          },
          "yaxis": {
           "automargin": true,
           "gridcolor": "white",
           "linecolor": "white",
           "ticks": "",
           "title": {
            "standoff": 15
           },
           "zerolinecolor": "white",
           "zerolinewidth": 2
          }
         }
        },
        "xaxis": {
         "anchor": "y",
         "domain": [
          0,
          1
         ],
         "title": {
          "text": "index"
         }
        },
        "yaxis": {
         "anchor": "x",
         "domain": [
          0,
          1
         ],
         "title": {
          "text": "value"
         }
        }
       }
      },
      "text/html": [
       "<div>                            <div id=\"537c6b0a-d7ba-443d-a821-7abbc5abeed0\" class=\"plotly-graph-div\" style=\"height:525px; width:100%;\"></div>            <script type=\"text/javascript\">                require([\"plotly\"], function(Plotly) {                    window.PLOTLYENV=window.PLOTLYENV || {};                                    if (document.getElementById(\"537c6b0a-d7ba-443d-a821-7abbc5abeed0\")) {                    Plotly.newPlot(                        \"537c6b0a-d7ba-443d-a821-7abbc5abeed0\",                        [{\"hovertemplate\":\"variable=High<br>index=%{x}<br>value=%{y}<extra></extra>\",\"legendgroup\":\"High\",\"line\":{\"color\":\"#636efa\",\"dash\":\"solid\"},\"marker\":{\"symbol\":\"circle\"},\"mode\":\"lines\",\"name\":\"High\",\"showlegend\":true,\"type\":\"scattergl\",\"x\":[0,1,2,3,4,5,6,7,8,9,10,11,12,13,14,15,16,17,18,19,20,21,22,23,24,25,26,27,28,29,30,31,32,33,34,35,36,37,38,39,40,41,42,43,44,45,46,47,48,49,50,51,52,53,54,55,56,57,58,59,60,61,62,63,64,65,66,67,68,69,70,71,72,73,74,75,76,77,78,79,80,81,82,83,84,85,86,87,88,89,90,91,92,93,94,95,96,97,98,99,100,101,102,103,104,105,106,107,108,109,110,111,112,113,114,115,116,117,118,119,120,121,122,123,124,125,126,127,128,129,130,131,132,133,134,135,136,137,138,139,140,141,142,143,144,145,146,147,148,149,150,151,152,153,154,155,156,157,158,159,160,161,162,163,164,165,166,167,168,169,170,171,172,173,174,175,176,177,178,179,180,181,182,183,184,185,186,187,188,189,190,191,192,193,194,195,196,197,198,199,200,201,202,203,204,205,206,207,208,209,210,211,212,213,214,215,216,217,218,219,220,221,222,223,224,225,226,227,228,229,230,231,232,233,234,235,236,237,238,239,240,241,242,243,244,245,246,247,248,249,250,251,252,253,254,255,256,257,258,259,260,261,262,263,264,265,266,267,268,269,270,271,272,273,274,275,276,277,278,279,280,281,282,283,284,285,286,287,288,289,290,291,292,293,294,295,296,297,298,299,300,301,302,303,304,305,306,307,308,309,310,311,312,313,314,315,316,317,318,319,320,321,322,323,324,325,326,327,328,329,330,331,332,333,334,335,336,337,338,339,340,341,342,343,344,345,346,347,348,349,350,351,352,353,354,355,356,357,358,359,360,361,362,363,364,365,366,367,368,369,370,371,372,373,374,375,376,377,378,379,380,381,382,383,384,385,386,387,388,389,390,391,392,393,394,395,396,397,398,399,400,401,402,403,404,405,406,407,408,409,410,411,412,413,414,415,416,417,418,419,420,421,422,423,424,425,426,427,428,429,430,431,432,433,434,435,436,437,438,439,440,441,442,443,444,445,446,447,448,449,450,451,452,453,454,455,456,457,458,459,460,461,462,463,464,465,466,467,468,469,470,471,472,473,474,475,476,477,478,479,480,481,482,483,484,485,486,487,488,489,490,491,492,493,494,495,496,497,498,499,500,501,502,503,504,505,506,507,508,509,510,511,512,513,514,515,516,517,518,519,520,521,522,523,524,525,526,527,528,529,530,531,532,533,534,535,536,537,538,539,540,541,542,543,544,545,546,547,548,549,550,551,552,553,554,555,556,557,558,559,560,561,562,563,564,565,566,567,568,569,570,571,572,573,574,575,576,577,578,579,580,581,582,583,584,585,586,587,588,589,590,591,592,593,594,595,596,597,598,599,600,601,602,603,604,605,606,607,608,609,610,611,612,613,614,615,616,617,618,619,620,621,622,623,624,625,626,627,628,629,630,631,632,633,634,635,636,637,638,639,640,641,642,643,644,645,646,647,648,649,650,651,652,653,654,655,656,657,658,659,660,661,662,663,664,665,666,667,668,669,670,671,672,673,674,675,676,677,678,679,680,681,682,683,684,685,686,687,688,689,690,691,692,693,694,695,696,697,698,699,700,701,702,703,704,705,706,707,708,709,710,711,712,713,714,715,716,717,718,719,720,721,722,723,724,725,726,727,728,729,730,731,732,733,734,735,736,737,738,739,740,741,742,743,744,745,746,747,748,749,750,751,752,753,754,755,756,757,758,759,760,761,762,763,764,765,766,767,768,769,770,771,772,773,774,775,776,777,778,779,780,781,782,783,784,785,786,787,788,789,790,791,792,793,794,795,796,797,798,799,800,801,802,803,804,805,806,807,808,809,810,811,812,813,814,815,816,817,818,819,820,821,822,823,824,825,826,827,828,829,830,831,832,833,834,835,836,837,838,839,840,841,842,843,844,845,846,847,848,849,850,851,852,853,854,855,856,857,858,859,860,861,862,863,864,865,866,867,868,869,870,871,872,873,874,875,876,877,878,879,880,881,882,883,884,885,886,887,888,889,890,891,892,893,894,895,896,897,898,899,900,901,902,903,904,905,906,907,908,909,910,911,912,913,914,915,916,917,918,919,920,921,922,923,924,925,926,927,928,929,930,931,932,933,934,935,936,937,938,939,940,941,942,943,944,945,946,947,948,949,950,951,952,953,954,955,956,957,958,959,960,961,962,963,964,965,966,967,968,969,970,971,972,973,974,975,976,977,978,979,980,981,982,983,984,985,986,987,988,989,990,991,992,993,994,995,996,997,998,999,1000,1001,1002,1003,1004,1005,1006,1007,1008,1009,1010,1011,1012,1013,1014,1015,1016,1017,1018,1019,1020,1021,1022,1023,1024,1025,1026,1027,1028,1029,1030,1031,1032,1033,1034,1035,1036,1037,1038,1039,1040,1041,1042,1043,1044,1045,1046,1047,1048,1049,1050,1051,1052,1053,1054,1055,1056,1057,1058,1059,1060,1061,1062,1063,1064,1065,1066,1067,1068,1069,1070,1071,1072,1073,1074,1075,1076,1077,1078,1079,1080,1081,1082,1083,1084,1085,1086,1087,1088,1089,1090,1091,1092,1093,1094,1095,1096,1097,1098,1099,1100,1101,1102,1103,1104,1105,1106,1107,1108,1109,1110,1111,1112,1113,1114,1115,1116,1117,1118,1119,1120,1121,1122,1123,1124,1125,1126,1127,1128,1129,1130,1131,1132,1133],\"xaxis\":\"x\",\"y\":[493.7200317382813,494.3887023925781,491.6892700195313,492.11029052734375,499.16839599609375,500.5057067871094,498.053955078125,493.2742614746094,495.6021728515625,497.434814453125,495.2802429199219,502.7345886230469,497.7815246582031,495.1564025878906,498.54925537109375,499.0693359375,506.1026611328125,511.0804748535156,515.959228515625,515.6124877929688,527.2274169921875,528.78759765625,526.013916015625,528.4656982421875,525.5186157226562,528.6390380859375,526.3358764648438,529.456298828125,527.9951171875,528.5399780273438,529.7534790039062,529.3819580078125,537.4059448242188,539.8824462890625,543.349609375,541.3683471679688,534.8798828125,537.4059448242188,537.9012451171875,542.061767578125,542.7056884765625,540.0557861328125,543.5972290039062,541.8389282226562,528.9857177734375,519.0796508789062,517.7423095703125,513.8541870117188,510.6594543457031,509.5697937011719,511.50146484375,509.6193237304688,518.3119506835938,521.952392578125,520.5160522460938,520.4664916992188,520.2931518554688,517.544189453125,516.2811889648438,514.2504272460938,512.1453857421875,512.9130859375,512.1453857421875,521.5066528320312,523.7850341796875,529.7039184570312,534.037841796875,534.3598022460938,540.3529663085938,600.1362915039062,605.2626953125,622.4993286132812,618.140625,616.3575439453125,621.4591674804688,637.853759765625,649.8401489257812,657.2697143554688,647.7103271484375,642.9058837890625,641.915283203125,653.3073120117188,651.969970703125,649.0476684570312,653.77783203125,646.9921875,635.922119140625,627.006591796875,632.7769165039062,639.93408203125,633.3712768554688,626.0655517578125,624.0842895507812,631.3900756835938,662.5447387695312,683.7685546875,702.3424682617188,717.6473999023438,710.2673950195312,705.7600708007812,693.64990234375,686.7156372070312,680.2518920898438,691.222900390625,698.3800659179688,684.783935546875,686.8889770507812,703.8284301757812,710.7626953125,726.9839477539062,713.2639770507812,705.3886108398438,703.481689453125,694.4176025390625,683.8923950195312,683.32275390625,677.2553100585938,663.4610595703125,660.5635375976562,675.3978881835938,678.4440307617188,675.5960083007812,671.8317260742188,681.9854736328125,676.5618896484375,668.6617431640625,661.5789184570312,660.5387573242188,658.6813354492188,650.6821899414062,650.0382690429688,665.8880615234375,676.314208984375,675.9427490234375,677.552490234375,663.7086791992188,663.0648193359375,664.2039794921875,660.7120971679688,664.6993408203125,666.086181640625,670.1229248046875,658.6318359375,657.2697143554688,673.6148071289062,690.9505004882812,691.3467407226562,701.2528076171875,704.3732299804688,707.2955322265625,715.9138793945312,714.2297973632812,714.72509765625,713.2144165039062,698.3800659179688,689.6626586914062,690.8018798828125,706.8497924804688,716.92919921875,718.1922607421875,741.8430786132812,743.4032592773438,745.1368408203125,755.3401489257812,755.3401489257812,760.7885131835938,772.4776611328125,768.6143188476562,761.7791137695312,767.7227783203125,788.376953125,804.8211059570312,804.8458862304688,807.297607421875,808.090087890625,795.43505859375,801.7997436523438,803.7561645507812,810.17041015625,824.63330078125,823.6921997070312,808.1396484375,802.9141845703125,802.3941040039062,795.7817993164062,782.5819091796875,784.810791015625,780.6007080078125,791.3240356445312,781.4922485351562,784.637451171875,782.5323486328125,785.826171875,789.0703735351562,783.5477294921875,776.3905639648438,777.0344848632812,791.2249755859375,800.7100830078125,810.393310546875,809.7493896484375,818.4915161132812,824.682861328125,815.5197143554688,819.0858764648438,817.2532348632812,851.8255615234375,853.4105224609375,844.8417358398438,843.0586547851562,840.7802734375,864.3072509765625,843.7025146484375,832.0133666992188,820.175537109375,819.2839965820312,817.9466552734375,795.3607788085938,785.949951171875,796.3018798828125,817.2037353515625,820.6708374023438,831.468505859375,831.914306640625,839.3438720703125,850.339599609375,868.5668334960938,882.3363037109375,883.6241455078125,875.69921875,909.2809448242188,913.2433471679688,935.8292846679688,938.8010864257812,937.0180053710938,948.8062744140624,947.7166137695312,936.6712646484376,936.869384765625,948.8062744140624,947.5184936523438,946.9736328125,933.64990234375,926.2203369140624,897.49267578125,901.3560180664062,892.4901123046875,883.5250854492188,886.595947265625,882.2372436523438,897.49267578125,916.2152099609376,915.6703491210938,930.8267211914062,929.8360595703124,940.98046875,950.4902954101562,948.5090942382812,942.4168090820312,941.0795288085938,932.6098022460938,922.5055541992188,905.2194213867188,912.1041870117188,921.5645141601562,927.2109375,928.1520385742188,917.3048706054688,920.2766723632812,916.2647094726562,916.2152099609376,924.1896362304688,923.8923950195312,918.2954711914062,918.6917114257812,915.2741088867188,913.7386474609376,930.083740234375,928.6968994140624,925.6259765625,923.5457153320312,914.0358276367188,910.9154052734376,917.3048706054688,913.144287109375,918.1964111328124,922.2579345703124,935.0368041992188,938.50390625,933.7985229492188,943.8532104492188,949.4996948242188,938.8010864257812,920.2766723632812,920.8710327148438,925.6259765625,965.1513061523438,981.6449584960938,972.5313720703124,962.8729248046876,968.1231689453124,956.7311401367188,955.443359375,963.46728515625,935.0863037109376,903.931640625,889.5678100585938,896.8983154296875,902.0989990234376,893.5302124023438,909.578125,933.64990234375,936.869384765625,933.7490234375,923.24853515625,920.821533203125,923.7438354492188,922.2579345703124,929.1921997070312,936.0274047851562,946.8250732421876,948.1128540039062,950.8865356445312,941.2280883789062,927.4091186523438,900.712158203125,905.912841796875,910.71728515625,924.3381958007812,927.2109375,923.2980346679688,920.7224731445312,901.1578979492188,898.3842163085938,895.511474609375,893.876953125,903.3867797851562,891.5490112304688,895.8086547851562,902.1980590820312,887.43798828125,892.4901123046875,893.2330322265625,903.2382202148438,901.455078125,909.8753051757812,910.37060546875,915.224609375,923.991455078125,927.8548583984376,932.857421875,931.1734008789062,938.3057861328124,939.29638671875,936.12646484375,933.0060424804688,935.4825439453124,966.5382080078124,972.5809326171876,978.7227172851562,1001.5067138671876,983.2794799804688,970.0053100585938,968.717529296875,955.6414794921876,964.1112060546876,972.779052734375,975.0574340820312,975.3546142578124,981.99169921875,982.6356201171876,990.6099853515624,964.8541259765624,950.985595703125,944.546630859375,926.9137573242188,925.229736328125,917.3048706054688,912.351806640625,914.7293090820312,918.2954711914062,919.2860717773438,914.5311889648438,913.6395874023438,926.9633178710938,935.1358642578124,946.0325317382812,947.023193359375,966.8353881835938,977.2863159179688,990.5604858398438,990.6099853515624,996.45458984375,1002.2991943359376,1013.8893432617188,1010.8679809570312,1005.2710571289062,1013.2949829101562,1026.27197265625,1019.5358276367188,1006.955078125,996.5536499023438,976.1470947265624,959.40576171875,966.340087890625,963.2196655273438,969.2623901367188,982.6851196289062,998.93115234375,973.7696533203124,990.6099853515624,1018.8424072265624,1031.1259765625,1088.680419921875,1098.5865478515625,1098.4874267578125,1085.6590576171875,1094.227783203125,1104.5301513671875,1127.8094482421875,1119.191162109375,1116.1697998046875,1112.455078125,1110.9691162109375,1126.7198486328125,1146.4329833984375,1179.22216796875,1191.604736328125,1180.311767578125,1172.386962890625,1184.76953125,1190.118896484375,1211.020751953125,1220.1343994140625,1203.5911865234375,1188.6824951171875,1205.7705078125,1204.581787109375,1203.9874267578125,1225.1864013671875,1239.7484130859375,1262.037109375,1267.9312744140625,1283.6820068359375,1310.5770263671875,1316.520751953125,1284.9697265625,1258.07470703125,1246.08837890625,1243.0174560546875,1240.8875732421875,1253.8150634765625,1269.318115234375,1265.009033203125,1256.48974609375,1246.880859375,1263.6220703125,1239.0054931640625,1227.7620849609375,1212.506591796875,1225.7808837890625,1228.25732421875,1233.3094482421875,1242.1754150390625,1251.140380859375,1259.7587890625,1245.8902587890625,1227.960205078125,1179.22216796875,1104.827392578125,1106.5113525390625,1112.752197265625,1105.3721923828125,1104.282470703125,1118.398681640625,1136.130615234375,1156.4381103515625,1168.27587890625,1100.5677490234375,1104.33203125,1054.7025146484375,1065.8468017578125,1030.8782958984375,1047.0748291015625,1083.5787353515625,1075.30712890625,1055.8416748046875,1057.8724365234375,1070.849365234375,1082.4395751953125,1101.558349609375,1104.5301513671875,1103.3414306640625,1088.4822998046875,1092.642822265625,1102.2022705078125,1092.642822265625,1119.3397216796875,1140.885498046875,1145.046142578125,1134.7437744140625,1114.782958984375,1107.0067138671875,1119.3892822265625,1146.8787841796875,1168.82080078125,1174.863525390625,1163.86767578125,1147.1263427734375,1147.9188232421875,1138.2109375,1126.2740478515625,1103.8367919921875,1091.7513427734375,1103.044189453125,1117.4080810546875,1104.43115234375,1122.361083984375,1128.3048095703125,1136.52685546875,1121.8658447265625,1120.6275634765625,1092.8409423828125,1089.6710205078125,1116.41748046875,1124.5899658203125,1123.203125,1116.7147216796875,1116.41748046875,1104.1339111328125,1094.0792236328125,1107.94775390625,1099.527587890625,1106.5113525390625,1100.5677490234375,1103.3414306640625,1090.166259765625,1121.3704833984375,1134.2484130859375,1137.1212158203125,1178.726806640625,1228.306884765625,1235.2410888671875,1232.5169677734375,1241.4324951171875,1252.824462890625,1244.1566162109375,1220.0848388671875,1213.497314453125,1218.153076171875,1243.215576171875,1284.7716064453125,1292.1517333984375,1305.2772216796875,1308.7939453125,1288.288330078125,1264.018310546875,1260.402587890625,1229.3470458984375,1238.1634521484375,1240.739013671875,1228.0592041015625,1228.3564453125,1245.9892578125,1233.606689453125,1231.3282470703125,1223.2052001953125,1233.21044921875,1228.207763671875,1230.684326171875,1228.1583251953125,1261.1456298828125,1267.78271484375,1262.48291015625,1299.6802978515625,1321.4737548828125,1347.2296142578125,1349.2108154296875,1346.0408935546875,1345.1988525390625,1367.0418701171875,1374.9666748046875,1367.933349609375,1324.2969970703125,1358.720703125,1365.0111083984375,1356.9376220703125,1393.5902099609375,1389.9249267578125,1389.8258056640625,1370.70703125,1351.093017578125,1344.7530517578125,1328.11083984375,1335.34228515625,1340.2952880859375,1344.15869140625,1336.2833251953125,1347.2296142578125,1376.7003173828125,1354.1639404296875,1360.1075439453125,1381.702880859375,1399.1375732421875,1382.842041015625,1383.287841796875,1400.62353515625,1404.189697265625,1389.627685546875,1381.9010009765625,1327.4173583984375,1276.6981201171875,1265.702392578125,1248.9610595703125,1257.4307861328125,1265.9996337890625,1259.9569091796875,1264.95947265625,1325.1390380859375,1354.1639404296875,1346.932373046875,1378.9290771484375,1341.0877685546875,1324.94091796875,1322.2662353515625,1320.7802734375,1329.398681640625,1329.299560546875,1354.4114990234375,1361.3458251953125,1349.11181640625,1314.787109375,1314.5394287109375,1321.968994140625,1325.8323974609375,1322.167236328125,1312.5582275390625,1307.605224609375,1275.856201171875,1289.774169921875,1287.79296875,1283.83056640625,1264.464111328125,1285.811767578125,1292.349853515625,1284.72216796875,1270.8040771484375,1260.6998291015625,1268.971435546875,1274.4197998046875,1278.8775634765625,1278.3822021484375,1256.1925048828125,1271.447998046875,1277.2430419921875,1277.6888427734375,1287.79296875,1277.3916015625,1282.7408447265625,1284.8211669921875,1274.3206787109375,1260.9969482421875,1272.4385986328125,1281.750244140625,1266.7921142578125,1257.1336669921875,1230.8328857421875,1210.525390625,1208.544189453125,1173.872802734375,1177.0428466796875,1186.9984130859375,1156.0418701171875,1138.8052978515625,1127.8590087890625,1147.1263427734375,1164.4620361328125,1290.5667724609375,1292.201171875,1279.6700439453125,1284.623046875,1280.4625244140625,1266.6434326171875,1259.0653076171875,1271.9432373046875,1281.849365234375,1272.933837890625,1268.971435546875,1248.416259765625,1242.6212158203125,1231.3282470703125,1193.9327392578125,1201.80810546875,1217.459716796875,1221.422119140625,1228.3564453125,1228.8021240234375,1216.96435546875,1207.6527099609375,1199.628662109375,1204.87890625,1198.3409423828125,1257.9757080078125,1268.971435546875,1286.604248046875,1282.8399658203125,1286.604248046875,1302.652099609375,1323.207275390625,1329.398681640625,1302.35498046875,1316.12451171875,1308.397705078125,1317.4617919921875,1356.1451416015625,1352.7769775390625,1352.1331787109375,1357.1357421875,1366.695068359375,1385.8634033203125,1414.4920654296875,1423.3580322265625,1412.560302734375,1427.865234375,1427.914794921875,1466.102783203125,1470.610107421875,1475.6622314453125,1448.07373046875,1457.1873779296875,1455.1566162109375,1432.8677978515625,1449.262451171875,1445.94384765625,1430.6884765625,1462.041259765625,1467.687744140625,1472.8389892578125,1472.0465087890625,1500.675048828125,1557.6351318359375,1541.38916015625,1554.762451171875,1550.1065673828125,1561.548095703125,1560.7060546875,1569.27490234375,1567.095458984375,1599.290283203125,1579.0323486328125,1562.687255859375,1564.9161376953125,1553.2764892578125,1562.5882568359375,1558.8238525390625,1559.7154541015625,1559.071533203125,1575.0699462890625,1578.933349609375,1564.1732177734375,1565.163818359375,1599.736083984375,1602.3612060546875,1562.73681640625,1557.2884521484375,1538.3677978515625,1531.68115234375,1533.1175537109375,1529.2047119140625,1512.760498046875,1526.48046875,1527.1739501953125,1513.552978515625,1520.091064453125,1520.04150390625,1535.445556640625,1543.32080078125,1544.0638427734375,1535.445556640625,1525.4403076171875,1528.85791015625,1570.0673828125,1593.8914794921875,1531.33447265625,1532.22607421875,1527.4710693359375,1521.9237060546875,1510.1353759765625,1495.8211669921875,1480.3675537109375,1465.8056640625,1439.60400390625,1386.804443359375,1419.048828125,1439.158203125,1453.224853515625,1438.71240234375,1431.9267578125,1452.432373046875,1461.001220703125,1463.8739013671875,1487.3514404296875,1492.0072021484375,1462.041259765625,1492.304443359375,1493.83984375,1463.1309814453125,1437.7713623046875,1399.0880126953125,1380.7122802734375,1344.2578125,1356.1451416015625,1341.1868896484375,1341.0877685546875,1345.1988525390625,1276.0543212890625,1229.3470458984375,1167.3843994140625,1090.66162109375,1129.29541015625,1069.5616455078125,1050.046630859375,1026.1728515625,957.9198608398438,1025.1822509765625,941.0795288085938,960.8917236328124,1140.7369384765625,1106.412353515625,1096.9024658203125,1064.7076416015625,1119.191162109375,1114.0400390625,1123.7974853515625,1202.6005859375,1217.459716796875,1221.2239990234375,1203.5911865234375,1224.3939208984375,1176.2998046875,1218.4503173828125,1245.19677734375,1240.2437744140625,1371.895751953125,1372.8369140625,1480.9124755859375,1461.1497802734375,1441.7833251953125,1440.000244140625,1480.9124755859375,1451.24365234375,1465.1121826171875,1471.00634765625,1499.4368896484375,1565.064697265625,1599.835205078125,1553.6231689453125,1527.0,1496.699951171875,1466.699951171875,1482.0,1461.699951171875,1446.8499755859375,1461.449951171875,1458.0,1449.699951171875,1454.0,1479.75,1472.0,1538.3499755859375,1540.0,1560.0,1589.5,1618.0,1618.4000244140625,1583.0,1579.550048828125,1567.949951171875,1593.0,1626.949951171875,1648.550048828125,1635.449951171875,1665.0,1788.800048828125,1804.199951171875,1763.75,1772.699951171875,1749.0,1752.0,1739.75,1741.0,1749.0,1767.5999755859375,1793.0,1858.0,1864.3499755859373,1834.949951171875,1835.0,1884.5999755859373,1947.699951171875,1941.699951171875,1978.800048828125,1869.0,1920.0,1932.0,1977.0,2010.0,2079.699951171875,2163.0,2198.800048828125,2194.0,2182.800048828125,2139.699951171875,2129.0,2057.0,2167.0,2196.0,2167.699951171875,2157.800048828125,2165.0,2160.0,2145.0,2138.89990234375,2157.0,2105.0,2134.300048828125,2154.0,2123.89990234375,2122.0,2104.5,2111.300048828125,2147.949951171875,2150.0,2132.89990234375,2174.0,2122.39990234375,2138.0,2138.75,2096.949951171875,2105.75,2121.0,2167.800048828125,2344.949951171875,2337.85009765625,2360.0,2325.75,2369.35009765625,2333.699951171875,2319.449951171875,2336.0,2277.0,2276.75,2226.0,2212.800048828125,2238.0,2264.0,2267.0,2263.800048828125,2249.14990234375,2233.89990234375,2309.0,2268.0,2253.0,2255.75,2285.75,2304.0,2290.0,2232.5,2228.699951171875,2193.0,2192.0,2132.5,2135.0,2101.949951171875,2059.85009765625,2057.699951171875,2042.0,2065.10009765625,2027.0,1909.0,1929.0,1960.949951171875,2040.0,2069.0,2090.0,2095.0,2008.449951171875,2036.6500244140625,2085.0,2006.5,2010.449951171875,1983.800048828125,1970.0,1974.0,1992.949951171875,1965.0,1956.0999755859373,1966.25,1962.0,1981.0999755859373,1969.0,1965.0,2014.25,2033.800048828125,2028.5,2038.0,2015.0,1989.699951171875,1994.949951171875,2005.0,2004.9000244140625,2022.0,1958.9000244140625,1951.449951171875,1998.800048828125,2018.0,2012.300048828125,2007.199951171875,2011.9000244140625,1997.0,1998.9000244140625,1983.5999755859373,1966.0,1945.0,1938.4000244140625,1938.800048828125,1960.0,1974.949951171875,1966.9000244140625,1973.800048828125,1997.0,2031.0,2058.0,2120.0,2115.35009765625,2034.949951171875,1925.0,1923.300048828125,1913.0999755859373,1905.0,1940.0,1952.0,1940.0,1944.6500244140625,1969.0,1989.5999755859373,1984.75,2064.199951171875,2078.0,2061.300048828125,2079.39990234375,2095.949951171875,2108.39990234375,2104.949951171875,2089.89990234375,2052.89990234375,2065.25,2152.0,2133.89990234375,2112.0,2130.0,2219.89990234375,2189.949951171875,2211.949951171875,2231.89990234375,2213.800048828125,2215.10009765625,2206.39990234375,2148.89990234375,2126.0,2103.0,2084.800048828125,2095.85009765625,2074.0,2109.699951171875,2079.75,2054.0,2013.699951171875,2048.89990234375,2049.89990234375,2030.0,2025.0,2004.949951171875,2046.9000244140625,2022.0,2006.3499755859373,1961.4000244140625,1940.5999755859373,1961.0,1949.9000244140625,1916.4000244140625,1919.0,1914.449951171875,1918.9000244140625,1962.0,1997.199951171875,2008.0,2044.5,2036.0,1979.0,1967.800048828125,1938.5,1935.0,1955.6500244140625,1946.800048828125,1938.550048828125,1932.9000244140625,1942.0,1963.449951171875,2002.5999755859373,2016.449951171875,2010.9000244140625,2009.5999755859373,2009.800048828125,1997.0,1979.5,1993.0,2105.0,2191.699951171875,2202.0,2209.5,2250.0,2216.449951171875,2242.0,2227.14990234375,2221.0,2230.0,2228.0,2258.25,2274.89990234375,2247.050048828125,2235.0,2235.0,2247.5],\"yaxis\":\"y\"}],                        {\"legend\":{\"title\":{\"text\":\"variable\"},\"tracegroupgap\":0},\"margin\":{\"t\":60},\"template\":{\"data\":{\"bar\":[{\"error_x\":{\"color\":\"#2a3f5f\"},\"error_y\":{\"color\":\"#2a3f5f\"},\"marker\":{\"line\":{\"color\":\"#E5ECF6\",\"width\":0.5},\"pattern\":{\"fillmode\":\"overlay\",\"size\":10,\"solidity\":0.2}},\"type\":\"bar\"}],\"barpolar\":[{\"marker\":{\"line\":{\"color\":\"#E5ECF6\",\"width\":0.5},\"pattern\":{\"fillmode\":\"overlay\",\"size\":10,\"solidity\":0.2}},\"type\":\"barpolar\"}],\"carpet\":[{\"aaxis\":{\"endlinecolor\":\"#2a3f5f\",\"gridcolor\":\"white\",\"linecolor\":\"white\",\"minorgridcolor\":\"white\",\"startlinecolor\":\"#2a3f5f\"},\"baxis\":{\"endlinecolor\":\"#2a3f5f\",\"gridcolor\":\"white\",\"linecolor\":\"white\",\"minorgridcolor\":\"white\",\"startlinecolor\":\"#2a3f5f\"},\"type\":\"carpet\"}],\"choropleth\":[{\"colorbar\":{\"outlinewidth\":0,\"ticks\":\"\"},\"type\":\"choropleth\"}],\"contour\":[{\"colorbar\":{\"outlinewidth\":0,\"ticks\":\"\"},\"colorscale\":[[0.0,\"#0d0887\"],[0.1111111111111111,\"#46039f\"],[0.2222222222222222,\"#7201a8\"],[0.3333333333333333,\"#9c179e\"],[0.4444444444444444,\"#bd3786\"],[0.5555555555555556,\"#d8576b\"],[0.6666666666666666,\"#ed7953\"],[0.7777777777777778,\"#fb9f3a\"],[0.8888888888888888,\"#fdca26\"],[1.0,\"#f0f921\"]],\"type\":\"contour\"}],\"contourcarpet\":[{\"colorbar\":{\"outlinewidth\":0,\"ticks\":\"\"},\"type\":\"contourcarpet\"}],\"heatmap\":[{\"colorbar\":{\"outlinewidth\":0,\"ticks\":\"\"},\"colorscale\":[[0.0,\"#0d0887\"],[0.1111111111111111,\"#46039f\"],[0.2222222222222222,\"#7201a8\"],[0.3333333333333333,\"#9c179e\"],[0.4444444444444444,\"#bd3786\"],[0.5555555555555556,\"#d8576b\"],[0.6666666666666666,\"#ed7953\"],[0.7777777777777778,\"#fb9f3a\"],[0.8888888888888888,\"#fdca26\"],[1.0,\"#f0f921\"]],\"type\":\"heatmap\"}],\"heatmapgl\":[{\"colorbar\":{\"outlinewidth\":0,\"ticks\":\"\"},\"colorscale\":[[0.0,\"#0d0887\"],[0.1111111111111111,\"#46039f\"],[0.2222222222222222,\"#7201a8\"],[0.3333333333333333,\"#9c179e\"],[0.4444444444444444,\"#bd3786\"],[0.5555555555555556,\"#d8576b\"],[0.6666666666666666,\"#ed7953\"],[0.7777777777777778,\"#fb9f3a\"],[0.8888888888888888,\"#fdca26\"],[1.0,\"#f0f921\"]],\"type\":\"heatmapgl\"}],\"histogram\":[{\"marker\":{\"pattern\":{\"fillmode\":\"overlay\",\"size\":10,\"solidity\":0.2}},\"type\":\"histogram\"}],\"histogram2d\":[{\"colorbar\":{\"outlinewidth\":0,\"ticks\":\"\"},\"colorscale\":[[0.0,\"#0d0887\"],[0.1111111111111111,\"#46039f\"],[0.2222222222222222,\"#7201a8\"],[0.3333333333333333,\"#9c179e\"],[0.4444444444444444,\"#bd3786\"],[0.5555555555555556,\"#d8576b\"],[0.6666666666666666,\"#ed7953\"],[0.7777777777777778,\"#fb9f3a\"],[0.8888888888888888,\"#fdca26\"],[1.0,\"#f0f921\"]],\"type\":\"histogram2d\"}],\"histogram2dcontour\":[{\"colorbar\":{\"outlinewidth\":0,\"ticks\":\"\"},\"colorscale\":[[0.0,\"#0d0887\"],[0.1111111111111111,\"#46039f\"],[0.2222222222222222,\"#7201a8\"],[0.3333333333333333,\"#9c179e\"],[0.4444444444444444,\"#bd3786\"],[0.5555555555555556,\"#d8576b\"],[0.6666666666666666,\"#ed7953\"],[0.7777777777777778,\"#fb9f3a\"],[0.8888888888888888,\"#fdca26\"],[1.0,\"#f0f921\"]],\"type\":\"histogram2dcontour\"}],\"mesh3d\":[{\"colorbar\":{\"outlinewidth\":0,\"ticks\":\"\"},\"type\":\"mesh3d\"}],\"parcoords\":[{\"line\":{\"colorbar\":{\"outlinewidth\":0,\"ticks\":\"\"}},\"type\":\"parcoords\"}],\"pie\":[{\"automargin\":true,\"type\":\"pie\"}],\"scatter\":[{\"marker\":{\"colorbar\":{\"outlinewidth\":0,\"ticks\":\"\"}},\"type\":\"scatter\"}],\"scatter3d\":[{\"line\":{\"colorbar\":{\"outlinewidth\":0,\"ticks\":\"\"}},\"marker\":{\"colorbar\":{\"outlinewidth\":0,\"ticks\":\"\"}},\"type\":\"scatter3d\"}],\"scattercarpet\":[{\"marker\":{\"colorbar\":{\"outlinewidth\":0,\"ticks\":\"\"}},\"type\":\"scattercarpet\"}],\"scattergeo\":[{\"marker\":{\"colorbar\":{\"outlinewidth\":0,\"ticks\":\"\"}},\"type\":\"scattergeo\"}],\"scattergl\":[{\"marker\":{\"colorbar\":{\"outlinewidth\":0,\"ticks\":\"\"}},\"type\":\"scattergl\"}],\"scattermapbox\":[{\"marker\":{\"colorbar\":{\"outlinewidth\":0,\"ticks\":\"\"}},\"type\":\"scattermapbox\"}],\"scatterpolar\":[{\"marker\":{\"colorbar\":{\"outlinewidth\":0,\"ticks\":\"\"}},\"type\":\"scatterpolar\"}],\"scatterpolargl\":[{\"marker\":{\"colorbar\":{\"outlinewidth\":0,\"ticks\":\"\"}},\"type\":\"scatterpolargl\"}],\"scatterternary\":[{\"marker\":{\"colorbar\":{\"outlinewidth\":0,\"ticks\":\"\"}},\"type\":\"scatterternary\"}],\"surface\":[{\"colorbar\":{\"outlinewidth\":0,\"ticks\":\"\"},\"colorscale\":[[0.0,\"#0d0887\"],[0.1111111111111111,\"#46039f\"],[0.2222222222222222,\"#7201a8\"],[0.3333333333333333,\"#9c179e\"],[0.4444444444444444,\"#bd3786\"],[0.5555555555555556,\"#d8576b\"],[0.6666666666666666,\"#ed7953\"],[0.7777777777777778,\"#fb9f3a\"],[0.8888888888888888,\"#fdca26\"],[1.0,\"#f0f921\"]],\"type\":\"surface\"}],\"table\":[{\"cells\":{\"fill\":{\"color\":\"#EBF0F8\"},\"line\":{\"color\":\"white\"}},\"header\":{\"fill\":{\"color\":\"#C8D4E3\"},\"line\":{\"color\":\"white\"}},\"type\":\"table\"}]},\"layout\":{\"annotationdefaults\":{\"arrowcolor\":\"#2a3f5f\",\"arrowhead\":0,\"arrowwidth\":1},\"autotypenumbers\":\"strict\",\"coloraxis\":{\"colorbar\":{\"outlinewidth\":0,\"ticks\":\"\"}},\"colorscale\":{\"diverging\":[[0,\"#8e0152\"],[0.1,\"#c51b7d\"],[0.2,\"#de77ae\"],[0.3,\"#f1b6da\"],[0.4,\"#fde0ef\"],[0.5,\"#f7f7f7\"],[0.6,\"#e6f5d0\"],[0.7,\"#b8e186\"],[0.8,\"#7fbc41\"],[0.9,\"#4d9221\"],[1,\"#276419\"]],\"sequential\":[[0.0,\"#0d0887\"],[0.1111111111111111,\"#46039f\"],[0.2222222222222222,\"#7201a8\"],[0.3333333333333333,\"#9c179e\"],[0.4444444444444444,\"#bd3786\"],[0.5555555555555556,\"#d8576b\"],[0.6666666666666666,\"#ed7953\"],[0.7777777777777778,\"#fb9f3a\"],[0.8888888888888888,\"#fdca26\"],[1.0,\"#f0f921\"]],\"sequentialminus\":[[0.0,\"#0d0887\"],[0.1111111111111111,\"#46039f\"],[0.2222222222222222,\"#7201a8\"],[0.3333333333333333,\"#9c179e\"],[0.4444444444444444,\"#bd3786\"],[0.5555555555555556,\"#d8576b\"],[0.6666666666666666,\"#ed7953\"],[0.7777777777777778,\"#fb9f3a\"],[0.8888888888888888,\"#fdca26\"],[1.0,\"#f0f921\"]]},\"colorway\":[\"#636efa\",\"#EF553B\",\"#00cc96\",\"#ab63fa\",\"#FFA15A\",\"#19d3f3\",\"#FF6692\",\"#B6E880\",\"#FF97FF\",\"#FECB52\"],\"font\":{\"color\":\"#2a3f5f\"},\"geo\":{\"bgcolor\":\"white\",\"lakecolor\":\"white\",\"landcolor\":\"#E5ECF6\",\"showlakes\":true,\"showland\":true,\"subunitcolor\":\"white\"},\"hoverlabel\":{\"align\":\"left\"},\"hovermode\":\"closest\",\"mapbox\":{\"style\":\"light\"},\"paper_bgcolor\":\"white\",\"plot_bgcolor\":\"#E5ECF6\",\"polar\":{\"angularaxis\":{\"gridcolor\":\"white\",\"linecolor\":\"white\",\"ticks\":\"\"},\"bgcolor\":\"#E5ECF6\",\"radialaxis\":{\"gridcolor\":\"white\",\"linecolor\":\"white\",\"ticks\":\"\"}},\"scene\":{\"xaxis\":{\"backgroundcolor\":\"#E5ECF6\",\"gridcolor\":\"white\",\"gridwidth\":2,\"linecolor\":\"white\",\"showbackground\":true,\"ticks\":\"\",\"zerolinecolor\":\"white\"},\"yaxis\":{\"backgroundcolor\":\"#E5ECF6\",\"gridcolor\":\"white\",\"gridwidth\":2,\"linecolor\":\"white\",\"showbackground\":true,\"ticks\":\"\",\"zerolinecolor\":\"white\"},\"zaxis\":{\"backgroundcolor\":\"#E5ECF6\",\"gridcolor\":\"white\",\"gridwidth\":2,\"linecolor\":\"white\",\"showbackground\":true,\"ticks\":\"\",\"zerolinecolor\":\"white\"}},\"shapedefaults\":{\"line\":{\"color\":\"#2a3f5f\"}},\"ternary\":{\"aaxis\":{\"gridcolor\":\"white\",\"linecolor\":\"white\",\"ticks\":\"\"},\"baxis\":{\"gridcolor\":\"white\",\"linecolor\":\"white\",\"ticks\":\"\"},\"bgcolor\":\"#E5ECF6\",\"caxis\":{\"gridcolor\":\"white\",\"linecolor\":\"white\",\"ticks\":\"\"}},\"title\":{\"x\":0.05},\"xaxis\":{\"automargin\":true,\"gridcolor\":\"white\",\"linecolor\":\"white\",\"ticks\":\"\",\"title\":{\"standoff\":15},\"zerolinecolor\":\"white\",\"zerolinewidth\":2},\"yaxis\":{\"automargin\":true,\"gridcolor\":\"white\",\"linecolor\":\"white\",\"ticks\":\"\",\"title\":{\"standoff\":15},\"zerolinecolor\":\"white\",\"zerolinewidth\":2}}},\"xaxis\":{\"anchor\":\"y\",\"domain\":[0.0,1.0],\"title\":{\"text\":\"index\"}},\"yaxis\":{\"anchor\":\"x\",\"domain\":[0.0,1.0],\"title\":{\"text\":\"value\"}}},                        {\"responsive\": true}                    ).then(function(){\n",
       "                            \n",
       "var gd = document.getElementById('537c6b0a-d7ba-443d-a821-7abbc5abeed0');\n",
       "var x = new MutationObserver(function (mutations, observer) {{\n",
       "        var display = window.getComputedStyle(gd).display;\n",
       "        if (!display || display === 'none') {{\n",
       "            console.log([gd, 'removed!']);\n",
       "            Plotly.purge(gd);\n",
       "            observer.disconnect();\n",
       "        }}\n",
       "}});\n",
       "\n",
       "// Listen for the removal of the full notebook cells\n",
       "var notebookContainer = gd.closest('#notebook-container');\n",
       "if (notebookContainer) {{\n",
       "    x.observe(notebookContainer, {childList: true});\n",
       "}}\n",
       "\n",
       "// Listen for the clearing of the current output cell\n",
       "var outputEl = gd.closest('.output');\n",
       "if (outputEl) {{\n",
       "    x.observe(outputEl, {childList: true});\n",
       "}}\n",
       "\n",
       "                        })                };                });            </script>        </div>"
      ]
     },
     "metadata": {},
     "output_type": "display_data"
    },
    {
     "data": {
      "application/vnd.plotly.v1+json": {
       "config": {
        "plotlyServerURL": "https://plot.ly"
       },
       "data": [
        {
         "hovertemplate": "variable=0<br>index=%{x}<br>value=%{y}<extra></extra>",
         "legendgroup": "0",
         "line": {
          "color": "#636efa",
          "dash": "solid"
         },
         "marker": {
          "symbol": "circle"
         },
         "mode": "lines",
         "name": "0",
         "orientation": "v",
         "showlegend": true,
         "type": "scatter",
         "x": [
          0,
          1,
          2,
          3,
          4,
          5,
          6,
          7,
          8,
          9,
          10,
          11,
          12,
          13,
          14,
          15,
          16,
          17,
          18,
          19,
          20,
          21,
          22,
          23,
          24,
          25,
          26,
          27,
          28,
          29,
          30,
          31,
          32,
          33,
          34,
          35,
          36,
          37,
          38,
          39,
          40,
          41,
          42,
          43,
          44,
          45,
          46,
          47,
          48,
          49,
          50,
          51,
          52,
          53,
          54,
          55,
          56,
          57,
          58,
          59,
          60,
          61,
          62,
          63,
          64,
          65,
          66,
          67,
          68,
          69,
          70,
          71,
          72,
          73,
          74,
          75,
          76,
          77,
          78,
          79,
          80,
          81,
          82,
          83,
          84,
          85,
          86,
          87,
          88,
          89,
          90,
          91,
          92,
          93,
          94,
          95,
          96,
          97,
          98,
          99
         ],
         "xaxis": "x",
         "y": [
          2250.5822281746864,
          2252.698248047336,
          2254.7158021678138,
          2256.723983770853,
          2258.7319402752087,
          2260.7406108685773,
          2262.7500919796403,
          2264.7603935089646,
          2266.7715164730653,
          2268.7834609763104,
          2270.7962270294156,
          2272.8098146334814,
          2274.8242237886207,
          2276.8394544948446,
          2278.855506752155,
          2280.872380560552,
          2282.890075920035,
          2284.9085928306044,
          2286.92793129226,
          2288.948091305002,
          2290.96907286883,
          2292.990875983745,
          2295.0135006497458,
          2297.036946866833,
          2299.0612146350068,
          2301.086303954267,
          2303.112214824613,
          2305.138947246046,
          2307.166501218565,
          2309.19487674217,
          2311.2240738168616,
          2313.2540924426394,
          2315.2849326195037,
          2317.316594347454,
          2319.349077626491,
          2321.3823824566143,
          2323.416508837824,
          2325.45145677012,
          2327.4872262535023,
          2329.523817287971,
          2331.5612298735255,
          2333.5994640101667,
          2335.638519697894,
          2337.678396936708,
          2339.719095726608,
          2341.7606160675946,
          2343.8029579596673,
          2345.8461214028266,
          2347.890106397072,
          2349.934912942404,
          2351.980541038822,
          2354.0269906863264,
          2356.074261884917,
          2358.122354634594,
          2360.1712689353576,
          2362.221004787207,
          2364.2715621901434,
          2366.3229411441657,
          2368.3751416492746,
          2370.4281637054696,
          2372.482007312751,
          2374.536672471119,
          2376.5921591805727,
          2378.648467441113,
          2380.7055972527396,
          2382.7635486154527,
          2384.822321529252,
          2386.8819159941377,
          2388.9423320101096,
          2391.003569577168,
          2393.0656286953126,
          2395.128509364544,
          2397.192211584861,
          2399.2567353562645,
          2401.3220806787544,
          2403.3882475523305,
          2405.455235976993,
          2407.523045952742,
          2409.5916774795774,
          2411.661130557499,
          2413.731405186507,
          2415.802501366601,
          2417.874419097782,
          2419.9471583800487,
          2422.020719213402,
          2424.0951015978417,
          2426.1703055333674,
          2428.2463310199796,
          2430.323178057678,
          2432.400846646463,
          2434.479336786334,
          2436.5586484772916,
          2438.6387817193354,
          2440.7197365124657,
          2442.801512856682,
          2444.884110751985,
          2446.9675301983743,
          2449.0517711958496,
          2451.1368337444114,
          2453.2227178440594
         ],
         "yaxis": "y"
        }
       ],
       "layout": {
        "legend": {
         "title": {
          "text": "variable"
         },
         "tracegroupgap": 0
        },
        "margin": {
         "t": 60
        },
        "template": {
         "data": {
          "bar": [
           {
            "error_x": {
             "color": "#2a3f5f"
            },
            "error_y": {
             "color": "#2a3f5f"
            },
            "marker": {
             "line": {
              "color": "#E5ECF6",
              "width": 0.5
             },
             "pattern": {
              "fillmode": "overlay",
              "size": 10,
              "solidity": 0.2
             }
            },
            "type": "bar"
           }
          ],
          "barpolar": [
           {
            "marker": {
             "line": {
              "color": "#E5ECF6",
              "width": 0.5
             },
             "pattern": {
              "fillmode": "overlay",
              "size": 10,
              "solidity": 0.2
             }
            },
            "type": "barpolar"
           }
          ],
          "carpet": [
           {
            "aaxis": {
             "endlinecolor": "#2a3f5f",
             "gridcolor": "white",
             "linecolor": "white",
             "minorgridcolor": "white",
             "startlinecolor": "#2a3f5f"
            },
            "baxis": {
             "endlinecolor": "#2a3f5f",
             "gridcolor": "white",
             "linecolor": "white",
             "minorgridcolor": "white",
             "startlinecolor": "#2a3f5f"
            },
            "type": "carpet"
           }
          ],
          "choropleth": [
           {
            "colorbar": {
             "outlinewidth": 0,
             "ticks": ""
            },
            "type": "choropleth"
           }
          ],
          "contour": [
           {
            "colorbar": {
             "outlinewidth": 0,
             "ticks": ""
            },
            "colorscale": [
             [
              0,
              "#0d0887"
             ],
             [
              0.1111111111111111,
              "#46039f"
             ],
             [
              0.2222222222222222,
              "#7201a8"
             ],
             [
              0.3333333333333333,
              "#9c179e"
             ],
             [
              0.4444444444444444,
              "#bd3786"
             ],
             [
              0.5555555555555556,
              "#d8576b"
             ],
             [
              0.6666666666666666,
              "#ed7953"
             ],
             [
              0.7777777777777778,
              "#fb9f3a"
             ],
             [
              0.8888888888888888,
              "#fdca26"
             ],
             [
              1,
              "#f0f921"
             ]
            ],
            "type": "contour"
           }
          ],
          "contourcarpet": [
           {
            "colorbar": {
             "outlinewidth": 0,
             "ticks": ""
            },
            "type": "contourcarpet"
           }
          ],
          "heatmap": [
           {
            "colorbar": {
             "outlinewidth": 0,
             "ticks": ""
            },
            "colorscale": [
             [
              0,
              "#0d0887"
             ],
             [
              0.1111111111111111,
              "#46039f"
             ],
             [
              0.2222222222222222,
              "#7201a8"
             ],
             [
              0.3333333333333333,
              "#9c179e"
             ],
             [
              0.4444444444444444,
              "#bd3786"
             ],
             [
              0.5555555555555556,
              "#d8576b"
             ],
             [
              0.6666666666666666,
              "#ed7953"
             ],
             [
              0.7777777777777778,
              "#fb9f3a"
             ],
             [
              0.8888888888888888,
              "#fdca26"
             ],
             [
              1,
              "#f0f921"
             ]
            ],
            "type": "heatmap"
           }
          ],
          "heatmapgl": [
           {
            "colorbar": {
             "outlinewidth": 0,
             "ticks": ""
            },
            "colorscale": [
             [
              0,
              "#0d0887"
             ],
             [
              0.1111111111111111,
              "#46039f"
             ],
             [
              0.2222222222222222,
              "#7201a8"
             ],
             [
              0.3333333333333333,
              "#9c179e"
             ],
             [
              0.4444444444444444,
              "#bd3786"
             ],
             [
              0.5555555555555556,
              "#d8576b"
             ],
             [
              0.6666666666666666,
              "#ed7953"
             ],
             [
              0.7777777777777778,
              "#fb9f3a"
             ],
             [
              0.8888888888888888,
              "#fdca26"
             ],
             [
              1,
              "#f0f921"
             ]
            ],
            "type": "heatmapgl"
           }
          ],
          "histogram": [
           {
            "marker": {
             "pattern": {
              "fillmode": "overlay",
              "size": 10,
              "solidity": 0.2
             }
            },
            "type": "histogram"
           }
          ],
          "histogram2d": [
           {
            "colorbar": {
             "outlinewidth": 0,
             "ticks": ""
            },
            "colorscale": [
             [
              0,
              "#0d0887"
             ],
             [
              0.1111111111111111,
              "#46039f"
             ],
             [
              0.2222222222222222,
              "#7201a8"
             ],
             [
              0.3333333333333333,
              "#9c179e"
             ],
             [
              0.4444444444444444,
              "#bd3786"
             ],
             [
              0.5555555555555556,
              "#d8576b"
             ],
             [
              0.6666666666666666,
              "#ed7953"
             ],
             [
              0.7777777777777778,
              "#fb9f3a"
             ],
             [
              0.8888888888888888,
              "#fdca26"
             ],
             [
              1,
              "#f0f921"
             ]
            ],
            "type": "histogram2d"
           }
          ],
          "histogram2dcontour": [
           {
            "colorbar": {
             "outlinewidth": 0,
             "ticks": ""
            },
            "colorscale": [
             [
              0,
              "#0d0887"
             ],
             [
              0.1111111111111111,
              "#46039f"
             ],
             [
              0.2222222222222222,
              "#7201a8"
             ],
             [
              0.3333333333333333,
              "#9c179e"
             ],
             [
              0.4444444444444444,
              "#bd3786"
             ],
             [
              0.5555555555555556,
              "#d8576b"
             ],
             [
              0.6666666666666666,
              "#ed7953"
             ],
             [
              0.7777777777777778,
              "#fb9f3a"
             ],
             [
              0.8888888888888888,
              "#fdca26"
             ],
             [
              1,
              "#f0f921"
             ]
            ],
            "type": "histogram2dcontour"
           }
          ],
          "mesh3d": [
           {
            "colorbar": {
             "outlinewidth": 0,
             "ticks": ""
            },
            "type": "mesh3d"
           }
          ],
          "parcoords": [
           {
            "line": {
             "colorbar": {
              "outlinewidth": 0,
              "ticks": ""
             }
            },
            "type": "parcoords"
           }
          ],
          "pie": [
           {
            "automargin": true,
            "type": "pie"
           }
          ],
          "scatter": [
           {
            "marker": {
             "colorbar": {
              "outlinewidth": 0,
              "ticks": ""
             }
            },
            "type": "scatter"
           }
          ],
          "scatter3d": [
           {
            "line": {
             "colorbar": {
              "outlinewidth": 0,
              "ticks": ""
             }
            },
            "marker": {
             "colorbar": {
              "outlinewidth": 0,
              "ticks": ""
             }
            },
            "type": "scatter3d"
           }
          ],
          "scattercarpet": [
           {
            "marker": {
             "colorbar": {
              "outlinewidth": 0,
              "ticks": ""
             }
            },
            "type": "scattercarpet"
           }
          ],
          "scattergeo": [
           {
            "marker": {
             "colorbar": {
              "outlinewidth": 0,
              "ticks": ""
             }
            },
            "type": "scattergeo"
           }
          ],
          "scattergl": [
           {
            "marker": {
             "colorbar": {
              "outlinewidth": 0,
              "ticks": ""
             }
            },
            "type": "scattergl"
           }
          ],
          "scattermapbox": [
           {
            "marker": {
             "colorbar": {
              "outlinewidth": 0,
              "ticks": ""
             }
            },
            "type": "scattermapbox"
           }
          ],
          "scatterpolar": [
           {
            "marker": {
             "colorbar": {
              "outlinewidth": 0,
              "ticks": ""
             }
            },
            "type": "scatterpolar"
           }
          ],
          "scatterpolargl": [
           {
            "marker": {
             "colorbar": {
              "outlinewidth": 0,
              "ticks": ""
             }
            },
            "type": "scatterpolargl"
           }
          ],
          "scatterternary": [
           {
            "marker": {
             "colorbar": {
              "outlinewidth": 0,
              "ticks": ""
             }
            },
            "type": "scatterternary"
           }
          ],
          "surface": [
           {
            "colorbar": {
             "outlinewidth": 0,
             "ticks": ""
            },
            "colorscale": [
             [
              0,
              "#0d0887"
             ],
             [
              0.1111111111111111,
              "#46039f"
             ],
             [
              0.2222222222222222,
              "#7201a8"
             ],
             [
              0.3333333333333333,
              "#9c179e"
             ],
             [
              0.4444444444444444,
              "#bd3786"
             ],
             [
              0.5555555555555556,
              "#d8576b"
             ],
             [
              0.6666666666666666,
              "#ed7953"
             ],
             [
              0.7777777777777778,
              "#fb9f3a"
             ],
             [
              0.8888888888888888,
              "#fdca26"
             ],
             [
              1,
              "#f0f921"
             ]
            ],
            "type": "surface"
           }
          ],
          "table": [
           {
            "cells": {
             "fill": {
              "color": "#EBF0F8"
             },
             "line": {
              "color": "white"
             }
            },
            "header": {
             "fill": {
              "color": "#C8D4E3"
             },
             "line": {
              "color": "white"
             }
            },
            "type": "table"
           }
          ]
         },
         "layout": {
          "annotationdefaults": {
           "arrowcolor": "#2a3f5f",
           "arrowhead": 0,
           "arrowwidth": 1
          },
          "autotypenumbers": "strict",
          "coloraxis": {
           "colorbar": {
            "outlinewidth": 0,
            "ticks": ""
           }
          },
          "colorscale": {
           "diverging": [
            [
             0,
             "#8e0152"
            ],
            [
             0.1,
             "#c51b7d"
            ],
            [
             0.2,
             "#de77ae"
            ],
            [
             0.3,
             "#f1b6da"
            ],
            [
             0.4,
             "#fde0ef"
            ],
            [
             0.5,
             "#f7f7f7"
            ],
            [
             0.6,
             "#e6f5d0"
            ],
            [
             0.7,
             "#b8e186"
            ],
            [
             0.8,
             "#7fbc41"
            ],
            [
             0.9,
             "#4d9221"
            ],
            [
             1,
             "#276419"
            ]
           ],
           "sequential": [
            [
             0,
             "#0d0887"
            ],
            [
             0.1111111111111111,
             "#46039f"
            ],
            [
             0.2222222222222222,
             "#7201a8"
            ],
            [
             0.3333333333333333,
             "#9c179e"
            ],
            [
             0.4444444444444444,
             "#bd3786"
            ],
            [
             0.5555555555555556,
             "#d8576b"
            ],
            [
             0.6666666666666666,
             "#ed7953"
            ],
            [
             0.7777777777777778,
             "#fb9f3a"
            ],
            [
             0.8888888888888888,
             "#fdca26"
            ],
            [
             1,
             "#f0f921"
            ]
           ],
           "sequentialminus": [
            [
             0,
             "#0d0887"
            ],
            [
             0.1111111111111111,
             "#46039f"
            ],
            [
             0.2222222222222222,
             "#7201a8"
            ],
            [
             0.3333333333333333,
             "#9c179e"
            ],
            [
             0.4444444444444444,
             "#bd3786"
            ],
            [
             0.5555555555555556,
             "#d8576b"
            ],
            [
             0.6666666666666666,
             "#ed7953"
            ],
            [
             0.7777777777777778,
             "#fb9f3a"
            ],
            [
             0.8888888888888888,
             "#fdca26"
            ],
            [
             1,
             "#f0f921"
            ]
           ]
          },
          "colorway": [
           "#636efa",
           "#EF553B",
           "#00cc96",
           "#ab63fa",
           "#FFA15A",
           "#19d3f3",
           "#FF6692",
           "#B6E880",
           "#FF97FF",
           "#FECB52"
          ],
          "font": {
           "color": "#2a3f5f"
          },
          "geo": {
           "bgcolor": "white",
           "lakecolor": "white",
           "landcolor": "#E5ECF6",
           "showlakes": true,
           "showland": true,
           "subunitcolor": "white"
          },
          "hoverlabel": {
           "align": "left"
          },
          "hovermode": "closest",
          "mapbox": {
           "style": "light"
          },
          "paper_bgcolor": "white",
          "plot_bgcolor": "#E5ECF6",
          "polar": {
           "angularaxis": {
            "gridcolor": "white",
            "linecolor": "white",
            "ticks": ""
           },
           "bgcolor": "#E5ECF6",
           "radialaxis": {
            "gridcolor": "white",
            "linecolor": "white",
            "ticks": ""
           }
          },
          "scene": {
           "xaxis": {
            "backgroundcolor": "#E5ECF6",
            "gridcolor": "white",
            "gridwidth": 2,
            "linecolor": "white",
            "showbackground": true,
            "ticks": "",
            "zerolinecolor": "white"
           },
           "yaxis": {
            "backgroundcolor": "#E5ECF6",
            "gridcolor": "white",
            "gridwidth": 2,
            "linecolor": "white",
            "showbackground": true,
            "ticks": "",
            "zerolinecolor": "white"
           },
           "zaxis": {
            "backgroundcolor": "#E5ECF6",
            "gridcolor": "white",
            "gridwidth": 2,
            "linecolor": "white",
            "showbackground": true,
            "ticks": "",
            "zerolinecolor": "white"
           }
          },
          "shapedefaults": {
           "line": {
            "color": "#2a3f5f"
           }
          },
          "ternary": {
           "aaxis": {
            "gridcolor": "white",
            "linecolor": "white",
            "ticks": ""
           },
           "baxis": {
            "gridcolor": "white",
            "linecolor": "white",
            "ticks": ""
           },
           "bgcolor": "#E5ECF6",
           "caxis": {
            "gridcolor": "white",
            "linecolor": "white",
            "ticks": ""
           }
          },
          "title": {
           "x": 0.05
          },
          "xaxis": {
           "automargin": true,
           "gridcolor": "white",
           "linecolor": "white",
           "ticks": "",
           "title": {
            "standoff": 15
           },
           "zerolinecolor": "white",
           "zerolinewidth": 2
          },
          "yaxis": {
           "automargin": true,
           "gridcolor": "white",
           "linecolor": "white",
           "ticks": "",
           "title": {
            "standoff": 15
           },
           "zerolinecolor": "white",
           "zerolinewidth": 2
          }
         }
        },
        "xaxis": {
         "anchor": "y",
         "domain": [
          0,
          1
         ],
         "title": {
          "text": "index"
         }
        },
        "yaxis": {
         "anchor": "x",
         "domain": [
          0,
          1
         ],
         "title": {
          "text": "value"
         }
        }
       }
      },
      "text/html": [
       "<div>                            <div id=\"f25c43ff-cebb-4419-99ae-a2c8251e4111\" class=\"plotly-graph-div\" style=\"height:525px; width:100%;\"></div>            <script type=\"text/javascript\">                require([\"plotly\"], function(Plotly) {                    window.PLOTLYENV=window.PLOTLYENV || {};                                    if (document.getElementById(\"f25c43ff-cebb-4419-99ae-a2c8251e4111\")) {                    Plotly.newPlot(                        \"f25c43ff-cebb-4419-99ae-a2c8251e4111\",                        [{\"hovertemplate\":\"variable=0<br>index=%{x}<br>value=%{y}<extra></extra>\",\"legendgroup\":\"0\",\"line\":{\"color\":\"#636efa\",\"dash\":\"solid\"},\"marker\":{\"symbol\":\"circle\"},\"mode\":\"lines\",\"name\":\"0\",\"orientation\":\"v\",\"showlegend\":true,\"type\":\"scatter\",\"x\":[0,1,2,3,4,5,6,7,8,9,10,11,12,13,14,15,16,17,18,19,20,21,22,23,24,25,26,27,28,29,30,31,32,33,34,35,36,37,38,39,40,41,42,43,44,45,46,47,48,49,50,51,52,53,54,55,56,57,58,59,60,61,62,63,64,65,66,67,68,69,70,71,72,73,74,75,76,77,78,79,80,81,82,83,84,85,86,87,88,89,90,91,92,93,94,95,96,97,98,99],\"xaxis\":\"x\",\"y\":[2250.5822281746864,2252.698248047336,2254.7158021678138,2256.723983770853,2258.7319402752087,2260.7406108685773,2262.7500919796403,2264.7603935089646,2266.7715164730653,2268.7834609763104,2270.7962270294156,2272.8098146334814,2274.8242237886207,2276.8394544948446,2278.855506752155,2280.872380560552,2282.890075920035,2284.9085928306044,2286.92793129226,2288.948091305002,2290.96907286883,2292.990875983745,2295.0135006497458,2297.036946866833,2299.0612146350068,2301.086303954267,2303.112214824613,2305.138947246046,2307.166501218565,2309.19487674217,2311.2240738168616,2313.2540924426394,2315.2849326195037,2317.316594347454,2319.349077626491,2321.3823824566143,2323.416508837824,2325.45145677012,2327.4872262535023,2329.523817287971,2331.5612298735255,2333.5994640101667,2335.638519697894,2337.678396936708,2339.719095726608,2341.7606160675946,2343.8029579596673,2345.8461214028266,2347.890106397072,2349.934912942404,2351.980541038822,2354.0269906863264,2356.074261884917,2358.122354634594,2360.1712689353576,2362.221004787207,2364.2715621901434,2366.3229411441657,2368.3751416492746,2370.4281637054696,2372.482007312751,2374.536672471119,2376.5921591805727,2378.648467441113,2380.7055972527396,2382.7635486154527,2384.822321529252,2386.8819159941377,2388.9423320101096,2391.003569577168,2393.0656286953126,2395.128509364544,2397.192211584861,2399.2567353562645,2401.3220806787544,2403.3882475523305,2405.455235976993,2407.523045952742,2409.5916774795774,2411.661130557499,2413.731405186507,2415.802501366601,2417.874419097782,2419.9471583800487,2422.020719213402,2424.0951015978417,2426.1703055333674,2428.2463310199796,2430.323178057678,2432.400846646463,2434.479336786334,2436.5586484772916,2438.6387817193354,2440.7197365124657,2442.801512856682,2444.884110751985,2446.9675301983743,2449.0517711958496,2451.1368337444114,2453.2227178440594],\"yaxis\":\"y\"}],                        {\"legend\":{\"title\":{\"text\":\"variable\"},\"tracegroupgap\":0},\"margin\":{\"t\":60},\"template\":{\"data\":{\"bar\":[{\"error_x\":{\"color\":\"#2a3f5f\"},\"error_y\":{\"color\":\"#2a3f5f\"},\"marker\":{\"line\":{\"color\":\"#E5ECF6\",\"width\":0.5},\"pattern\":{\"fillmode\":\"overlay\",\"size\":10,\"solidity\":0.2}},\"type\":\"bar\"}],\"barpolar\":[{\"marker\":{\"line\":{\"color\":\"#E5ECF6\",\"width\":0.5},\"pattern\":{\"fillmode\":\"overlay\",\"size\":10,\"solidity\":0.2}},\"type\":\"barpolar\"}],\"carpet\":[{\"aaxis\":{\"endlinecolor\":\"#2a3f5f\",\"gridcolor\":\"white\",\"linecolor\":\"white\",\"minorgridcolor\":\"white\",\"startlinecolor\":\"#2a3f5f\"},\"baxis\":{\"endlinecolor\":\"#2a3f5f\",\"gridcolor\":\"white\",\"linecolor\":\"white\",\"minorgridcolor\":\"white\",\"startlinecolor\":\"#2a3f5f\"},\"type\":\"carpet\"}],\"choropleth\":[{\"colorbar\":{\"outlinewidth\":0,\"ticks\":\"\"},\"type\":\"choropleth\"}],\"contour\":[{\"colorbar\":{\"outlinewidth\":0,\"ticks\":\"\"},\"colorscale\":[[0.0,\"#0d0887\"],[0.1111111111111111,\"#46039f\"],[0.2222222222222222,\"#7201a8\"],[0.3333333333333333,\"#9c179e\"],[0.4444444444444444,\"#bd3786\"],[0.5555555555555556,\"#d8576b\"],[0.6666666666666666,\"#ed7953\"],[0.7777777777777778,\"#fb9f3a\"],[0.8888888888888888,\"#fdca26\"],[1.0,\"#f0f921\"]],\"type\":\"contour\"}],\"contourcarpet\":[{\"colorbar\":{\"outlinewidth\":0,\"ticks\":\"\"},\"type\":\"contourcarpet\"}],\"heatmap\":[{\"colorbar\":{\"outlinewidth\":0,\"ticks\":\"\"},\"colorscale\":[[0.0,\"#0d0887\"],[0.1111111111111111,\"#46039f\"],[0.2222222222222222,\"#7201a8\"],[0.3333333333333333,\"#9c179e\"],[0.4444444444444444,\"#bd3786\"],[0.5555555555555556,\"#d8576b\"],[0.6666666666666666,\"#ed7953\"],[0.7777777777777778,\"#fb9f3a\"],[0.8888888888888888,\"#fdca26\"],[1.0,\"#f0f921\"]],\"type\":\"heatmap\"}],\"heatmapgl\":[{\"colorbar\":{\"outlinewidth\":0,\"ticks\":\"\"},\"colorscale\":[[0.0,\"#0d0887\"],[0.1111111111111111,\"#46039f\"],[0.2222222222222222,\"#7201a8\"],[0.3333333333333333,\"#9c179e\"],[0.4444444444444444,\"#bd3786\"],[0.5555555555555556,\"#d8576b\"],[0.6666666666666666,\"#ed7953\"],[0.7777777777777778,\"#fb9f3a\"],[0.8888888888888888,\"#fdca26\"],[1.0,\"#f0f921\"]],\"type\":\"heatmapgl\"}],\"histogram\":[{\"marker\":{\"pattern\":{\"fillmode\":\"overlay\",\"size\":10,\"solidity\":0.2}},\"type\":\"histogram\"}],\"histogram2d\":[{\"colorbar\":{\"outlinewidth\":0,\"ticks\":\"\"},\"colorscale\":[[0.0,\"#0d0887\"],[0.1111111111111111,\"#46039f\"],[0.2222222222222222,\"#7201a8\"],[0.3333333333333333,\"#9c179e\"],[0.4444444444444444,\"#bd3786\"],[0.5555555555555556,\"#d8576b\"],[0.6666666666666666,\"#ed7953\"],[0.7777777777777778,\"#fb9f3a\"],[0.8888888888888888,\"#fdca26\"],[1.0,\"#f0f921\"]],\"type\":\"histogram2d\"}],\"histogram2dcontour\":[{\"colorbar\":{\"outlinewidth\":0,\"ticks\":\"\"},\"colorscale\":[[0.0,\"#0d0887\"],[0.1111111111111111,\"#46039f\"],[0.2222222222222222,\"#7201a8\"],[0.3333333333333333,\"#9c179e\"],[0.4444444444444444,\"#bd3786\"],[0.5555555555555556,\"#d8576b\"],[0.6666666666666666,\"#ed7953\"],[0.7777777777777778,\"#fb9f3a\"],[0.8888888888888888,\"#fdca26\"],[1.0,\"#f0f921\"]],\"type\":\"histogram2dcontour\"}],\"mesh3d\":[{\"colorbar\":{\"outlinewidth\":0,\"ticks\":\"\"},\"type\":\"mesh3d\"}],\"parcoords\":[{\"line\":{\"colorbar\":{\"outlinewidth\":0,\"ticks\":\"\"}},\"type\":\"parcoords\"}],\"pie\":[{\"automargin\":true,\"type\":\"pie\"}],\"scatter\":[{\"marker\":{\"colorbar\":{\"outlinewidth\":0,\"ticks\":\"\"}},\"type\":\"scatter\"}],\"scatter3d\":[{\"line\":{\"colorbar\":{\"outlinewidth\":0,\"ticks\":\"\"}},\"marker\":{\"colorbar\":{\"outlinewidth\":0,\"ticks\":\"\"}},\"type\":\"scatter3d\"}],\"scattercarpet\":[{\"marker\":{\"colorbar\":{\"outlinewidth\":0,\"ticks\":\"\"}},\"type\":\"scattercarpet\"}],\"scattergeo\":[{\"marker\":{\"colorbar\":{\"outlinewidth\":0,\"ticks\":\"\"}},\"type\":\"scattergeo\"}],\"scattergl\":[{\"marker\":{\"colorbar\":{\"outlinewidth\":0,\"ticks\":\"\"}},\"type\":\"scattergl\"}],\"scattermapbox\":[{\"marker\":{\"colorbar\":{\"outlinewidth\":0,\"ticks\":\"\"}},\"type\":\"scattermapbox\"}],\"scatterpolar\":[{\"marker\":{\"colorbar\":{\"outlinewidth\":0,\"ticks\":\"\"}},\"type\":\"scatterpolar\"}],\"scatterpolargl\":[{\"marker\":{\"colorbar\":{\"outlinewidth\":0,\"ticks\":\"\"}},\"type\":\"scatterpolargl\"}],\"scatterternary\":[{\"marker\":{\"colorbar\":{\"outlinewidth\":0,\"ticks\":\"\"}},\"type\":\"scatterternary\"}],\"surface\":[{\"colorbar\":{\"outlinewidth\":0,\"ticks\":\"\"},\"colorscale\":[[0.0,\"#0d0887\"],[0.1111111111111111,\"#46039f\"],[0.2222222222222222,\"#7201a8\"],[0.3333333333333333,\"#9c179e\"],[0.4444444444444444,\"#bd3786\"],[0.5555555555555556,\"#d8576b\"],[0.6666666666666666,\"#ed7953\"],[0.7777777777777778,\"#fb9f3a\"],[0.8888888888888888,\"#fdca26\"],[1.0,\"#f0f921\"]],\"type\":\"surface\"}],\"table\":[{\"cells\":{\"fill\":{\"color\":\"#EBF0F8\"},\"line\":{\"color\":\"white\"}},\"header\":{\"fill\":{\"color\":\"#C8D4E3\"},\"line\":{\"color\":\"white\"}},\"type\":\"table\"}]},\"layout\":{\"annotationdefaults\":{\"arrowcolor\":\"#2a3f5f\",\"arrowhead\":0,\"arrowwidth\":1},\"autotypenumbers\":\"strict\",\"coloraxis\":{\"colorbar\":{\"outlinewidth\":0,\"ticks\":\"\"}},\"colorscale\":{\"diverging\":[[0,\"#8e0152\"],[0.1,\"#c51b7d\"],[0.2,\"#de77ae\"],[0.3,\"#f1b6da\"],[0.4,\"#fde0ef\"],[0.5,\"#f7f7f7\"],[0.6,\"#e6f5d0\"],[0.7,\"#b8e186\"],[0.8,\"#7fbc41\"],[0.9,\"#4d9221\"],[1,\"#276419\"]],\"sequential\":[[0.0,\"#0d0887\"],[0.1111111111111111,\"#46039f\"],[0.2222222222222222,\"#7201a8\"],[0.3333333333333333,\"#9c179e\"],[0.4444444444444444,\"#bd3786\"],[0.5555555555555556,\"#d8576b\"],[0.6666666666666666,\"#ed7953\"],[0.7777777777777778,\"#fb9f3a\"],[0.8888888888888888,\"#fdca26\"],[1.0,\"#f0f921\"]],\"sequentialminus\":[[0.0,\"#0d0887\"],[0.1111111111111111,\"#46039f\"],[0.2222222222222222,\"#7201a8\"],[0.3333333333333333,\"#9c179e\"],[0.4444444444444444,\"#bd3786\"],[0.5555555555555556,\"#d8576b\"],[0.6666666666666666,\"#ed7953\"],[0.7777777777777778,\"#fb9f3a\"],[0.8888888888888888,\"#fdca26\"],[1.0,\"#f0f921\"]]},\"colorway\":[\"#636efa\",\"#EF553B\",\"#00cc96\",\"#ab63fa\",\"#FFA15A\",\"#19d3f3\",\"#FF6692\",\"#B6E880\",\"#FF97FF\",\"#FECB52\"],\"font\":{\"color\":\"#2a3f5f\"},\"geo\":{\"bgcolor\":\"white\",\"lakecolor\":\"white\",\"landcolor\":\"#E5ECF6\",\"showlakes\":true,\"showland\":true,\"subunitcolor\":\"white\"},\"hoverlabel\":{\"align\":\"left\"},\"hovermode\":\"closest\",\"mapbox\":{\"style\":\"light\"},\"paper_bgcolor\":\"white\",\"plot_bgcolor\":\"#E5ECF6\",\"polar\":{\"angularaxis\":{\"gridcolor\":\"white\",\"linecolor\":\"white\",\"ticks\":\"\"},\"bgcolor\":\"#E5ECF6\",\"radialaxis\":{\"gridcolor\":\"white\",\"linecolor\":\"white\",\"ticks\":\"\"}},\"scene\":{\"xaxis\":{\"backgroundcolor\":\"#E5ECF6\",\"gridcolor\":\"white\",\"gridwidth\":2,\"linecolor\":\"white\",\"showbackground\":true,\"ticks\":\"\",\"zerolinecolor\":\"white\"},\"yaxis\":{\"backgroundcolor\":\"#E5ECF6\",\"gridcolor\":\"white\",\"gridwidth\":2,\"linecolor\":\"white\",\"showbackground\":true,\"ticks\":\"\",\"zerolinecolor\":\"white\"},\"zaxis\":{\"backgroundcolor\":\"#E5ECF6\",\"gridcolor\":\"white\",\"gridwidth\":2,\"linecolor\":\"white\",\"showbackground\":true,\"ticks\":\"\",\"zerolinecolor\":\"white\"}},\"shapedefaults\":{\"line\":{\"color\":\"#2a3f5f\"}},\"ternary\":{\"aaxis\":{\"gridcolor\":\"white\",\"linecolor\":\"white\",\"ticks\":\"\"},\"baxis\":{\"gridcolor\":\"white\",\"linecolor\":\"white\",\"ticks\":\"\"},\"bgcolor\":\"#E5ECF6\",\"caxis\":{\"gridcolor\":\"white\",\"linecolor\":\"white\",\"ticks\":\"\"}},\"title\":{\"x\":0.05},\"xaxis\":{\"automargin\":true,\"gridcolor\":\"white\",\"linecolor\":\"white\",\"ticks\":\"\",\"title\":{\"standoff\":15},\"zerolinecolor\":\"white\",\"zerolinewidth\":2},\"yaxis\":{\"automargin\":true,\"gridcolor\":\"white\",\"linecolor\":\"white\",\"ticks\":\"\",\"title\":{\"standoff\":15},\"zerolinecolor\":\"white\",\"zerolinewidth\":2}}},\"xaxis\":{\"anchor\":\"y\",\"domain\":[0.0,1.0],\"title\":{\"text\":\"index\"}},\"yaxis\":{\"anchor\":\"x\",\"domain\":[0.0,1.0],\"title\":{\"text\":\"value\"}}},                        {\"responsive\": true}                    ).then(function(){\n",
       "                            \n",
       "var gd = document.getElementById('f25c43ff-cebb-4419-99ae-a2c8251e4111');\n",
       "var x = new MutationObserver(function (mutations, observer) {{\n",
       "        var display = window.getComputedStyle(gd).display;\n",
       "        if (!display || display === 'none') {{\n",
       "            console.log([gd, 'removed!']);\n",
       "            Plotly.purge(gd);\n",
       "            observer.disconnect();\n",
       "        }}\n",
       "}});\n",
       "\n",
       "// Listen for the removal of the full notebook cells\n",
       "var notebookContainer = gd.closest('#notebook-container');\n",
       "if (notebookContainer) {{\n",
       "    x.observe(notebookContainer, {childList: true});\n",
       "}}\n",
       "\n",
       "// Listen for the clearing of the current output cell\n",
       "var outputEl = gd.closest('.output');\n",
       "if (outputEl) {{\n",
       "    x.observe(outputEl, {childList: true});\n",
       "}}\n",
       "\n",
       "                        })                };                });            </script>        </div>"
      ]
     },
     "metadata": {},
     "output_type": "display_data"
    }
   ],
   "source": [
    "fig = px.line(df)\n",
    "fig.show()\n",
    "fig = px.line(fc)\n",
    "fig.show()"
   ]
  },
  {
   "cell_type": "code",
   "execution_count": 97,
   "id": "953fe95c",
   "metadata": {},
   "outputs": [
    {
     "data": {
      "text/html": [
       "<div>\n",
       "<style scoped>\n",
       "    .dataframe tbody tr th:only-of-type {\n",
       "        vertical-align: middle;\n",
       "    }\n",
       "\n",
       "    .dataframe tbody tr th {\n",
       "        vertical-align: top;\n",
       "    }\n",
       "\n",
       "    .dataframe thead th {\n",
       "        text-align: right;\n",
       "    }\n",
       "</style>\n",
       "<table border=\"1\" class=\"dataframe\">\n",
       "  <thead>\n",
       "    <tr style=\"text-align: right;\">\n",
       "      <th></th>\n",
       "      <th>0</th>\n",
       "    </tr>\n",
       "  </thead>\n",
       "  <tbody>\n",
       "    <tr>\n",
       "      <th>0</th>\n",
       "      <td>2250.582228</td>\n",
       "    </tr>\n",
       "    <tr>\n",
       "      <th>1</th>\n",
       "      <td>2252.698248</td>\n",
       "    </tr>\n",
       "    <tr>\n",
       "      <th>2</th>\n",
       "      <td>2254.715802</td>\n",
       "    </tr>\n",
       "    <tr>\n",
       "      <th>3</th>\n",
       "      <td>2256.723984</td>\n",
       "    </tr>\n",
       "    <tr>\n",
       "      <th>4</th>\n",
       "      <td>2258.731940</td>\n",
       "    </tr>\n",
       "    <tr>\n",
       "      <th>...</th>\n",
       "      <td>...</td>\n",
       "    </tr>\n",
       "    <tr>\n",
       "      <th>95</th>\n",
       "      <td>2444.884111</td>\n",
       "    </tr>\n",
       "    <tr>\n",
       "      <th>96</th>\n",
       "      <td>2446.967530</td>\n",
       "    </tr>\n",
       "    <tr>\n",
       "      <th>97</th>\n",
       "      <td>2449.051771</td>\n",
       "    </tr>\n",
       "    <tr>\n",
       "      <th>98</th>\n",
       "      <td>2451.136834</td>\n",
       "    </tr>\n",
       "    <tr>\n",
       "      <th>99</th>\n",
       "      <td>2453.222718</td>\n",
       "    </tr>\n",
       "  </tbody>\n",
       "</table>\n",
       "<p>100 rows × 1 columns</p>\n",
       "</div>"
      ],
      "text/plain": [
       "              0\n",
       "0   2250.582228\n",
       "1   2252.698248\n",
       "2   2254.715802\n",
       "3   2256.723984\n",
       "4   2258.731940\n",
       "..          ...\n",
       "95  2444.884111\n",
       "96  2446.967530\n",
       "97  2449.051771\n",
       "98  2451.136834\n",
       "99  2453.222718\n",
       "\n",
       "[100 rows x 1 columns]"
      ]
     },
     "execution_count": 97,
     "metadata": {},
     "output_type": "execute_result"
    }
   ],
   "source": [
    "dffc= pd.DataFrame(data=fc)\n",
    "dffc"
   ]
  },
  {
   "cell_type": "code",
   "execution_count": null,
   "id": "ff488a5e",
   "metadata": {},
   "outputs": [],
   "source": []
  },
  {
   "cell_type": "code",
   "execution_count": null,
   "id": "e73fb413",
   "metadata": {},
   "outputs": [],
   "source": []
  },
  {
   "cell_type": "code",
   "execution_count": null,
   "id": "293577b1",
   "metadata": {},
   "outputs": [],
   "source": []
  },
  {
   "cell_type": "code",
   "execution_count": null,
   "id": "2c961774",
   "metadata": {},
   "outputs": [],
   "source": []
  },
  {
   "cell_type": "code",
   "execution_count": null,
   "id": "ce23afbc",
   "metadata": {},
   "outputs": [],
   "source": []
  },
  {
   "cell_type": "code",
   "execution_count": null,
   "id": "ad946505",
   "metadata": {},
   "outputs": [],
   "source": []
  },
  {
   "cell_type": "code",
   "execution_count": null,
   "id": "e10ff437",
   "metadata": {},
   "outputs": [],
   "source": []
  },
  {
   "cell_type": "code",
   "execution_count": null,
   "id": "f77c76e3",
   "metadata": {},
   "outputs": [],
   "source": []
  },
  {
   "cell_type": "code",
   "execution_count": null,
   "id": "67282c17",
   "metadata": {},
   "outputs": [],
   "source": []
  },
  {
   "cell_type": "code",
   "execution_count": null,
   "id": "1b944465",
   "metadata": {},
   "outputs": [],
   "source": []
  }
 ],
 "metadata": {
  "kernelspec": {
   "display_name": "Python 3",
   "language": "python",
   "name": "python3"
  },
  "language_info": {
   "codemirror_mode": {
    "name": "ipython",
    "version": 3
   },
   "file_extension": ".py",
   "mimetype": "text/x-python",
   "name": "python",
   "nbconvert_exporter": "python",
   "pygments_lexer": "ipython3",
   "version": "3.8.8"
  }
 },
 "nbformat": 4,
 "nbformat_minor": 5
}
