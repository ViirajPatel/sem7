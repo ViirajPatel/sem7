{
 "cells": [
  {
   "cell_type": "code",
   "execution_count": 158,
   "id": "5fb6139a",
   "metadata": {},
   "outputs": [],
   "source": [
    "import pandas as pd \n",
    "import numpy as np \n",
    "import os \n",
    "import matplotlib.pyplot as plt\n",
    "import time\n",
    "import yfinance as yf"
   ]
  },
  {
   "cell_type": "code",
   "execution_count": 159,
   "id": "9e066846",
   "metadata": {},
   "outputs": [],
   "source": [
    "df = pd.read_csv(\"BAJFINANCE.csv\")"
   ]
  },
  {
   "cell_type": "code",
   "execution_count": 160,
   "id": "0acb33a8",
   "metadata": {},
   "outputs": [
    {
     "data": {
      "text/html": [
       "<div>\n",
       "<style scoped>\n",
       "    .dataframe tbody tr th:only-of-type {\n",
       "        vertical-align: middle;\n",
       "    }\n",
       "\n",
       "    .dataframe tbody tr th {\n",
       "        vertical-align: top;\n",
       "    }\n",
       "\n",
       "    .dataframe thead th {\n",
       "        text-align: right;\n",
       "    }\n",
       "</style>\n",
       "<table border=\"1\" class=\"dataframe\">\n",
       "  <thead>\n",
       "    <tr style=\"text-align: right;\">\n",
       "      <th></th>\n",
       "      <th>Date</th>\n",
       "      <th>Open</th>\n",
       "      <th>High</th>\n",
       "      <th>Low</th>\n",
       "      <th>Close</th>\n",
       "      <th>Adj Close</th>\n",
       "      <th>Volume</th>\n",
       "    </tr>\n",
       "  </thead>\n",
       "  <tbody>\n",
       "    <tr>\n",
       "      <th>0</th>\n",
       "      <td>2016-11-17</td>\n",
       "      <td>903.500000</td>\n",
       "      <td>903.500000</td>\n",
       "      <td>860.00</td>\n",
       "      <td>871.150024</td>\n",
       "      <td>862.519653</td>\n",
       "      <td>1929384</td>\n",
       "    </tr>\n",
       "    <tr>\n",
       "      <th>1</th>\n",
       "      <td>2016-11-18</td>\n",
       "      <td>872.000000</td>\n",
       "      <td>901.450012</td>\n",
       "      <td>865.00</td>\n",
       "      <td>878.400024</td>\n",
       "      <td>869.697815</td>\n",
       "      <td>1647276</td>\n",
       "    </tr>\n",
       "    <tr>\n",
       "      <th>2</th>\n",
       "      <td>2016-11-21</td>\n",
       "      <td>891.450012</td>\n",
       "      <td>891.450012</td>\n",
       "      <td>815.50</td>\n",
       "      <td>832.200012</td>\n",
       "      <td>823.955566</td>\n",
       "      <td>2076791</td>\n",
       "    </tr>\n",
       "    <tr>\n",
       "      <th>3</th>\n",
       "      <td>2016-11-22</td>\n",
       "      <td>850.049988</td>\n",
       "      <td>863.000000</td>\n",
       "      <td>830.25</td>\n",
       "      <td>858.000000</td>\n",
       "      <td>849.499878</td>\n",
       "      <td>1434086</td>\n",
       "    </tr>\n",
       "    <tr>\n",
       "      <th>4</th>\n",
       "      <td>2016-11-23</td>\n",
       "      <td>871.000000</td>\n",
       "      <td>871.450012</td>\n",
       "      <td>844.50</td>\n",
       "      <td>850.250000</td>\n",
       "      <td>841.826782</td>\n",
       "      <td>1161595</td>\n",
       "    </tr>\n",
       "  </tbody>\n",
       "</table>\n",
       "</div>"
      ],
      "text/plain": [
       "         Date        Open        High     Low       Close   Adj Close   Volume\n",
       "0  2016-11-17  903.500000  903.500000  860.00  871.150024  862.519653  1929384\n",
       "1  2016-11-18  872.000000  901.450012  865.00  878.400024  869.697815  1647276\n",
       "2  2016-11-21  891.450012  891.450012  815.50  832.200012  823.955566  2076791\n",
       "3  2016-11-22  850.049988  863.000000  830.25  858.000000  849.499878  1434086\n",
       "4  2016-11-23  871.000000  871.450012  844.50  850.250000  841.826782  1161595"
      ]
     },
     "execution_count": 160,
     "metadata": {},
     "output_type": "execute_result"
    }
   ],
   "source": [
    "df.head()"
   ]
  },
  {
   "cell_type": "code",
   "execution_count": 161,
   "id": "7e084a79",
   "metadata": {},
   "outputs": [
    {
     "data": {
      "text/html": [
       "<div>\n",
       "<style scoped>\n",
       "    .dataframe tbody tr th:only-of-type {\n",
       "        vertical-align: middle;\n",
       "    }\n",
       "\n",
       "    .dataframe tbody tr th {\n",
       "        vertical-align: top;\n",
       "    }\n",
       "\n",
       "    .dataframe thead th {\n",
       "        text-align: right;\n",
       "    }\n",
       "</style>\n",
       "<table border=\"1\" class=\"dataframe\">\n",
       "  <thead>\n",
       "    <tr style=\"text-align: right;\">\n",
       "      <th></th>\n",
       "      <th>Date</th>\n",
       "      <th>Open</th>\n",
       "      <th>High</th>\n",
       "      <th>Low</th>\n",
       "      <th>Close</th>\n",
       "      <th>Adj Close</th>\n",
       "      <th>Volume</th>\n",
       "    </tr>\n",
       "  </thead>\n",
       "  <tbody>\n",
       "    <tr>\n",
       "      <th>1229</th>\n",
       "      <td>2021-11-11</td>\n",
       "      <td>7570.200195</td>\n",
       "      <td>7600.950195</td>\n",
       "      <td>7410.00</td>\n",
       "      <td>7452.700195</td>\n",
       "      <td>7452.700195</td>\n",
       "      <td>634400</td>\n",
       "    </tr>\n",
       "    <tr>\n",
       "      <th>1230</th>\n",
       "      <td>2021-11-12</td>\n",
       "      <td>7500.000000</td>\n",
       "      <td>7600.250000</td>\n",
       "      <td>7453.00</td>\n",
       "      <td>7579.100098</td>\n",
       "      <td>7579.100098</td>\n",
       "      <td>497128</td>\n",
       "    </tr>\n",
       "    <tr>\n",
       "      <th>1231</th>\n",
       "      <td>2021-11-15</td>\n",
       "      <td>7579.000000</td>\n",
       "      <td>7627.450195</td>\n",
       "      <td>7490.00</td>\n",
       "      <td>7534.250000</td>\n",
       "      <td>7534.250000</td>\n",
       "      <td>402518</td>\n",
       "    </tr>\n",
       "    <tr>\n",
       "      <th>1232</th>\n",
       "      <td>2021-11-16</td>\n",
       "      <td>7525.000000</td>\n",
       "      <td>7650.000000</td>\n",
       "      <td>7500.75</td>\n",
       "      <td>7555.700195</td>\n",
       "      <td>7555.700195</td>\n",
       "      <td>598049</td>\n",
       "    </tr>\n",
       "    <tr>\n",
       "      <th>1233</th>\n",
       "      <td>2021-11-17</td>\n",
       "      <td>7528.000000</td>\n",
       "      <td>7692.000000</td>\n",
       "      <td>7521.25</td>\n",
       "      <td>7607.649902</td>\n",
       "      <td>7607.649902</td>\n",
       "      <td>645376</td>\n",
       "    </tr>\n",
       "  </tbody>\n",
       "</table>\n",
       "</div>"
      ],
      "text/plain": [
       "            Date         Open         High      Low        Close    Adj Close  \\\n",
       "1229  2021-11-11  7570.200195  7600.950195  7410.00  7452.700195  7452.700195   \n",
       "1230  2021-11-12  7500.000000  7600.250000  7453.00  7579.100098  7579.100098   \n",
       "1231  2021-11-15  7579.000000  7627.450195  7490.00  7534.250000  7534.250000   \n",
       "1232  2021-11-16  7525.000000  7650.000000  7500.75  7555.700195  7555.700195   \n",
       "1233  2021-11-17  7528.000000  7692.000000  7521.25  7607.649902  7607.649902   \n",
       "\n",
       "      Volume  \n",
       "1229  634400  \n",
       "1230  497128  \n",
       "1231  402518  \n",
       "1232  598049  \n",
       "1233  645376  "
      ]
     },
     "execution_count": 161,
     "metadata": {},
     "output_type": "execute_result"
    }
   ],
   "source": [
    "df.tail()"
   ]
  },
  {
   "cell_type": "code",
   "execution_count": 162,
   "id": "7840d9fd",
   "metadata": {},
   "outputs": [],
   "source": [
    "df= df[\"High\"].copy()"
   ]
  },
  {
   "cell_type": "code",
   "execution_count": 163,
   "id": "a7ed71bf",
   "metadata": {},
   "outputs": [
    {
     "data": {
      "text/plain": [
       "0        903.500000\n",
       "1        901.450012\n",
       "2        891.450012\n",
       "3        863.000000\n",
       "4        871.450012\n",
       "           ...     \n",
       "1229    7600.950195\n",
       "1230    7600.250000\n",
       "1231    7627.450195\n",
       "1232    7650.000000\n",
       "1233    7692.000000\n",
       "Name: High, Length: 1234, dtype: float64"
      ]
     },
     "execution_count": 163,
     "metadata": {},
     "output_type": "execute_result"
    }
   ],
   "source": [
    "df"
   ]
  },
  {
   "cell_type": "code",
   "execution_count": 164,
   "id": "bdc8f6a4",
   "metadata": {},
   "outputs": [],
   "source": [
    "df_new=df"
   ]
  },
  {
   "cell_type": "code",
   "execution_count": 165,
   "id": "2c29355c",
   "metadata": {},
   "outputs": [],
   "source": [
    "df = df_new[:-100]"
   ]
  },
  {
   "cell_type": "code",
   "execution_count": 166,
   "id": "04df3723",
   "metadata": {},
   "outputs": [
    {
     "data": {
      "text/plain": [
       "count    1134.000000\n",
       "mean     2899.110667\n",
       "std      1337.838709\n",
       "min       784.799988\n",
       "25%      1807.125000\n",
       "50%      2653.250000\n",
       "75%      3686.000000\n",
       "max      6249.000000\n",
       "Name: High, dtype: float64"
      ]
     },
     "execution_count": 166,
     "metadata": {},
     "output_type": "execute_result"
    }
   ],
   "source": [
    "df.describe()"
   ]
  },
  {
   "cell_type": "code",
   "execution_count": 167,
   "id": "9a65091b",
   "metadata": {},
   "outputs": [],
   "source": [
    "n = int(len(df)*0.8)\n",
    "train = df[:n]\n",
    "test = df[n:]"
   ]
  },
  {
   "cell_type": "code",
   "execution_count": 168,
   "id": "3dcc2ddc",
   "metadata": {},
   "outputs": [
    {
     "name": "stdout",
     "output_type": "stream",
     "text": [
      "907\n",
      "227\n"
     ]
    }
   ],
   "source": [
    "print(len(train))\n",
    "print(len(test))"
   ]
  },
  {
   "cell_type": "code",
   "execution_count": 169,
   "id": "841da8c8",
   "metadata": {},
   "outputs": [],
   "source": [
    "from statsmodels.tsa.arima_model import ARIMA"
   ]
  },
  {
   "cell_type": "code",
   "execution_count": 206,
   "id": "d59d44ab",
   "metadata": {},
   "outputs": [
    {
     "name": "stderr",
     "output_type": "stream",
     "text": [
      "C:\\ProgramData\\Anaconda3\\lib\\site-packages\\statsmodels\\tsa\\arima_model.py:472: FutureWarning:\n",
      "\n",
      "\n",
      "statsmodels.tsa.arima_model.ARMA and statsmodels.tsa.arima_model.ARIMA have\n",
      "been deprecated in favor of statsmodels.tsa.arima.model.ARIMA (note the .\n",
      "between arima and model) and\n",
      "statsmodels.tsa.SARIMAX. These will be removed after the 0.12 release.\n",
      "\n",
      "statsmodels.tsa.arima.model.ARIMA makes use of the statespace framework and\n",
      "is both well tested and maintained.\n",
      "\n",
      "To silence this warning and continue using ARMA and ARIMA until they are\n",
      "removed, use:\n",
      "\n",
      "import warnings\n",
      "warnings.filterwarnings('ignore', 'statsmodels.tsa.arima_model.ARMA',\n",
      "                        FutureWarning)\n",
      "warnings.filterwarnings('ignore', 'statsmodels.tsa.arima_model.ARIMA',\n",
      "                        FutureWarning)\n",
      "\n",
      "\n",
      "C:\\ProgramData\\Anaconda3\\lib\\site-packages\\statsmodels\\tsa\\arima_model.py:472: FutureWarning:\n",
      "\n",
      "\n",
      "statsmodels.tsa.arima_model.ARMA and statsmodels.tsa.arima_model.ARIMA have\n",
      "been deprecated in favor of statsmodels.tsa.arima.model.ARIMA (note the .\n",
      "between arima and model) and\n",
      "statsmodels.tsa.SARIMAX. These will be removed after the 0.12 release.\n",
      "\n",
      "statsmodels.tsa.arima.model.ARIMA makes use of the statespace framework and\n",
      "is both well tested and maintained.\n",
      "\n",
      "To silence this warning and continue using ARMA and ARIMA until they are\n",
      "removed, use:\n",
      "\n",
      "import warnings\n",
      "warnings.filterwarnings('ignore', 'statsmodels.tsa.arima_model.ARMA',\n",
      "                        FutureWarning)\n",
      "warnings.filterwarnings('ignore', 'statsmodels.tsa.arima_model.ARIMA',\n",
      "                        FutureWarning)\n",
      "\n",
      "\n"
     ]
    }
   ],
   "source": [
    "model = ARIMA(df, order=(1,1,1))\n",
    "result = model.fit(disp=0)"
   ]
  },
  {
   "cell_type": "code",
   "execution_count": 207,
   "id": "57355c3f",
   "metadata": {},
   "outputs": [
    {
     "data": {
      "text/html": [
       "<table class=\"simpletable\">\n",
       "<caption>ARIMA Model Results</caption>\n",
       "<tr>\n",
       "  <th>Dep. Variable:</th>      <td>D.High</td>      <th>  No. Observations:  </th>   <td>1133</td>   \n",
       "</tr>\n",
       "<tr>\n",
       "  <th>Model:</th>          <td>ARIMA(1, 1, 1)</td>  <th>  Log Likelihood     </th> <td>-6386.457</td>\n",
       "</tr>\n",
       "<tr>\n",
       "  <th>Method:</th>             <td>css-mle</td>     <th>  S.D. of innovations</th>  <td>67.885</td>  \n",
       "</tr>\n",
       "<tr>\n",
       "  <th>Date:</th>          <td>Wed, 17 Nov 2021</td> <th>  AIC                </th> <td>12780.915</td>\n",
       "</tr>\n",
       "<tr>\n",
       "  <th>Time:</th>              <td>22:57:12</td>     <th>  BIC                </th> <td>12801.045</td>\n",
       "</tr>\n",
       "<tr>\n",
       "  <th>Sample:</th>                <td>1</td>        <th>  HQIC               </th> <td>12788.519</td>\n",
       "</tr>\n",
       "<tr>\n",
       "  <th></th>                       <td> </td>        <th>                     </th>     <td> </td>    \n",
       "</tr>\n",
       "</table>\n",
       "<table class=\"simpletable\">\n",
       "<tr>\n",
       "        <td></td>          <th>coef</th>     <th>std err</th>      <th>z</th>      <th>P>|z|</th>  <th>[0.025</th>    <th>0.975]</th>  \n",
       "</tr>\n",
       "<tr>\n",
       "  <th>const</th>        <td>    4.6739</td> <td>    2.454</td> <td>    1.904</td> <td> 0.057</td> <td>   -0.136</td> <td>    9.484</td>\n",
       "</tr>\n",
       "<tr>\n",
       "  <th>ar.L1.D.High</th> <td>    0.0902</td> <td>    0.138</td> <td>    0.655</td> <td> 0.513</td> <td>   -0.180</td> <td>    0.360</td>\n",
       "</tr>\n",
       "<tr>\n",
       "  <th>ma.L1.D.High</th> <td>    0.1073</td> <td>    0.137</td> <td>    0.783</td> <td> 0.434</td> <td>   -0.161</td> <td>    0.376</td>\n",
       "</tr>\n",
       "</table>\n",
       "<table class=\"simpletable\">\n",
       "<caption>Roots</caption>\n",
       "<tr>\n",
       "    <td></td>   <th>            Real</th>  <th>         Imaginary</th> <th>         Modulus</th>  <th>        Frequency</th>\n",
       "</tr>\n",
       "<tr>\n",
       "  <th>AR.1</th> <td>          11.0824</td> <td>          +0.0000j</td> <td>          11.0824</td> <td>           0.0000</td>\n",
       "</tr>\n",
       "<tr>\n",
       "  <th>MA.1</th> <td>          -9.3206</td> <td>          +0.0000j</td> <td>           9.3206</td> <td>           0.5000</td>\n",
       "</tr>\n",
       "</table>"
      ],
      "text/plain": [
       "<class 'statsmodels.iolib.summary.Summary'>\n",
       "\"\"\"\n",
       "                             ARIMA Model Results                              \n",
       "==============================================================================\n",
       "Dep. Variable:                 D.High   No. Observations:                 1133\n",
       "Model:                 ARIMA(1, 1, 1)   Log Likelihood               -6386.457\n",
       "Method:                       css-mle   S.D. of innovations             67.885\n",
       "Date:                Wed, 17 Nov 2021   AIC                          12780.915\n",
       "Time:                        22:57:12   BIC                          12801.045\n",
       "Sample:                             1   HQIC                         12788.519\n",
       "                                                                              \n",
       "================================================================================\n",
       "                   coef    std err          z      P>|z|      [0.025      0.975]\n",
       "--------------------------------------------------------------------------------\n",
       "const            4.6739      2.454      1.904      0.057      -0.136       9.484\n",
       "ar.L1.D.High     0.0902      0.138      0.655      0.513      -0.180       0.360\n",
       "ma.L1.D.High     0.1073      0.137      0.783      0.434      -0.161       0.376\n",
       "                                    Roots                                    \n",
       "=============================================================================\n",
       "                  Real          Imaginary           Modulus         Frequency\n",
       "-----------------------------------------------------------------------------\n",
       "AR.1           11.0824           +0.0000j           11.0824            0.0000\n",
       "MA.1           -9.3206           +0.0000j            9.3206            0.5000\n",
       "-----------------------------------------------------------------------------\n",
       "\"\"\""
      ]
     },
     "execution_count": 207,
     "metadata": {},
     "output_type": "execute_result"
    }
   ],
   "source": [
    "result.summary()"
   ]
  },
  {
   "cell_type": "code",
   "execution_count": 208,
   "id": "c1e13c23",
   "metadata": {},
   "outputs": [],
   "source": [
    "step = 100 \n",
    "fc , se, conf = result.forecast(step )"
   ]
  },
  {
   "cell_type": "code",
   "execution_count": 209,
   "id": "e22931c1",
   "metadata": {},
   "outputs": [
    {
     "data": {
      "text/plain": [
       "array([6203.86605309, 6209.45964438, 6214.21654917, 6218.89795682,\n",
       "       6223.57255211, 6228.24653269, 6232.9204578 , 6237.59437791,\n",
       "       6242.26829757, 6246.94221719, 6251.6161368 , 6256.29005641,\n",
       "       6260.96397603, 6265.63789564, 6270.31181525, 6274.98573487,\n",
       "       6279.65965448, 6284.33357409, 6289.0074937 , 6293.68141332,\n",
       "       6298.35533293, 6303.02925254, 6307.70317215, 6312.37709177,\n",
       "       6317.05101138, 6321.72493099, 6326.39885061, 6331.07277022,\n",
       "       6335.74668983, 6340.42060944, 6345.09452906, 6349.76844867,\n",
       "       6354.44236828, 6359.11628789, 6363.79020751, 6368.46412712,\n",
       "       6373.13804673, 6377.81196635, 6382.48588596, 6387.15980557,\n",
       "       6391.83372518, 6396.5076448 , 6401.18156441, 6405.85548402,\n",
       "       6410.52940364, 6415.20332325, 6419.87724286, 6424.55116247,\n",
       "       6429.22508209, 6433.8990017 , 6438.57292131, 6443.24684092,\n",
       "       6447.92076054, 6452.59468015, 6457.26859976, 6461.94251938,\n",
       "       6466.61643899, 6471.2903586 , 6475.96427821, 6480.63819783,\n",
       "       6485.31211744, 6489.98603705, 6494.65995667, 6499.33387628,\n",
       "       6504.00779589, 6508.6817155 , 6513.35563512, 6518.02955473,\n",
       "       6522.70347434, 6527.37739395, 6532.05131357, 6536.72523318,\n",
       "       6541.39915279, 6546.07307241, 6550.74699202, 6555.42091163,\n",
       "       6560.09483124, 6564.76875086, 6569.44267047, 6574.11659008,\n",
       "       6578.7905097 , 6583.46442931, 6588.13834892, 6592.81226853,\n",
       "       6597.48618815, 6602.16010776, 6606.83402737, 6611.50794698,\n",
       "       6616.1818666 , 6620.85578621, 6625.52970582, 6630.20362544,\n",
       "       6634.87754505, 6639.55146466, 6644.22538427, 6648.89930389,\n",
       "       6653.5732235 , 6658.24714311, 6662.92106273, 6667.59498234])"
      ]
     },
     "execution_count": 209,
     "metadata": {},
     "output_type": "execute_result"
    }
   ],
   "source": [
    "fc"
   ]
  },
  {
   "cell_type": "code",
   "execution_count": 210,
   "id": "e63603d7",
   "metadata": {},
   "outputs": [
    {
     "data": {
      "text/plain": [
       "array([ 67.88475453, 105.91021217, 134.25269826, 157.63447432,\n",
       "       177.97498636, 196.21852851, 212.90453107, 228.37462417,\n",
       "       242.86127457, 256.53114512, 269.50854931, 281.88914112,\n",
       "       293.74839168, 305.14709133, 316.13506146, 326.75374032,\n",
       "       337.03803428, 347.01767431, 356.71823056, 366.16188462,\n",
       "       375.36802671, 384.35372408, 393.13409283, 401.72259667,\n",
       "       410.13128924, 418.37101255, 426.451561  , 434.38181777,\n",
       "       442.16986933, 449.82310198, 457.34828392, 464.75163533,\n",
       "       472.03888852, 479.21533991, 486.28589506, 493.2551079 ,\n",
       "       500.12721502, 506.90616581, 513.595649  , 520.19911611,\n",
       "       526.7198023 , 533.16074487, 539.5247998 , 545.81465658,\n",
       "       552.03285144, 558.18177935, 564.26370478, 570.28077143,\n",
       "       576.23501108, 582.1283516 , 587.96262421, 593.73957018,\n",
       "       599.46084687, 605.12803328, 610.74263515, 616.30608964,\n",
       "       621.8197696 , 627.28498754, 632.7029993 , 638.07500739,\n",
       "       643.40216412, 648.68557447, 653.9262988 , 659.12535529,\n",
       "       664.28372231, 669.40234049, 674.4821148 , 679.52391637,\n",
       "       684.52858425, 689.49692703, 694.42972439, 699.3277285 ,\n",
       "       704.19166538, 709.02223612, 713.82011813, 718.58596618,\n",
       "       723.32041345, 728.02407258, 732.69753649, 737.34137936,\n",
       "       741.95615736, 746.5424095 , 751.10065831, 755.63141057,\n",
       "       760.13515797, 764.61237769, 769.06353304, 773.48907399,\n",
       "       777.88943772, 782.2650491 , 786.6163212 , 790.94365571,\n",
       "       795.2474434 , 799.52806453, 803.78588922, 808.02127784,\n",
       "       812.23458137, 816.42614173, 820.59629212, 824.74535729])"
      ]
     },
     "execution_count": 210,
     "metadata": {},
     "output_type": "execute_result"
    }
   ],
   "source": [
    "se"
   ]
  },
  {
   "cell_type": "code",
   "execution_count": 211,
   "id": "2939bd02",
   "metadata": {},
   "outputs": [
    {
     "data": {
      "text/plain": [
       "552.0030858138373"
      ]
     },
     "execution_count": 211,
     "metadata": {},
     "output_type": "execute_result"
    }
   ],
   "source": [
    "mse = np.mean(se)\n",
    "mse"
   ]
  },
  {
   "cell_type": "code",
   "execution_count": 212,
   "id": "2457aaf5",
   "metadata": {},
   "outputs": [
    {
     "data": {
      "text/plain": [
       "23.494745919329226"
      ]
     },
     "execution_count": 212,
     "metadata": {},
     "output_type": "execute_result"
    }
   ],
   "source": [
    "rmse = np.sqrt(mse)\n",
    "rmse"
   ]
  },
  {
   "cell_type": "code",
   "execution_count": 213,
   "id": "bba6d554",
   "metadata": {},
   "outputs": [],
   "source": [
    "from sklearn.metrics import r2_score"
   ]
  },
  {
   "cell_type": "code",
   "execution_count": 214,
   "id": "5ebc03f4",
   "metadata": {
    "scrolled": true
   },
   "outputs": [],
   "source": [
    "df_d=df.to_numpy()"
   ]
  },
  {
   "cell_type": "code",
   "execution_count": 215,
   "id": "3e77451c",
   "metadata": {},
   "outputs": [],
   "source": [
    "r2 = r2_score(df_new[-100:], fc)"
   ]
  },
  {
   "cell_type": "code",
   "execution_count": 216,
   "id": "b439ba6b",
   "metadata": {},
   "outputs": [
    {
     "data": {
      "text/plain": [
       "-0.48247290908007456"
      ]
     },
     "execution_count": 216,
     "metadata": {},
     "output_type": "execute_result"
    }
   ],
   "source": [
    "r2"
   ]
  },
  {
   "cell_type": "code",
   "execution_count": 217,
   "id": "b715d5d4",
   "metadata": {},
   "outputs": [
    {
     "data": {
      "text/plain": [
       "1134    6115.000000\n",
       "1135    6108.000000\n",
       "1136    6107.000000\n",
       "1137    6117.700195\n",
       "1138    6137.649902\n",
       "           ...     \n",
       "1229    7600.950195\n",
       "1230    7600.250000\n",
       "1231    7627.450195\n",
       "1232    7650.000000\n",
       "1233    7692.000000\n",
       "Name: High, Length: 100, dtype: float64"
      ]
     },
     "execution_count": 217,
     "metadata": {},
     "output_type": "execute_result"
    }
   ],
   "source": [
    "df_new[-100:]"
   ]
  },
  {
   "cell_type": "code",
   "execution_count": 218,
   "id": "4416b279",
   "metadata": {},
   "outputs": [],
   "source": [
    "df_d=np.concatenate((df_d,fc))"
   ]
  },
  {
   "cell_type": "code",
   "execution_count": 219,
   "id": "e8027a37",
   "metadata": {
    "scrolled": true
   },
   "outputs": [
    {
     "data": {
      "image/png": "[encoded data removed]",
      "text/plain": [
       "<Figure size 432x288 with 1 Axes>"
      ]
     },
     "metadata": {
      "needs_background": "light"
     },
     "output_type": "display_data"
    }
   ],
   "source": [
    "plt.plot(df_d)\n",
    "plt.plot(df)\n",
    "\n",
    "plt.show().s"
   ]
  },
  {
   "cell_type": "code",
   "execution_count": 220,
   "id": "2000f20d",
   "metadata": {},
   "outputs": [],
   "source": [
    "import plotly.express as px"
   ]
  },
  {
   "cell_type": "code",
   "execution_count": 221,
   "id": "689bd267",
   "metadata": {},
   "outputs": [
    {
     "data": {
      "image/png": "[encoded data removed]",
      "text/plain": [
       "<Figure size 432x288 with 1 Axes>"
      ]
     },
     "metadata": {
      "needs_background": "light"
     },
     "output_type": "display_data"
    }
   ],
   "source": [
    "plt.plot(df)\n",
    "plt.plot(fc)\n",
    "plt.show()"
   ]
  },
  {
   "cell_type": "code",
   "execution_count": 222,
   "id": "803d3b47",
   "metadata": {},
   "outputs": [
    {
     "data": {
      "application/vnd.plotly.v1+json": {
       "config": {
        "plotlyServerURL": "https://plot.ly"
       },
       "data": [
        {
         "hovertemplate": "variable=High<br>index=%{x}<br>value=%{y}<extra></extra>",
         "legendgroup": "High",
         "line": {
          "color": "#636efa",
          "dash": "solid"
         },
         "marker": {
          "symbol": "circle"
         },
         "mode": "lines",
         "name": "High",
         "showlegend": true,
         "type": "scattergl",
         "x": [
          0,
          1,
          2,
          3,
          4,
          5,
          6,
          7,
          8,
          9,
          10,
          11,
          12,
          13,
          14,
          15,
          16,
          17,
          18,
          19,
          20,
          21,
          22,
          23,
          24,
          25,
          26,
          27,
          28,
          29,
          30,
          31,
          32,
          33,
          34,
          35,
          36,
          37,
          38,
          39,
          40,
          41,
          42,
          43,
          44,
          45,
          46,
          47,
          48,
          49,
          50,
          51,
          52,
          53,
          54,
          55,
          56,
          57,
          58,
          59,
          60,
          61,
          62,
          63,
          64,
          65,
          66,
          67,
          68,
          69,
          70,
          71,
          72,
          73,
          74,
          75,
          76,
          77,
          78,
          79,
          80,
          81,
          82,
          83,
          84,
          85,
          86,
          87,
          88,
          89,
          90,
          91,
          92,
          93,
          94,
          95,
          96,
          97,
          98,
          99,
          100,
          101,
          102,
          103,
          104,
          105,
          106,
          107,
          108,
          109,
          110,
          111,
          112,
          113,
          114,
          115,
          116,
          117,
          118,
          119,
          120,
          121,
          122,
          123,
          124,
          125,
          126,
          127,
          128,
          129,
          130,
          131,
          132,
          133,
          134,
          135,
          136,
          137,
          138,
          139,
          140,
          141,
          142,
          143,
          144,
          145,
          146,
          147,
          148,
          149,
          150,
          151,
          152,
          153,
          154,
          155,
          156,
          157,
          158,
          159,
          160,
          161,
          162,
          163,
          164,
          165,
          166,
          167,
          168,
          169,
          170,
          171,
          172,
          173,
          174,
          175,
          176,
          177,
          178,
          179,
          180,
          181,
          182,
          183,
          184,
          185,
          186,
          187,
          188,
          189,
          190,
          191,
          192,
          193,
          194,
          195,
          196,
          197,
          198,
          199,
          200,
          201,
          202,
          203,
          204,
          205,
          206,
          207,
          208,
          209,
          210,
          211,
          212,
          213,
          214,
          215,
          216,
          217,
          218,
          219,
          220,
          221,
          222,
          223,
          224,
          225,
          226,
          227,
          228,
          229,
          230,
          231,
          232,
          233,
          234,
          235,
          236,
          237,
          238,
          239,
          240,
          241,
          242,
          243,
          244,
          245,
          246,
          247,
          248,
          249,
          250,
          251,
          252,
          253,
          254,
          255,
          256,
          257,
          258,
          259,
          260,
          261,
          262,
          263,
          264,
          265,
          266,
          267,
          268,
          269,
          270,
          271,
          272,
          273,
          274,
          275,
          276,
          277,
          278,
          279,
          280,
          281,
          282,
          283,
          284,
          285,
          286,
          287,
          288,
          289,
          290,
          291,
          292,
          293,
          294,
          295,
          296,
          297,
          298,
          299,
          300,
          301,
          302,
          303,
          304,
          305,
          306,
          307,
          308,
          309,
          310,
          311,
          312,
          313,
          314,
          315,
          316,
          317,
          318,
          319,
          320,
          321,
          322,
          323,
          324,
          325,
          326,
          327,
          328,
          329,
          330,
          331,
          332,
          333,
          334,
          335,
          336,
          337,
          338,
          339,
          340,
          341,
          342,
          343,
          344,
          345,
          346,
          347,
          348,
          349,
          350,
          351,
          352,
          353,
          354,
          355,
          356,
          357,
          358,
          359,
          360,
          361,
          362,
          363,
          364,
          365,
          366,
          367,
          368,
          369,
          370,
          371,
          372,
          373,
          374,
          375,
          376,
          377,
          378,
          379,
          380,
          381,
          382,
          383,
          384,
          385,
          386,
          387,
          388,
          389,
          390,
          391,
          392,
          393,
          394,
          395,
          396,
          397,
          398,
          399,
          400,
          401,
          402,
          403,
          404,
          405,
          406,
          407,
          408,
          409,
          410,
          411,
          412,
          413,
          414,
          415,
          416,
          417,
          418,
          419,
          420,
          421,
          422,
          423,
          424,
          425,
          426,
          427,
          428,
          429,
          430,
          431,
          432,
          433,
          434,
          435,
          436,
          437,
          438,
          439,
          440,
          441,
          442,
          443,
          444,
          445,
          446,
          447,
          448,
          449,
          450,
          451,
          452,
          453,
          454,
          455,
          456,
          457,
          458,
          459,
          460,
          461,
          462,
          463,
          464,
          465,
          466,
          467,
          468,
          469,
          470,
          471,
          472,
          473,
          474,
          475,
          476,
          477,
          478,
          479,
          480,
          481,
          482,
          483,
          484,
          485,
          486,
          487,
          488,
          489,
          490,
          491,
          492,
          493,
          494,
          495,
          496,
          497,
          498,
          499,
          500,
          501,
          502,
          503,
          504,
          505,
          506,
          507,
          508,
          509,
          510,
          511,
          512,
          513,
          514,
          515,
          516,
          517,
          518,
          519,
          520,
          521,
          522,
          523,
          524,
          525,
          526,
          527,
          528,
          529,
          530,
          531,
          532,
          533,
          534,
          535,
          536,
          537,
          538,
          539,
          540,
          541,
          542,
          543,
          544,
          545,
          546,
          547,
          548,
          549,
          550,
          551,
          552,
          553,
          554,
          555,
          556,
          557,
          558,
          559,
          560,
          561,
          562,
          563,
          564,
          565,
          566,
          567,
          568,
          569,
          570,
          571,
          572,
          573,
          574,
          575,
          576,
          577,
          578,
          579,
          580,
          581,
          582,
          583,
          584,
          585,
          586,
          587,
          588,
          589,
          590,
          591,
          592,
          593,
          594,
          595,
          596,
          597,
          598,
          599,
          600,
          601,
          602,
          603,
          604,
          605,
          606,
          607,
          608,
          609,
          610,
          611,
          612,
          613,
          614,
          615,
          616,
          617,
          618,
          619,
          620,
          621,
          622,
          623,
          624,
          625,
          626,
          627,
          628,
          629,
          630,
          631,
          632,
          633,
          634,
          635,
          636,
          637,
          638,
          639,
          640,
          641,
          642,
          643,
          644,
          645,
          646,
          647,
          648,
          649,
          650,
          651,
          652,
          653,
          654,
          655,
          656,
          657,
          658,
          659,
          660,
          661,
          662,
          663,
          664,
          665,
          666,
          667,
          668,
          669,
          670,
          671,
          672,
          673,
          674,
          675,
          676,
          677,
          678,
          679,
          680,
          681,
          682,
          683,
          684,
          685,
          686,
          687,
          688,
          689,
          690,
          691,
          692,
          693,
          694,
          695,
          696,
          697,
          698,
          699,
          700,
          701,
          702,
          703,
          704,
          705,
          706,
          707,
          708,
          709,
          710,
          711,
          712,
          713,
          714,
          715,
          716,
          717,
          718,
          719,
          720,
          721,
          722,
          723,
          724,
          725,
          726,
          727,
          728,
          729,
          730,
          731,
          732,
          733,
          734,
          735,
          736,
          737,
          738,
          739,
          740,
          741,
          742,
          743,
          744,
          745,
          746,
          747,
          748,
          749,
          750,
          751,
          752,
          753,
          754,
          755,
          756,
          757,
          758,
          759,
          760,
          761,
          762,
          763,
          764,
          765,
          766,
          767,
          768,
          769,
          770,
          771,
          772,
          773,
          774,
          775,
          776,
          777,
          778,
          779,
          780,
          781,
          782,
          783,
          784,
          785,
          786,
          787,
          788,
          789,
          790,
          791,
          792,
          793,
          794,
          795,
          796,
          797,
          798,
          799,
          800,
          801,
          802,
          803,
          804,
          805,
          806,
          807,
          808,
          809,
          810,
          811,
          812,
          813,
          814,
          815,
          816,
          817,
          818,
          819,
          820,
          821,
          822,
          823,
          824,
          825,
          826,
          827,
          828,
          829,
          830,
          831,
          832,
          833,
          834,
          835,
          836,
          837,
          838,
          839,
          840,
          841,
          842,
          843,
          844,
          845,
          846,
          847,
          848,
          849,
          850,
          851,
          852,
          853,
          854,
          855,
          856,
          857,
          858,
          859,
          860,
          861,
          862,
          863,
          864,
          865,
          866,
          867,
          868,
          869,
          870,
          871,
          872,
          873,
          874,
          875,
          876,
          877,
          878,
          879,
          880,
          881,
          882,
          883,
          884,
          885,
          886,
          887,
          888,
          889,
          890,
          891,
          892,
          893,
          894,
          895,
          896,
          897,
          898,
          899,
          900,
          901,
          902,
          903,
          904,
          905,
          906,
          907,
          908,
          909,
          910,
          911,
          912,
          913,
          914,
          915,
          916,
          917,
          918,
          919,
          920,
          921,
          922,
          923,
          924,
          925,
          926,
          927,
          928,
          929,
          930,
          931,
          932,
          933,
          934,
          935,
          936,
          937,
          938,
          939,
          940,
          941,
          942,
          943,
          944,
          945,
          946,
          947,
          948,
          949,
          950,
          951,
          952,
          953,
          954,
          955,
          956,
          957,
          958,
          959,
          960,
          961,
          962,
          963,
          964,
          965,
          966,
          967,
          968,
          969,
          970,
          971,
          972,
          973,
          974,
          975,
          976,
          977,
          978,
          979,
          980,
          981,
          982,
          983,
          984,
          985,
          986,
          987,
          988,
          989,
          990,
          991,
          992,
          993,
          994,
          995,
          996,
          997,
          998,
          999,
          1000,
          1001,
          1002,
          1003,
          1004,
          1005,
          1006,
          1007,
          1008,
          1009,
          1010,
          1011,
          1012,
          1013,
          1014,
          1015,
          1016,
          1017,
          1018,
          1019,
          1020,
          1021,
          1022,
          1023,
          1024,
          1025,
          1026,
          1027,
          1028,
          1029,
          1030,
          1031,
          1032,
          1033,
          1034,
          1035,
          1036,
          1037,
          1038,
          1039,
          1040,
          1041,
          1042,
          1043,
          1044,
          1045,
          1046,
          1047,
          1048,
          1049,
          1050,
          1051,
          1052,
          1053,
          1054,
          1055,
          1056,
          1057,
          1058,
          1059,
          1060,
          1061,
          1062,
          1063,
          1064,
          1065,
          1066,
          1067,
          1068,
          1069,
          1070,
          1071,
          1072,
          1073,
          1074,
          1075,
          1076,
          1077,
          1078,
          1079,
          1080,
          1081,
          1082,
          1083,
          1084,
          1085,
          1086,
          1087,
          1088,
          1089,
          1090,
          1091,
          1092,
          1093,
          1094,
          1095,
          1096,
          1097,
          1098,
          1099,
          1100,
          1101,
          1102,
          1103,
          1104,
          1105,
          1106,
          1107,
          1108,
          1109,
          1110,
          1111,
          1112,
          1113,
          1114,
          1115,
          1116,
          1117,
          1118,
          1119,
          1120,
          1121,
          1122,
          1123,
          1124,
          1125,
          1126,
          1127,
          1128,
          1129,
          1130,
          1131,
          1132,
          1133
         ],
         "xaxis": "x",
         "y": [
          903.5,
          901.4500122070312,
          891.4500122070312,
          863,
          871.4500122070312,
          850.8499755859375,
          884,
          899,
          926.2999877929688,
          927.8499755859376,
          929.9000244140624,
          910,
          907.7999877929688,
          923.9000244140624,
          910.75,
          915.9000244140624,
          917.7000122070312,
          896.75,
          843.4000244140625,
          857.8499755859375,
          866.9000244140625,
          863,
          853.2000122070312,
          829.5,
          814.7999877929688,
          784.7999877929688,
          827.9000244140625,
          821.2999877929688,
          827.9000244140625,
          840.9000244140625,
          839.75,
          854.7000122070312,
          873.9000244140625,
          889,
          891,
          903,
          914.9000244140624,
          893.75,
          901.9500122070312,
          909.5,
          909.9500122070312,
          905.5,
          920.0999755859376,
          924.5999755859376,
          938,
          932.2999877929688,
          930,
          931.7000122070312,
          934.9500122070312,
          1006,
          1020,
          1059,
          1072,
          1069.9000244140625,
          1083.949951171875,
          1068,
          1085.5,
          1075,
          1069.4000244140625,
          1061.6500244140625,
          1059,
          1070,
          1069,
          1065,
          1106,
          1118,
          1109.5,
          1105.949951171875,
          1104.1500244140625,
          1099,
          1104,
          1119,
          1128.9000244140625,
          1089.5999755859375,
          1056.9000244140625,
          1056,
          1055.800048828125,
          1084,
          1095,
          1100,
          1135.449951171875,
          1143.199951171875,
          1178,
          1183.699951171875,
          1192.300048828125,
          1184.949951171875,
          1167.949951171875,
          1191.699951171875,
          1198,
          1189,
          1206,
          1205,
          1190.0999755859375,
          1188,
          1189,
          1190,
          1204.050048828125,
          1224,
          1252,
          1274,
          1278,
          1292,
          1282,
          1270.699951171875,
          1252.5,
          1258.5,
          1259.9000244140625,
          1275,
          1349,
          1349.9000244140625,
          1315.8499755859375,
          1295,
          1286.1500244140625,
          1282.800048828125,
          1311.9000244140625,
          1303,
          1286.3499755859375,
          1292.9000244140625,
          1331,
          1344.9000244140625,
          1339,
          1348.5,
          1358.800048828125,
          1374,
          1343,
          1333.9000244140625,
          1304,
          1265,
          1254.9000244140625,
          1268,
          1326.699951171875,
          1333,
          1324.9000244140625,
          1334.9000244140625,
          1339,
          1365,
          1372.6500244140625,
          1367.9000244140625,
          1360,
          1372,
          1382,
          1383,
          1380,
          1375,
          1413,
          1424.8499755859375,
          1421.699951171875,
          1432.9000244140625,
          1426,
          1427,
          1415.5,
          1400,
          1377,
          1394.8499755859375,
          1380,
          1390,
          1408.75,
          1407,
          1413.5,
          1403.5999755859375,
          1415.050048828125,
          1431,
          1452,
          1489.5,
          1508.6500244140625,
          1549.699951171875,
          1545.1500244140625,
          1577.4000244140625,
          1608,
          1631.5,
          1637.300048828125,
          1632.9000244140625,
          1695.75,
          1739.800048828125,
          1710.9000244140625,
          1724,
          1727.9000244140625,
          1726.199951171875,
          1729,
          1730,
          1805.949951171875,
          1829.5,
          1769.9000244140625,
          1689.9000244140625,
          1732.5999755859375,
          1742.3499755859375,
          1730,
          1762.5,
          1722.9000244140625,
          1731,
          1713.5999755859375,
          1784.699951171875,
          1797.699951171875,
          1837.4000244140625,
          1835,
          1819.4000244140625,
          1805.699951171875,
          1807,
          1820,
          1815.300048828125,
          1883,
          1985.9000244140625,
          1974.949951171875,
          1935.449951171875,
          1935,
          1924.699951171875,
          1935.5,
          1912.0999755859373,
          1929.25,
          1928.699951171875,
          1918.8499755859373,
          1926,
          1910,
          1859.949951171875,
          1862.800048828125,
          1859,
          1855,
          1875,
          1873.5,
          1879.949951171875,
          1885.5,
          1934.550048828125,
          1954,
          1959.4000244140625,
          1967,
          1957.75,
          1973.699951171875,
          1967,
          1902,
          1884,
          1872.800048828125,
          1856.9000244140625,
          1848,
          1820,
          1766,
          1828.6500244140625,
          1836.25,
          1824.050048828125,
          1819.699951171875,
          1821.9000244140625,
          1845,
          1844.9000244140625,
          1848,
          1804.9000244140625,
          1793.4000244140625,
          1769,
          1759.949951171875,
          1769.9000244140625,
          1763.949951171875,
          1780.199951171875,
          1817,
          1807.5,
          1822.75,
          1816.699951171875,
          1782.449951171875,
          1798.300048828125,
          1784.300048828125,
          1783.949951171875,
          1777.949951171875,
          1759.4000244140625,
          1741.800048828125,
          1724,
          1719,
          1714.9000244140625,
          1690.1500244140625,
          1708.199951171875,
          1720,
          1716,
          1700.75,
          1698.9000244140625,
          1739.699951171875,
          1773,
          1770.8499755859375,
          1785,
          1774.949951171875,
          1788.4000244140625,
          1795,
          1797.5999755859375,
          1782,
          1765.9000244140625,
          1760,
          1739.699951171875,
          1738.3499755859375,
          1758.25,
          1821,
          1843,
          1843,
          1820.949951171875,
          1798,
          1790.9000244140625,
          1794.9000244140625,
          1745.800048828125,
          1709.8499755859375,
          1717.25,
          1711.25,
          1726,
          1718,
          1746.8499755859375,
          1741.9000244140625,
          1735.25,
          1718.949951171875,
          1690,
          1760,
          1713,
          1627.949951171875,
          1683.75,
          1687,
          1679,
          1655,
          1656,
          1696.949951171875,
          1711.8499755859375,
          1703.949951171875,
          1675,
          1657.699951171875,
          1658,
          1617.5,
          1638,
          1679.800048828125,
          1679.949951171875,
          1659.5999755859375,
          1666,
          1660,
          1671.8499755859375,
          1648.6500244140625,
          1637.9000244140625,
          1667.199951171875,
          1681.9000244140625,
          1698.8499755859375,
          1720.9000244140625,
          1739.9000244140625,
          1724.6500244140625,
          1698.9000244140625,
          1663.0999755859375,
          1712,
          1720,
          1695,
          1748,
          1798,
          1793,
          1825,
          1840,
          1869.5999755859373,
          1922.0999755859373,
          1943.5,
          1967.75,
          1952.449951171875,
          1955,
          1942.0999755859373,
          1948.8499755859373,
          1950,
          1959.9000244140625,
          1950.550048828125,
          1935.5,
          1907.800048828125,
          1919.75,
          1933.25,
          1938.949951171875,
          1915,
          1915.449951171875,
          1924.9000244140625,
          1936.75,
          1906.75,
          1893.25,
          1902,
          1898.5,
          1875.0999755859373,
          1861.449951171875,
          1880.75,
          1883.949951171875,
          1933.5,
          1929,
          2087.800048828125,
          2171.75,
          2149,
          2177.89990234375,
          2148,
          2109.800048828125,
          2151.89990234375,
          2138,
          2107,
          2130,
          2145,
          2120,
          2098.75,
          2119.550048828125,
          2172.89990234375,
          2197.199951171875,
          2219.949951171875,
          2258.5,
          2277,
          2271.60009765625,
          2252,
          2291.550048828125,
          2296,
          2281,
          2302.10009765625,
          2288,
          2342,
          2399,
          2419.14990234375,
          2379.800048828125,
          2348,
          2320,
          2314.699951171875,
          2334,
          2345,
          2349,
          2355,
          2363.199951171875,
          2382,
          2382,
          2429,
          2475,
          2499.39990234375,
          2492.25,
          2523.050048828125,
          2537,
          2745,
          2797,
          2758,
          2778.300048828125,
          2728.39990234375,
          2724.5,
          2722.60009765625,
          2708.89990234375,
          2771.64990234375,
          2726.25,
          2709,
          2707.949951171875,
          2754.5,
          2819.64990234375,
          2846.050048828125,
          2837.39990234375,
          2807.949951171875,
          2837.5,
          2908,
          2885,
          2877.949951171875,
          2883,
          2909,
          2943.39990234375,
          2959,
          2982,
          2994,
          2993.89990234375,
          2954.85009765625,
          2880,
          2777.64990234375,
          2764.800048828125,
          2731.5,
          2751.39990234375,
          2738,
          2668.800048828125,
          2636.949951171875,
          2683.5,
          2660,
          2627.449951171875,
          2597.699951171875,
          2557,
          2422.449951171875,
          2330.35009765625,
          2353.949951171875,
          2323.39990234375,
          2248,
          2233.35009765625,
          2329.949951171875,
          2212,
          2214.60009765625,
          2090,
          2115.85009765625,
          2305.699951171875,
          2230,
          2320,
          2319.75,
          2362,
          2369.25,
          2198,
          2218.949951171875,
          2155.35009765625,
          2339,
          2348,
          2376.800048828125,
          2392,
          2423.89990234375,
          2392,
          2435,
          2474.89990234375,
          2409,
          2389.89990234375,
          2364.5,
          2383.85009765625,
          2385,
          2308.35009765625,
          2315,
          2348,
          2417.199951171875,
          2422.300048828125,
          2392.949951171875,
          2435,
          2454.800048828125,
          2411.89990234375,
          2439.89990234375,
          2449,
          2517.60009765625,
          2564.39990234375,
          2555.550048828125,
          2549,
          2539.89990234375,
          2494,
          2497.75,
          2443.89990234375,
          2446.5,
          2514.89990234375,
          2528.949951171875,
          2512,
          2509.89990234375,
          2538.199951171875,
          2629.10009765625,
          2609.89990234375,
          2623.89990234375,
          2604.85009765625,
          2582.949951171875,
          2626.75,
          2643.800048828125,
          2666.300048828125,
          2664,
          2662,
          2648,
          2611.89990234375,
          2605,
          2582,
          2559.800048828125,
          2542.449951171875,
          2530,
          2552.89990234375,
          2613,
          2612.14990234375,
          2586.550048828125,
          2555,
          2606,
          2635,
          2653,
          2653.5,
          2661,
          2610,
          2570.10009765625,
          2623.699951171875,
          2608,
          2687.89990234375,
          2623.550048828125,
          2642.10009765625,
          2720,
          2731,
          2737.449951171875,
          2724.699951171875,
          2677.14990234375,
          2622,
          2610,
          2561,
          2606.949951171875,
          2614.800048828125,
          2660,
          2674,
          2675,
          2678,
          2696.64990234375,
          2667,
          2674.300048828125,
          2708.35009765625,
          2774.199951171875,
          2782.300048828125,
          2779,
          2807.949951171875,
          2816.64990234375,
          2837.949951171875,
          2835,
          2899,
          2941.10009765625,
          2962.89990234375,
          2934.550048828125,
          2895.5,
          2862,
          2942,
          3014.14990234375,
          3000,
          3046.39990234375,
          3077,
          3089,
          3065,
          3125,
          3130,
          3049.10009765625,
          3037,
          3055,
          3062,
          3033,
          3057.300048828125,
          3046,
          3010,
          3058.5,
          3099,
          3114.39990234375,
          3105,
          3120,
          3148.949951171875,
          3165,
          3094,
          3069.800048828125,
          3017,
          2991.800048828125,
          2996,
          2957.949951171875,
          2941.949951171875,
          3023.25,
          3129,
          3316,
          3444.550048828125,
          3488,
          3459.550048828125,
          3518,
          3475,
          3484.949951171875,
          3468.14990234375,
          3433,
          3489.699951171875,
          3531,
          3529.89990234375,
          3550,
          3533,
          3519,
          3557.75,
          3564,
          3539.949951171875,
          3551,
          3569.800048828125,
          3529.800048828125,
          3530,
          3548,
          3589,
          3599,
          3579.89990234375,
          3586,
          3635,
          3659,
          3693.25,
          3716,
          3720,
          3730.300048828125,
          3749.89990234375,
          3762,
          3724.949951171875,
          3625,
          3599.949951171875,
          3525.64990234375,
          3470,
          3440,
          3464.89990234375,
          3481.75,
          3520,
          3501.25,
          3316,
          3297.35009765625,
          3294,
          3243.39990234375,
          3278,
          3300,
          3299,
          3267.64990234375,
          3261,
          3287.550048828125,
          3199.800048828125,
          3287,
          3325,
          3360,
          3449.60009765625,
          3424,
          3329.89990234375,
          3358.89990234375,
          3379,
          3334.39990234375,
          3321.949951171875,
          3259,
          3200,
          3338.800048828125,
          3398,
          3362.64990234375,
          3330,
          3347,
          3315,
          3274.35009765625,
          3305,
          3388,
          3450,
          3456,
          3429,
          3436,
          3449.949951171875,
          3434,
          3464.5,
          3426.39990234375,
          3750,
          4070,
          4025,
          3998.89990234375,
          4015,
          4085,
          4111.75,
          4089.10009765625,
          4004.949951171875,
          4004,
          3958.25,
          4035,
          4015,
          4015,
          4006.300048828125,
          3916,
          4032,
          4117.2001953125,
          4199,
          4219.85009765625,
          4110,
          4080,
          4063.85009765625,
          4060,
          4074.949951171875,
          4050,
          4110,
          4177.5,
          4255,
          4280,
          4239.2001953125,
          4240,
          4188,
          4175,
          4221,
          4247.25,
          4209.5498046875,
          4182.14990234375,
          4182,
          4160,
          4143.7998046875,
          4149.14990234375,
          4173.9501953125,
          4124.89990234375,
          4139.0498046875,
          4135,
          4077.35009765625,
          3995,
          4004.10009765625,
          4034,
          4027.800048828125,
          3971.449951171875,
          3995,
          4055,
          4065,
          4089.25,
          4087.949951171875,
          4155,
          4158.85009765625,
          4145,
          4145,
          4184,
          4180.7001953125,
          4196.4501953125,
          4260,
          4281.5498046875,
          4266.39990234375,
          4252,
          4295.75,
          4234.7998046875,
          4204,
          4092,
          4060.35009765625,
          4148,
          4185.89990234375,
          4182.25,
          4202.39990234375,
          4220,
          4229.9501953125,
          4242,
          4252.9501953125,
          4186.10009765625,
          4186.5,
          4163.85009765625,
          4205.64990234375,
          4208,
          4249,
          4444,
          4485,
          4420.10009765625,
          4376.89990234375,
          4550,
          4539.9501953125,
          4677.85009765625,
          4686.89990234375,
          4734,
          4785,
          4782.2001953125,
          4800.60009765625,
          4815,
          4798,
          4771.9501953125,
          4887,
          4923.39990234375,
          4876,
          4849.89990234375,
          4837.75,
          4815,
          4640,
          4617.9501953125,
          4474.9501953125,
          4496.7998046875,
          4367.5498046875,
          4238,
          4127.5,
          4118.89990234375,
          3869.949951171875,
          4043.5,
          3833.449951171875,
          3734.699951171875,
          3530,
          3053.050048828125,
          3044,
          2700,
          2568.64990234375,
          2700,
          2936.5,
          3040,
          2414.39990234375,
          2340,
          2286.89990234375,
          2343.699951171875,
          2286,
          2374,
          2566.14990234375,
          2520,
          2368,
          2250,
          2375.89990234375,
          2345.5,
          2210,
          2170,
          2219.10009765625,
          2113.5,
          2085,
          2244.10009765625,
          2375,
          2418.949951171875,
          2202.199951171875,
          2135,
          2131.89990234375,
          2169.85009765625,
          2130,
          2092.699951171875,
          2080,
          2239.949951171875,
          2258.949951171875,
          2136.60009765625,
          2093.449951171875,
          2003.550048828125,
          2060,
          2077.550048828125,
          2007,
          1933.75,
          1946,
          1983,
          1980,
          2226.39990234375,
          2375,
          2496.85009765625,
          2453.64990234375,
          2409,
          2547.699951171875,
          2535,
          2470,
          2459,
          2470,
          2429.949951171875,
          2455.39990234375,
          2425,
          2541.699951171875,
          2714.550048828125,
          2863.60009765625,
          3109.25,
          3125,
          3046,
          3058.800048828125,
          2894.449951171875,
          2936.64990234375,
          2968.699951171875,
          3016,
          2989.449951171875,
          3134.64990234375,
          3419.64990234375,
          3408.800048828125,
          3379.89990234375,
          3395,
          3378,
          3219.800048828125,
          3297.699951171875,
          3215,
          3323,
          3453.949951171875,
          3519.5,
          3340,
          3320,
          3290,
          3280,
          3260,
          3329,
          3324,
          3273,
          3244,
          3260,
          3330,
          3378.800048828125,
          3481.449951171875,
          3556.85009765625,
          3494.550048828125,
          3450,
          3472,
          3448.800048828125,
          3399.5,
          3437.949951171875,
          3465,
          3414.5,
          3440,
          3515,
          3660,
          3707,
          3668.39990234375,
          3688,
          3749.85009765625,
          3674,
          3680,
          3676.75,
          3649.800048828125,
          3629,
          3574.89990234375,
          3493.449951171875,
          3523.449951171875,
          3557.699951171875,
          3575.050048828125,
          3524.199951171875,
          3567.39990234375,
          3517,
          3503.800048828125,
          3467,
          3353.800048828125,
          3344,
          3194.75,
          3167.14990234375,
          3350,
          3372,
          3343.85009765625,
          3460,
          3519,
          3480,
          3400,
          3388,
          3418.449951171875,
          3379.39990234375,
          3340,
          3382.35009765625,
          3370,
          3269.449951171875,
          3294.699951171875,
          3289.5,
          3295,
          3345,
          3356.800048828125,
          3330,
          3465,
          3489.89990234375,
          3432,
          3391,
          3447.39990234375,
          3520,
          3569.949951171875,
          3750,
          3827.300048828125,
          3878.699951171875,
          4243.9501953125,
          4429.5498046875,
          4325,
          4410,
          4503.9501953125,
          4678,
          4785,
          4762.14990234375,
          4869.2998046875,
          4862,
          4825,
          4854,
          4960,
          4952.39990234375,
          4884,
          4890,
          4958,
          4924.9501953125,
          4865,
          4852.85009765625,
          4860,
          4889,
          4914.7001953125,
          5150,
          5225,
          5303.14990234375,
          5284.9501953125,
          5234.7001953125,
          5125,
          5166,
          5218.9501953125,
          5244.7998046875,
          5247,
          5348,
          5372.5,
          5338,
          5324,
          5224.2001953125,
          5168.35009765625,
          5131.5498046875,
          5138.75,
          5110.9501953125,
          5099,
          5074,
          4966.7998046875,
          4927,
          4880,
          4994.9501953125,
          5032.60009765625,
          5225,
          5137,
          5163,
          4945.60009765625,
          4909,
          4950,
          5080,
          5337.9501953125,
          5270,
          5543,
          5627,
          5665,
          5539,
          5502.35009765625,
          5588,
          5618,
          5799,
          5822.2001953125,
          5799,
          5714.75,
          5621.9501953125,
          5538.7001953125,
          5504.64990234375,
          5578.89990234375,
          5619.9501953125,
          5454,
          5369.89990234375,
          5410,
          5573.35009765625,
          5567.14990234375,
          5519.75,
          5493.9501953125,
          5445,
          5561,
          5670,
          5585.64990234375,
          5507,
          5460.39990234375,
          5545,
          5479,
          5497,
          5445,
          5374,
          5300,
          5248,
          5260,
          5218.7998046875,
          5288.5,
          5259,
          5059.4501953125,
          5109,
          5115,
          5010,
          4740,
          4774.89990234375,
          4750,
          4690,
          4504,
          4699,
          4714,
          4759.7998046875,
          4829,
          4889.85009765625,
          5310,
          5525,
          5524.64990234375,
          5580,
          5749.9501953125,
          5700,
          5619.89990234375,
          5613.14990234375,
          5575,
          5458.10009765625,
          5440,
          5405,
          5490,
          5705,
          5722.89990234375,
          5658,
          5695,
          5688,
          5658.7998046875,
          5794.7998046875,
          5782.14990234375,
          5750,
          5664.7001953125,
          5818,
          5845,
          5915,
          6010,
          5843.85009765625,
          5817,
          5795,
          6115,
          6230,
          6249,
          6239.7998046875,
          6160.89990234375,
          6115,
          6148,
          6135,
          6189
         ],
         "yaxis": "y"
        }
       ],
       "layout": {
        "legend": {
         "title": {
          "text": "variable"
         },
         "tracegroupgap": 0
        },
        "margin": {
         "t": 60
        },
        "template": {
         "data": {
          "bar": [
           {
            "error_x": {
             "color": "#2a3f5f"
            },
            "error_y": {
             "color": "#2a3f5f"
            },
            "marker": {
             "line": {
              "color": "#E5ECF6",
              "width": 0.5
             },
             "pattern": {
              "fillmode": "overlay",
              "size": 10,
              "solidity": 0.2
             }
            },
            "type": "bar"
           }
          ],
          "barpolar": [
           {
            "marker": {
             "line": {
              "color": "#E5ECF6",
              "width": 0.5
             },
             "pattern": {
              "fillmode": "overlay",
              "size": 10,
              "solidity": 0.2
             }
            },
            "type": "barpolar"
           }
          ],
          "carpet": [
           {
            "aaxis": {
             "endlinecolor": "#2a3f5f",
             "gridcolor": "white",
             "linecolor": "white",
             "minorgridcolor": "white",
             "startlinecolor": "#2a3f5f"
            },
            "baxis": {
             "endlinecolor": "#2a3f5f",
             "gridcolor": "white",
             "linecolor": "white",
             "minorgridcolor": "white",
             "startlinecolor": "#2a3f5f"
            },
            "type": "carpet"
           }
          ],
          "choropleth": [
           {
            "colorbar": {
             "outlinewidth": 0,
             "ticks": ""
            },
            "type": "choropleth"
           }
          ],
          "contour": [
           {
            "colorbar": {
             "outlinewidth": 0,
             "ticks": ""
            },
            "colorscale": [
             [
              0,
              "#0d0887"
             ],
             [
              0.1111111111111111,
              "#46039f"
             ],
             [
              0.2222222222222222,
              "#7201a8"
             ],
             [
              0.3333333333333333,
              "#9c179e"
             ],
             [
              0.4444444444444444,
              "#bd3786"
             ],
             [
              0.5555555555555556,
              "#d8576b"
             ],
             [
              0.6666666666666666,
              "#ed7953"
             ],
             [
              0.7777777777777778,
              "#fb9f3a"
             ],
             [
              0.8888888888888888,
              "#fdca26"
             ],
             [
              1,
              "#f0f921"
             ]
            ],
            "type": "contour"
           }
          ],
          "contourcarpet": [
           {
            "colorbar": {
             "outlinewidth": 0,
             "ticks": ""
            },
            "type": "contourcarpet"
           }
          ],
          "heatmap": [
           {
            "colorbar": {
             "outlinewidth": 0,
             "ticks": ""
            },
            "colorscale": [
             [
              0,
              "#0d0887"
             ],
             [
              0.1111111111111111,
              "#46039f"
             ],
             [
              0.2222222222222222,
              "#7201a8"
             ],
             [
              0.3333333333333333,
              "#9c179e"
             ],
             [
              0.4444444444444444,
              "#bd3786"
             ],
             [
              0.5555555555555556,
              "#d8576b"
             ],
             [
              0.6666666666666666,
              "#ed7953"
             ],
             [
              0.7777777777777778,
              "#fb9f3a"
             ],
             [
              0.8888888888888888,
              "#fdca26"
             ],
             [
              1,
              "#f0f921"
             ]
            ],
            "type": "heatmap"
           }
          ],
          "heatmapgl": [
           {
            "colorbar": {
             "outlinewidth": 0,
             "ticks": ""
            },
            "colorscale": [
             [
              0,
              "#0d0887"
             ],
             [
              0.1111111111111111,
              "#46039f"
             ],
             [
              0.2222222222222222,
              "#7201a8"
             ],
             [
              0.3333333333333333,
              "#9c179e"
             ],
             [
              0.4444444444444444,
              "#bd3786"
             ],
             [
              0.5555555555555556,
              "#d8576b"
             ],
             [
              0.6666666666666666,
              "#ed7953"
             ],
             [
              0.7777777777777778,
              "#fb9f3a"
             ],
             [
              0.8888888888888888,
              "#fdca26"
             ],
             [
              1,
              "#f0f921"
             ]
            ],
            "type": "heatmapgl"
           }
          ],
          "histogram": [
           {
            "marker": {
             "pattern": {
              "fillmode": "overlay",
              "size": 10,
              "solidity": 0.2
             }
            },
            "type": "histogram"
           }
          ],
          "histogram2d": [
           {
            "colorbar": {
             "outlinewidth": 0,
             "ticks": ""
            },
            "colorscale": [
             [
              0,
              "#0d0887"
             ],
             [
              0.1111111111111111,
              "#46039f"
             ],
             [
              0.2222222222222222,
              "#7201a8"
             ],
             [
              0.3333333333333333,
              "#9c179e"
             ],
             [
              0.4444444444444444,
              "#bd3786"
             ],
             [
              0.5555555555555556,
              "#d8576b"
             ],
             [
              0.6666666666666666,
              "#ed7953"
             ],
             [
              0.7777777777777778,
              "#fb9f3a"
             ],
             [
              0.8888888888888888,
              "#fdca26"
             ],
             [
              1,
              "#f0f921"
             ]
            ],
            "type": "histogram2d"
           }
          ],
          "histogram2dcontour": [
           {
            "colorbar": {
             "outlinewidth": 0,
             "ticks": ""
            },
            "colorscale": [
             [
              0,
              "#0d0887"
             ],
             [
              0.1111111111111111,
              "#46039f"
             ],
             [
              0.2222222222222222,
              "#7201a8"
             ],
             [
              0.3333333333333333,
              "#9c179e"
             ],
             [
              0.4444444444444444,
              "#bd3786"
             ],
             [
              0.5555555555555556,
              "#d8576b"
             ],
             [
              0.6666666666666666,
              "#ed7953"
             ],
             [
              0.7777777777777778,
              "#fb9f3a"
             ],
             [
              0.8888888888888888,
              "#fdca26"
             ],
             [
              1,
              "#f0f921"
             ]
            ],
            "type": "histogram2dcontour"
           }
          ],
          "mesh3d": [
           {
            "colorbar": {
             "outlinewidth": 0,
             "ticks": ""
            },
            "type": "mesh3d"
           }
          ],
          "parcoords": [
           {
            "line": {
             "colorbar": {
              "outlinewidth": 0,
              "ticks": ""
             }
            },
            "type": "parcoords"
           }
          ],
          "pie": [
           {
            "automargin": true,
            "type": "pie"
           }
          ],
          "scatter": [
           {
            "marker": {
             "colorbar": {
              "outlinewidth": 0,
              "ticks": ""
             }
            },
            "type": "scatter"
           }
          ],
          "scatter3d": [
           {
            "line": {
             "colorbar": {
              "outlinewidth": 0,
              "ticks": ""
             }
            },
            "marker": {
             "colorbar": {
              "outlinewidth": 0,
              "ticks": ""
             }
            },
            "type": "scatter3d"
           }
          ],
          "scattercarpet": [
           {
            "marker": {
             "colorbar": {
              "outlinewidth": 0,
              "ticks": ""
             }
            },
            "type": "scattercarpet"
           }
          ],
          "scattergeo": [
           {
            "marker": {
             "colorbar": {
              "outlinewidth": 0,
              "ticks": ""
             }
            },
            "type": "scattergeo"
           }
          ],
          "scattergl": [
           {
            "marker": {
             "colorbar": {
              "outlinewidth": 0,
              "ticks": ""
             }
            },
            "type": "scattergl"
           }
          ],
          "scattermapbox": [
           {
            "marker": {
             "colorbar": {
              "outlinewidth": 0,
              "ticks": ""
             }
            },
            "type": "scattermapbox"
           }
          ],
          "scatterpolar": [
           {
            "marker": {
             "colorbar": {
              "outlinewidth": 0,
              "ticks": ""
             }
            },
            "type": "scatterpolar"
           }
          ],
          "scatterpolargl": [
           {
            "marker": {
             "colorbar": {
              "outlinewidth": 0,
              "ticks": ""
             }
            },
            "type": "scatterpolargl"
           }
          ],
          "scatterternary": [
           {
            "marker": {
             "colorbar": {
              "outlinewidth": 0,
              "ticks": ""
             }
            },
            "type": "scatterternary"
           }
          ],
          "surface": [
           {
            "colorbar": {
             "outlinewidth": 0,
             "ticks": ""
            },
            "colorscale": [
             [
              0,
              "#0d0887"
             ],
             [
              0.1111111111111111,
              "#46039f"
             ],
             [
              0.2222222222222222,
              "#7201a8"
             ],
             [
              0.3333333333333333,
              "#9c179e"
             ],
             [
              0.4444444444444444,
              "#bd3786"
             ],
             [
              0.5555555555555556,
              "#d8576b"
             ],
             [
              0.6666666666666666,
              "#ed7953"
             ],
             [
              0.7777777777777778,
              "#fb9f3a"
             ],
             [
              0.8888888888888888,
              "#fdca26"
             ],
             [
              1,
              "#f0f921"
             ]
            ],
            "type": "surface"
           }
          ],
          "table": [
           {
            "cells": {
             "fill": {
              "color": "#EBF0F8"
             },
             "line": {
              "color": "white"
             }
            },
            "header": {
             "fill": {
              "color": "#C8D4E3"
             },
             "line": {
              "color": "white"
             }
            },
            "type": "table"
           }
          ]
         },
         "layout": {
          "annotationdefaults": {
           "arrowcolor": "#2a3f5f",
           "arrowhead": 0,
           "arrowwidth": 1
          },
          "autotypenumbers": "strict",
          "coloraxis": {
           "colorbar": {
            "outlinewidth": 0,
            "ticks": ""
           }
          },
          "colorscale": {
           "diverging": [
            [
             0,
             "#8e0152"
            ],
            [
             0.1,
             "#c51b7d"
            ],
            [
             0.2,
             "#de77ae"
            ],
            [
             0.3,
             "#f1b6da"
            ],
            [
             0.4,
             "#fde0ef"
            ],
            [
             0.5,
             "#f7f7f7"
            ],
            [
             0.6,
             "#e6f5d0"
            ],
            [
             0.7,
             "#b8e186"
            ],
            [
             0.8,
             "#7fbc41"
            ],
            [
             0.9,
             "#4d9221"
            ],
            [
             1,
             "#276419"
            ]
           ],
           "sequential": [
            [
             0,
             "#0d0887"
            ],
            [
             0.1111111111111111,
             "#46039f"
            ],
            [
             0.2222222222222222,
             "#7201a8"
            ],
            [
             0.3333333333333333,
             "#9c179e"
            ],
            [
             0.4444444444444444,
             "#bd3786"
            ],
            [
             0.5555555555555556,
             "#d8576b"
            ],
            [
             0.6666666666666666,
             "#ed7953"
            ],
            [
             0.7777777777777778,
             "#fb9f3a"
            ],
            [
             0.8888888888888888,
             "#fdca26"
            ],
            [
             1,
             "#f0f921"
            ]
           ],
           "sequentialminus": [
            [
             0,
             "#0d0887"
            ],
            [
             0.1111111111111111,
             "#46039f"
            ],
            [
             0.2222222222222222,
             "#7201a8"
            ],
            [
             0.3333333333333333,
             "#9c179e"
            ],
            [
             0.4444444444444444,
             "#bd3786"
            ],
            [
             0.5555555555555556,
             "#d8576b"
            ],
            [
             0.6666666666666666,
             "#ed7953"
            ],
            [
             0.7777777777777778,
             "#fb9f3a"
            ],
            [
             0.8888888888888888,
             "#fdca26"
            ],
            [
             1,
             "#f0f921"
            ]
           ]
          },
          "colorway": [
           "#636efa",
           "#EF553B",
           "#00cc96",
           "#ab63fa",
           "#FFA15A",
           "#19d3f3",
           "#FF6692",
           "#B6E880",
           "#FF97FF",
           "#FECB52"
          ],
          "font": {
           "color": "#2a3f5f"
          },
          "geo": {
           "bgcolor": "white",
           "lakecolor": "white",
           "landcolor": "#E5ECF6",
           "showlakes": true,
           "showland": true,
           "subunitcolor": "white"
          },
          "hoverlabel": {
           "align": "left"
          },
          "hovermode": "closest",
          "mapbox": {
           "style": "light"
          },
          "paper_bgcolor": "white",
          "plot_bgcolor": "#E5ECF6",
          "polar": {
           "angularaxis": {
            "gridcolor": "white",
            "linecolor": "white",
            "ticks": ""
           },
           "bgcolor": "#E5ECF6",
           "radialaxis": {
            "gridcolor": "white",
            "linecolor": "white",
            "ticks": ""
           }
          },
          "scene": {
           "xaxis": {
            "backgroundcolor": "#E5ECF6",
            "gridcolor": "white",
            "gridwidth": 2,
            "linecolor": "white",
            "showbackground": true,
            "ticks": "",
            "zerolinecolor": "white"
           },
           "yaxis": {
            "backgroundcolor": "#E5ECF6",
            "gridcolor": "white",
            "gridwidth": 2,
            "linecolor": "white",
            "showbackground": true,
            "ticks": "",
            "zerolinecolor": "white"
           },
           "zaxis": {
            "backgroundcolor": "#E5ECF6",
            "gridcolor": "white",
            "gridwidth": 2,
            "linecolor": "white",
            "showbackground": true,
            "ticks": "",
            "zerolinecolor": "white"
           }
          },
          "shapedefaults": {
           "line": {
            "color": "#2a3f5f"
           }
          },
          "ternary": {
           "aaxis": {
            "gridcolor": "white",
            "linecolor": "white",
            "ticks": ""
           },
           "baxis": {
            "gridcolor": "white",
            "linecolor": "white",
            "ticks": ""
           },
           "bgcolor": "#E5ECF6",
           "caxis": {
            "gridcolor": "white",
            "linecolor": "white",
            "ticks": ""
           }
          },
          "title": {
           "x": 0.05
          },
          "xaxis": {
           "automargin": true,
           "gridcolor": "white",
           "linecolor": "white",
           "ticks": "",
           "title": {
            "standoff": 15
           },
           "zerolinecolor": "white",
           "zerolinewidth": 2
          },
          "yaxis": {
           "automargin": true,
           "gridcolor": "white",
           "linecolor": "white",
           "ticks": "",
           "title": {
            "standoff": 15
           },
           "zerolinecolor": "white",
           "zerolinewidth": 2
          }
         }
        },
        "xaxis": {
         "anchor": "y",
         "domain": [
          0,
          1
         ],
         "title": {
          "text": "index"
         }
        },
        "yaxis": {
         "anchor": "x",
         "domain": [
          0,
          1
         ],
         "title": {
          "text": "value"
         }
        }
       }
      },
      "text/html": [
       "<div>                            <div id=\"8391ce08-b4dc-4bea-8574-30ec79a53149\" class=\"plotly-graph-div\" style=\"height:525px; width:100%;\"></div>            <script type=\"text/javascript\">                require([\"plotly\"], function(Plotly) {                    window.PLOTLYENV=window.PLOTLYENV || {};                                    if (document.getElementById(\"8391ce08-b4dc-4bea-8574-30ec79a53149\")) {                    Plotly.newPlot(                        \"8391ce08-b4dc-4bea-8574-30ec79a53149\",                        [{\"hovertemplate\":\"variable=High<br>index=%{x}<br>value=%{y}<extra></extra>\",\"legendgroup\":\"High\",\"line\":{\"color\":\"#636efa\",\"dash\":\"solid\"},\"marker\":{\"symbol\":\"circle\"},\"mode\":\"lines\",\"name\":\"High\",\"showlegend\":true,\"type\":\"scattergl\",\"x\":[0,1,2,3,4,5,6,7,8,9,10,11,12,13,14,15,16,17,18,19,20,21,22,23,24,25,26,27,28,29,30,31,32,33,34,35,36,37,38,39,40,41,42,43,44,45,46,47,48,49,50,51,52,53,54,55,56,57,58,59,60,61,62,63,64,65,66,67,68,69,70,71,72,73,74,75,76,77,78,79,80,81,82,83,84,85,86,87,88,89,90,91,92,93,94,95,96,97,98,99,100,101,102,103,104,105,106,107,108,109,110,111,112,113,114,115,116,117,118,119,120,121,122,123,124,125,126,127,128,129,130,131,132,133,134,135,136,137,138,139,140,141,142,143,144,145,146,147,148,149,150,151,152,153,154,155,156,157,158,159,160,161,162,163,164,165,166,167,168,169,170,171,172,173,174,175,176,177,178,179,180,181,182,183,184,185,186,187,188,189,190,191,192,193,194,195,196,197,198,199,200,201,202,203,204,205,206,207,208,209,210,211,212,213,214,215,216,217,218,219,220,221,222,223,224,225,226,227,228,229,230,231,232,233,234,235,236,237,238,239,240,241,242,243,244,245,246,247,248,249,250,251,252,253,254,255,256,257,258,259,260,261,262,263,264,265,266,267,268,269,270,271,272,273,274,275,276,277,278,279,280,281,282,283,284,285,286,287,288,289,290,291,292,293,294,295,296,297,298,299,300,301,302,303,304,305,306,307,308,309,310,311,312,313,314,315,316,317,318,319,320,321,322,323,324,325,326,327,328,329,330,331,332,333,334,335,336,337,338,339,340,341,342,343,344,345,346,347,348,349,350,351,352,353,354,355,356,357,358,359,360,361,362,363,364,365,366,367,368,369,370,371,372,373,374,375,376,377,378,379,380,381,382,383,384,385,386,387,388,389,390,391,392,393,394,395,396,397,398,399,400,401,402,403,404,405,406,407,408,409,410,411,412,413,414,415,416,417,418,419,420,421,422,423,424,425,426,427,428,429,430,431,432,433,434,435,436,437,438,439,440,441,442,443,444,445,446,447,448,449,450,451,452,453,454,455,456,457,458,459,460,461,462,463,464,465,466,467,468,469,470,471,472,473,474,475,476,477,478,479,480,481,482,483,484,485,486,487,488,489,490,491,492,493,494,495,496,497,498,499,500,501,502,503,504,505,506,507,508,509,510,511,512,513,514,515,516,517,518,519,520,521,522,523,524,525,526,527,528,529,530,531,532,533,534,535,536,537,538,539,540,541,542,543,544,545,546,547,548,549,550,551,552,553,554,555,556,557,558,559,560,561,562,563,564,565,566,567,568,569,570,571,572,573,574,575,576,577,578,579,580,581,582,583,584,585,586,587,588,589,590,591,592,593,594,595,596,597,598,599,600,601,602,603,604,605,606,607,608,609,610,611,612,613,614,615,616,617,618,619,620,621,622,623,624,625,626,627,628,629,630,631,632,633,634,635,636,637,638,639,640,641,642,643,644,645,646,647,648,649,650,651,652,653,654,655,656,657,658,659,660,661,662,663,664,665,666,667,668,669,670,671,672,673,674,675,676,677,678,679,680,681,682,683,684,685,686,687,688,689,690,691,692,693,694,695,696,697,698,699,700,701,702,703,704,705,706,707,708,709,710,711,712,713,714,715,716,717,718,719,720,721,722,723,724,725,726,727,728,729,730,731,732,733,734,735,736,737,738,739,740,741,742,743,744,745,746,747,748,749,750,751,752,753,754,755,756,757,758,759,760,761,762,763,764,765,766,767,768,769,770,771,772,773,774,775,776,777,778,779,780,781,782,783,784,785,786,787,788,789,790,791,792,793,794,795,796,797,798,799,800,801,802,803,804,805,806,807,808,809,810,811,812,813,814,815,816,817,818,819,820,821,822,823,824,825,826,827,828,829,830,831,832,833,834,835,836,837,838,839,840,841,842,843,844,845,846,847,848,849,850,851,852,853,854,855,856,857,858,859,860,861,862,863,864,865,866,867,868,869,870,871,872,873,874,875,876,877,878,879,880,881,882,883,884,885,886,887,888,889,890,891,892,893,894,895,896,897,898,899,900,901,902,903,904,905,906,907,908,909,910,911,912,913,914,915,916,917,918,919,920,921,922,923,924,925,926,927,928,929,930,931,932,933,934,935,936,937,938,939,940,941,942,943,944,945,946,947,948,949,950,951,952,953,954,955,956,957,958,959,960,961,962,963,964,965,966,967,968,969,970,971,972,973,974,975,976,977,978,979,980,981,982,983,984,985,986,987,988,989,990,991,992,993,994,995,996,997,998,999,1000,1001,1002,1003,1004,1005,1006,1007,1008,1009,1010,1011,1012,1013,1014,1015,1016,1017,1018,1019,1020,1021,1022,1023,1024,1025,1026,1027,1028,1029,1030,1031,1032,1033,1034,1035,1036,1037,1038,1039,1040,1041,1042,1043,1044,1045,1046,1047,1048,1049,1050,1051,1052,1053,1054,1055,1056,1057,1058,1059,1060,1061,1062,1063,1064,1065,1066,1067,1068,1069,1070,1071,1072,1073,1074,1075,1076,1077,1078,1079,1080,1081,1082,1083,1084,1085,1086,1087,1088,1089,1090,1091,1092,1093,1094,1095,1096,1097,1098,1099,1100,1101,1102,1103,1104,1105,1106,1107,1108,1109,1110,1111,1112,1113,1114,1115,1116,1117,1118,1119,1120,1121,1122,1123,1124,1125,1126,1127,1128,1129,1130,1131,1132,1133],\"xaxis\":\"x\",\"y\":[903.5,901.4500122070312,891.4500122070312,863.0,871.4500122070312,850.8499755859375,884.0,899.0,926.2999877929688,927.8499755859376,929.9000244140624,910.0,907.7999877929688,923.9000244140624,910.75,915.9000244140624,917.7000122070312,896.75,843.4000244140625,857.8499755859375,866.9000244140625,863.0,853.2000122070312,829.5,814.7999877929688,784.7999877929688,827.9000244140625,821.2999877929688,827.9000244140625,840.9000244140625,839.75,854.7000122070312,873.9000244140625,889.0,891.0,903.0,914.9000244140624,893.75,901.9500122070312,909.5,909.9500122070312,905.5,920.0999755859376,924.5999755859376,938.0,932.2999877929688,930.0,931.7000122070312,934.9500122070312,1006.0,1020.0,1059.0,1072.0,1069.9000244140625,1083.949951171875,1068.0,1085.5,1075.0,1069.4000244140625,1061.6500244140625,1059.0,1070.0,1069.0,1065.0,1106.0,1118.0,1109.5,1105.949951171875,1104.1500244140625,1099.0,1104.0,1119.0,1128.9000244140625,1089.5999755859375,1056.9000244140625,1056.0,1055.800048828125,1084.0,1095.0,1100.0,1135.449951171875,1143.199951171875,1178.0,1183.699951171875,1192.300048828125,1184.949951171875,1167.949951171875,1191.699951171875,1198.0,1189.0,1206.0,1205.0,1190.0999755859375,1188.0,1189.0,1190.0,1204.050048828125,1224.0,1252.0,1274.0,1278.0,1292.0,1282.0,1270.699951171875,1252.5,1258.5,1259.9000244140625,1275.0,1349.0,1349.9000244140625,1315.8499755859375,1295.0,1286.1500244140625,1282.800048828125,1311.9000244140625,1303.0,1286.3499755859375,1292.9000244140625,1331.0,1344.9000244140625,1339.0,1348.5,1358.800048828125,1374.0,1343.0,1333.9000244140625,1304.0,1265.0,1254.9000244140625,1268.0,1326.699951171875,1333.0,1324.9000244140625,1334.9000244140625,1339.0,1365.0,1372.6500244140625,1367.9000244140625,1360.0,1372.0,1382.0,1383.0,1380.0,1375.0,1413.0,1424.8499755859375,1421.699951171875,1432.9000244140625,1426.0,1427.0,1415.5,1400.0,1377.0,1394.8499755859375,1380.0,1390.0,1408.75,1407.0,1413.5,1403.5999755859375,1415.050048828125,1431.0,1452.0,1489.5,1508.6500244140625,1549.699951171875,1545.1500244140625,1577.4000244140625,1608.0,1631.5,1637.300048828125,1632.9000244140625,1695.75,1739.800048828125,1710.9000244140625,1724.0,1727.9000244140625,1726.199951171875,1729.0,1730.0,1805.949951171875,1829.5,1769.9000244140625,1689.9000244140625,1732.5999755859375,1742.3499755859375,1730.0,1762.5,1722.9000244140625,1731.0,1713.5999755859375,1784.699951171875,1797.699951171875,1837.4000244140625,1835.0,1819.4000244140625,1805.699951171875,1807.0,1820.0,1815.300048828125,1883.0,1985.9000244140625,1974.949951171875,1935.449951171875,1935.0,1924.699951171875,1935.5,1912.0999755859373,1929.25,1928.699951171875,1918.8499755859373,1926.0,1910.0,1859.949951171875,1862.800048828125,1859.0,1855.0,1875.0,1873.5,1879.949951171875,1885.5,1934.550048828125,1954.0,1959.4000244140625,1967.0,1957.75,1973.699951171875,1967.0,1902.0,1884.0,1872.800048828125,1856.9000244140625,1848.0,1820.0,1766.0,1828.6500244140625,1836.25,1824.050048828125,1819.699951171875,1821.9000244140625,1845.0,1844.9000244140625,1848.0,1804.9000244140625,1793.4000244140625,1769.0,1759.949951171875,1769.9000244140625,1763.949951171875,1780.199951171875,1817.0,1807.5,1822.75,1816.699951171875,1782.449951171875,1798.300048828125,1784.300048828125,1783.949951171875,1777.949951171875,1759.4000244140625,1741.800048828125,1724.0,1719.0,1714.9000244140625,1690.1500244140625,1708.199951171875,1720.0,1716.0,1700.75,1698.9000244140625,1739.699951171875,1773.0,1770.8499755859375,1785.0,1774.949951171875,1788.4000244140625,1795.0,1797.5999755859375,1782.0,1765.9000244140625,1760.0,1739.699951171875,1738.3499755859375,1758.25,1821.0,1843.0,1843.0,1820.949951171875,1798.0,1790.9000244140625,1794.9000244140625,1745.800048828125,1709.8499755859375,1717.25,1711.25,1726.0,1718.0,1746.8499755859375,1741.9000244140625,1735.25,1718.949951171875,1690.0,1760.0,1713.0,1627.949951171875,1683.75,1687.0,1679.0,1655.0,1656.0,1696.949951171875,1711.8499755859375,1703.949951171875,1675.0,1657.699951171875,1658.0,1617.5,1638.0,1679.800048828125,1679.949951171875,1659.5999755859375,1666.0,1660.0,1671.8499755859375,1648.6500244140625,1637.9000244140625,1667.199951171875,1681.9000244140625,1698.8499755859375,1720.9000244140625,1739.9000244140625,1724.6500244140625,1698.9000244140625,1663.0999755859375,1712.0,1720.0,1695.0,1748.0,1798.0,1793.0,1825.0,1840.0,1869.5999755859373,1922.0999755859373,1943.5,1967.75,1952.449951171875,1955.0,1942.0999755859373,1948.8499755859373,1950.0,1959.9000244140625,1950.550048828125,1935.5,1907.800048828125,1919.75,1933.25,1938.949951171875,1915.0,1915.449951171875,1924.9000244140625,1936.75,1906.75,1893.25,1902.0,1898.5,1875.0999755859373,1861.449951171875,1880.75,1883.949951171875,1933.5,1929.0,2087.800048828125,2171.75,2149.0,2177.89990234375,2148.0,2109.800048828125,2151.89990234375,2138.0,2107.0,2130.0,2145.0,2120.0,2098.75,2119.550048828125,2172.89990234375,2197.199951171875,2219.949951171875,2258.5,2277.0,2271.60009765625,2252.0,2291.550048828125,2296.0,2281.0,2302.10009765625,2288.0,2342.0,2399.0,2419.14990234375,2379.800048828125,2348.0,2320.0,2314.699951171875,2334.0,2345.0,2349.0,2355.0,2363.199951171875,2382.0,2382.0,2429.0,2475.0,2499.39990234375,2492.25,2523.050048828125,2537.0,2745.0,2797.0,2758.0,2778.300048828125,2728.39990234375,2724.5,2722.60009765625,2708.89990234375,2771.64990234375,2726.25,2709.0,2707.949951171875,2754.5,2819.64990234375,2846.050048828125,2837.39990234375,2807.949951171875,2837.5,2908.0,2885.0,2877.949951171875,2883.0,2909.0,2943.39990234375,2959.0,2982.0,2994.0,2993.89990234375,2954.85009765625,2880.0,2777.64990234375,2764.800048828125,2731.5,2751.39990234375,2738.0,2668.800048828125,2636.949951171875,2683.5,2660.0,2627.449951171875,2597.699951171875,2557.0,2422.449951171875,2330.35009765625,2353.949951171875,2323.39990234375,2248.0,2233.35009765625,2329.949951171875,2212.0,2214.60009765625,2090.0,2115.85009765625,2305.699951171875,2230.0,2320.0,2319.75,2362.0,2369.25,2198.0,2218.949951171875,2155.35009765625,2339.0,2348.0,2376.800048828125,2392.0,2423.89990234375,2392.0,2435.0,2474.89990234375,2409.0,2389.89990234375,2364.5,2383.85009765625,2385.0,2308.35009765625,2315.0,2348.0,2417.199951171875,2422.300048828125,2392.949951171875,2435.0,2454.800048828125,2411.89990234375,2439.89990234375,2449.0,2517.60009765625,2564.39990234375,2555.550048828125,2549.0,2539.89990234375,2494.0,2497.75,2443.89990234375,2446.5,2514.89990234375,2528.949951171875,2512.0,2509.89990234375,2538.199951171875,2629.10009765625,2609.89990234375,2623.89990234375,2604.85009765625,2582.949951171875,2626.75,2643.800048828125,2666.300048828125,2664.0,2662.0,2648.0,2611.89990234375,2605.0,2582.0,2559.800048828125,2542.449951171875,2530.0,2552.89990234375,2613.0,2612.14990234375,2586.550048828125,2555.0,2606.0,2635.0,2653.0,2653.5,2661.0,2610.0,2570.10009765625,2623.699951171875,2608.0,2687.89990234375,2623.550048828125,2642.10009765625,2720.0,2731.0,2737.449951171875,2724.699951171875,2677.14990234375,2622.0,2610.0,2561.0,2606.949951171875,2614.800048828125,2660.0,2674.0,2675.0,2678.0,2696.64990234375,2667.0,2674.300048828125,2708.35009765625,2774.199951171875,2782.300048828125,2779.0,2807.949951171875,2816.64990234375,2837.949951171875,2835.0,2899.0,2941.10009765625,2962.89990234375,2934.550048828125,2895.5,2862.0,2942.0,3014.14990234375,3000.0,3046.39990234375,3077.0,3089.0,3065.0,3125.0,3130.0,3049.10009765625,3037.0,3055.0,3062.0,3033.0,3057.300048828125,3046.0,3010.0,3058.5,3099.0,3114.39990234375,3105.0,3120.0,3148.949951171875,3165.0,3094.0,3069.800048828125,3017.0,2991.800048828125,2996.0,2957.949951171875,2941.949951171875,3023.25,3129.0,3316.0,3444.550048828125,3488.0,3459.550048828125,3518.0,3475.0,3484.949951171875,3468.14990234375,3433.0,3489.699951171875,3531.0,3529.89990234375,3550.0,3533.0,3519.0,3557.75,3564.0,3539.949951171875,3551.0,3569.800048828125,3529.800048828125,3530.0,3548.0,3589.0,3599.0,3579.89990234375,3586.0,3635.0,3659.0,3693.25,3716.0,3720.0,3730.300048828125,3749.89990234375,3762.0,3724.949951171875,3625.0,3599.949951171875,3525.64990234375,3470.0,3440.0,3464.89990234375,3481.75,3520.0,3501.25,3316.0,3297.35009765625,3294.0,3243.39990234375,3278.0,3300.0,3299.0,3267.64990234375,3261.0,3287.550048828125,3199.800048828125,3287.0,3325.0,3360.0,3449.60009765625,3424.0,3329.89990234375,3358.89990234375,3379.0,3334.39990234375,3321.949951171875,3259.0,3200.0,3338.800048828125,3398.0,3362.64990234375,3330.0,3347.0,3315.0,3274.35009765625,3305.0,3388.0,3450.0,3456.0,3429.0,3436.0,3449.949951171875,3434.0,3464.5,3426.39990234375,3750.0,4070.0,4025.0,3998.89990234375,4015.0,4085.0,4111.75,4089.10009765625,4004.949951171875,4004.0,3958.25,4035.0,4015.0,4015.0,4006.300048828125,3916.0,4032.0,4117.2001953125,4199.0,4219.85009765625,4110.0,4080.0,4063.85009765625,4060.0,4074.949951171875,4050.0,4110.0,4177.5,4255.0,4280.0,4239.2001953125,4240.0,4188.0,4175.0,4221.0,4247.25,4209.5498046875,4182.14990234375,4182.0,4160.0,4143.7998046875,4149.14990234375,4173.9501953125,4124.89990234375,4139.0498046875,4135.0,4077.35009765625,3995.0,4004.10009765625,4034.0,4027.800048828125,3971.449951171875,3995.0,4055.0,4065.0,4089.25,4087.949951171875,4155.0,4158.85009765625,4145.0,4145.0,4184.0,4180.7001953125,4196.4501953125,4260.0,4281.5498046875,4266.39990234375,4252.0,4295.75,4234.7998046875,4204.0,4092.0,4060.35009765625,4148.0,4185.89990234375,4182.25,4202.39990234375,4220.0,4229.9501953125,4242.0,4252.9501953125,4186.10009765625,4186.5,4163.85009765625,4205.64990234375,4208.0,4249.0,4444.0,4485.0,4420.10009765625,4376.89990234375,4550.0,4539.9501953125,4677.85009765625,4686.89990234375,4734.0,4785.0,4782.2001953125,4800.60009765625,4815.0,4798.0,4771.9501953125,4887.0,4923.39990234375,4876.0,4849.89990234375,4837.75,4815.0,4640.0,4617.9501953125,4474.9501953125,4496.7998046875,4367.5498046875,4238.0,4127.5,4118.89990234375,3869.949951171875,4043.5,3833.449951171875,3734.699951171875,3530.0,3053.050048828125,3044.0,2700.0,2568.64990234375,2700.0,2936.5,3040.0,2414.39990234375,2340.0,2286.89990234375,2343.699951171875,2286.0,2374.0,2566.14990234375,2520.0,2368.0,2250.0,2375.89990234375,2345.5,2210.0,2170.0,2219.10009765625,2113.5,2085.0,2244.10009765625,2375.0,2418.949951171875,2202.199951171875,2135.0,2131.89990234375,2169.85009765625,2130.0,2092.699951171875,2080.0,2239.949951171875,2258.949951171875,2136.60009765625,2093.449951171875,2003.550048828125,2060.0,2077.550048828125,2007.0,1933.75,1946.0,1983.0,1980.0,2226.39990234375,2375.0,2496.85009765625,2453.64990234375,2409.0,2547.699951171875,2535.0,2470.0,2459.0,2470.0,2429.949951171875,2455.39990234375,2425.0,2541.699951171875,2714.550048828125,2863.60009765625,3109.25,3125.0,3046.0,3058.800048828125,2894.449951171875,2936.64990234375,2968.699951171875,3016.0,2989.449951171875,3134.64990234375,3419.64990234375,3408.800048828125,3379.89990234375,3395.0,3378.0,3219.800048828125,3297.699951171875,3215.0,3323.0,3453.949951171875,3519.5,3340.0,3320.0,3290.0,3280.0,3260.0,3329.0,3324.0,3273.0,3244.0,3260.0,3330.0,3378.800048828125,3481.449951171875,3556.85009765625,3494.550048828125,3450.0,3472.0,3448.800048828125,3399.5,3437.949951171875,3465.0,3414.5,3440.0,3515.0,3660.0,3707.0,3668.39990234375,3688.0,3749.85009765625,3674.0,3680.0,3676.75,3649.800048828125,3629.0,3574.89990234375,3493.449951171875,3523.449951171875,3557.699951171875,3575.050048828125,3524.199951171875,3567.39990234375,3517.0,3503.800048828125,3467.0,3353.800048828125,3344.0,3194.75,3167.14990234375,3350.0,3372.0,3343.85009765625,3460.0,3519.0,3480.0,3400.0,3388.0,3418.449951171875,3379.39990234375,3340.0,3382.35009765625,3370.0,3269.449951171875,3294.699951171875,3289.5,3295.0,3345.0,3356.800048828125,3330.0,3465.0,3489.89990234375,3432.0,3391.0,3447.39990234375,3520.0,3569.949951171875,3750.0,3827.300048828125,3878.699951171875,4243.9501953125,4429.5498046875,4325.0,4410.0,4503.9501953125,4678.0,4785.0,4762.14990234375,4869.2998046875,4862.0,4825.0,4854.0,4960.0,4952.39990234375,4884.0,4890.0,4958.0,4924.9501953125,4865.0,4852.85009765625,4860.0,4889.0,4914.7001953125,5150.0,5225.0,5303.14990234375,5284.9501953125,5234.7001953125,5125.0,5166.0,5218.9501953125,5244.7998046875,5247.0,5348.0,5372.5,5338.0,5324.0,5224.2001953125,5168.35009765625,5131.5498046875,5138.75,5110.9501953125,5099.0,5074.0,4966.7998046875,4927.0,4880.0,4994.9501953125,5032.60009765625,5225.0,5137.0,5163.0,4945.60009765625,4909.0,4950.0,5080.0,5337.9501953125,5270.0,5543.0,5627.0,5665.0,5539.0,5502.35009765625,5588.0,5618.0,5799.0,5822.2001953125,5799.0,5714.75,5621.9501953125,5538.7001953125,5504.64990234375,5578.89990234375,5619.9501953125,5454.0,5369.89990234375,5410.0,5573.35009765625,5567.14990234375,5519.75,5493.9501953125,5445.0,5561.0,5670.0,5585.64990234375,5507.0,5460.39990234375,5545.0,5479.0,5497.0,5445.0,5374.0,5300.0,5248.0,5260.0,5218.7998046875,5288.5,5259.0,5059.4501953125,5109.0,5115.0,5010.0,4740.0,4774.89990234375,4750.0,4690.0,4504.0,4699.0,4714.0,4759.7998046875,4829.0,4889.85009765625,5310.0,5525.0,5524.64990234375,5580.0,5749.9501953125,5700.0,5619.89990234375,5613.14990234375,5575.0,5458.10009765625,5440.0,5405.0,5490.0,5705.0,5722.89990234375,5658.0,5695.0,5688.0,5658.7998046875,5794.7998046875,5782.14990234375,5750.0,5664.7001953125,5818.0,5845.0,5915.0,6010.0,5843.85009765625,5817.0,5795.0,6115.0,6230.0,6249.0,6239.7998046875,6160.89990234375,6115.0,6148.0,6135.0,6189.0],\"yaxis\":\"y\"}],                        {\"legend\":{\"title\":{\"text\":\"variable\"},\"tracegroupgap\":0},\"margin\":{\"t\":60},\"template\":{\"data\":{\"bar\":[{\"error_x\":{\"color\":\"#2a3f5f\"},\"error_y\":{\"color\":\"#2a3f5f\"},\"marker\":{\"line\":{\"color\":\"#E5ECF6\",\"width\":0.5},\"pattern\":{\"fillmode\":\"overlay\",\"size\":10,\"solidity\":0.2}},\"type\":\"bar\"}],\"barpolar\":[{\"marker\":{\"line\":{\"color\":\"#E5ECF6\",\"width\":0.5},\"pattern\":{\"fillmode\":\"overlay\",\"size\":10,\"solidity\":0.2}},\"type\":\"barpolar\"}],\"carpet\":[{\"aaxis\":{\"endlinecolor\":\"#2a3f5f\",\"gridcolor\":\"white\",\"linecolor\":\"white\",\"minorgridcolor\":\"white\",\"startlinecolor\":\"#2a3f5f\"},\"baxis\":{\"endlinecolor\":\"#2a3f5f\",\"gridcolor\":\"white\",\"linecolor\":\"white\",\"minorgridcolor\":\"white\",\"startlinecolor\":\"#2a3f5f\"},\"type\":\"carpet\"}],\"choropleth\":[{\"colorbar\":{\"outlinewidth\":0,\"ticks\":\"\"},\"type\":\"choropleth\"}],\"contour\":[{\"colorbar\":{\"outlinewidth\":0,\"ticks\":\"\"},\"colorscale\":[[0.0,\"#0d0887\"],[0.1111111111111111,\"#46039f\"],[0.2222222222222222,\"#7201a8\"],[0.3333333333333333,\"#9c179e\"],[0.4444444444444444,\"#bd3786\"],[0.5555555555555556,\"#d8576b\"],[0.6666666666666666,\"#ed7953\"],[0.7777777777777778,\"#fb9f3a\"],[0.8888888888888888,\"#fdca26\"],[1.0,\"#f0f921\"]],\"type\":\"contour\"}],\"contourcarpet\":[{\"colorbar\":{\"outlinewidth\":0,\"ticks\":\"\"},\"type\":\"contourcarpet\"}],\"heatmap\":[{\"colorbar\":{\"outlinewidth\":0,\"ticks\":\"\"},\"colorscale\":[[0.0,\"#0d0887\"],[0.1111111111111111,\"#46039f\"],[0.2222222222222222,\"#7201a8\"],[0.3333333333333333,\"#9c179e\"],[0.4444444444444444,\"#bd3786\"],[0.5555555555555556,\"#d8576b\"],[0.6666666666666666,\"#ed7953\"],[0.7777777777777778,\"#fb9f3a\"],[0.8888888888888888,\"#fdca26\"],[1.0,\"#f0f921\"]],\"type\":\"heatmap\"}],\"heatmapgl\":[{\"colorbar\":{\"outlinewidth\":0,\"ticks\":\"\"},\"colorscale\":[[0.0,\"#0d0887\"],[0.1111111111111111,\"#46039f\"],[0.2222222222222222,\"#7201a8\"],[0.3333333333333333,\"#9c179e\"],[0.4444444444444444,\"#bd3786\"],[0.5555555555555556,\"#d8576b\"],[0.6666666666666666,\"#ed7953\"],[0.7777777777777778,\"#fb9f3a\"],[0.8888888888888888,\"#fdca26\"],[1.0,\"#f0f921\"]],\"type\":\"heatmapgl\"}],\"histogram\":[{\"marker\":{\"pattern\":{\"fillmode\":\"overlay\",\"size\":10,\"solidity\":0.2}},\"type\":\"histogram\"}],\"histogram2d\":[{\"colorbar\":{\"outlinewidth\":0,\"ticks\":\"\"},\"colorscale\":[[0.0,\"#0d0887\"],[0.1111111111111111,\"#46039f\"],[0.2222222222222222,\"#7201a8\"],[0.3333333333333333,\"#9c179e\"],[0.4444444444444444,\"#bd3786\"],[0.5555555555555556,\"#d8576b\"],[0.6666666666666666,\"#ed7953\"],[0.7777777777777778,\"#fb9f3a\"],[0.8888888888888888,\"#fdca26\"],[1.0,\"#f0f921\"]],\"type\":\"histogram2d\"}],\"histogram2dcontour\":[{\"colorbar\":{\"outlinewidth\":0,\"ticks\":\"\"},\"colorscale\":[[0.0,\"#0d0887\"],[0.1111111111111111,\"#46039f\"],[0.2222222222222222,\"#7201a8\"],[0.3333333333333333,\"#9c179e\"],[0.4444444444444444,\"#bd3786\"],[0.5555555555555556,\"#d8576b\"],[0.6666666666666666,\"#ed7953\"],[0.7777777777777778,\"#fb9f3a\"],[0.8888888888888888,\"#fdca26\"],[1.0,\"#f0f921\"]],\"type\":\"histogram2dcontour\"}],\"mesh3d\":[{\"colorbar\":{\"outlinewidth\":0,\"ticks\":\"\"},\"type\":\"mesh3d\"}],\"parcoords\":[{\"line\":{\"colorbar\":{\"outlinewidth\":0,\"ticks\":\"\"}},\"type\":\"parcoords\"}],\"pie\":[{\"automargin\":true,\"type\":\"pie\"}],\"scatter\":[{\"marker\":{\"colorbar\":{\"outlinewidth\":0,\"ticks\":\"\"}},\"type\":\"scatter\"}],\"scatter3d\":[{\"line\":{\"colorbar\":{\"outlinewidth\":0,\"ticks\":\"\"}},\"marker\":{\"colorbar\":{\"outlinewidth\":0,\"ticks\":\"\"}},\"type\":\"scatter3d\"}],\"scattercarpet\":[{\"marker\":{\"colorbar\":{\"outlinewidth\":0,\"ticks\":\"\"}},\"type\":\"scattercarpet\"}],\"scattergeo\":[{\"marker\":{\"colorbar\":{\"outlinewidth\":0,\"ticks\":\"\"}},\"type\":\"scattergeo\"}],\"scattergl\":[{\"marker\":{\"colorbar\":{\"outlinewidth\":0,\"ticks\":\"\"}},\"type\":\"scattergl\"}],\"scattermapbox\":[{\"marker\":{\"colorbar\":{\"outlinewidth\":0,\"ticks\":\"\"}},\"type\":\"scattermapbox\"}],\"scatterpolar\":[{\"marker\":{\"colorbar\":{\"outlinewidth\":0,\"ticks\":\"\"}},\"type\":\"scatterpolar\"}],\"scatterpolargl\":[{\"marker\":{\"colorbar\":{\"outlinewidth\":0,\"ticks\":\"\"}},\"type\":\"scatterpolargl\"}],\"scatterternary\":[{\"marker\":{\"colorbar\":{\"outlinewidth\":0,\"ticks\":\"\"}},\"type\":\"scatterternary\"}],\"surface\":[{\"colorbar\":{\"outlinewidth\":0,\"ticks\":\"\"},\"colorscale\":[[0.0,\"#0d0887\"],[0.1111111111111111,\"#46039f\"],[0.2222222222222222,\"#7201a8\"],[0.3333333333333333,\"#9c179e\"],[0.4444444444444444,\"#bd3786\"],[0.5555555555555556,\"#d8576b\"],[0.6666666666666666,\"#ed7953\"],[0.7777777777777778,\"#fb9f3a\"],[0.8888888888888888,\"#fdca26\"],[1.0,\"#f0f921\"]],\"type\":\"surface\"}],\"table\":[{\"cells\":{\"fill\":{\"color\":\"#EBF0F8\"},\"line\":{\"color\":\"white\"}},\"header\":{\"fill\":{\"color\":\"#C8D4E3\"},\"line\":{\"color\":\"white\"}},\"type\":\"table\"}]},\"layout\":{\"annotationdefaults\":{\"arrowcolor\":\"#2a3f5f\",\"arrowhead\":0,\"arrowwidth\":1},\"autotypenumbers\":\"strict\",\"coloraxis\":{\"colorbar\":{\"outlinewidth\":0,\"ticks\":\"\"}},\"colorscale\":{\"diverging\":[[0,\"#8e0152\"],[0.1,\"#c51b7d\"],[0.2,\"#de77ae\"],[0.3,\"#f1b6da\"],[0.4,\"#fde0ef\"],[0.5,\"#f7f7f7\"],[0.6,\"#e6f5d0\"],[0.7,\"#b8e186\"],[0.8,\"#7fbc41\"],[0.9,\"#4d9221\"],[1,\"#276419\"]],\"sequential\":[[0.0,\"#0d0887\"],[0.1111111111111111,\"#46039f\"],[0.2222222222222222,\"#7201a8\"],[0.3333333333333333,\"#9c179e\"],[0.4444444444444444,\"#bd3786\"],[0.5555555555555556,\"#d8576b\"],[0.6666666666666666,\"#ed7953\"],[0.7777777777777778,\"#fb9f3a\"],[0.8888888888888888,\"#fdca26\"],[1.0,\"#f0f921\"]],\"sequentialminus\":[[0.0,\"#0d0887\"],[0.1111111111111111,\"#46039f\"],[0.2222222222222222,\"#7201a8\"],[0.3333333333333333,\"#9c179e\"],[0.4444444444444444,\"#bd3786\"],[0.5555555555555556,\"#d8576b\"],[0.6666666666666666,\"#ed7953\"],[0.7777777777777778,\"#fb9f3a\"],[0.8888888888888888,\"#fdca26\"],[1.0,\"#f0f921\"]]},\"colorway\":[\"#636efa\",\"#EF553B\",\"#00cc96\",\"#ab63fa\",\"#FFA15A\",\"#19d3f3\",\"#FF6692\",\"#B6E880\",\"#FF97FF\",\"#FECB52\"],\"font\":{\"color\":\"#2a3f5f\"},\"geo\":{\"bgcolor\":\"white\",\"lakecolor\":\"white\",\"landcolor\":\"#E5ECF6\",\"showlakes\":true,\"showland\":true,\"subunitcolor\":\"white\"},\"hoverlabel\":{\"align\":\"left\"},\"hovermode\":\"closest\",\"mapbox\":{\"style\":\"light\"},\"paper_bgcolor\":\"white\",\"plot_bgcolor\":\"#E5ECF6\",\"polar\":{\"angularaxis\":{\"gridcolor\":\"white\",\"linecolor\":\"white\",\"ticks\":\"\"},\"bgcolor\":\"#E5ECF6\",\"radialaxis\":{\"gridcolor\":\"white\",\"linecolor\":\"white\",\"ticks\":\"\"}},\"scene\":{\"xaxis\":{\"backgroundcolor\":\"#E5ECF6\",\"gridcolor\":\"white\",\"gridwidth\":2,\"linecolor\":\"white\",\"showbackground\":true,\"ticks\":\"\",\"zerolinecolor\":\"white\"},\"yaxis\":{\"backgroundcolor\":\"#E5ECF6\",\"gridcolor\":\"white\",\"gridwidth\":2,\"linecolor\":\"white\",\"showbackground\":true,\"ticks\":\"\",\"zerolinecolor\":\"white\"},\"zaxis\":{\"backgroundcolor\":\"#E5ECF6\",\"gridcolor\":\"white\",\"gridwidth\":2,\"linecolor\":\"white\",\"showbackground\":true,\"ticks\":\"\",\"zerolinecolor\":\"white\"}},\"shapedefaults\":{\"line\":{\"color\":\"#2a3f5f\"}},\"ternary\":{\"aaxis\":{\"gridcolor\":\"white\",\"linecolor\":\"white\",\"ticks\":\"\"},\"baxis\":{\"gridcolor\":\"white\",\"linecolor\":\"white\",\"ticks\":\"\"},\"bgcolor\":\"#E5ECF6\",\"caxis\":{\"gridcolor\":\"white\",\"linecolor\":\"white\",\"ticks\":\"\"}},\"title\":{\"x\":0.05},\"xaxis\":{\"automargin\":true,\"gridcolor\":\"white\",\"linecolor\":\"white\",\"ticks\":\"\",\"title\":{\"standoff\":15},\"zerolinecolor\":\"white\",\"zerolinewidth\":2},\"yaxis\":{\"automargin\":true,\"gridcolor\":\"white\",\"linecolor\":\"white\",\"ticks\":\"\",\"title\":{\"standoff\":15},\"zerolinecolor\":\"white\",\"zerolinewidth\":2}}},\"xaxis\":{\"anchor\":\"y\",\"domain\":[0.0,1.0],\"title\":{\"text\":\"index\"}},\"yaxis\":{\"anchor\":\"x\",\"domain\":[0.0,1.0],\"title\":{\"text\":\"value\"}}},                        {\"responsive\": true}                    ).then(function(){\n",
       "                            \n",
       "var gd = document.getElementById('8391ce08-b4dc-4bea-8574-30ec79a53149');\n",
       "var x = new MutationObserver(function (mutations, observer) {{\n",
       "        var display = window.getComputedStyle(gd).display;\n",
       "        if (!display || display === 'none') {{\n",
       "            console.log([gd, 'removed!']);\n",
       "            Plotly.purge(gd);\n",
       "            observer.disconnect();\n",
       "        }}\n",
       "}});\n",
       "\n",
       "// Listen for the removal of the full notebook cells\n",
       "var notebookContainer = gd.closest('#notebook-container');\n",
       "if (notebookContainer) {{\n",
       "    x.observe(notebookContainer, {childList: true});\n",
       "}}\n",
       "\n",
       "// Listen for the clearing of the current output cell\n",
       "var outputEl = gd.closest('.output');\n",
       "if (outputEl) {{\n",
       "    x.observe(outputEl, {childList: true});\n",
       "}}\n",
       "\n",
       "                        })                };                });            </script>        </div>"
      ]
     },
     "metadata": {},
     "output_type": "display_data"
    },
    {
     "data": {
      "application/vnd.plotly.v1+json": {
       "config": {
        "plotlyServerURL": "https://plot.ly"
       },
       "data": [
        {
         "hovertemplate": "variable=0<br>index=%{x}<br>value=%{y}<extra></extra>",
         "legendgroup": "0",
         "line": {
          "color": "#636efa",
          "dash": "solid"
         },
         "marker": {
          "symbol": "circle"
         },
         "mode": "lines",
         "name": "0",
         "orientation": "v",
         "showlegend": true,
         "type": "scatter",
         "x": [
          0,
          1,
          2,
          3,
          4,
          5,
          6,
          7,
          8,
          9,
          10,
          11,
          12,
          13,
          14,
          15,
          16,
          17,
          18,
          19,
          20,
          21,
          22,
          23,
          24,
          25,
          26,
          27,
          28,
          29,
          30,
          31,
          32,
          33,
          34,
          35,
          36,
          37,
          38,
          39,
          40,
          41,
          42,
          43,
          44,
          45,
          46,
          47,
          48,
          49,
          50,
          51,
          52,
          53,
          54,
          55,
          56,
          57,
          58,
          59,
          60,
          61,
          62,
          63,
          64,
          65,
          66,
          67,
          68,
          69,
          70,
          71,
          72,
          73,
          74,
          75,
          76,
          77,
          78,
          79,
          80,
          81,
          82,
          83,
          84,
          85,
          86,
          87,
          88,
          89,
          90,
          91,
          92,
          93,
          94,
          95,
          96,
          97,
          98,
          99
         ],
         "xaxis": "x",
         "y": [
          6203.866053088817,
          6209.459644380858,
          6214.21654917035,
          6218.897956824466,
          6223.5725521092745,
          6228.246532690288,
          6232.920457804439,
          6237.594377913622,
          6242.26829757119,
          6246.942217188006,
          6251.616136801145,
          6256.290056413953,
          6260.96397602673,
          6265.637895639505,
          6270.311815252279,
          6274.985734865054,
          6279.659654477829,
          6284.333574090603,
          6289.007493703378,
          6293.681413316152,
          6298.355332928927,
          6303.029252541702,
          6307.703172154476,
          6312.377091767251,
          6317.051011380026,
          6321.7249309928,
          6326.398850605575,
          6331.072770218349,
          6335.746689831124,
          6340.420609443899,
          6345.094529056673,
          6349.768448669448,
          6354.442368282223,
          6359.116287894997,
          6363.790207507772,
          6368.464127120546,
          6373.138046733321,
          6377.811966346096,
          6382.48588595887,
          6387.159805571645,
          6391.83372518442,
          6396.507644797194,
          6401.181564409969,
          6405.855484022743,
          6410.529403635518,
          6415.203323248293,
          6419.877242861067,
          6424.551162473842,
          6429.225082086617,
          6433.899001699391,
          6438.572921312166,
          6443.24684092494,
          6447.920760537715,
          6452.59468015049,
          6457.268599763264,
          6461.942519376039,
          6466.616438988814,
          6471.290358601588,
          6475.964278214363,
          6480.638197827137,
          6485.312117439912,
          6489.986037052687,
          6494.659956665461,
          6499.333876278236,
          6504.007795891011,
          6508.681715503785,
          6513.35563511656,
          6518.029554729334,
          6522.703474342109,
          6527.377393954884,
          6532.051313567658,
          6536.725233180433,
          6541.399152793208,
          6546.073072405982,
          6550.746992018757,
          6555.420911631531,
          6560.094831244306,
          6564.768750857081,
          6569.442670469855,
          6574.11659008263,
          6578.790509695405,
          6583.464429308179,
          6588.138348920954,
          6592.8122685337285,
          6597.486188146503,
          6602.160107759278,
          6606.834027372052,
          6611.507946984827,
          6616.181866597602,
          6620.855786210376,
          6625.529705823151,
          6630.2036254359255,
          6634.8775450487,
          6639.551464661475,
          6644.225384274249,
          6648.899303887024,
          6653.573223499799,
          6658.247143112573,
          6662.921062725348,
          6667.5949823381225
         ],
         "yaxis": "y"
        }
       ],
       "layout": {
        "legend": {
         "title": {
          "text": "variable"
         },
         "tracegroupgap": 0
        },
        "margin": {
         "t": 60
        },
        "template": {
         "data": {
          "bar": [
           {
            "error_x": {
             "color": "#2a3f5f"
            },
            "error_y": {
             "color": "#2a3f5f"
            },
            "marker": {
             "line": {
              "color": "#E5ECF6",
              "width": 0.5
             },
             "pattern": {
              "fillmode": "overlay",
              "size": 10,
              "solidity": 0.2
             }
            },
            "type": "bar"
           }
          ],
          "barpolar": [
           {
            "marker": {
             "line": {
              "color": "#E5ECF6",
              "width": 0.5
             },
             "pattern": {
              "fillmode": "overlay",
              "size": 10,
              "solidity": 0.2
             }
            },
            "type": "barpolar"
           }
          ],
          "carpet": [
           {
            "aaxis": {
             "endlinecolor": "#2a3f5f",
             "gridcolor": "white",
             "linecolor": "white",
             "minorgridcolor": "white",
             "startlinecolor": "#2a3f5f"
            },
            "baxis": {
             "endlinecolor": "#2a3f5f",
             "gridcolor": "white",
             "linecolor": "white",
             "minorgridcolor": "white",
             "startlinecolor": "#2a3f5f"
            },
            "type": "carpet"
           }
          ],
          "choropleth": [
           {
            "colorbar": {
             "outlinewidth": 0,
             "ticks": ""
            },
            "type": "choropleth"
           }
          ],
          "contour": [
           {
            "colorbar": {
             "outlinewidth": 0,
             "ticks": ""
            },
            "colorscale": [
             [
              0,
              "#0d0887"
             ],
             [
              0.1111111111111111,
              "#46039f"
             ],
             [
              0.2222222222222222,
              "#7201a8"
             ],
             [
              0.3333333333333333,
              "#9c179e"
             ],
             [
              0.4444444444444444,
              "#bd3786"
             ],
             [
              0.5555555555555556,
              "#d8576b"
             ],
             [
              0.6666666666666666,
              "#ed7953"
             ],
             [
              0.7777777777777778,
              "#fb9f3a"
             ],
             [
              0.8888888888888888,
              "#fdca26"
             ],
             [
              1,
              "#f0f921"
             ]
            ],
            "type": "contour"
           }
          ],
          "contourcarpet": [
           {
            "colorbar": {
             "outlinewidth": 0,
             "ticks": ""
            },
            "type": "contourcarpet"
           }
          ],
          "heatmap": [
           {
            "colorbar": {
             "outlinewidth": 0,
             "ticks": ""
            },
            "colorscale": [
             [
              0,
              "#0d0887"
             ],
             [
              0.1111111111111111,
              "#46039f"
             ],
             [
              0.2222222222222222,
              "#7201a8"
             ],
             [
              0.3333333333333333,
              "#9c179e"
             ],
             [
              0.4444444444444444,
              "#bd3786"
             ],
             [
              0.5555555555555556,
              "#d8576b"
             ],
             [
              0.6666666666666666,
              "#ed7953"
             ],
             [
              0.7777777777777778,
              "#fb9f3a"
             ],
             [
              0.8888888888888888,
              "#fdca26"
             ],
             [
              1,
              "#f0f921"
             ]
            ],
            "type": "heatmap"
           }
          ],
          "heatmapgl": [
           {
            "colorbar": {
             "outlinewidth": 0,
             "ticks": ""
            },
            "colorscale": [
             [
              0,
              "#0d0887"
             ],
             [
              0.1111111111111111,
              "#46039f"
             ],
             [
              0.2222222222222222,
              "#7201a8"
             ],
             [
              0.3333333333333333,
              "#9c179e"
             ],
             [
              0.4444444444444444,
              "#bd3786"
             ],
             [
              0.5555555555555556,
              "#d8576b"
             ],
             [
              0.6666666666666666,
              "#ed7953"
             ],
             [
              0.7777777777777778,
              "#fb9f3a"
             ],
             [
              0.8888888888888888,
              "#fdca26"
             ],
             [
              1,
              "#f0f921"
             ]
            ],
            "type": "heatmapgl"
           }
          ],
          "histogram": [
           {
            "marker": {
             "pattern": {
              "fillmode": "overlay",
              "size": 10,
              "solidity": 0.2
             }
            },
            "type": "histogram"
           }
          ],
          "histogram2d": [
           {
            "colorbar": {
             "outlinewidth": 0,
             "ticks": ""
            },
            "colorscale": [
             [
              0,
              "#0d0887"
             ],
             [
              0.1111111111111111,
              "#46039f"
             ],
             [
              0.2222222222222222,
              "#7201a8"
             ],
             [
              0.3333333333333333,
              "#9c179e"
             ],
             [
              0.4444444444444444,
              "#bd3786"
             ],
             [
              0.5555555555555556,
              "#d8576b"
             ],
             [
              0.6666666666666666,
              "#ed7953"
             ],
             [
              0.7777777777777778,
              "#fb9f3a"
             ],
             [
              0.8888888888888888,
              "#fdca26"
             ],
             [
              1,
              "#f0f921"
             ]
            ],
            "type": "histogram2d"
           }
          ],
          "histogram2dcontour": [
           {
            "colorbar": {
             "outlinewidth": 0,
             "ticks": ""
            },
            "colorscale": [
             [
              0,
              "#0d0887"
             ],
             [
              0.1111111111111111,
              "#46039f"
             ],
             [
              0.2222222222222222,
              "#7201a8"
             ],
             [
              0.3333333333333333,
              "#9c179e"
             ],
             [
              0.4444444444444444,
              "#bd3786"
             ],
             [
              0.5555555555555556,
              "#d8576b"
             ],
             [
              0.6666666666666666,
              "#ed7953"
             ],
             [
              0.7777777777777778,
              "#fb9f3a"
             ],
             [
              0.8888888888888888,
              "#fdca26"
             ],
             [
              1,
              "#f0f921"
             ]
            ],
            "type": "histogram2dcontour"
           }
          ],
          "mesh3d": [
           {
            "colorbar": {
             "outlinewidth": 0,
             "ticks": ""
            },
            "type": "mesh3d"
           }
          ],
          "parcoords": [
           {
            "line": {
             "colorbar": {
              "outlinewidth": 0,
              "ticks": ""
             }
            },
            "type": "parcoords"
           }
          ],
          "pie": [
           {
            "automargin": true,
            "type": "pie"
           }
          ],
          "scatter": [
           {
            "marker": {
             "colorbar": {
              "outlinewidth": 0,
              "ticks": ""
             }
            },
            "type": "scatter"
           }
          ],
          "scatter3d": [
           {
            "line": {
             "colorbar": {
              "outlinewidth": 0,
              "ticks": ""
             }
            },
            "marker": {
             "colorbar": {
              "outlinewidth": 0,
              "ticks": ""
             }
            },
            "type": "scatter3d"
           }
          ],
          "scattercarpet": [
           {
            "marker": {
             "colorbar": {
              "outlinewidth": 0,
              "ticks": ""
             }
            },
            "type": "scattercarpet"
           }
          ],
          "scattergeo": [
           {
            "marker": {
             "colorbar": {
              "outlinewidth": 0,
              "ticks": ""
             }
            },
            "type": "scattergeo"
           }
          ],
          "scattergl": [
           {
            "marker": {
             "colorbar": {
              "outlinewidth": 0,
              "ticks": ""
             }
            },
            "type": "scattergl"
           }
          ],
          "scattermapbox": [
           {
            "marker": {
             "colorbar": {
              "outlinewidth": 0,
              "ticks": ""
             }
            },
            "type": "scattermapbox"
           }
          ],
          "scatterpolar": [
           {
            "marker": {
             "colorbar": {
              "outlinewidth": 0,
              "ticks": ""
             }
            },
            "type": "scatterpolar"
           }
          ],
          "scatterpolargl": [
           {
            "marker": {
             "colorbar": {
              "outlinewidth": 0,
              "ticks": ""
             }
            },
            "type": "scatterpolargl"
           }
          ],
          "scatterternary": [
           {
            "marker": {
             "colorbar": {
              "outlinewidth": 0,
              "ticks": ""
             }
            },
            "type": "scatterternary"
           }
          ],
          "surface": [
           {
            "colorbar": {
             "outlinewidth": 0,
             "ticks": ""
            },
            "colorscale": [
             [
              0,
              "#0d0887"
             ],
             [
              0.1111111111111111,
              "#46039f"
             ],
             [
              0.2222222222222222,
              "#7201a8"
             ],
             [
              0.3333333333333333,
              "#9c179e"
             ],
             [
              0.4444444444444444,
              "#bd3786"
             ],
             [
              0.5555555555555556,
              "#d8576b"
             ],
             [
              0.6666666666666666,
              "#ed7953"
             ],
             [
              0.7777777777777778,
              "#fb9f3a"
             ],
             [
              0.8888888888888888,
              "#fdca26"
             ],
             [
              1,
              "#f0f921"
             ]
            ],
            "type": "surface"
           }
          ],
          "table": [
           {
            "cells": {
             "fill": {
              "color": "#EBF0F8"
             },
             "line": {
              "color": "white"
             }
            },
            "header": {
             "fill": {
              "color": "#C8D4E3"
             },
             "line": {
              "color": "white"
             }
            },
            "type": "table"
           }
          ]
         },
         "layout": {
          "annotationdefaults": {
           "arrowcolor": "#2a3f5f",
           "arrowhead": 0,
           "arrowwidth": 1
          },
          "autotypenumbers": "strict",
          "coloraxis": {
           "colorbar": {
            "outlinewidth": 0,
            "ticks": ""
           }
          },
          "colorscale": {
           "diverging": [
            [
             0,
             "#8e0152"
            ],
            [
             0.1,
             "#c51b7d"
            ],
            [
             0.2,
             "#de77ae"
            ],
            [
             0.3,
             "#f1b6da"
            ],
            [
             0.4,
             "#fde0ef"
            ],
            [
             0.5,
             "#f7f7f7"
            ],
            [
             0.6,
             "#e6f5d0"
            ],
            [
             0.7,
             "#b8e186"
            ],
            [
             0.8,
             "#7fbc41"
            ],
            [
             0.9,
             "#4d9221"
            ],
            [
             1,
             "#276419"
            ]
           ],
           "sequential": [
            [
             0,
             "#0d0887"
            ],
            [
             0.1111111111111111,
             "#46039f"
            ],
            [
             0.2222222222222222,
             "#7201a8"
            ],
            [
             0.3333333333333333,
             "#9c179e"
            ],
            [
             0.4444444444444444,
             "#bd3786"
            ],
            [
             0.5555555555555556,
             "#d8576b"
            ],
            [
             0.6666666666666666,
             "#ed7953"
            ],
            [
             0.7777777777777778,
             "#fb9f3a"
            ],
            [
             0.8888888888888888,
             "#fdca26"
            ],
            [
             1,
             "#f0f921"
            ]
           ],
           "sequentialminus": [
            [
             0,
             "#0d0887"
            ],
            [
             0.1111111111111111,
             "#46039f"
            ],
            [
             0.2222222222222222,
             "#7201a8"
            ],
            [
             0.3333333333333333,
             "#9c179e"
            ],
            [
             0.4444444444444444,
             "#bd3786"
            ],
            [
             0.5555555555555556,
             "#d8576b"
            ],
            [
             0.6666666666666666,
             "#ed7953"
            ],
            [
             0.7777777777777778,
             "#fb9f3a"
            ],
            [
             0.8888888888888888,
             "#fdca26"
            ],
            [
             1,
             "#f0f921"
            ]
           ]
          },
          "colorway": [
           "#636efa",
           "#EF553B",
           "#00cc96",
           "#ab63fa",
           "#FFA15A",
           "#19d3f3",
           "#FF6692",
           "#B6E880",
           "#FF97FF",
           "#FECB52"
          ],
          "font": {
           "color": "#2a3f5f"
          },
          "geo": {
           "bgcolor": "white",
           "lakecolor": "white",
           "landcolor": "#E5ECF6",
           "showlakes": true,
           "showland": true,
           "subunitcolor": "white"
          },
          "hoverlabel": {
           "align": "left"
          },
          "hovermode": "closest",
          "mapbox": {
           "style": "light"
          },
          "paper_bgcolor": "white",
          "plot_bgcolor": "#E5ECF6",
          "polar": {
           "angularaxis": {
            "gridcolor": "white",
            "linecolor": "white",
            "ticks": ""
           },
           "bgcolor": "#E5ECF6",
           "radialaxis": {
            "gridcolor": "white",
            "linecolor": "white",
            "ticks": ""
           }
          },
          "scene": {
           "xaxis": {
            "backgroundcolor": "#E5ECF6",
            "gridcolor": "white",
            "gridwidth": 2,
            "linecolor": "white",
            "showbackground": true,
            "ticks": "",
            "zerolinecolor": "white"
           },
           "yaxis": {
            "backgroundcolor": "#E5ECF6",
            "gridcolor": "white",
            "gridwidth": 2,
            "linecolor": "white",
            "showbackground": true,
            "ticks": "",
            "zerolinecolor": "white"
           },
           "zaxis": {
            "backgroundcolor": "#E5ECF6",
            "gridcolor": "white",
            "gridwidth": 2,
            "linecolor": "white",
            "showbackground": true,
            "ticks": "",
            "zerolinecolor": "white"
           }
          },
          "shapedefaults": {
           "line": {
            "color": "#2a3f5f"
           }
          },
          "ternary": {
           "aaxis": {
            "gridcolor": "white",
            "linecolor": "white",
            "ticks": ""
           },
           "baxis": {
            "gridcolor": "white",
            "linecolor": "white",
            "ticks": ""
           },
           "bgcolor": "#E5ECF6",
           "caxis": {
            "gridcolor": "white",
            "linecolor": "white",
            "ticks": ""
           }
          },
          "title": {
           "x": 0.05
          },
          "xaxis": {
           "automargin": true,
           "gridcolor": "white",
           "linecolor": "white",
           "ticks": "",
           "title": {
            "standoff": 15
           },
           "zerolinecolor": "white",
           "zerolinewidth": 2
          },
          "yaxis": {
           "automargin": true,
           "gridcolor": "white",
           "linecolor": "white",
           "ticks": "",
           "title": {
            "standoff": 15
           },
           "zerolinecolor": "white",
           "zerolinewidth": 2
          }
         }
        },
        "xaxis": {
         "anchor": "y",
         "domain": [
          0,
          1
         ],
         "title": {
          "text": "index"
         }
        },
        "yaxis": {
         "anchor": "x",
         "domain": [
          0,
          1
         ],
         "title": {
          "text": "value"
         }
        }
       }
      },
      "text/html": [
       "<div>                            <div id=\"18d9c54a-241b-4935-8731-a9b62c05375e\" class=\"plotly-graph-div\" style=\"height:525px; width:100%;\"></div>            <script type=\"text/javascript\">                require([\"plotly\"], function(Plotly) {                    window.PLOTLYENV=window.PLOTLYENV || {};                                    if (document.getElementById(\"18d9c54a-241b-4935-8731-a9b62c05375e\")) {                    Plotly.newPlot(                        \"18d9c54a-241b-4935-8731-a9b62c05375e\",                        [{\"hovertemplate\":\"variable=0<br>index=%{x}<br>value=%{y}<extra></extra>\",\"legendgroup\":\"0\",\"line\":{\"color\":\"#636efa\",\"dash\":\"solid\"},\"marker\":{\"symbol\":\"circle\"},\"mode\":\"lines\",\"name\":\"0\",\"orientation\":\"v\",\"showlegend\":true,\"type\":\"scatter\",\"x\":[0,1,2,3,4,5,6,7,8,9,10,11,12,13,14,15,16,17,18,19,20,21,22,23,24,25,26,27,28,29,30,31,32,33,34,35,36,37,38,39,40,41,42,43,44,45,46,47,48,49,50,51,52,53,54,55,56,57,58,59,60,61,62,63,64,65,66,67,68,69,70,71,72,73,74,75,76,77,78,79,80,81,82,83,84,85,86,87,88,89,90,91,92,93,94,95,96,97,98,99],\"xaxis\":\"x\",\"y\":[6203.866053088817,6209.459644380858,6214.21654917035,6218.897956824466,6223.5725521092745,6228.246532690288,6232.920457804439,6237.594377913622,6242.26829757119,6246.942217188006,6251.616136801145,6256.290056413953,6260.96397602673,6265.637895639505,6270.311815252279,6274.985734865054,6279.659654477829,6284.333574090603,6289.007493703378,6293.681413316152,6298.355332928927,6303.029252541702,6307.703172154476,6312.377091767251,6317.051011380026,6321.7249309928,6326.398850605575,6331.072770218349,6335.746689831124,6340.420609443899,6345.094529056673,6349.768448669448,6354.442368282223,6359.116287894997,6363.790207507772,6368.464127120546,6373.138046733321,6377.811966346096,6382.48588595887,6387.159805571645,6391.83372518442,6396.507644797194,6401.181564409969,6405.855484022743,6410.529403635518,6415.203323248293,6419.877242861067,6424.551162473842,6429.225082086617,6433.899001699391,6438.572921312166,6443.24684092494,6447.920760537715,6452.59468015049,6457.268599763264,6461.942519376039,6466.616438988814,6471.290358601588,6475.964278214363,6480.638197827137,6485.312117439912,6489.986037052687,6494.659956665461,6499.333876278236,6504.007795891011,6508.681715503785,6513.35563511656,6518.029554729334,6522.703474342109,6527.377393954884,6532.051313567658,6536.725233180433,6541.399152793208,6546.073072405982,6550.746992018757,6555.420911631531,6560.094831244306,6564.768750857081,6569.442670469855,6574.11659008263,6578.790509695405,6583.464429308179,6588.138348920954,6592.8122685337285,6597.486188146503,6602.160107759278,6606.834027372052,6611.507946984827,6616.181866597602,6620.855786210376,6625.529705823151,6630.2036254359255,6634.8775450487,6639.551464661475,6644.225384274249,6648.899303887024,6653.573223499799,6658.247143112573,6662.921062725348,6667.5949823381225],\"yaxis\":\"y\"}],                        {\"legend\":{\"title\":{\"text\":\"variable\"},\"tracegroupgap\":0},\"margin\":{\"t\":60},\"template\":{\"data\":{\"bar\":[{\"error_x\":{\"color\":\"#2a3f5f\"},\"error_y\":{\"color\":\"#2a3f5f\"},\"marker\":{\"line\":{\"color\":\"#E5ECF6\",\"width\":0.5},\"pattern\":{\"fillmode\":\"overlay\",\"size\":10,\"solidity\":0.2}},\"type\":\"bar\"}],\"barpolar\":[{\"marker\":{\"line\":{\"color\":\"#E5ECF6\",\"width\":0.5},\"pattern\":{\"fillmode\":\"overlay\",\"size\":10,\"solidity\":0.2}},\"type\":\"barpolar\"}],\"carpet\":[{\"aaxis\":{\"endlinecolor\":\"#2a3f5f\",\"gridcolor\":\"white\",\"linecolor\":\"white\",\"minorgridcolor\":\"white\",\"startlinecolor\":\"#2a3f5f\"},\"baxis\":{\"endlinecolor\":\"#2a3f5f\",\"gridcolor\":\"white\",\"linecolor\":\"white\",\"minorgridcolor\":\"white\",\"startlinecolor\":\"#2a3f5f\"},\"type\":\"carpet\"}],\"choropleth\":[{\"colorbar\":{\"outlinewidth\":0,\"ticks\":\"\"},\"type\":\"choropleth\"}],\"contour\":[{\"colorbar\":{\"outlinewidth\":0,\"ticks\":\"\"},\"colorscale\":[[0.0,\"#0d0887\"],[0.1111111111111111,\"#46039f\"],[0.2222222222222222,\"#7201a8\"],[0.3333333333333333,\"#9c179e\"],[0.4444444444444444,\"#bd3786\"],[0.5555555555555556,\"#d8576b\"],[0.6666666666666666,\"#ed7953\"],[0.7777777777777778,\"#fb9f3a\"],[0.8888888888888888,\"#fdca26\"],[1.0,\"#f0f921\"]],\"type\":\"contour\"}],\"contourcarpet\":[{\"colorbar\":{\"outlinewidth\":0,\"ticks\":\"\"},\"type\":\"contourcarpet\"}],\"heatmap\":[{\"colorbar\":{\"outlinewidth\":0,\"ticks\":\"\"},\"colorscale\":[[0.0,\"#0d0887\"],[0.1111111111111111,\"#46039f\"],[0.2222222222222222,\"#7201a8\"],[0.3333333333333333,\"#9c179e\"],[0.4444444444444444,\"#bd3786\"],[0.5555555555555556,\"#d8576b\"],[0.6666666666666666,\"#ed7953\"],[0.7777777777777778,\"#fb9f3a\"],[0.8888888888888888,\"#fdca26\"],[1.0,\"#f0f921\"]],\"type\":\"heatmap\"}],\"heatmapgl\":[{\"colorbar\":{\"outlinewidth\":0,\"ticks\":\"\"},\"colorscale\":[[0.0,\"#0d0887\"],[0.1111111111111111,\"#46039f\"],[0.2222222222222222,\"#7201a8\"],[0.3333333333333333,\"#9c179e\"],[0.4444444444444444,\"#bd3786\"],[0.5555555555555556,\"#d8576b\"],[0.6666666666666666,\"#ed7953\"],[0.7777777777777778,\"#fb9f3a\"],[0.8888888888888888,\"#fdca26\"],[1.0,\"#f0f921\"]],\"type\":\"heatmapgl\"}],\"histogram\":[{\"marker\":{\"pattern\":{\"fillmode\":\"overlay\",\"size\":10,\"solidity\":0.2}},\"type\":\"histogram\"}],\"histogram2d\":[{\"colorbar\":{\"outlinewidth\":0,\"ticks\":\"\"},\"colorscale\":[[0.0,\"#0d0887\"],[0.1111111111111111,\"#46039f\"],[0.2222222222222222,\"#7201a8\"],[0.3333333333333333,\"#9c179e\"],[0.4444444444444444,\"#bd3786\"],[0.5555555555555556,\"#d8576b\"],[0.6666666666666666,\"#ed7953\"],[0.7777777777777778,\"#fb9f3a\"],[0.8888888888888888,\"#fdca26\"],[1.0,\"#f0f921\"]],\"type\":\"histogram2d\"}],\"histogram2dcontour\":[{\"colorbar\":{\"outlinewidth\":0,\"ticks\":\"\"},\"colorscale\":[[0.0,\"#0d0887\"],[0.1111111111111111,\"#46039f\"],[0.2222222222222222,\"#7201a8\"],[0.3333333333333333,\"#9c179e\"],[0.4444444444444444,\"#bd3786\"],[0.5555555555555556,\"#d8576b\"],[0.6666666666666666,\"#ed7953\"],[0.7777777777777778,\"#fb9f3a\"],[0.8888888888888888,\"#fdca26\"],[1.0,\"#f0f921\"]],\"type\":\"histogram2dcontour\"}],\"mesh3d\":[{\"colorbar\":{\"outlinewidth\":0,\"ticks\":\"\"},\"type\":\"mesh3d\"}],\"parcoords\":[{\"line\":{\"colorbar\":{\"outlinewidth\":0,\"ticks\":\"\"}},\"type\":\"parcoords\"}],\"pie\":[{\"automargin\":true,\"type\":\"pie\"}],\"scatter\":[{\"marker\":{\"colorbar\":{\"outlinewidth\":0,\"ticks\":\"\"}},\"type\":\"scatter\"}],\"scatter3d\":[{\"line\":{\"colorbar\":{\"outlinewidth\":0,\"ticks\":\"\"}},\"marker\":{\"colorbar\":{\"outlinewidth\":0,\"ticks\":\"\"}},\"type\":\"scatter3d\"}],\"scattercarpet\":[{\"marker\":{\"colorbar\":{\"outlinewidth\":0,\"ticks\":\"\"}},\"type\":\"scattercarpet\"}],\"scattergeo\":[{\"marker\":{\"colorbar\":{\"outlinewidth\":0,\"ticks\":\"\"}},\"type\":\"scattergeo\"}],\"scattergl\":[{\"marker\":{\"colorbar\":{\"outlinewidth\":0,\"ticks\":\"\"}},\"type\":\"scattergl\"}],\"scattermapbox\":[{\"marker\":{\"colorbar\":{\"outlinewidth\":0,\"ticks\":\"\"}},\"type\":\"scattermapbox\"}],\"scatterpolar\":[{\"marker\":{\"colorbar\":{\"outlinewidth\":0,\"ticks\":\"\"}},\"type\":\"scatterpolar\"}],\"scatterpolargl\":[{\"marker\":{\"colorbar\":{\"outlinewidth\":0,\"ticks\":\"\"}},\"type\":\"scatterpolargl\"}],\"scatterternary\":[{\"marker\":{\"colorbar\":{\"outlinewidth\":0,\"ticks\":\"\"}},\"type\":\"scatterternary\"}],\"surface\":[{\"colorbar\":{\"outlinewidth\":0,\"ticks\":\"\"},\"colorscale\":[[0.0,\"#0d0887\"],[0.1111111111111111,\"#46039f\"],[0.2222222222222222,\"#7201a8\"],[0.3333333333333333,\"#9c179e\"],[0.4444444444444444,\"#bd3786\"],[0.5555555555555556,\"#d8576b\"],[0.6666666666666666,\"#ed7953\"],[0.7777777777777778,\"#fb9f3a\"],[0.8888888888888888,\"#fdca26\"],[1.0,\"#f0f921\"]],\"type\":\"surface\"}],\"table\":[{\"cells\":{\"fill\":{\"color\":\"#EBF0F8\"},\"line\":{\"color\":\"white\"}},\"header\":{\"fill\":{\"color\":\"#C8D4E3\"},\"line\":{\"color\":\"white\"}},\"type\":\"table\"}]},\"layout\":{\"annotationdefaults\":{\"arrowcolor\":\"#2a3f5f\",\"arrowhead\":0,\"arrowwidth\":1},\"autotypenumbers\":\"strict\",\"coloraxis\":{\"colorbar\":{\"outlinewidth\":0,\"ticks\":\"\"}},\"colorscale\":{\"diverging\":[[0,\"#8e0152\"],[0.1,\"#c51b7d\"],[0.2,\"#de77ae\"],[0.3,\"#f1b6da\"],[0.4,\"#fde0ef\"],[0.5,\"#f7f7f7\"],[0.6,\"#e6f5d0\"],[0.7,\"#b8e186\"],[0.8,\"#7fbc41\"],[0.9,\"#4d9221\"],[1,\"#276419\"]],\"sequential\":[[0.0,\"#0d0887\"],[0.1111111111111111,\"#46039f\"],[0.2222222222222222,\"#7201a8\"],[0.3333333333333333,\"#9c179e\"],[0.4444444444444444,\"#bd3786\"],[0.5555555555555556,\"#d8576b\"],[0.6666666666666666,\"#ed7953\"],[0.7777777777777778,\"#fb9f3a\"],[0.8888888888888888,\"#fdca26\"],[1.0,\"#f0f921\"]],\"sequentialminus\":[[0.0,\"#0d0887\"],[0.1111111111111111,\"#46039f\"],[0.2222222222222222,\"#7201a8\"],[0.3333333333333333,\"#9c179e\"],[0.4444444444444444,\"#bd3786\"],[0.5555555555555556,\"#d8576b\"],[0.6666666666666666,\"#ed7953\"],[0.7777777777777778,\"#fb9f3a\"],[0.8888888888888888,\"#fdca26\"],[1.0,\"#f0f921\"]]},\"colorway\":[\"#636efa\",\"#EF553B\",\"#00cc96\",\"#ab63fa\",\"#FFA15A\",\"#19d3f3\",\"#FF6692\",\"#B6E880\",\"#FF97FF\",\"#FECB52\"],\"font\":{\"color\":\"#2a3f5f\"},\"geo\":{\"bgcolor\":\"white\",\"lakecolor\":\"white\",\"landcolor\":\"#E5ECF6\",\"showlakes\":true,\"showland\":true,\"subunitcolor\":\"white\"},\"hoverlabel\":{\"align\":\"left\"},\"hovermode\":\"closest\",\"mapbox\":{\"style\":\"light\"},\"paper_bgcolor\":\"white\",\"plot_bgcolor\":\"#E5ECF6\",\"polar\":{\"angularaxis\":{\"gridcolor\":\"white\",\"linecolor\":\"white\",\"ticks\":\"\"},\"bgcolor\":\"#E5ECF6\",\"radialaxis\":{\"gridcolor\":\"white\",\"linecolor\":\"white\",\"ticks\":\"\"}},\"scene\":{\"xaxis\":{\"backgroundcolor\":\"#E5ECF6\",\"gridcolor\":\"white\",\"gridwidth\":2,\"linecolor\":\"white\",\"showbackground\":true,\"ticks\":\"\",\"zerolinecolor\":\"white\"},\"yaxis\":{\"backgroundcolor\":\"#E5ECF6\",\"gridcolor\":\"white\",\"gridwidth\":2,\"linecolor\":\"white\",\"showbackground\":true,\"ticks\":\"\",\"zerolinecolor\":\"white\"},\"zaxis\":{\"backgroundcolor\":\"#E5ECF6\",\"gridcolor\":\"white\",\"gridwidth\":2,\"linecolor\":\"white\",\"showbackground\":true,\"ticks\":\"\",\"zerolinecolor\":\"white\"}},\"shapedefaults\":{\"line\":{\"color\":\"#2a3f5f\"}},\"ternary\":{\"aaxis\":{\"gridcolor\":\"white\",\"linecolor\":\"white\",\"ticks\":\"\"},\"baxis\":{\"gridcolor\":\"white\",\"linecolor\":\"white\",\"ticks\":\"\"},\"bgcolor\":\"#E5ECF6\",\"caxis\":{\"gridcolor\":\"white\",\"linecolor\":\"white\",\"ticks\":\"\"}},\"title\":{\"x\":0.05},\"xaxis\":{\"automargin\":true,\"gridcolor\":\"white\",\"linecolor\":\"white\",\"ticks\":\"\",\"title\":{\"standoff\":15},\"zerolinecolor\":\"white\",\"zerolinewidth\":2},\"yaxis\":{\"automargin\":true,\"gridcolor\":\"white\",\"linecolor\":\"white\",\"ticks\":\"\",\"title\":{\"standoff\":15},\"zerolinecolor\":\"white\",\"zerolinewidth\":2}}},\"xaxis\":{\"anchor\":\"y\",\"domain\":[0.0,1.0],\"title\":{\"text\":\"index\"}},\"yaxis\":{\"anchor\":\"x\",\"domain\":[0.0,1.0],\"title\":{\"text\":\"value\"}}},                        {\"responsive\": true}                    ).then(function(){\n",
       "                            \n",
       "var gd = document.getElementById('18d9c54a-241b-4935-8731-a9b62c05375e');\n",
       "var x = new MutationObserver(function (mutations, observer) {{\n",
       "        var display = window.getComputedStyle(gd).display;\n",
       "        if (!display || display === 'none') {{\n",
       "            console.log([gd, 'removed!']);\n",
       "            Plotly.purge(gd);\n",
       "            observer.disconnect();\n",
       "        }}\n",
       "}});\n",
       "\n",
       "// Listen for the removal of the full notebook cells\n",
       "var notebookContainer = gd.closest('#notebook-container');\n",
       "if (notebookContainer) {{\n",
       "    x.observe(notebookContainer, {childList: true});\n",
       "}}\n",
       "\n",
       "// Listen for the clearing of the current output cell\n",
       "var outputEl = gd.closest('.output');\n",
       "if (outputEl) {{\n",
       "    x.observe(outputEl, {childList: true});\n",
       "}}\n",
       "\n",
       "                        })                };                });            </script>        </div>"
      ]
     },
     "metadata": {},
     "output_type": "display_data"
    }
   ],
   "source": [
    "fig = px.line(df)\n",
    "fig.show()\n",
    "fig = px.line(fc)\n",
    "fig.show()"
   ]
  },
  {
   "cell_type": "code",
   "execution_count": 187,
   "id": "953fe95c",
   "metadata": {},
   "outputs": [
    {
     "data": {
      "text/html": [
       "<div>\n",
       "<style scoped>\n",
       "    .dataframe tbody tr th:only-of-type {\n",
       "        vertical-align: middle;\n",
       "    }\n",
       "\n",
       "    .dataframe tbody tr th {\n",
       "        vertical-align: top;\n",
       "    }\n",
       "\n",
       "    .dataframe thead th {\n",
       "        text-align: right;\n",
       "    }\n",
       "</style>\n",
       "<table border=\"1\" class=\"dataframe\">\n",
       "  <thead>\n",
       "    <tr style=\"text-align: right;\">\n",
       "      <th></th>\n",
       "      <th>0</th>\n",
       "    </tr>\n",
       "  </thead>\n",
       "  <tbody>\n",
       "    <tr>\n",
       "      <th>0</th>\n",
       "      <td>6203.866053</td>\n",
       "    </tr>\n",
       "    <tr>\n",
       "      <th>1</th>\n",
       "      <td>6209.459644</td>\n",
       "    </tr>\n",
       "    <tr>\n",
       "      <th>2</th>\n",
       "      <td>6214.216549</td>\n",
       "    </tr>\n",
       "    <tr>\n",
       "      <th>3</th>\n",
       "      <td>6218.897957</td>\n",
       "    </tr>\n",
       "    <tr>\n",
       "      <th>4</th>\n",
       "      <td>6223.572552</td>\n",
       "    </tr>\n",
       "    <tr>\n",
       "      <th>...</th>\n",
       "      <td>...</td>\n",
       "    </tr>\n",
       "    <tr>\n",
       "      <th>95</th>\n",
       "      <td>6648.899304</td>\n",
       "    </tr>\n",
       "    <tr>\n",
       "      <th>96</th>\n",
       "      <td>6653.573223</td>\n",
       "    </tr>\n",
       "    <tr>\n",
       "      <th>97</th>\n",
       "      <td>6658.247143</td>\n",
       "    </tr>\n",
       "    <tr>\n",
       "      <th>98</th>\n",
       "      <td>6662.921063</td>\n",
       "    </tr>\n",
       "    <tr>\n",
       "      <th>99</th>\n",
       "      <td>6667.594982</td>\n",
       "    </tr>\n",
       "  </tbody>\n",
       "</table>\n",
       "<p>100 rows × 1 columns</p>\n",
       "</div>"
      ],
      "text/plain": [
       "              0\n",
       "0   6203.866053\n",
       "1   6209.459644\n",
       "2   6214.216549\n",
       "3   6218.897957\n",
       "4   6223.572552\n",
       "..          ...\n",
       "95  6648.899304\n",
       "96  6653.573223\n",
       "97  6658.247143\n",
       "98  6662.921063\n",
       "99  6667.594982\n",
       "\n",
       "[100 rows x 1 columns]"
      ]
     },
     "execution_count": 187,
     "metadata": {},
     "output_type": "execute_result"
    }
   ],
   "source": [
    "dffc= pd.DataFrame(data=fc)\n",
    "dffc"
   ]
  },
  {
   "cell_type": "code",
   "execution_count": null,
   "id": "ff488a5e",
   "metadata": {},
   "outputs": [],
   "source": []
  },
  {
   "cell_type": "code",
   "execution_count": null,
   "id": "e73fb413",
   "metadata": {},
   "outputs": [],
   "source": []
  },
  {
   "cell_type": "code",
   "execution_count": null,
   "id": "293577b1",
   "metadata": {},
   "outputs": [],
   "source": []
  },
  {
   "cell_type": "code",
   "execution_count": null,
   "id": "2c961774",
   "metadata": {},
   "outputs": [],
   "source": []
  },
  {
   "cell_type": "code",
   "execution_count": null,
   "id": "ce23afbc",
   "metadata": {},
   "outputs": [],
   "source": []
  },
  {
   "cell_type": "code",
   "execution_count": null,
   "id": "ad946505",
   "metadata": {},
   "outputs": [],
   "source": []
  },
  {
   "cell_type": "code",
   "execution_count": null,
   "id": "e10ff437",
   "metadata": {},
   "outputs": [],
   "source": []
  },
  {
   "cell_type": "code",
   "execution_count": null,
   "id": "f77c76e3",
   "metadata": {},
   "outputs": [],
   "source": []
  },
  {
   "cell_type": "code",
   "execution_count": null,
   "id": "67282c17",
   "metadata": {},
   "outputs": [],
   "source": []
  },
  {
   "cell_type": "code",
   "execution_count": null,
   "id": "1b944465",
   "metadata": {},
   "outputs": [],
   "source": []
  }
 ],
 "metadata": {
  "kernelspec": {
   "display_name": "Python 3",
   "language": "python",
   "name": "python3"
  },
  "language_info": {
   "codemirror_mode": {
    "name": "ipython",
    "version": 3
   },
   "file_extension": ".py",
   "mimetype": "text/x-python",
   "name": "python",
   "nbconvert_exporter": "python",
   "pygments_lexer": "ipython3",
   "version": "3.8.8"
  }
 },
 "nbformat": 4,
 "nbformat_minor": 5
}
