{
 "cells": [
  {
   "cell_type": "code",
   "execution_count": 1,
   "id": "5fb6139a",
   "metadata": {},
   "outputs": [],
   "source": [
    "import pandas as pd \n",
    "import numpy as np \n",
    "import os \n",
    "import matplotlib.pyplot as plt\n",
    "import time\n",
    "import yfinance as yf"
   ]
  },
  {
   "cell_type": "code",
   "execution_count": 60,
   "id": "9e066846",
   "metadata": {},
   "outputs": [],
   "source": [
    "df = pd.read_csv(\"infy.csv\")"
   ]
  },
  {
   "cell_type": "code",
   "execution_count": 61,
   "id": "0acb33a8",
   "metadata": {},
   "outputs": [
    {
     "data": {
      "text/html": [
       "<div>\n",
       "<style scoped>\n",
       "    .dataframe tbody tr th:only-of-type {\n",
       "        vertical-align: middle;\n",
       "    }\n",
       "\n",
       "    .dataframe tbody tr th {\n",
       "        vertical-align: top;\n",
       "    }\n",
       "\n",
       "    .dataframe thead th {\n",
       "        text-align: right;\n",
       "    }\n",
       "</style>\n",
       "<table border=\"1\" class=\"dataframe\">\n",
       "  <thead>\n",
       "    <tr style=\"text-align: right;\">\n",
       "      <th></th>\n",
       "      <th>Date</th>\n",
       "      <th>Open</th>\n",
       "      <th>High</th>\n",
       "      <th>Low</th>\n",
       "      <th>Close</th>\n",
       "      <th>Adj Close</th>\n",
       "      <th>Volume</th>\n",
       "    </tr>\n",
       "  </thead>\n",
       "  <tbody>\n",
       "    <tr>\n",
       "      <th>0</th>\n",
       "      <td>2008-01-01</td>\n",
       "      <td>220.824997</td>\n",
       "      <td>222.324997</td>\n",
       "      <td>217.781250</td>\n",
       "      <td>218.356247</td>\n",
       "      <td>164.314651</td>\n",
       "      <td>2001624</td>\n",
       "    </tr>\n",
       "    <tr>\n",
       "      <th>1</th>\n",
       "      <td>2008-01-02</td>\n",
       "      <td>218.750000</td>\n",
       "      <td>219.918747</td>\n",
       "      <td>214.050003</td>\n",
       "      <td>218.537506</td>\n",
       "      <td>164.451065</td>\n",
       "      <td>6155056</td>\n",
       "    </tr>\n",
       "    <tr>\n",
       "      <th>2</th>\n",
       "      <td>2008-01-03</td>\n",
       "      <td>224.625000</td>\n",
       "      <td>224.625000</td>\n",
       "      <td>211.250000</td>\n",
       "      <td>213.631256</td>\n",
       "      <td>160.759064</td>\n",
       "      <td>12425960</td>\n",
       "    </tr>\n",
       "    <tr>\n",
       "      <th>3</th>\n",
       "      <td>2008-01-04</td>\n",
       "      <td>218.425003</td>\n",
       "      <td>218.425003</td>\n",
       "      <td>210.000000</td>\n",
       "      <td>211.862503</td>\n",
       "      <td>159.428085</td>\n",
       "      <td>6166320</td>\n",
       "    </tr>\n",
       "    <tr>\n",
       "      <th>4</th>\n",
       "      <td>2008-01-07</td>\n",
       "      <td>208.750000</td>\n",
       "      <td>211.250000</td>\n",
       "      <td>202.875000</td>\n",
       "      <td>204.606247</td>\n",
       "      <td>153.967712</td>\n",
       "      <td>13254200</td>\n",
       "    </tr>\n",
       "  </tbody>\n",
       "</table>\n",
       "</div>"
      ],
      "text/plain": [
       "         Date        Open        High         Low       Close   Adj Close  \\\n",
       "0  2008-01-01  220.824997  222.324997  217.781250  218.356247  164.314651   \n",
       "1  2008-01-02  218.750000  219.918747  214.050003  218.537506  164.451065   \n",
       "2  2008-01-03  224.625000  224.625000  211.250000  213.631256  160.759064   \n",
       "3  2008-01-04  218.425003  218.425003  210.000000  211.862503  159.428085   \n",
       "4  2008-01-07  208.750000  211.250000  202.875000  204.606247  153.967712   \n",
       "\n",
       "     Volume  \n",
       "0   2001624  \n",
       "1   6155056  \n",
       "2  12425960  \n",
       "3   6166320  \n",
       "4  13254200  "
      ]
     },
     "execution_count": 61,
     "metadata": {},
     "output_type": "execute_result"
    }
   ],
   "source": [
    "df.head()"
   ]
  },
  {
   "cell_type": "code",
   "execution_count": 62,
   "id": "7e084a79",
   "metadata": {},
   "outputs": [
    {
     "data": {
      "text/html": [
       "<div>\n",
       "<style scoped>\n",
       "    .dataframe tbody tr th:only-of-type {\n",
       "        vertical-align: middle;\n",
       "    }\n",
       "\n",
       "    .dataframe tbody tr th {\n",
       "        vertical-align: top;\n",
       "    }\n",
       "\n",
       "    .dataframe thead th {\n",
       "        text-align: right;\n",
       "    }\n",
       "</style>\n",
       "<table border=\"1\" class=\"dataframe\">\n",
       "  <thead>\n",
       "    <tr style=\"text-align: right;\">\n",
       "      <th></th>\n",
       "      <th>Date</th>\n",
       "      <th>Open</th>\n",
       "      <th>High</th>\n",
       "      <th>Low</th>\n",
       "      <th>Close</th>\n",
       "      <th>Adj Close</th>\n",
       "      <th>Volume</th>\n",
       "    </tr>\n",
       "  </thead>\n",
       "  <tbody>\n",
       "    <tr>\n",
       "      <th>3366</th>\n",
       "      <td>2021-09-13</td>\n",
       "      <td>1683.000000</td>\n",
       "      <td>1701.500000</td>\n",
       "      <td>1675.199951</td>\n",
       "      <td>1691.900024</td>\n",
       "      <td>1691.900024</td>\n",
       "      <td>4662374</td>\n",
       "    </tr>\n",
       "    <tr>\n",
       "      <th>3367</th>\n",
       "      <td>2021-09-14</td>\n",
       "      <td>1695.949951</td>\n",
       "      <td>1695.949951</td>\n",
       "      <td>1678.599976</td>\n",
       "      <td>1686.150024</td>\n",
       "      <td>1686.150024</td>\n",
       "      <td>4945167</td>\n",
       "    </tr>\n",
       "    <tr>\n",
       "      <th>3368</th>\n",
       "      <td>2021-09-15</td>\n",
       "      <td>1693.250000</td>\n",
       "      <td>1715.099976</td>\n",
       "      <td>1690.199951</td>\n",
       "      <td>1711.449951</td>\n",
       "      <td>1711.449951</td>\n",
       "      <td>4062344</td>\n",
       "    </tr>\n",
       "    <tr>\n",
       "      <th>3369</th>\n",
       "      <td>2021-09-16</td>\n",
       "      <td>1715.199951</td>\n",
       "      <td>1719.250000</td>\n",
       "      <td>1691.449951</td>\n",
       "      <td>1702.250000</td>\n",
       "      <td>1702.250000</td>\n",
       "      <td>3246568</td>\n",
       "    </tr>\n",
       "    <tr>\n",
       "      <th>3370</th>\n",
       "      <td>2021-09-17</td>\n",
       "      <td>1697.000000</td>\n",
       "      <td>1718.000000</td>\n",
       "      <td>1684.449951</td>\n",
       "      <td>1691.300049</td>\n",
       "      <td>1691.300049</td>\n",
       "      <td>7454864</td>\n",
       "    </tr>\n",
       "  </tbody>\n",
       "</table>\n",
       "</div>"
      ],
      "text/plain": [
       "            Date         Open         High          Low        Close  \\\n",
       "3366  2021-09-13  1683.000000  1701.500000  1675.199951  1691.900024   \n",
       "3367  2021-09-14  1695.949951  1695.949951  1678.599976  1686.150024   \n",
       "3368  2021-09-15  1693.250000  1715.099976  1690.199951  1711.449951   \n",
       "3369  2021-09-16  1715.199951  1719.250000  1691.449951  1702.250000   \n",
       "3370  2021-09-17  1697.000000  1718.000000  1684.449951  1691.300049   \n",
       "\n",
       "        Adj Close   Volume  \n",
       "3366  1691.900024  4662374  \n",
       "3367  1686.150024  4945167  \n",
       "3368  1711.449951  4062344  \n",
       "3369  1702.250000  3246568  \n",
       "3370  1691.300049  7454864  "
      ]
     },
     "execution_count": 62,
     "metadata": {},
     "output_type": "execute_result"
    }
   ],
   "source": [
    "df.tail()"
   ]
  },
  {
   "cell_type": "code",
   "execution_count": 63,
   "id": "7840d9fd",
   "metadata": {},
   "outputs": [],
   "source": [
    "df= df[[\"Close\"]].copy()"
   ]
  },
  {
   "cell_type": "code",
   "execution_count": 64,
   "id": "a7ed71bf",
   "metadata": {},
   "outputs": [
    {
     "data": {
      "text/html": [
       "<div>\n",
       "<style scoped>\n",
       "    .dataframe tbody tr th:only-of-type {\n",
       "        vertical-align: middle;\n",
       "    }\n",
       "\n",
       "    .dataframe tbody tr th {\n",
       "        vertical-align: top;\n",
       "    }\n",
       "\n",
       "    .dataframe thead th {\n",
       "        text-align: right;\n",
       "    }\n",
       "</style>\n",
       "<table border=\"1\" class=\"dataframe\">\n",
       "  <thead>\n",
       "    <tr style=\"text-align: right;\">\n",
       "      <th></th>\n",
       "      <th>Close</th>\n",
       "    </tr>\n",
       "  </thead>\n",
       "  <tbody>\n",
       "    <tr>\n",
       "      <th>0</th>\n",
       "      <td>218.356247</td>\n",
       "    </tr>\n",
       "    <tr>\n",
       "      <th>1</th>\n",
       "      <td>218.537506</td>\n",
       "    </tr>\n",
       "    <tr>\n",
       "      <th>2</th>\n",
       "      <td>213.631256</td>\n",
       "    </tr>\n",
       "    <tr>\n",
       "      <th>3</th>\n",
       "      <td>211.862503</td>\n",
       "    </tr>\n",
       "    <tr>\n",
       "      <th>4</th>\n",
       "      <td>204.606247</td>\n",
       "    </tr>\n",
       "    <tr>\n",
       "      <th>...</th>\n",
       "      <td>...</td>\n",
       "    </tr>\n",
       "    <tr>\n",
       "      <th>3366</th>\n",
       "      <td>1691.900024</td>\n",
       "    </tr>\n",
       "    <tr>\n",
       "      <th>3367</th>\n",
       "      <td>1686.150024</td>\n",
       "    </tr>\n",
       "    <tr>\n",
       "      <th>3368</th>\n",
       "      <td>1711.449951</td>\n",
       "    </tr>\n",
       "    <tr>\n",
       "      <th>3369</th>\n",
       "      <td>1702.250000</td>\n",
       "    </tr>\n",
       "    <tr>\n",
       "      <th>3370</th>\n",
       "      <td>1691.300049</td>\n",
       "    </tr>\n",
       "  </tbody>\n",
       "</table>\n",
       "<p>3371 rows × 1 columns</p>\n",
       "</div>"
      ],
      "text/plain": [
       "            Close\n",
       "0      218.356247\n",
       "1      218.537506\n",
       "2      213.631256\n",
       "3      211.862503\n",
       "4      204.606247\n",
       "...           ...\n",
       "3366  1691.900024\n",
       "3367  1686.150024\n",
       "3368  1711.449951\n",
       "3369  1702.250000\n",
       "3370  1691.300049\n",
       "\n",
       "[3371 rows x 1 columns]"
      ]
     },
     "execution_count": 64,
     "metadata": {},
     "output_type": "execute_result"
    }
   ],
   "source": [
    "df"
   ]
  },
  {
   "cell_type": "code",
   "execution_count": 65,
   "id": "04df3723",
   "metadata": {},
   "outputs": [
    {
     "data": {
      "text/html": [
       "<div>\n",
       "<style scoped>\n",
       "    .dataframe tbody tr th:only-of-type {\n",
       "        vertical-align: middle;\n",
       "    }\n",
       "\n",
       "    .dataframe tbody tr th {\n",
       "        vertical-align: top;\n",
       "    }\n",
       "\n",
       "    .dataframe thead th {\n",
       "        text-align: right;\n",
       "    }\n",
       "</style>\n",
       "<table border=\"1\" class=\"dataframe\">\n",
       "  <thead>\n",
       "    <tr style=\"text-align: right;\">\n",
       "      <th></th>\n",
       "      <th>Close</th>\n",
       "    </tr>\n",
       "  </thead>\n",
       "  <tbody>\n",
       "    <tr>\n",
       "      <th>count</th>\n",
       "      <td>3371.000000</td>\n",
       "    </tr>\n",
       "    <tr>\n",
       "      <th>mean</th>\n",
       "      <td>517.568689</td>\n",
       "    </tr>\n",
       "    <tr>\n",
       "      <th>std</th>\n",
       "      <td>295.694185</td>\n",
       "    </tr>\n",
       "    <tr>\n",
       "      <th>min</th>\n",
       "      <td>137.787506</td>\n",
       "    </tr>\n",
       "    <tr>\n",
       "      <th>25%</th>\n",
       "      <td>331.696869</td>\n",
       "    </tr>\n",
       "    <tr>\n",
       "      <th>50%</th>\n",
       "      <td>463.325012</td>\n",
       "    </tr>\n",
       "    <tr>\n",
       "      <th>75%</th>\n",
       "      <td>602.837494</td>\n",
       "    </tr>\n",
       "    <tr>\n",
       "      <th>max</th>\n",
       "      <td>1741.650024</td>\n",
       "    </tr>\n",
       "  </tbody>\n",
       "</table>\n",
       "</div>"
      ],
      "text/plain": [
       "             Close\n",
       "count  3371.000000\n",
       "mean    517.568689\n",
       "std     295.694185\n",
       "min     137.787506\n",
       "25%     331.696869\n",
       "50%     463.325012\n",
       "75%     602.837494\n",
       "max    1741.650024"
      ]
     },
     "execution_count": 65,
     "metadata": {},
     "output_type": "execute_result"
    }
   ],
   "source": [
    "df.describe()"
   ]
  },
  {
   "cell_type": "code",
   "execution_count": 66,
   "id": "9a65091b",
   "metadata": {},
   "outputs": [],
   "source": [
    "from statsmodels.tsa.stattools import adfuller"
   ]
  },
  {
   "cell_type": "code",
   "execution_count": 67,
   "id": "3dcc2ddc",
   "metadata": {},
   "outputs": [
    {
     "name": "stdout",
     "output_type": "stream",
     "text": [
      "ADF statistic: 3.183467062005621\n",
      "p-value: 1.0\n"
     ]
    }
   ],
   "source": [
    "result =adfuller(df.Close.dropna())\n",
    "print(f\"ADF statistic: {result[0]}\")\n",
    "print(f\"p-value: {result[1]}\")"
   ]
  },
  {
   "cell_type": "code",
   "execution_count": 68,
   "id": "d59d44ab",
   "metadata": {},
   "outputs": [],
   "source": [
    "from statsmodels.graphics.tsaplots import plot_acf"
   ]
  },
  {
   "cell_type": "code",
   "execution_count": 69,
   "id": "a3b43c6e",
   "metadata": {},
   "outputs": [
    {
     "data": {
      "image/png": "[encoded data removed]",
      "text/plain": [
       "<Figure size 1152x288 with 2 Axes>"
      ]
     },
     "metadata": {
      "needs_background": "light"
     },
     "output_type": "display_data"
    }
   ],
   "source": [
    "fig, (ax1, ax2) = plt.subplots(1, 2, figsize=(16, 4))\n",
    "\n",
    "ax1.plot(df.Close)\n",
    "ax1.set_title('Original')\n",
    "plot_acf(df.Close, ax=ax2);"
   ]
  },
  {
   "cell_type": "code",
   "execution_count": 70,
   "id": "60948c0d",
   "metadata": {},
   "outputs": [
    {
     "data": {
      "image/png": "[encoded data removed]",
      "text/plain": [
       "<Figure size 1152x288 with 2 Axes>"
      ]
     },
     "metadata": {
      "needs_background": "light"
     },
     "output_type": "display_data"
    }
   ],
   "source": [
    "diff = df.Close.diff().dropna()\n",
    "\n",
    "fig, (ax1, ax2) = plt.subplots(1, 2, figsize=(16, 4))\n",
    "\n",
    "ax1.plot(diff)\n",
    "ax1.set_title(\"Difference Once\")\n",
    "plot_acf(diff, ax=ax2);\n"
   ]
  },
  {
   "cell_type": "code",
   "execution_count": 71,
   "id": "ee0e6887",
   "metadata": {},
   "outputs": [
    {
     "data": {
      "image/png": "[encoded data removed]",
      "text/plain": [
       "<Figure size 1152x288 with 2 Axes>"
      ]
     },
     "metadata": {
      "needs_background": "light"
     },
     "output_type": "display_data"
    }
   ],
   "source": [
    "diff = df.Close.diff().diff().dropna()\n",
    "fig, (ax1, ax2) = plt.subplots(1, 2, figsize=(16, 4))\n",
    "\n",
    "ax1.plot(diff)\n",
    "ax1.set_title(\"Difference twice\")\n",
    "plot_acf(diff, ax=ax2);\n"
   ]
  },
  {
   "cell_type": "code",
   "execution_count": 72,
   "id": "eba6dcdc",
   "metadata": {},
   "outputs": [],
   "source": [
    "from pmdarima.arima.utils import ndiffs"
   ]
  },
  {
   "cell_type": "code",
   "execution_count": 73,
   "id": "231624f2",
   "metadata": {},
   "outputs": [
    {
     "data": {
      "text/plain": [
       "1"
      ]
     },
     "execution_count": 73,
     "metadata": {},
     "output_type": "execute_result"
    }
   ],
   "source": [
    "ndiffs(df.Close, test=\"adf\")"
   ]
  },
  {
   "cell_type": "markdown",
   "id": "995c379f",
   "metadata": {},
   "source": [
    "1 is the value of d."
   ]
  },
  {
   "cell_type": "code",
   "execution_count": 74,
   "id": "38ead875",
   "metadata": {},
   "outputs": [],
   "source": [
    "from statsmodels.graphics.tsaplots import plot_pacf"
   ]
  },
  {
   "cell_type": "code",
   "execution_count": 75,
   "id": "024a52f9",
   "metadata": {},
   "outputs": [
    {
     "data": {
      "image/png": "[encoded data removed]",
      "text/plain": [
       "<Figure size 1152x288 with 2 Axes>"
      ]
     },
     "metadata": {
      "needs_background": "light"
     },
     "output_type": "display_data"
    }
   ],
   "source": [
    "diff = df.Close.diff().dropna()\n",
    "\n",
    "fig, (ax1, ax2) = plt.subplots(1, 2, figsize=(16, 4))\n",
    "\n",
    "ax1.plot(diff)\n",
    "ax1.set_title(\"Difference Once\")\n",
    "ax2.set_ylim(0,1)\n",
    "plot_pacf(diff, ax=ax2);\n"
   ]
  },
  {
   "cell_type": "markdown",
   "id": "faf139a2",
   "metadata": {},
   "source": [
    "from above right side graph we can see 5th line have highest height. so p value is 5"
   ]
  },
  {
   "cell_type": "code",
   "execution_count": 76,
   "id": "c7320d12",
   "metadata": {},
   "outputs": [
    {
     "data": {
      "image/png": "[encoded data removed]",
      "text/plain": [
       "<Figure size 1152x288 with 2 Axes>"
      ]
     },
     "metadata": {
      "needs_background": "light"
     },
     "output_type": "display_data"
    }
   ],
   "source": [
    "diff = df.Close.diff().dropna()\n",
    "\n",
    "fig, (ax1, ax2) = plt.subplots(1, 2, figsize=(16, 4))\n",
    "\n",
    "ax1.plot(diff)\n",
    "ax1.set_title(\"Difference Once\")\n",
    "ax2.set_ylim(0,1)\n",
    "plot_acf(diff, ax=ax2);"
   ]
  },
  {
   "cell_type": "markdown",
   "id": "007b618c",
   "metadata": {},
   "source": [
    "13 can be suitable for the q value becuse of havinig medium height in graph."
   ]
  },
  {
   "cell_type": "markdown",
   "id": "30501c86",
   "metadata": {},
   "source": [
    "p, q, d = 5, 13, 1"
   ]
  },
  {
   "cell_type": "markdown",
   "id": "29d1e120",
   "metadata": {},
   "source": [
    "Fitting in arima model\n"
   ]
  },
  {
   "cell_type": "code",
   "execution_count": 77,
   "id": "7c292fda",
   "metadata": {},
   "outputs": [],
   "source": [
    "from statsmodels.tsa.arima_model import ARIMA"
   ]
  },
  {
   "cell_type": "code",
   "execution_count": null,
   "id": "9d249466",
   "metadata": {},
   "outputs": [
    {
     "name": "stderr",
     "output_type": "stream",
     "text": [
      "C:\\Users\\acer\\anaconda3\\lib\\site-packages\\statsmodels\\tsa\\arima_model.py:472: FutureWarning: \n",
      "statsmodels.tsa.arima_model.ARMA and statsmodels.tsa.arima_model.ARIMA have\n",
      "been deprecated in favor of statsmodels.tsa.arima.model.ARIMA (note the .\n",
      "between arima and model) and\n",
      "statsmodels.tsa.SARIMAX. These will be removed after the 0.12 release.\n",
      "\n",
      "statsmodels.tsa.arima.model.ARIMA makes use of the statespace framework and\n",
      "is both well tested and maintained.\n",
      "\n",
      "To silence this warning and continue using ARMA and ARIMA until they are\n",
      "removed, use:\n",
      "\n",
      "import warnings\n",
      "warnings.filterwarnings('ignore', 'statsmodels.tsa.arima_model.ARMA',\n",
      "                        FutureWarning)\n",
      "warnings.filterwarnings('ignore', 'statsmodels.tsa.arima_model.ARIMA',\n",
      "                        FutureWarning)\n",
      "\n",
      "  warnings.warn(ARIMA_DEPRECATION_WARN, FutureWarning)\n"
     ]
    }
   ],
   "source": [
    "model = ARIMA(df.Close, order=(5,1,13))\n",
    "result = model.fit(disp=1)"
   ]
  },
  {
   "cell_type": "code",
   "execution_count": null,
   "id": "1ae9dfbe",
   "metadata": {},
   "outputs": [],
   "source": [
    "print(result.summary())"
   ]
  },
  {
   "cell_type": "code",
   "execution_count": null,
   "id": "48163c17",
   "metadata": {},
   "outputs": [],
   "source": [
    "residuals = pd.DataFrame(result.resid)\n",
    "\n",
    "fig, (ax1, ax2) = plt.subplots(1, 2, figsize=(16, 4))\n",
    "\n",
    "ax1.plot(residuals)\n",
    "ax2.hist(residuals, density= True)"
   ]
  },
  {
   "cell_type": "code",
   "execution_count": null,
   "id": "80a61d0c",
   "metadata": {},
   "outputs": [],
   "source": [
    "result.plot_predict(\n",
    "    start=1,\n",
    "    end=60,\n",
    "    dynamic=False,\n",
    ");"
   ]
  },
  {
   "cell_type": "code",
   "execution_count": null,
   "id": "3a0a7bdb",
   "metadata": {},
   "outputs": [],
   "source": []
  },
  {
   "cell_type": "code",
   "execution_count": null,
   "id": "50bf0047",
   "metadata": {},
   "outputs": [],
   "source": []
  },
  {
   "cell_type": "code",
   "execution_count": null,
   "id": "3a0a2027",
   "metadata": {},
   "outputs": [],
   "source": []
  },
  {
   "cell_type": "code",
   "execution_count": null,
   "id": "a538bdf6",
   "metadata": {},
   "outputs": [],
   "source": []
  }
 ],
 "metadata": {
  "kernelspec": {
   "display_name": "Python 3",
   "language": "python",
   "name": "python3"
  },
  "language_info": {
   "codemirror_mode": {
    "name": "ipython",
    "version": 3
   },
   "file_extension": ".py",
   "mimetype": "text/x-python",
   "name": "python",
   "nbconvert_exporter": "python",
   "pygments_lexer": "ipython3",
   "version": "3.8.8"
  }
 },
 "nbformat": 4,
 "nbformat_minor": 5
}
