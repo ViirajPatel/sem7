{
 "cells": [
  {
   "cell_type": "code",
   "execution_count": null,
   "id": "920122c0",
   "metadata": {},
   "outputs": [],
   "source": [
    "from pandas_datareader import data as pdr\n",
    "import pandas as pd\n",
    "from datetime import date\n",
    "\n",
    "import yfinance as yf\n",
    "yf.pdr_override()  # <== that's all it takes :-)\n",
    "\n",
    "sym = \"INFY\"\n",
    "\n"
   ]
  },
  {
   "cell_type": "code",
   "execution_count": null,
   "id": "d9d6f6ee",
   "metadata": {},
   "outputs": [],
   "source": [
    "# download dataframe\n",
    "data = pdr.get_data_yahoo(sym+\".NS\", start=date(2019,8,13),end=date(2021,9,13))\n",
    "df = pd.DataFrame(data)\n",
    "df.to_csv(sym+\".csv\")"
   ]
  },
  {
   "cell_type": "code",
   "execution_count": null,
   "id": "09fe4033",
   "metadata": {},
   "outputs": [],
   "source": [
    "data = yf.download(tickers='IRCTC.NS', period='1d', interval='5m')\n",
    "data.to_csv(\"IRCTC.csv\")"
   ]
  }
 ],
 "metadata": {
  "kernelspec": {
   "display_name": "Python 3",
   "language": "python",
   "name": "python3"
  },
  "language_info": {
   "codemirror_mode": {
    "name": "ipython",
    "version": 3
   },
   "file_extension": ".py",
   "mimetype": "text/x-python",
   "name": "python",
   "nbconvert_exporter": "python",
   "pygments_lexer": "ipython3",
   "version": "3.8.8"
  }
 },
 "nbformat": 4,
 "nbformat_minor": 5
}
