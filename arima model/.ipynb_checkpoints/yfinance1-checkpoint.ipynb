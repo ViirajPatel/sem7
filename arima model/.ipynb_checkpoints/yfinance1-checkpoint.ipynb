{
 "cells": [
  {
   "cell_type": "code",
   "execution_count": 1,
   "id": "56635736",
   "metadata": {},
   "outputs": [],
   "source": [
    "from pandas_datareader import data as pdr\n",
    "import pandas as pd\n",
    "from datetime import date\n",
    "\n",
    "import yfinance as yf\n",
    "#yf.pdr_override()  # <== that's all it takes :-)\n",
    "\n",
    "sym = \"INFY\"\n",
    "\n"
   ]
  },
  {
   "cell_type": "code",
   "execution_count": null,
   "id": "9571f6f0",
   "metadata": {},
   "outputs": [],
   "source": [
    "# download dataframe\n",
    "data = pdr.get_data_yahoo(sym+\".NS\", start=date(2019,8,13),end=date(2021,9,13))\n",
    "df = pd.DataFrame(data)\n",
    "df.to_csv(sym+\".csv\")"
   ]
  },
  {
   "cell_type": "code",
   "execution_count": 4,
   "id": "250a10d5",
   "metadata": {},
   "outputs": [
    {
     "name": "stdout",
     "output_type": "stream",
     "text": [
      "[*********************100%***********************]  1 of 1 completed\n"
     ]
    }
   ],
   "source": [
    "data = yf.download(tickers='IRCTC.NS', period='1y', interval='1h')\n",
    "data.to_csv(\"IRCTC.csv\")"
   ]
  },
  {
   "cell_type": "code",
   "execution_count": 3,
   "id": "1be25d2e",
   "metadata": {},
   "outputs": [
    {
     "name": "stdout",
     "output_type": "stream",
     "text": [
      "[*********************100%***********************]  1 of 1 completed\n"
     ]
    },
    {
     "data": {
      "text/html": [
       "<div>\n",
       "<style scoped>\n",
       "    .dataframe tbody tr th:only-of-type {\n",
       "        vertical-align: middle;\n",
       "    }\n",
       "\n",
       "    .dataframe tbody tr th {\n",
       "        vertical-align: top;\n",
       "    }\n",
       "\n",
       "    .dataframe thead th {\n",
       "        text-align: right;\n",
       "    }\n",
       "</style>\n",
       "<table border=\"1\" class=\"dataframe\">\n",
       "  <thead>\n",
       "    <tr style=\"text-align: right;\">\n",
       "      <th></th>\n",
       "      <th>Open</th>\n",
       "      <th>High</th>\n",
       "      <th>Low</th>\n",
       "      <th>Close</th>\n",
       "      <th>Adj Close</th>\n",
       "      <th>Volume</th>\n",
       "    </tr>\n",
       "  </thead>\n",
       "  <tbody>\n",
       "    <tr>\n",
       "      <th>2020-10-26 09:15:00+05:30</th>\n",
       "      <td>1330.000000</td>\n",
       "      <td>1330.900024</td>\n",
       "      <td>1319.349976</td>\n",
       "      <td>1322.000000</td>\n",
       "      <td>1322.000000</td>\n",
       "      <td>0</td>\n",
       "    </tr>\n",
       "    <tr>\n",
       "      <th>2020-10-26 10:15:00+05:30</th>\n",
       "      <td>1322.000000</td>\n",
       "      <td>1324.949951</td>\n",
       "      <td>1321.000000</td>\n",
       "      <td>1321.949951</td>\n",
       "      <td>1321.949951</td>\n",
       "      <td>11181</td>\n",
       "    </tr>\n",
       "    <tr>\n",
       "      <th>2020-10-26 11:15:00+05:30</th>\n",
       "      <td>1321.949951</td>\n",
       "      <td>1322.000000</td>\n",
       "      <td>1318.000000</td>\n",
       "      <td>1319.199951</td>\n",
       "      <td>1319.199951</td>\n",
       "      <td>22152</td>\n",
       "    </tr>\n",
       "    <tr>\n",
       "      <th>2020-10-26 12:15:00+05:30</th>\n",
       "      <td>1319.949951</td>\n",
       "      <td>1327.949951</td>\n",
       "      <td>1318.000000</td>\n",
       "      <td>1326.900024</td>\n",
       "      <td>1326.900024</td>\n",
       "      <td>36420</td>\n",
       "    </tr>\n",
       "    <tr>\n",
       "      <th>2020-10-26 13:15:00+05:30</th>\n",
       "      <td>1326.800049</td>\n",
       "      <td>1326.800049</td>\n",
       "      <td>1319.000000</td>\n",
       "      <td>1319.949951</td>\n",
       "      <td>1319.949951</td>\n",
       "      <td>18454</td>\n",
       "    </tr>\n",
       "    <tr>\n",
       "      <th>...</th>\n",
       "      <td>...</td>\n",
       "      <td>...</td>\n",
       "      <td>...</td>\n",
       "      <td>...</td>\n",
       "      <td>...</td>\n",
       "      <td>...</td>\n",
       "    </tr>\n",
       "    <tr>\n",
       "      <th>2021-10-25 11:15:00+05:30</th>\n",
       "      <td>4129.950195</td>\n",
       "      <td>4189.350098</td>\n",
       "      <td>4073.600098</td>\n",
       "      <td>4104.799805</td>\n",
       "      <td>4104.799805</td>\n",
       "      <td>690685</td>\n",
       "    </tr>\n",
       "    <tr>\n",
       "      <th>2021-10-25 12:15:00+05:30</th>\n",
       "      <td>4103.000000</td>\n",
       "      <td>4150.000000</td>\n",
       "      <td>4083.250000</td>\n",
       "      <td>4130.350098</td>\n",
       "      <td>4130.350098</td>\n",
       "      <td>368161</td>\n",
       "    </tr>\n",
       "    <tr>\n",
       "      <th>2021-10-25 13:15:00+05:30</th>\n",
       "      <td>4130.350098</td>\n",
       "      <td>4132.500000</td>\n",
       "      <td>4053.199951</td>\n",
       "      <td>4064.949951</td>\n",
       "      <td>4064.949951</td>\n",
       "      <td>415712</td>\n",
       "    </tr>\n",
       "    <tr>\n",
       "      <th>2021-10-25 14:15:00+05:30</th>\n",
       "      <td>4063.949951</td>\n",
       "      <td>4107.950195</td>\n",
       "      <td>4000.449951</td>\n",
       "      <td>4004.000000</td>\n",
       "      <td>4004.000000</td>\n",
       "      <td>949803</td>\n",
       "    </tr>\n",
       "    <tr>\n",
       "      <th>2021-10-25 15:15:00+05:30</th>\n",
       "      <td>4021.399902</td>\n",
       "      <td>4034.800049</td>\n",
       "      <td>4000.850098</td>\n",
       "      <td>4029.000000</td>\n",
       "      <td>4029.000000</td>\n",
       "      <td>474218</td>\n",
       "    </tr>\n",
       "  </tbody>\n",
       "</table>\n",
       "<p>1724 rows × 6 columns</p>\n",
       "</div>"
      ],
      "text/plain": [
       "                                  Open         High          Low        Close  \\\n",
       "2020-10-26 09:15:00+05:30  1330.000000  1330.900024  1319.349976  1322.000000   \n",
       "2020-10-26 10:15:00+05:30  1322.000000  1324.949951  1321.000000  1321.949951   \n",
       "2020-10-26 11:15:00+05:30  1321.949951  1322.000000  1318.000000  1319.199951   \n",
       "2020-10-26 12:15:00+05:30  1319.949951  1327.949951  1318.000000  1326.900024   \n",
       "2020-10-26 13:15:00+05:30  1326.800049  1326.800049  1319.000000  1319.949951   \n",
       "...                                ...          ...          ...          ...   \n",
       "2021-10-25 11:15:00+05:30  4129.950195  4189.350098  4073.600098  4104.799805   \n",
       "2021-10-25 12:15:00+05:30  4103.000000  4150.000000  4083.250000  4130.350098   \n",
       "2021-10-25 13:15:00+05:30  4130.350098  4132.500000  4053.199951  4064.949951   \n",
       "2021-10-25 14:15:00+05:30  4063.949951  4107.950195  4000.449951  4004.000000   \n",
       "2021-10-25 15:15:00+05:30  4021.399902  4034.800049  4000.850098  4029.000000   \n",
       "\n",
       "                             Adj Close  Volume  \n",
       "2020-10-26 09:15:00+05:30  1322.000000       0  \n",
       "2020-10-26 10:15:00+05:30  1321.949951   11181  \n",
       "2020-10-26 11:15:00+05:30  1319.199951   22152  \n",
       "2020-10-26 12:15:00+05:30  1326.900024   36420  \n",
       "2020-10-26 13:15:00+05:30  1319.949951   18454  \n",
       "...                                ...     ...  \n",
       "2021-10-25 11:15:00+05:30  4104.799805  690685  \n",
       "2021-10-25 12:15:00+05:30  4130.350098  368161  \n",
       "2021-10-25 13:15:00+05:30  4064.949951  415712  \n",
       "2021-10-25 14:15:00+05:30  4004.000000  949803  \n",
       "2021-10-25 15:15:00+05:30  4029.000000  474218  \n",
       "\n",
       "[1724 rows x 6 columns]"
      ]
     },
     "execution_count": 3,
     "metadata": {},
     "output_type": "execute_result"
    }
   ],
   "source": [
    "data = yf.download(tickers='IRCTC.NS', period='1y', interval='1d')\n",
    "data.to_json(\"IRCTC.json\")\n"
   ]
  },
  {
   "cell_type": "code",
   "execution_count": 10,
   "id": "4d406a20",
   "metadata": {},
   "outputs": [],
   "source": [
    "var = yf.Ticker(\"IRCTC.NS\")"
   ]
  },
  {
   "cell_type": "code",
   "execution_count": 11,
   "id": "6b4c4245",
   "metadata": {},
   "outputs": [
    {
     "name": "stdout",
     "output_type": "stream",
     "text": [
      "- IRCTC.NS: No data found for this date range, symbol may be delisted\n"
     ]
    },
    {
     "data": {
      "text/html": [
       "<div>\n",
       "<style scoped>\n",
       "    .dataframe tbody tr th:only-of-type {\n",
       "        vertical-align: middle;\n",
       "    }\n",
       "\n",
       "    .dataframe tbody tr th {\n",
       "        vertical-align: top;\n",
       "    }\n",
       "\n",
       "    .dataframe thead th {\n",
       "        text-align: right;\n",
       "    }\n",
       "</style>\n",
       "<table border=\"1\" class=\"dataframe\">\n",
       "  <thead>\n",
       "    <tr style=\"text-align: right;\">\n",
       "      <th></th>\n",
       "      <th>Open</th>\n",
       "      <th>High</th>\n",
       "      <th>Low</th>\n",
       "      <th>Close</th>\n",
       "      <th>Adj Close</th>\n",
       "      <th>Volume</th>\n",
       "    </tr>\n",
       "    <tr>\n",
       "      <th>Date</th>\n",
       "      <th></th>\n",
       "      <th></th>\n",
       "      <th></th>\n",
       "      <th></th>\n",
       "      <th></th>\n",
       "      <th></th>\n",
       "    </tr>\n",
       "  </thead>\n",
       "  <tbody>\n",
       "  </tbody>\n",
       "</table>\n",
       "</div>"
      ],
      "text/plain": [
       "Empty DataFrame\n",
       "Columns: [Open, High, Low, Close, Adj Close, Volume]\n",
       "Index: []"
      ]
     },
     "execution_count": 11,
     "metadata": {},
     "output_type": "execute_result"
    }
   ],
   "source": [
    "var.history(period=\"1m\")"
   ]
  },
  {
   "cell_type": "code",
   "execution_count": null,
   "id": "9dcf1c7a",
   "metadata": {},
   "outputs": [],
   "source": []
  }
 ],
 "metadata": {
  "kernelspec": {
   "display_name": "Python 3",
   "language": "python",
   "name": "python3"
  },
  "language_info": {
   "codemirror_mode": {
    "name": "ipython",
    "version": 3
   },
   "file_extension": ".py",
   "mimetype": "text/x-python",
   "name": "python",
   "nbconvert_exporter": "python",
   "pygments_lexer": "ipython3",
   "version": "3.8.8"
  }
 },
 "nbformat": 4,
 "nbformat_minor": 5
}
