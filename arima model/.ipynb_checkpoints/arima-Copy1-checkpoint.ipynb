{
 "cells": [
  {
   "cell_type": "code",
   "execution_count": 1,
   "id": "5fb6139a",
   "metadata": {},
   "outputs": [],
   "source": [
    "import pandas as pd \n",
    "import numpy as np \n",
    "import os \n",
    "import matplotlib.pyplot as plt\n",
    "import time\n",
    "import yfinance as yf"
   ]
  },
  {
   "cell_type": "code",
   "execution_count": 2,
   "id": "9e066846",
   "metadata": {},
   "outputs": [],
   "source": [
    "df = pd.read_csv(\"tatachem.csv\")"
   ]
  },
  {
   "cell_type": "code",
   "execution_count": 3,
   "id": "0acb33a8",
   "metadata": {},
   "outputs": [
    {
     "data": {
      "text/html": [
       "<div>\n",
       "<style scoped>\n",
       "    .dataframe tbody tr th:only-of-type {\n",
       "        vertical-align: middle;\n",
       "    }\n",
       "\n",
       "    .dataframe tbody tr th {\n",
       "        vertical-align: top;\n",
       "    }\n",
       "\n",
       "    .dataframe thead th {\n",
       "        text-align: right;\n",
       "    }\n",
       "</style>\n",
       "<table border=\"1\" class=\"dataframe\">\n",
       "  <thead>\n",
       "    <tr style=\"text-align: right;\">\n",
       "      <th></th>\n",
       "      <th>Datetime</th>\n",
       "      <th>Open</th>\n",
       "      <th>High</th>\n",
       "      <th>Low</th>\n",
       "      <th>Close</th>\n",
       "      <th>Adj Close</th>\n",
       "      <th>Volume</th>\n",
       "    </tr>\n",
       "  </thead>\n",
       "  <tbody>\n",
       "    <tr>\n",
       "      <th>0</th>\n",
       "      <td>2021-09-29 09:15:00+05:30</td>\n",
       "      <td>904.299988</td>\n",
       "      <td>904.299988</td>\n",
       "      <td>899.250000</td>\n",
       "      <td>900.400024</td>\n",
       "      <td>900.400024</td>\n",
       "      <td>0</td>\n",
       "    </tr>\n",
       "    <tr>\n",
       "      <th>1</th>\n",
       "      <td>2021-09-29 09:16:00+05:30</td>\n",
       "      <td>899.450012</td>\n",
       "      <td>900.049988</td>\n",
       "      <td>898.849976</td>\n",
       "      <td>899.650024</td>\n",
       "      <td>899.650024</td>\n",
       "      <td>31145</td>\n",
       "    </tr>\n",
       "    <tr>\n",
       "      <th>2</th>\n",
       "      <td>2021-09-29 09:17:00+05:30</td>\n",
       "      <td>901.000000</td>\n",
       "      <td>901.000000</td>\n",
       "      <td>896.099976</td>\n",
       "      <td>896.950012</td>\n",
       "      <td>896.950012</td>\n",
       "      <td>23329</td>\n",
       "    </tr>\n",
       "    <tr>\n",
       "      <th>3</th>\n",
       "      <td>2021-09-29 09:18:00+05:30</td>\n",
       "      <td>896.000000</td>\n",
       "      <td>896.700012</td>\n",
       "      <td>895.400024</td>\n",
       "      <td>896.700012</td>\n",
       "      <td>896.700012</td>\n",
       "      <td>24065</td>\n",
       "    </tr>\n",
       "    <tr>\n",
       "      <th>4</th>\n",
       "      <td>2021-09-29 09:19:00+05:30</td>\n",
       "      <td>897.000000</td>\n",
       "      <td>898.400024</td>\n",
       "      <td>896.450012</td>\n",
       "      <td>896.450012</td>\n",
       "      <td>896.450012</td>\n",
       "      <td>11013</td>\n",
       "    </tr>\n",
       "  </tbody>\n",
       "</table>\n",
       "</div>"
      ],
      "text/plain": [
       "                    Datetime        Open        High         Low       Close  \\\n",
       "0  2021-09-29 09:15:00+05:30  904.299988  904.299988  899.250000  900.400024   \n",
       "1  2021-09-29 09:16:00+05:30  899.450012  900.049988  898.849976  899.650024   \n",
       "2  2021-09-29 09:17:00+05:30  901.000000  901.000000  896.099976  896.950012   \n",
       "3  2021-09-29 09:18:00+05:30  896.000000  896.700012  895.400024  896.700012   \n",
       "4  2021-09-29 09:19:00+05:30  897.000000  898.400024  896.450012  896.450012   \n",
       "\n",
       "    Adj Close  Volume  \n",
       "0  900.400024       0  \n",
       "1  899.650024   31145  \n",
       "2  896.950012   23329  \n",
       "3  896.700012   24065  \n",
       "4  896.450012   11013  "
      ]
     },
     "execution_count": 3,
     "metadata": {},
     "output_type": "execute_result"
    }
   ],
   "source": [
    "df.head()"
   ]
  },
  {
   "cell_type": "code",
   "execution_count": 4,
   "id": "7e084a79",
   "metadata": {},
   "outputs": [
    {
     "data": {
      "text/html": [
       "<div>\n",
       "<style scoped>\n",
       "    .dataframe tbody tr th:only-of-type {\n",
       "        vertical-align: middle;\n",
       "    }\n",
       "\n",
       "    .dataframe tbody tr th {\n",
       "        vertical-align: top;\n",
       "    }\n",
       "\n",
       "    .dataframe thead th {\n",
       "        text-align: right;\n",
       "    }\n",
       "</style>\n",
       "<table border=\"1\" class=\"dataframe\">\n",
       "  <thead>\n",
       "    <tr style=\"text-align: right;\">\n",
       "      <th></th>\n",
       "      <th>Datetime</th>\n",
       "      <th>Open</th>\n",
       "      <th>High</th>\n",
       "      <th>Low</th>\n",
       "      <th>Close</th>\n",
       "      <th>Adj Close</th>\n",
       "      <th>Volume</th>\n",
       "    </tr>\n",
       "  </thead>\n",
       "  <tbody>\n",
       "    <tr>\n",
       "      <th>1551</th>\n",
       "      <td>2021-10-05 10:06:00+05:30</td>\n",
       "      <td>935.950012</td>\n",
       "      <td>936.200012</td>\n",
       "      <td>934.700012</td>\n",
       "      <td>936.200012</td>\n",
       "      <td>936.200012</td>\n",
       "      <td>13395</td>\n",
       "    </tr>\n",
       "    <tr>\n",
       "      <th>1552</th>\n",
       "      <td>2021-10-05 10:07:00+05:30</td>\n",
       "      <td>935.900024</td>\n",
       "      <td>937.450012</td>\n",
       "      <td>935.900024</td>\n",
       "      <td>936.849976</td>\n",
       "      <td>936.849976</td>\n",
       "      <td>13277</td>\n",
       "    </tr>\n",
       "    <tr>\n",
       "      <th>1553</th>\n",
       "      <td>2021-10-05 10:08:00+05:30</td>\n",
       "      <td>936.500000</td>\n",
       "      <td>936.900024</td>\n",
       "      <td>935.000000</td>\n",
       "      <td>936.799988</td>\n",
       "      <td>936.799988</td>\n",
       "      <td>10620</td>\n",
       "    </tr>\n",
       "    <tr>\n",
       "      <th>1554</th>\n",
       "      <td>2021-10-05 10:09:00+05:30</td>\n",
       "      <td>936.099976</td>\n",
       "      <td>938.000000</td>\n",
       "      <td>936.049988</td>\n",
       "      <td>938.000000</td>\n",
       "      <td>938.000000</td>\n",
       "      <td>8813</td>\n",
       "    </tr>\n",
       "    <tr>\n",
       "      <th>1555</th>\n",
       "      <td>2021-10-05 10:10:58+05:30</td>\n",
       "      <td>938.099976</td>\n",
       "      <td>938.099976</td>\n",
       "      <td>938.099976</td>\n",
       "      <td>938.099976</td>\n",
       "      <td>938.099976</td>\n",
       "      <td>0</td>\n",
       "    </tr>\n",
       "  </tbody>\n",
       "</table>\n",
       "</div>"
      ],
      "text/plain": [
       "                       Datetime        Open        High         Low  \\\n",
       "1551  2021-10-05 10:06:00+05:30  935.950012  936.200012  934.700012   \n",
       "1552  2021-10-05 10:07:00+05:30  935.900024  937.450012  935.900024   \n",
       "1553  2021-10-05 10:08:00+05:30  936.500000  936.900024  935.000000   \n",
       "1554  2021-10-05 10:09:00+05:30  936.099976  938.000000  936.049988   \n",
       "1555  2021-10-05 10:10:58+05:30  938.099976  938.099976  938.099976   \n",
       "\n",
       "           Close   Adj Close  Volume  \n",
       "1551  936.200012  936.200012   13395  \n",
       "1552  936.849976  936.849976   13277  \n",
       "1553  936.799988  936.799988   10620  \n",
       "1554  938.000000  938.000000    8813  \n",
       "1555  938.099976  938.099976       0  "
      ]
     },
     "execution_count": 4,
     "metadata": {},
     "output_type": "execute_result"
    }
   ],
   "source": [
    "df.tail()"
   ]
  },
  {
   "cell_type": "code",
   "execution_count": 5,
   "id": "7840d9fd",
   "metadata": {},
   "outputs": [],
   "source": [
    "df= df[\"High\"].copy()"
   ]
  },
  {
   "cell_type": "code",
   "execution_count": 6,
   "id": "a7ed71bf",
   "metadata": {},
   "outputs": [
    {
     "data": {
      "text/plain": [
       "0       904.299988\n",
       "1       900.049988\n",
       "2       901.000000\n",
       "3       896.700012\n",
       "4       898.400024\n",
       "           ...    \n",
       "1551    936.200012\n",
       "1552    937.450012\n",
       "1553    936.900024\n",
       "1554    938.000000\n",
       "1555    938.099976\n",
       "Name: High, Length: 1556, dtype: float64"
      ]
     },
     "execution_count": 6,
     "metadata": {},
     "output_type": "execute_result"
    }
   ],
   "source": [
    "df"
   ]
  },
  {
   "cell_type": "code",
   "execution_count": 7,
   "id": "04df3723",
   "metadata": {},
   "outputs": [
    {
     "data": {
      "text/plain": [
       "count    1556.000000\n",
       "mean      918.060316\n",
       "std         9.585394\n",
       "min       896.700012\n",
       "25%       912.000000\n",
       "50%       915.000000\n",
       "75%       922.950012\n",
       "max       952.000000\n",
       "Name: High, dtype: float64"
      ]
     },
     "execution_count": 7,
     "metadata": {},
     "output_type": "execute_result"
    }
   ],
   "source": [
    "df.describe()"
   ]
  },
  {
   "cell_type": "code",
   "execution_count": 8,
   "id": "9a65091b",
   "metadata": {},
   "outputs": [],
   "source": [
    "n = int(len(df)*0.8)\n",
    "train = df[:n]\n",
    "test = df[n:]"
   ]
  },
  {
   "cell_type": "code",
   "execution_count": 9,
   "id": "3dcc2ddc",
   "metadata": {},
   "outputs": [
    {
     "name": "stdout",
     "output_type": "stream",
     "text": [
      "1244\n",
      "312\n"
     ]
    }
   ],
   "source": [
    "print(len(train))\n",
    "print(len(test))"
   ]
  },
  {
   "cell_type": "code",
   "execution_count": 10,
   "id": "841da8c8",
   "metadata": {},
   "outputs": [],
   "source": [
    "from statsmodels.tsa.arima_model import ARIMA"
   ]
  },
  {
   "cell_type": "code",
   "execution_count": 11,
   "id": "d59d44ab",
   "metadata": {},
   "outputs": [
    {
     "name": "stderr",
     "output_type": "stream",
     "text": [
      "C:\\Users\\acer\\anaconda3\\lib\\site-packages\\statsmodels\\tsa\\arima_model.py:472: FutureWarning: \n",
      "statsmodels.tsa.arima_model.ARMA and statsmodels.tsa.arima_model.ARIMA have\n",
      "been deprecated in favor of statsmodels.tsa.arima.model.ARIMA (note the .\n",
      "between arima and model) and\n",
      "statsmodels.tsa.SARIMAX. These will be removed after the 0.12 release.\n",
      "\n",
      "statsmodels.tsa.arima.model.ARIMA makes use of the statespace framework and\n",
      "is both well tested and maintained.\n",
      "\n",
      "To silence this warning and continue using ARMA and ARIMA until they are\n",
      "removed, use:\n",
      "\n",
      "import warnings\n",
      "warnings.filterwarnings('ignore', 'statsmodels.tsa.arima_model.ARMA',\n",
      "                        FutureWarning)\n",
      "warnings.filterwarnings('ignore', 'statsmodels.tsa.arima_model.ARIMA',\n",
      "                        FutureWarning)\n",
      "\n",
      "  warnings.warn(ARIMA_DEPRECATION_WARN, FutureWarning)\n",
      "C:\\Users\\acer\\anaconda3\\lib\\site-packages\\statsmodels\\tsa\\arima_model.py:472: FutureWarning: \n",
      "statsmodels.tsa.arima_model.ARMA and statsmodels.tsa.arima_model.ARIMA have\n",
      "been deprecated in favor of statsmodels.tsa.arima.model.ARIMA (note the .\n",
      "between arima and model) and\n",
      "statsmodels.tsa.SARIMAX. These will be removed after the 0.12 release.\n",
      "\n",
      "statsmodels.tsa.arima.model.ARIMA makes use of the statespace framework and\n",
      "is both well tested and maintained.\n",
      "\n",
      "To silence this warning and continue using ARMA and ARIMA until they are\n",
      "removed, use:\n",
      "\n",
      "import warnings\n",
      "warnings.filterwarnings('ignore', 'statsmodels.tsa.arima_model.ARMA',\n",
      "                        FutureWarning)\n",
      "warnings.filterwarnings('ignore', 'statsmodels.tsa.arima_model.ARIMA',\n",
      "                        FutureWarning)\n",
      "\n",
      "  warnings.warn(ARIMA_DEPRECATION_WARN, FutureWarning)\n"
     ]
    }
   ],
   "source": [
    "model = ARIMA(df, order=(4,1,3))\n",
    "result = model.fit(disp=0)"
   ]
  },
  {
   "cell_type": "code",
   "execution_count": 12,
   "id": "57355c3f",
   "metadata": {},
   "outputs": [
    {
     "data": {
      "text/html": [
       "<table class=\"simpletable\">\n",
       "<caption>ARIMA Model Results</caption>\n",
       "<tr>\n",
       "  <th>Dep. Variable:</th>      <td>D.High</td>      <th>  No. Observations:  </th>   <td>1555</td>   \n",
       "</tr>\n",
       "<tr>\n",
       "  <th>Model:</th>          <td>ARIMA(4, 1, 3)</td>  <th>  Log Likelihood     </th> <td>-2179.922</td>\n",
       "</tr>\n",
       "<tr>\n",
       "  <th>Method:</th>             <td>css-mle</td>     <th>  S.D. of innovations</th>   <td>0.983</td>  \n",
       "</tr>\n",
       "<tr>\n",
       "  <th>Date:</th>          <td>Tue, 05 Oct 2021</td> <th>  AIC                </th> <td>4377.844</td> \n",
       "</tr>\n",
       "<tr>\n",
       "  <th>Time:</th>              <td>14:28:36</td>     <th>  BIC                </th> <td>4425.987</td> \n",
       "</tr>\n",
       "<tr>\n",
       "  <th>Sample:</th>                <td>1</td>        <th>  HQIC               </th> <td>4395.747</td> \n",
       "</tr>\n",
       "<tr>\n",
       "  <th></th>                       <td> </td>        <th>                     </th>     <td> </td>    \n",
       "</tr>\n",
       "</table>\n",
       "<table class=\"simpletable\">\n",
       "<tr>\n",
       "        <td></td>          <th>coef</th>     <th>std err</th>      <th>z</th>      <th>P>|z|</th>  <th>[0.025</th>    <th>0.975]</th>  \n",
       "</tr>\n",
       "<tr>\n",
       "  <th>const</th>        <td>    0.0131</td> <td>    0.009</td> <td>    1.412</td> <td> 0.158</td> <td>   -0.005</td> <td>    0.031</td>\n",
       "</tr>\n",
       "<tr>\n",
       "  <th>ar.L1.D.High</th> <td>   -0.0468</td> <td>    0.078</td> <td>   -0.603</td> <td> 0.546</td> <td>   -0.199</td> <td>    0.105</td>\n",
       "</tr>\n",
       "<tr>\n",
       "  <th>ar.L2.D.High</th> <td>    0.2241</td> <td>    0.051</td> <td>    4.434</td> <td> 0.000</td> <td>    0.125</td> <td>    0.323</td>\n",
       "</tr>\n",
       "<tr>\n",
       "  <th>ar.L3.D.High</th> <td>    0.8840</td> <td>    0.072</td> <td>   12.315</td> <td> 0.000</td> <td>    0.743</td> <td>    1.025</td>\n",
       "</tr>\n",
       "<tr>\n",
       "  <th>ar.L4.D.High</th> <td>   -0.0750</td> <td>    0.030</td> <td>   -2.528</td> <td> 0.011</td> <td>   -0.133</td> <td>   -0.017</td>\n",
       "</tr>\n",
       "<tr>\n",
       "  <th>ma.L1.D.High</th> <td>    0.1522</td> <td>    0.072</td> <td>    2.107</td> <td> 0.035</td> <td>    0.011</td> <td>    0.294</td>\n",
       "</tr>\n",
       "<tr>\n",
       "  <th>ma.L2.D.High</th> <td>   -0.2502</td> <td>    0.049</td> <td>   -5.062</td> <td> 0.000</td> <td>   -0.347</td> <td>   -0.153</td>\n",
       "</tr>\n",
       "<tr>\n",
       "  <th>ma.L3.D.High</th> <td>   -0.9019</td> <td>    0.076</td> <td>  -11.827</td> <td> 0.000</td> <td>   -1.051</td> <td>   -0.752</td>\n",
       "</tr>\n",
       "</table>\n",
       "<table class=\"simpletable\">\n",
       "<caption>Roots</caption>\n",
       "<tr>\n",
       "    <td></td>   <th>            Real</th>  <th>         Imaginary</th> <th>         Modulus</th>  <th>        Frequency</th>\n",
       "</tr>\n",
       "<tr>\n",
       "  <th>AR.1</th> <td>          -0.6207</td> <td>          -0.8475j</td> <td>           1.0505</td> <td>          -0.3506</td>\n",
       "</tr>\n",
       "<tr>\n",
       "  <th>AR.2</th> <td>          -0.6207</td> <td>          +0.8475j</td> <td>           1.0505</td> <td>           0.3506</td>\n",
       "</tr>\n",
       "<tr>\n",
       "  <th>AR.3</th> <td>           1.0050</td> <td>          -0.0000j</td> <td>           1.0050</td> <td>          -0.0000</td>\n",
       "</tr>\n",
       "<tr>\n",
       "  <th>AR.4</th> <td>          12.0289</td> <td>          -0.0000j</td> <td>          12.0289</td> <td>          -0.0000</td>\n",
       "</tr>\n",
       "<tr>\n",
       "  <th>MA.1</th> <td>           1.0000</td> <td>          -0.0000j</td> <td>           1.0000</td> <td>          -0.0000</td>\n",
       "</tr>\n",
       "<tr>\n",
       "  <th>MA.2</th> <td>          -0.6387</td> <td>          -0.8371j</td> <td>           1.0530</td> <td>          -0.3537</td>\n",
       "</tr>\n",
       "<tr>\n",
       "  <th>MA.3</th> <td>          -0.6387</td> <td>          +0.8371j</td> <td>           1.0530</td> <td>           0.3537</td>\n",
       "</tr>\n",
       "</table>"
      ],
      "text/plain": [
       "<class 'statsmodels.iolib.summary.Summary'>\n",
       "\"\"\"\n",
       "                             ARIMA Model Results                              \n",
       "==============================================================================\n",
       "Dep. Variable:                 D.High   No. Observations:                 1555\n",
       "Model:                 ARIMA(4, 1, 3)   Log Likelihood               -2179.922\n",
       "Method:                       css-mle   S.D. of innovations              0.983\n",
       "Date:                Tue, 05 Oct 2021   AIC                           4377.844\n",
       "Time:                        14:28:36   BIC                           4425.987\n",
       "Sample:                             1   HQIC                          4395.747\n",
       "                                                                              \n",
       "================================================================================\n",
       "                   coef    std err          z      P>|z|      [0.025      0.975]\n",
       "--------------------------------------------------------------------------------\n",
       "const            0.0131      0.009      1.412      0.158      -0.005       0.031\n",
       "ar.L1.D.High    -0.0468      0.078     -0.603      0.546      -0.199       0.105\n",
       "ar.L2.D.High     0.2241      0.051      4.434      0.000       0.125       0.323\n",
       "ar.L3.D.High     0.8840      0.072     12.315      0.000       0.743       1.025\n",
       "ar.L4.D.High    -0.0750      0.030     -2.528      0.011      -0.133      -0.017\n",
       "ma.L1.D.High     0.1522      0.072      2.107      0.035       0.011       0.294\n",
       "ma.L2.D.High    -0.2502      0.049     -5.062      0.000      -0.347      -0.153\n",
       "ma.L3.D.High    -0.9019      0.076    -11.827      0.000      -1.051      -0.752\n",
       "                                    Roots                                    \n",
       "=============================================================================\n",
       "                  Real          Imaginary           Modulus         Frequency\n",
       "-----------------------------------------------------------------------------\n",
       "AR.1           -0.6207           -0.8475j            1.0505           -0.3506\n",
       "AR.2           -0.6207           +0.8475j            1.0505            0.3506\n",
       "AR.3            1.0050           -0.0000j            1.0050           -0.0000\n",
       "AR.4           12.0289           -0.0000j           12.0289           -0.0000\n",
       "MA.1            1.0000           -0.0000j            1.0000           -0.0000\n",
       "MA.2           -0.6387           -0.8371j            1.0530           -0.3537\n",
       "MA.3           -0.6387           +0.8371j            1.0530            0.3537\n",
       "-----------------------------------------------------------------------------\n",
       "\"\"\""
      ]
     },
     "execution_count": 12,
     "metadata": {},
     "output_type": "execute_result"
    }
   ],
   "source": [
    "result.summary()"
   ]
  },
  {
   "cell_type": "code",
   "execution_count": 13,
   "id": "c1e13c23",
   "metadata": {},
   "outputs": [],
   "source": [
    "step = 25 \n",
    "fc , se, conf = result.forecast(step )"
   ]
  },
  {
   "cell_type": "code",
   "execution_count": 14,
   "id": "e22931c1",
   "metadata": {},
   "outputs": [
    {
     "data": {
      "text/plain": [
       "array([937.94960053, 937.7988831 , 937.99868828, 937.81531151,\n",
       "       937.74688223, 937.89710903, 937.69783361, 937.69425874,\n",
       "       937.78788911, 937.59545732, 937.63740545, 937.67554315,\n",
       "       937.50620266, 937.57436596, 937.56398056, 937.42735939,\n",
       "       937.50456209, 937.45622384, 937.35596748, 937.42850171,\n",
       "       937.35430126, 937.28920241, 937.34744241, 937.25927602,\n",
       "       937.22464716])"
      ]
     },
     "execution_count": 14,
     "metadata": {},
     "output_type": "execute_result"
    }
   ],
   "source": [
    "fc"
   ]
  },
  {
   "cell_type": "code",
   "execution_count": 15,
   "id": "e63603d7",
   "metadata": {},
   "outputs": [
    {
     "data": {
      "text/plain": [
       "array([0.98256495, 1.46456976, 1.80529514, 2.09479234, 2.35371874,\n",
       "       2.57306782, 2.77983609, 2.9725263 , 3.14428975, 3.31183663,\n",
       "       3.46915751, 3.61372973, 3.75674029, 3.89113043, 4.01750998,\n",
       "       4.14304097, 4.26106066, 4.37410045, 4.48622517, 4.59186299,\n",
       "       4.6944956 , 4.79586092, 4.89175628, 4.98589505, 5.07837031])"
      ]
     },
     "execution_count": 15,
     "metadata": {},
     "output_type": "execute_result"
    }
   ],
   "source": [
    "se"
   ]
  },
  {
   "cell_type": "code",
   "execution_count": 16,
   "id": "2939bd02",
   "metadata": {},
   "outputs": [],
   "source": [
    "mse = np.mean(se)"
   ]
  },
  {
   "cell_type": "code",
   "execution_count": 17,
   "id": "2457aaf5",
   "metadata": {},
   "outputs": [
    {
     "name": "stdout",
     "output_type": "stream",
     "text": [
      "<pandas._libs.properties.CachedProperty object at 0x000002055D306B00>\n"
     ]
    }
   ],
   "source": []
  },
  {
   "cell_type": "code",
   "execution_count": 18,
   "id": "5ebc03f4",
   "metadata": {
    "scrolled": true
   },
   "outputs": [],
   "source": [
    "#df_d=df.to_numpy()"
   ]
  },
  {
   "cell_type": "code",
   "execution_count": 19,
   "id": "b715d5d4",
   "metadata": {},
   "outputs": [],
   "source": [
    "#df_d"
   ]
  },
  {
   "cell_type": "code",
   "execution_count": 20,
   "id": "4416b279",
   "metadata": {},
   "outputs": [],
   "source": [
    "#df_d=np.concatenate((df_d,fc))"
   ]
  },
  {
   "cell_type": "code",
   "execution_count": 21,
   "id": "e8027a37",
   "metadata": {
    "scrolled": true
   },
   "outputs": [],
   "source": [
    "#plt.plot(df_d)\n",
    "#plt.plot(df)\n",
    "\n",
    "#plt.show()"
   ]
  },
  {
   "cell_type": "code",
   "execution_count": 22,
   "id": "2000f20d",
   "metadata": {},
   "outputs": [],
   "source": [
    "import plotly.express as px"
   ]
  },
  {
   "cell_type": "code",
   "execution_count": 23,
   "id": "689bd267",
   "metadata": {},
   "outputs": [
    {
     "ename": "NameError",
     "evalue": "name 'df_d' is not defined",
     "output_type": "error",
     "traceback": [
      "\u001b[1;31m---------------------------------------------------------------------------\u001b[0m",
      "\u001b[1;31mNameError\u001b[0m                                 Traceback (most recent call last)",
      "\u001b[1;32m<ipython-input-23-c26b034936c9>\u001b[0m in \u001b[0;36m<module>\u001b[1;34m\u001b[0m\n\u001b[1;32m----> 1\u001b[1;33m \u001b[0mdf_d\u001b[0m\u001b[1;33m\u001b[0m\u001b[1;33m\u001b[0m\u001b[0m\n\u001b[0m",
      "\u001b[1;31mNameError\u001b[0m: name 'df_d' is not defined"
     ]
    }
   ],
   "source": [
    "df_d"
   ]
  },
  {
   "cell_type": "code",
   "execution_count": null,
   "id": "803d3b47",
   "metadata": {},
   "outputs": [],
   "source": [
    "fig = px.line(df_d)\n",
    "fig.show()\n",
    "fig = px.line(df)\n",
    "fig.show()"
   ]
  },
  {
   "cell_type": "code",
   "execution_count": null,
   "id": "953fe95c",
   "metadata": {},
   "outputs": [],
   "source": [
    "dffc= pd.DataFrame(data=fc)\n",
    "dffc"
   ]
  },
  {
   "cell_type": "code",
   "execution_count": null,
   "id": "ff488a5e",
   "metadata": {},
   "outputs": [],
   "source": [
    "from sklearn.metrics import mean_squared_error, r2_score, mean_absolute_error"
   ]
  },
  {
   "cell_type": "code",
   "execution_count": null,
   "id": "e73fb413",
   "metadata": {},
   "outputs": [],
   "source": [
    "test = pd.DataFrame(data=df[-25:])"
   ]
  },
  {
   "cell_type": "code",
   "execution_count": null,
   "id": "293577b1",
   "metadata": {},
   "outputs": [],
   "source": [
    "test"
   ]
  },
  {
   "cell_type": "code",
   "execution_count": null,
   "id": "2c961774",
   "metadata": {},
   "outputs": [],
   "source": [
    "mse = mean_squared_error(test, dffc)\n",
    "mae = mean_absolute_error(test,dffc)\n",
    "r2 = r2_score(test, dffc)"
   ]
  },
  {
   "cell_type": "code",
   "execution_count": null,
   "id": "ce23afbc",
   "metadata": {},
   "outputs": [],
   "source": [
    "mse"
   ]
  },
  {
   "cell_type": "code",
   "execution_count": null,
   "id": "ad946505",
   "metadata": {},
   "outputs": [],
   "source": [
    "mae"
   ]
  },
  {
   "cell_type": "code",
   "execution_count": null,
   "id": "e10ff437",
   "metadata": {},
   "outputs": [],
   "source": [
    "r2"
   ]
  },
  {
   "cell_type": "code",
   "execution_count": null,
   "id": "f77c76e3",
   "metadata": {},
   "outputs": [],
   "source": []
  },
  {
   "cell_type": "code",
   "execution_count": null,
   "id": "67282c17",
   "metadata": {},
   "outputs": [],
   "source": []
  },
  {
   "cell_type": "code",
   "execution_count": null,
   "id": "1b944465",
   "metadata": {},
   "outputs": [],
   "source": []
  }
 ],
 "metadata": {
  "kernelspec": {
   "display_name": "Python 3",
   "language": "python",
   "name": "python3"
  },
  "language_info": {
   "codemirror_mode": {
    "name": "ipython",
    "version": 3
   },
   "file_extension": ".py",
   "mimetype": "text/x-python",
   "name": "python",
   "nbconvert_exporter": "python",
   "pygments_lexer": "ipython3",
   "version": "3.8.8"
  }
 },
 "nbformat": 4,
 "nbformat_minor": 5
}
