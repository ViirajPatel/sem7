{
 "cells": [
  {
   "cell_type": "code",
   "execution_count": 1,
   "id": "5fb6139a",
   "metadata": {},
   "outputs": [],
   "source": [
    "import pandas as pd \n",
    "import numpy as np \n",
    "import os \n",
    "import matplotlib.pyplot as plt\n",
    "import time\n",
    "import yfinance as yf"
   ]
  },
  {
   "cell_type": "code",
   "execution_count": 2,
   "id": "9e066846",
   "metadata": {},
   "outputs": [],
   "source": [
    "df = pd.read_csv(\"tatamotors.csv\")"
   ]
  },
  {
   "cell_type": "code",
   "execution_count": 3,
   "id": "0acb33a8",
   "metadata": {},
   "outputs": [
    {
     "data": {
      "text/html": [
       "<div>\n",
       "<style scoped>\n",
       "    .dataframe tbody tr th:only-of-type {\n",
       "        vertical-align: middle;\n",
       "    }\n",
       "\n",
       "    .dataframe tbody tr th {\n",
       "        vertical-align: top;\n",
       "    }\n",
       "\n",
       "    .dataframe thead th {\n",
       "        text-align: right;\n",
       "    }\n",
       "</style>\n",
       "<table border=\"1\" class=\"dataframe\">\n",
       "  <thead>\n",
       "    <tr style=\"text-align: right;\">\n",
       "      <th></th>\n",
       "      <th>Unnamed: 0</th>\n",
       "      <th>Open</th>\n",
       "      <th>High</th>\n",
       "      <th>Low</th>\n",
       "      <th>Close</th>\n",
       "      <th>Adj Close</th>\n",
       "      <th>Volume</th>\n",
       "    </tr>\n",
       "  </thead>\n",
       "  <tbody>\n",
       "    <tr>\n",
       "      <th>0</th>\n",
       "      <td>2020-12-07 09:15:00+05:30</td>\n",
       "      <td>184.449997</td>\n",
       "      <td>186.449997</td>\n",
       "      <td>183.050003</td>\n",
       "      <td>185.350006</td>\n",
       "      <td>185.350006</td>\n",
       "      <td>0</td>\n",
       "    </tr>\n",
       "    <tr>\n",
       "      <th>1</th>\n",
       "      <td>2020-12-07 10:15:00+05:30</td>\n",
       "      <td>185.199997</td>\n",
       "      <td>185.550003</td>\n",
       "      <td>184.399994</td>\n",
       "      <td>184.949997</td>\n",
       "      <td>184.949997</td>\n",
       "      <td>6042838</td>\n",
       "    </tr>\n",
       "    <tr>\n",
       "      <th>2</th>\n",
       "      <td>2020-12-07 11:15:00+05:30</td>\n",
       "      <td>185.199997</td>\n",
       "      <td>185.300003</td>\n",
       "      <td>184.050003</td>\n",
       "      <td>184.699997</td>\n",
       "      <td>184.699997</td>\n",
       "      <td>3673533</td>\n",
       "    </tr>\n",
       "    <tr>\n",
       "      <th>3</th>\n",
       "      <td>2020-12-07 12:15:00+05:30</td>\n",
       "      <td>184.500000</td>\n",
       "      <td>185.300003</td>\n",
       "      <td>184.350006</td>\n",
       "      <td>184.699997</td>\n",
       "      <td>184.699997</td>\n",
       "      <td>4050294</td>\n",
       "    </tr>\n",
       "    <tr>\n",
       "      <th>4</th>\n",
       "      <td>2020-12-07 13:15:00+05:30</td>\n",
       "      <td>184.649994</td>\n",
       "      <td>184.899994</td>\n",
       "      <td>182.699997</td>\n",
       "      <td>183.000000</td>\n",
       "      <td>183.000000</td>\n",
       "      <td>6972677</td>\n",
       "    </tr>\n",
       "  </tbody>\n",
       "</table>\n",
       "</div>"
      ],
      "text/plain": [
       "                  Unnamed: 0        Open        High         Low       Close  \\\n",
       "0  2020-12-07 09:15:00+05:30  184.449997  186.449997  183.050003  185.350006   \n",
       "1  2020-12-07 10:15:00+05:30  185.199997  185.550003  184.399994  184.949997   \n",
       "2  2020-12-07 11:15:00+05:30  185.199997  185.300003  184.050003  184.699997   \n",
       "3  2020-12-07 12:15:00+05:30  184.500000  185.300003  184.350006  184.699997   \n",
       "4  2020-12-07 13:15:00+05:30  184.649994  184.899994  182.699997  183.000000   \n",
       "\n",
       "    Adj Close   Volume  \n",
       "0  185.350006        0  \n",
       "1  184.949997  6042838  \n",
       "2  184.699997  3673533  \n",
       "3  184.699997  4050294  \n",
       "4  183.000000  6972677  "
      ]
     },
     "execution_count": 3,
     "metadata": {},
     "output_type": "execute_result"
    }
   ],
   "source": [
    "df.head()"
   ]
  },
  {
   "cell_type": "code",
   "execution_count": 4,
   "id": "7e084a79",
   "metadata": {},
   "outputs": [
    {
     "data": {
      "text/html": [
       "<div>\n",
       "<style scoped>\n",
       "    .dataframe tbody tr th:only-of-type {\n",
       "        vertical-align: middle;\n",
       "    }\n",
       "\n",
       "    .dataframe tbody tr th {\n",
       "        vertical-align: top;\n",
       "    }\n",
       "\n",
       "    .dataframe thead th {\n",
       "        text-align: right;\n",
       "    }\n",
       "</style>\n",
       "<table border=\"1\" class=\"dataframe\">\n",
       "  <thead>\n",
       "    <tr style=\"text-align: right;\">\n",
       "      <th></th>\n",
       "      <th>Unnamed: 0</th>\n",
       "      <th>Open</th>\n",
       "      <th>High</th>\n",
       "      <th>Low</th>\n",
       "      <th>Close</th>\n",
       "      <th>Adj Close</th>\n",
       "      <th>Volume</th>\n",
       "    </tr>\n",
       "  </thead>\n",
       "  <tbody>\n",
       "    <tr>\n",
       "      <th>1436</th>\n",
       "      <td>2021-10-05 14:15:00+05:30</td>\n",
       "      <td>347.950012</td>\n",
       "      <td>348.000000</td>\n",
       "      <td>345.000000</td>\n",
       "      <td>345.049988</td>\n",
       "      <td>345.049988</td>\n",
       "      <td>3082221</td>\n",
       "    </tr>\n",
       "    <tr>\n",
       "      <th>1437</th>\n",
       "      <td>2021-10-05 15:15:00+05:30</td>\n",
       "      <td>345.049988</td>\n",
       "      <td>345.149994</td>\n",
       "      <td>344.350006</td>\n",
       "      <td>345.000000</td>\n",
       "      <td>345.000000</td>\n",
       "      <td>1656542</td>\n",
       "    </tr>\n",
       "    <tr>\n",
       "      <th>1438</th>\n",
       "      <td>2021-10-06 09:15:00+05:30</td>\n",
       "      <td>347.000000</td>\n",
       "      <td>348.700012</td>\n",
       "      <td>339.000000</td>\n",
       "      <td>340.899994</td>\n",
       "      <td>340.899994</td>\n",
       "      <td>7268293</td>\n",
       "    </tr>\n",
       "    <tr>\n",
       "      <th>1439</th>\n",
       "      <td>2021-10-06 10:15:00+05:30</td>\n",
       "      <td>340.899994</td>\n",
       "      <td>341.750000</td>\n",
       "      <td>339.149994</td>\n",
       "      <td>341.500000</td>\n",
       "      <td>341.500000</td>\n",
       "      <td>1107938</td>\n",
       "    </tr>\n",
       "    <tr>\n",
       "      <th>1440</th>\n",
       "      <td>2021-10-06 10:29:40+05:30</td>\n",
       "      <td>341.600006</td>\n",
       "      <td>341.600006</td>\n",
       "      <td>341.600006</td>\n",
       "      <td>341.600006</td>\n",
       "      <td>341.600006</td>\n",
       "      <td>0</td>\n",
       "    </tr>\n",
       "  </tbody>\n",
       "</table>\n",
       "</div>"
      ],
      "text/plain": [
       "                     Unnamed: 0        Open        High         Low  \\\n",
       "1436  2021-10-05 14:15:00+05:30  347.950012  348.000000  345.000000   \n",
       "1437  2021-10-05 15:15:00+05:30  345.049988  345.149994  344.350006   \n",
       "1438  2021-10-06 09:15:00+05:30  347.000000  348.700012  339.000000   \n",
       "1439  2021-10-06 10:15:00+05:30  340.899994  341.750000  339.149994   \n",
       "1440  2021-10-06 10:29:40+05:30  341.600006  341.600006  341.600006   \n",
       "\n",
       "           Close   Adj Close   Volume  \n",
       "1436  345.049988  345.049988  3082221  \n",
       "1437  345.000000  345.000000  1656542  \n",
       "1438  340.899994  340.899994  7268293  \n",
       "1439  341.500000  341.500000  1107938  \n",
       "1440  341.600006  341.600006        0  "
      ]
     },
     "execution_count": 4,
     "metadata": {},
     "output_type": "execute_result"
    }
   ],
   "source": [
    "df.tail()"
   ]
  },
  {
   "cell_type": "code",
   "execution_count": 5,
   "id": "7840d9fd",
   "metadata": {},
   "outputs": [],
   "source": [
    "df= df[\"High\"].copy()"
   ]
  },
  {
   "cell_type": "code",
   "execution_count": 6,
   "id": "a7ed71bf",
   "metadata": {},
   "outputs": [
    {
     "data": {
      "text/plain": [
       "0       186.449997\n",
       "1       185.550003\n",
       "2       185.300003\n",
       "3       185.300003\n",
       "4       184.899994\n",
       "           ...    \n",
       "1436    348.000000\n",
       "1437    345.149994\n",
       "1438    348.700012\n",
       "1439    341.750000\n",
       "1440    341.600006\n",
       "Name: High, Length: 1441, dtype: float64"
      ]
     },
     "execution_count": 6,
     "metadata": {},
     "output_type": "execute_result"
    }
   ],
   "source": [
    "df"
   ]
  },
  {
   "cell_type": "code",
   "execution_count": 7,
   "id": "04df3723",
   "metadata": {},
   "outputs": [
    {
     "data": {
      "text/plain": [
       "count    1441.000000\n",
       "mean      296.794761\n",
       "std        46.942573\n",
       "min       160.500000\n",
       "25%       293.500000\n",
       "50%       307.750000\n",
       "75%       325.700012\n",
       "max       360.600006\n",
       "Name: High, dtype: float64"
      ]
     },
     "execution_count": 7,
     "metadata": {},
     "output_type": "execute_result"
    }
   ],
   "source": [
    "df.describe()"
   ]
  },
  {
   "cell_type": "code",
   "execution_count": 8,
   "id": "9a65091b",
   "metadata": {},
   "outputs": [],
   "source": [
    "n = int(len(df)*0.8)\n",
    "train = df[:n]\n",
    "test = df[n:]"
   ]
  },
  {
   "cell_type": "code",
   "execution_count": 9,
   "id": "3dcc2ddc",
   "metadata": {},
   "outputs": [
    {
     "name": "stdout",
     "output_type": "stream",
     "text": [
      "1152\n",
      "289\n"
     ]
    }
   ],
   "source": [
    "print(len(train))\n",
    "print(len(test))"
   ]
  },
  {
   "cell_type": "code",
   "execution_count": 10,
   "id": "841da8c8",
   "metadata": {},
   "outputs": [],
   "source": [
    "from statsmodels.tsa.arima_model import ARIMA"
   ]
  },
  {
   "cell_type": "code",
   "execution_count": 27,
   "id": "d59d44ab",
   "metadata": {},
   "outputs": [
    {
     "name": "stderr",
     "output_type": "stream",
     "text": [
      "C:\\Users\\acer\\anaconda3\\lib\\site-packages\\statsmodels\\tsa\\arima_model.py:472: FutureWarning: \n",
      "statsmodels.tsa.arima_model.ARMA and statsmodels.tsa.arima_model.ARIMA have\n",
      "been deprecated in favor of statsmodels.tsa.arima.model.ARIMA (note the .\n",
      "between arima and model) and\n",
      "statsmodels.tsa.SARIMAX. These will be removed after the 0.12 release.\n",
      "\n",
      "statsmodels.tsa.arima.model.ARIMA makes use of the statespace framework and\n",
      "is both well tested and maintained.\n",
      "\n",
      "To silence this warning and continue using ARMA and ARIMA until they are\n",
      "removed, use:\n",
      "\n",
      "import warnings\n",
      "warnings.filterwarnings('ignore', 'statsmodels.tsa.arima_model.ARMA',\n",
      "                        FutureWarning)\n",
      "warnings.filterwarnings('ignore', 'statsmodels.tsa.arima_model.ARIMA',\n",
      "                        FutureWarning)\n",
      "\n",
      "  warnings.warn(ARIMA_DEPRECATION_WARN, FutureWarning)\n",
      "C:\\Users\\acer\\anaconda3\\lib\\site-packages\\statsmodels\\tsa\\arima_model.py:472: FutureWarning: \n",
      "statsmodels.tsa.arima_model.ARMA and statsmodels.tsa.arima_model.ARIMA have\n",
      "been deprecated in favor of statsmodels.tsa.arima.model.ARIMA (note the .\n",
      "between arima and model) and\n",
      "statsmodels.tsa.SARIMAX. These will be removed after the 0.12 release.\n",
      "\n",
      "statsmodels.tsa.arima.model.ARIMA makes use of the statespace framework and\n",
      "is both well tested and maintained.\n",
      "\n",
      "To silence this warning and continue using ARMA and ARIMA until they are\n",
      "removed, use:\n",
      "\n",
      "import warnings\n",
      "warnings.filterwarnings('ignore', 'statsmodels.tsa.arima_model.ARMA',\n",
      "                        FutureWarning)\n",
      "warnings.filterwarnings('ignore', 'statsmodels.tsa.arima_model.ARIMA',\n",
      "                        FutureWarning)\n",
      "\n",
      "  warnings.warn(ARIMA_DEPRECATION_WARN, FutureWarning)\n"
     ]
    }
   ],
   "source": [
    "model = ARIMA(df, order=(2,1,3))\n",
    "result = model.fit(disp=0)"
   ]
  },
  {
   "cell_type": "code",
   "execution_count": 28,
   "id": "57355c3f",
   "metadata": {},
   "outputs": [
    {
     "data": {
      "text/html": [
       "<table class=\"simpletable\">\n",
       "<caption>ARIMA Model Results</caption>\n",
       "<tr>\n",
       "  <th>Dep. Variable:</th>      <td>D.High</td>      <th>  No. Observations:  </th>   <td>1440</td>   \n",
       "</tr>\n",
       "<tr>\n",
       "  <th>Model:</th>          <td>ARIMA(2, 1, 3)</td>  <th>  Log Likelihood     </th> <td>-3615.293</td>\n",
       "</tr>\n",
       "<tr>\n",
       "  <th>Method:</th>             <td>css-mle</td>     <th>  S.D. of innovations</th>   <td>2.977</td>  \n",
       "</tr>\n",
       "<tr>\n",
       "  <th>Date:</th>          <td>Wed, 06 Oct 2021</td> <th>  AIC                </th> <td>7244.586</td> \n",
       "</tr>\n",
       "<tr>\n",
       "  <th>Time:</th>              <td>10:32:17</td>     <th>  BIC                </th> <td>7281.492</td> \n",
       "</tr>\n",
       "<tr>\n",
       "  <th>Sample:</th>                <td>1</td>        <th>  HQIC               </th> <td>7258.363</td> \n",
       "</tr>\n",
       "<tr>\n",
       "  <th></th>                       <td> </td>        <th>                     </th>     <td> </td>    \n",
       "</tr>\n",
       "</table>\n",
       "<table class=\"simpletable\">\n",
       "<tr>\n",
       "        <td></td>          <th>coef</th>     <th>std err</th>      <th>z</th>      <th>P>|z|</th>  <th>[0.025</th>    <th>0.975]</th>  \n",
       "</tr>\n",
       "<tr>\n",
       "  <th>const</th>        <td>    0.1079</td> <td>    0.085</td> <td>    1.263</td> <td> 0.207</td> <td>   -0.060</td> <td>    0.275</td>\n",
       "</tr>\n",
       "<tr>\n",
       "  <th>ar.L1.D.High</th> <td>   -1.7969</td> <td>    0.003</td> <td> -695.986</td> <td> 0.000</td> <td>   -1.802</td> <td>   -1.792</td>\n",
       "</tr>\n",
       "<tr>\n",
       "  <th>ar.L2.D.High</th> <td>   -0.9961</td> <td>    0.003</td> <td> -392.436</td> <td> 0.000</td> <td>   -1.001</td> <td>   -0.991</td>\n",
       "</tr>\n",
       "<tr>\n",
       "  <th>ma.L1.D.High</th> <td>    1.8757</td> <td>    0.028</td> <td>   67.152</td> <td> 0.000</td> <td>    1.821</td> <td>    1.930</td>\n",
       "</tr>\n",
       "<tr>\n",
       "  <th>ma.L2.D.High</th> <td>    1.1528</td> <td>    0.050</td> <td>   23.020</td> <td> 0.000</td> <td>    1.055</td> <td>    1.251</td>\n",
       "</tr>\n",
       "<tr>\n",
       "  <th>ma.L3.D.High</th> <td>    0.1021</td> <td>    0.028</td> <td>    3.657</td> <td> 0.000</td> <td>    0.047</td> <td>    0.157</td>\n",
       "</tr>\n",
       "</table>\n",
       "<table class=\"simpletable\">\n",
       "<caption>Roots</caption>\n",
       "<tr>\n",
       "    <td></td>   <th>            Real</th>  <th>         Imaginary</th> <th>         Modulus</th>  <th>        Frequency</th>\n",
       "</tr>\n",
       "<tr>\n",
       "  <th>AR.1</th> <td>          -0.9020</td> <td>          -0.4363j</td> <td>           1.0019</td> <td>          -0.4283</td>\n",
       "</tr>\n",
       "<tr>\n",
       "  <th>AR.2</th> <td>          -0.9020</td> <td>          +0.4363j</td> <td>           1.0019</td> <td>           0.4283</td>\n",
       "</tr>\n",
       "<tr>\n",
       "  <th>MA.1</th> <td>          -0.9164</td> <td>          -0.4424j</td> <td>           1.0176</td> <td>          -0.4284</td>\n",
       "</tr>\n",
       "<tr>\n",
       "  <th>MA.2</th> <td>          -0.9164</td> <td>          +0.4424j</td> <td>           1.0176</td> <td>           0.4284</td>\n",
       "</tr>\n",
       "<tr>\n",
       "  <th>MA.3</th> <td>          -9.4597</td> <td>          -0.0000j</td> <td>           9.4597</td> <td>          -0.5000</td>\n",
       "</tr>\n",
       "</table>"
      ],
      "text/plain": [
       "<class 'statsmodels.iolib.summary.Summary'>\n",
       "\"\"\"\n",
       "                             ARIMA Model Results                              \n",
       "==============================================================================\n",
       "Dep. Variable:                 D.High   No. Observations:                 1440\n",
       "Model:                 ARIMA(2, 1, 3)   Log Likelihood               -3615.293\n",
       "Method:                       css-mle   S.D. of innovations              2.977\n",
       "Date:                Wed, 06 Oct 2021   AIC                           7244.586\n",
       "Time:                        10:32:17   BIC                           7281.492\n",
       "Sample:                             1   HQIC                          7258.363\n",
       "                                                                              \n",
       "================================================================================\n",
       "                   coef    std err          z      P>|z|      [0.025      0.975]\n",
       "--------------------------------------------------------------------------------\n",
       "const            0.1079      0.085      1.263      0.207      -0.060       0.275\n",
       "ar.L1.D.High    -1.7969      0.003   -695.986      0.000      -1.802      -1.792\n",
       "ar.L2.D.High    -0.9961      0.003   -392.436      0.000      -1.001      -0.991\n",
       "ma.L1.D.High     1.8757      0.028     67.152      0.000       1.821       1.930\n",
       "ma.L2.D.High     1.1528      0.050     23.020      0.000       1.055       1.251\n",
       "ma.L3.D.High     0.1021      0.028      3.657      0.000       0.047       0.157\n",
       "                                    Roots                                    \n",
       "=============================================================================\n",
       "                  Real          Imaginary           Modulus         Frequency\n",
       "-----------------------------------------------------------------------------\n",
       "AR.1           -0.9020           -0.4363j            1.0019           -0.4283\n",
       "AR.2           -0.9020           +0.4363j            1.0019            0.4283\n",
       "MA.1           -0.9164           -0.4424j            1.0176           -0.4284\n",
       "MA.2           -0.9164           +0.4424j            1.0176            0.4284\n",
       "MA.3           -9.4597           -0.0000j            9.4597           -0.5000\n",
       "-----------------------------------------------------------------------------\n",
       "\"\"\""
      ]
     },
     "execution_count": 28,
     "metadata": {},
     "output_type": "execute_result"
    }
   ],
   "source": [
    "result.summary()"
   ]
  },
  {
   "cell_type": "code",
   "execution_count": 29,
   "id": "c1e13c23",
   "metadata": {},
   "outputs": [],
   "source": [
    "step = 35 \n",
    "fc , se, conf = result.forecast(step )"
   ]
  },
  {
   "cell_type": "code",
   "execution_count": 30,
   "id": "e22931c1",
   "metadata": {},
   "outputs": [
    {
     "data": {
      "text/plain": [
       "array([341.72136375, 341.21669171, 342.39530674, 341.18937623,\n",
       "       342.59150325, 341.68247639, 342.32845194, 342.48240815,\n",
       "       341.97151649, 343.1454015 , 341.95416585, 343.33459923,\n",
       "       342.44991604, 343.07375765, 343.24323739, 342.72649936,\n",
       "       343.89542654, 342.71892329, 344.07782249, 343.21715904,\n",
       "       343.81928995, 344.00385536, 343.48163613, 344.64538546,\n",
       "       343.48364622])"
      ]
     },
     "execution_count": 30,
     "metadata": {},
     "output_type": "execute_result"
    }
   ],
   "source": [
    "fc"
   ]
  },
  {
   "cell_type": "code",
   "execution_count": 31,
   "id": "e63603d7",
   "metadata": {},
   "outputs": [
    {
     "data": {
      "text/plain": [
       "array([ 2.97716489,  4.37926204,  5.45755515,  6.34989598,  7.11986405,\n",
       "        7.8378576 ,  8.46619586,  9.07993398,  9.63143619, 10.16696169,\n",
       "       10.6726912 , 11.1479465 , 11.61959346, 12.05249387, 12.49106697,\n",
       "       12.89771239, 13.30222522, 13.69274595, 14.06630104, 14.44291241,\n",
       "       14.79353144, 15.15282727, 15.48990658, 15.82817644, 16.15784783])"
      ]
     },
     "execution_count": 31,
     "metadata": {},
     "output_type": "execute_result"
    }
   ],
   "source": [
    "se"
   ]
  },
  {
   "cell_type": "code",
   "execution_count": 32,
   "id": "2939bd02",
   "metadata": {},
   "outputs": [
    {
     "data": {
      "text/plain": [
       "11.010964240031733"
      ]
     },
     "execution_count": 32,
     "metadata": {},
     "output_type": "execute_result"
    }
   ],
   "source": [
    "mse = np.mean(se)\n",
    "mse"
   ]
  },
  {
   "cell_type": "code",
   "execution_count": null,
   "id": "2457aaf5",
   "metadata": {},
   "outputs": [],
   "source": []
  },
  {
   "cell_type": "code",
   "execution_count": 33,
   "id": "5ebc03f4",
   "metadata": {
    "scrolled": true
   },
   "outputs": [],
   "source": [
    "#df_d=df.to_numpy()"
   ]
  },
  {
   "cell_type": "code",
   "execution_count": 34,
   "id": "b715d5d4",
   "metadata": {},
   "outputs": [],
   "source": [
    "#df_d"
   ]
  },
  {
   "cell_type": "code",
   "execution_count": 35,
   "id": "4416b279",
   "metadata": {},
   "outputs": [],
   "source": [
    "#df_d=np.concatenate((df_d,fc))"
   ]
  },
  {
   "cell_type": "code",
   "execution_count": 36,
   "id": "e8027a37",
   "metadata": {
    "scrolled": true
   },
   "outputs": [],
   "source": [
    "#plt.plot(df_d)\n",
    "#plt.plot(df)\n",
    "\n",
    "#plt.show()"
   ]
  },
  {
   "cell_type": "code",
   "execution_count": 37,
   "id": "2000f20d",
   "metadata": {},
   "outputs": [],
   "source": [
    "import plotly.express as px"
   ]
  },
  {
   "cell_type": "code",
   "execution_count": 38,
   "id": "689bd267",
   "metadata": {},
   "outputs": [
    {
     "ename": "NameError",
     "evalue": "name 'df_d' is not defined",
     "output_type": "error",
     "traceback": [
      "\u001b[1;31m---------------------------------------------------------------------------\u001b[0m",
      "\u001b[1;31mNameError\u001b[0m                                 Traceback (most recent call last)",
      "\u001b[1;32m<ipython-input-38-c26b034936c9>\u001b[0m in \u001b[0;36m<module>\u001b[1;34m\u001b[0m\n\u001b[1;32m----> 1\u001b[1;33m \u001b[0mdf_d\u001b[0m\u001b[1;33m\u001b[0m\u001b[1;33m\u001b[0m\u001b[0m\n\u001b[0m",
      "\u001b[1;31mNameError\u001b[0m: name 'df_d' is not defined"
     ]
    }
   ],
   "source": [
    "#df_d"
   ]
  },
  {
   "cell_type": "code",
   "execution_count": 48,
   "id": "803d3b47",
   "metadata": {},
   "outputs": [
    {
     "ename": "NameError",
     "evalue": "name 'df_d' is not defined",
     "output_type": "error",
     "traceback": [
      "\u001b[1;31m---------------------------------------------------------------------------\u001b[0m",
      "\u001b[1;31mNameError\u001b[0m                                 Traceback (most recent call last)",
      "\u001b[1;32m<ipython-input-48-fb33d6c4cc0e>\u001b[0m in \u001b[0;36m<module>\u001b[1;34m\u001b[0m\n\u001b[1;32m----> 1\u001b[1;33m \u001b[0mfig\u001b[0m \u001b[1;33m=\u001b[0m \u001b[0mpx\u001b[0m\u001b[1;33m.\u001b[0m\u001b[0mline\u001b[0m\u001b[1;33m(\u001b[0m\u001b[0mdf_d\u001b[0m\u001b[1;33m)\u001b[0m\u001b[1;33m\u001b[0m\u001b[1;33m\u001b[0m\u001b[0m\n\u001b[0m\u001b[0;32m      2\u001b[0m \u001b[0mfig\u001b[0m\u001b[1;33m.\u001b[0m\u001b[0mshow\u001b[0m\u001b[1;33m(\u001b[0m\u001b[1;33m)\u001b[0m\u001b[1;33m\u001b[0m\u001b[1;33m\u001b[0m\u001b[0m\n\u001b[0;32m      3\u001b[0m \u001b[0mfig\u001b[0m \u001b[1;33m=\u001b[0m \u001b[0mpx\u001b[0m\u001b[1;33m.\u001b[0m\u001b[0mline\u001b[0m\u001b[1;33m(\u001b[0m\u001b[0mdf\u001b[0m\u001b[1;33m)\u001b[0m\u001b[1;33m\u001b[0m\u001b[1;33m\u001b[0m\u001b[0m\n\u001b[0;32m      4\u001b[0m \u001b[0mfig\u001b[0m\u001b[1;33m.\u001b[0m\u001b[0mshow\u001b[0m\u001b[1;33m(\u001b[0m\u001b[1;33m)\u001b[0m\u001b[1;33m\u001b[0m\u001b[1;33m\u001b[0m\u001b[0m\n",
      "\u001b[1;31mNameError\u001b[0m: name 'df_d' is not defined"
     ]
    }
   ],
   "source": [
    "fig = px.line(df_d)\n",
    "fig.show()\n",
    "fig = px.line(df)\n",
    "fig.show()"
   ]
  },
  {
   "cell_type": "code",
   "execution_count": 40,
   "id": "953fe95c",
   "metadata": {},
   "outputs": [
    {
     "data": {
      "text/html": [
       "<div>\n",
       "<style scoped>\n",
       "    .dataframe tbody tr th:only-of-type {\n",
       "        vertical-align: middle;\n",
       "    }\n",
       "\n",
       "    .dataframe tbody tr th {\n",
       "        vertical-align: top;\n",
       "    }\n",
       "\n",
       "    .dataframe thead th {\n",
       "        text-align: right;\n",
       "    }\n",
       "</style>\n",
       "<table border=\"1\" class=\"dataframe\">\n",
       "  <thead>\n",
       "    <tr style=\"text-align: right;\">\n",
       "      <th></th>\n",
       "      <th>0</th>\n",
       "    </tr>\n",
       "  </thead>\n",
       "  <tbody>\n",
       "    <tr>\n",
       "      <th>0</th>\n",
       "      <td>341.721364</td>\n",
       "    </tr>\n",
       "    <tr>\n",
       "      <th>1</th>\n",
       "      <td>341.216692</td>\n",
       "    </tr>\n",
       "    <tr>\n",
       "      <th>2</th>\n",
       "      <td>342.395307</td>\n",
       "    </tr>\n",
       "    <tr>\n",
       "      <th>3</th>\n",
       "      <td>341.189376</td>\n",
       "    </tr>\n",
       "    <tr>\n",
       "      <th>4</th>\n",
       "      <td>342.591503</td>\n",
       "    </tr>\n",
       "    <tr>\n",
       "      <th>5</th>\n",
       "      <td>341.682476</td>\n",
       "    </tr>\n",
       "    <tr>\n",
       "      <th>6</th>\n",
       "      <td>342.328452</td>\n",
       "    </tr>\n",
       "    <tr>\n",
       "      <th>7</th>\n",
       "      <td>342.482408</td>\n",
       "    </tr>\n",
       "    <tr>\n",
       "      <th>8</th>\n",
       "      <td>341.971516</td>\n",
       "    </tr>\n",
       "    <tr>\n",
       "      <th>9</th>\n",
       "      <td>343.145401</td>\n",
       "    </tr>\n",
       "    <tr>\n",
       "      <th>10</th>\n",
       "      <td>341.954166</td>\n",
       "    </tr>\n",
       "    <tr>\n",
       "      <th>11</th>\n",
       "      <td>343.334599</td>\n",
       "    </tr>\n",
       "    <tr>\n",
       "      <th>12</th>\n",
       "      <td>342.449916</td>\n",
       "    </tr>\n",
       "    <tr>\n",
       "      <th>13</th>\n",
       "      <td>343.073758</td>\n",
       "    </tr>\n",
       "    <tr>\n",
       "      <th>14</th>\n",
       "      <td>343.243237</td>\n",
       "    </tr>\n",
       "    <tr>\n",
       "      <th>15</th>\n",
       "      <td>342.726499</td>\n",
       "    </tr>\n",
       "    <tr>\n",
       "      <th>16</th>\n",
       "      <td>343.895427</td>\n",
       "    </tr>\n",
       "    <tr>\n",
       "      <th>17</th>\n",
       "      <td>342.718923</td>\n",
       "    </tr>\n",
       "    <tr>\n",
       "      <th>18</th>\n",
       "      <td>344.077822</td>\n",
       "    </tr>\n",
       "    <tr>\n",
       "      <th>19</th>\n",
       "      <td>343.217159</td>\n",
       "    </tr>\n",
       "    <tr>\n",
       "      <th>20</th>\n",
       "      <td>343.819290</td>\n",
       "    </tr>\n",
       "    <tr>\n",
       "      <th>21</th>\n",
       "      <td>344.003855</td>\n",
       "    </tr>\n",
       "    <tr>\n",
       "      <th>22</th>\n",
       "      <td>343.481636</td>\n",
       "    </tr>\n",
       "    <tr>\n",
       "      <th>23</th>\n",
       "      <td>344.645385</td>\n",
       "    </tr>\n",
       "    <tr>\n",
       "      <th>24</th>\n",
       "      <td>343.483646</td>\n",
       "    </tr>\n",
       "  </tbody>\n",
       "</table>\n",
       "</div>"
      ],
      "text/plain": [
       "             0\n",
       "0   341.721364\n",
       "1   341.216692\n",
       "2   342.395307\n",
       "3   341.189376\n",
       "4   342.591503\n",
       "5   341.682476\n",
       "6   342.328452\n",
       "7   342.482408\n",
       "8   341.971516\n",
       "9   343.145401\n",
       "10  341.954166\n",
       "11  343.334599\n",
       "12  342.449916\n",
       "13  343.073758\n",
       "14  343.243237\n",
       "15  342.726499\n",
       "16  343.895427\n",
       "17  342.718923\n",
       "18  344.077822\n",
       "19  343.217159\n",
       "20  343.819290\n",
       "21  344.003855\n",
       "22  343.481636\n",
       "23  344.645385\n",
       "24  343.483646"
      ]
     },
     "execution_count": 40,
     "metadata": {},
     "output_type": "execute_result"
    }
   ],
   "source": [
    "dffc= pd.DataFrame(data=fc)\n",
    "dffc"
   ]
  },
  {
   "cell_type": "code",
   "execution_count": 41,
   "id": "ff488a5e",
   "metadata": {},
   "outputs": [],
   "source": [
    "from sklearn.metrics import mean_squared_error, r2_score, mean_absolute_error"
   ]
  },
  {
   "cell_type": "code",
   "execution_count": 42,
   "id": "e73fb413",
   "metadata": {},
   "outputs": [],
   "source": [
    "test = pd.DataFrame(data=df[-25:])"
   ]
  },
  {
   "cell_type": "code",
   "execution_count": 43,
   "id": "293577b1",
   "metadata": {},
   "outputs": [
    {
     "data": {
      "text/html": [
       "<div>\n",
       "<style scoped>\n",
       "    .dataframe tbody tr th:only-of-type {\n",
       "        vertical-align: middle;\n",
       "    }\n",
       "\n",
       "    .dataframe tbody tr th {\n",
       "        vertical-align: top;\n",
       "    }\n",
       "\n",
       "    .dataframe thead th {\n",
       "        text-align: right;\n",
       "    }\n",
       "</style>\n",
       "<table border=\"1\" class=\"dataframe\">\n",
       "  <thead>\n",
       "    <tr style=\"text-align: right;\">\n",
       "      <th></th>\n",
       "      <th>High</th>\n",
       "    </tr>\n",
       "  </thead>\n",
       "  <tbody>\n",
       "    <tr>\n",
       "      <th>1416</th>\n",
       "      <td>333.850006</td>\n",
       "    </tr>\n",
       "    <tr>\n",
       "      <th>1417</th>\n",
       "      <td>332.149994</td>\n",
       "    </tr>\n",
       "    <tr>\n",
       "      <th>1418</th>\n",
       "      <td>331.450012</td>\n",
       "    </tr>\n",
       "    <tr>\n",
       "      <th>1419</th>\n",
       "      <td>331.850006</td>\n",
       "    </tr>\n",
       "    <tr>\n",
       "      <th>1420</th>\n",
       "      <td>331.450012</td>\n",
       "    </tr>\n",
       "    <tr>\n",
       "      <th>1421</th>\n",
       "      <td>337.200012</td>\n",
       "    </tr>\n",
       "    <tr>\n",
       "      <th>1422</th>\n",
       "      <td>336.950012</td>\n",
       "    </tr>\n",
       "    <tr>\n",
       "      <th>1423</th>\n",
       "      <td>333.600006</td>\n",
       "    </tr>\n",
       "    <tr>\n",
       "      <th>1424</th>\n",
       "      <td>342.200012</td>\n",
       "    </tr>\n",
       "    <tr>\n",
       "      <th>1425</th>\n",
       "      <td>341.450012</td>\n",
       "    </tr>\n",
       "    <tr>\n",
       "      <th>1426</th>\n",
       "      <td>342.149994</td>\n",
       "    </tr>\n",
       "    <tr>\n",
       "      <th>1427</th>\n",
       "      <td>343.200012</td>\n",
       "    </tr>\n",
       "    <tr>\n",
       "      <th>1428</th>\n",
       "      <td>342.899994</td>\n",
       "    </tr>\n",
       "    <tr>\n",
       "      <th>1429</th>\n",
       "      <td>342.600006</td>\n",
       "    </tr>\n",
       "    <tr>\n",
       "      <th>1430</th>\n",
       "      <td>342.600006</td>\n",
       "    </tr>\n",
       "    <tr>\n",
       "      <th>1431</th>\n",
       "      <td>344.549988</td>\n",
       "    </tr>\n",
       "    <tr>\n",
       "      <th>1432</th>\n",
       "      <td>347.000000</td>\n",
       "    </tr>\n",
       "    <tr>\n",
       "      <th>1433</th>\n",
       "      <td>347.000000</td>\n",
       "    </tr>\n",
       "    <tr>\n",
       "      <th>1434</th>\n",
       "      <td>351.500000</td>\n",
       "    </tr>\n",
       "    <tr>\n",
       "      <th>1435</th>\n",
       "      <td>350.649994</td>\n",
       "    </tr>\n",
       "    <tr>\n",
       "      <th>1436</th>\n",
       "      <td>348.000000</td>\n",
       "    </tr>\n",
       "    <tr>\n",
       "      <th>1437</th>\n",
       "      <td>345.149994</td>\n",
       "    </tr>\n",
       "    <tr>\n",
       "      <th>1438</th>\n",
       "      <td>348.700012</td>\n",
       "    </tr>\n",
       "    <tr>\n",
       "      <th>1439</th>\n",
       "      <td>341.750000</td>\n",
       "    </tr>\n",
       "    <tr>\n",
       "      <th>1440</th>\n",
       "      <td>341.600006</td>\n",
       "    </tr>\n",
       "  </tbody>\n",
       "</table>\n",
       "</div>"
      ],
      "text/plain": [
       "            High\n",
       "1416  333.850006\n",
       "1417  332.149994\n",
       "1418  331.450012\n",
       "1419  331.850006\n",
       "1420  331.450012\n",
       "1421  337.200012\n",
       "1422  336.950012\n",
       "1423  333.600006\n",
       "1424  342.200012\n",
       "1425  341.450012\n",
       "1426  342.149994\n",
       "1427  343.200012\n",
       "1428  342.899994\n",
       "1429  342.600006\n",
       "1430  342.600006\n",
       "1431  344.549988\n",
       "1432  347.000000\n",
       "1433  347.000000\n",
       "1434  351.500000\n",
       "1435  350.649994\n",
       "1436  348.000000\n",
       "1437  345.149994\n",
       "1438  348.700012\n",
       "1439  341.750000\n",
       "1440  341.600006"
      ]
     },
     "execution_count": 43,
     "metadata": {},
     "output_type": "execute_result"
    }
   ],
   "source": [
    "test"
   ]
  },
  {
   "cell_type": "code",
   "execution_count": 44,
   "id": "2c961774",
   "metadata": {},
   "outputs": [],
   "source": [
    "mse = mean_squared_error(test, dffc)\n",
    "mae = mean_absolute_error(test,dffc)\n",
    "r2 = r2_score(test, dffc)"
   ]
  },
  {
   "cell_type": "code",
   "execution_count": 45,
   "id": "ce23afbc",
   "metadata": {},
   "outputs": [
    {
     "data": {
      "text/plain": [
       "32.26567931469538"
      ]
     },
     "execution_count": 45,
     "metadata": {},
     "output_type": "execute_result"
    }
   ],
   "source": [
    "mse"
   ]
  },
  {
   "cell_type": "code",
   "execution_count": 46,
   "id": "ad946505",
   "metadata": {},
   "outputs": [
    {
     "data": {
      "text/plain": [
       "4.412691163944085"
      ]
     },
     "execution_count": 46,
     "metadata": {},
     "output_type": "execute_result"
    }
   ],
   "source": [
    "mae"
   ]
  },
  {
   "cell_type": "code",
   "execution_count": 47,
   "id": "e10ff437",
   "metadata": {},
   "outputs": [
    {
     "data": {
      "text/plain": [
       "0.1139980704686564"
      ]
     },
     "execution_count": 47,
     "metadata": {},
     "output_type": "execute_result"
    }
   ],
   "source": [
    "r2"
   ]
  },
  {
   "cell_type": "code",
   "execution_count": null,
   "id": "f77c76e3",
   "metadata": {},
   "outputs": [],
   "source": []
  },
  {
   "cell_type": "code",
   "execution_count": null,
   "id": "67282c17",
   "metadata": {},
   "outputs": [],
   "source": []
  },
  {
   "cell_type": "code",
   "execution_count": null,
   "id": "1b944465",
   "metadata": {},
   "outputs": [],
   "source": []
  }
 ],
 "metadata": {
  "kernelspec": {
   "display_name": "Python 3",
   "language": "python",
   "name": "python3"
  },
  "language_info": {
   "codemirror_mode": {
    "name": "ipython",
    "version": 3
   },
   "file_extension": ".py",
   "mimetype": "text/x-python",
   "name": "python",
   "nbconvert_exporter": "python",
   "pygments_lexer": "ipython3",
   "version": "3.8.8"
  }
 },
 "nbformat": 4,
 "nbformat_minor": 5
}
