{
 "cells": [
  {
   "cell_type": "code",
   "execution_count": 26,
   "metadata": {},
   "outputs": [],
   "source": [
    "\n",
    "import pandas as pd\n",
    "\n"
   ]
  },
  {
   "cell_type": "code",
   "execution_count": 27,
   "metadata": {},
   "outputs": [],
   "source": [
    "p_day=7"
   ]
  },
  {
   "cell_type": "code",
   "execution_count": null,
   "metadata": {},
   "outputs": [],
   "source": []
  },
  {
   "cell_type": "code",
   "execution_count": 28,
   "metadata": {},
   "outputs": [
    {
     "data": {
      "text/plain": [
       "Unnamed: 0     object\n",
       "Open          float64\n",
       "High          float64\n",
       "Low           float64\n",
       "Close         float64\n",
       "Adj Close     float64\n",
       "Volume          int64\n",
       "dtype: object"
      ]
     },
     "execution_count": 28,
     "metadata": {},
     "output_type": "execute_result"
    }
   ],
   "source": [
    "df=pd.read_csv(\"INFY.csv\")\n",
    "df.dtypes"
   ]
  },
  {
   "cell_type": "code",
   "execution_count": null,
   "metadata": {},
   "outputs": [],
   "source": []
  },
  {
   "cell_type": "code",
   "execution_count": 29,
   "metadata": {},
   "outputs": [
    {
     "data": {
      "text/plain": [
       "3450"
      ]
     },
     "execution_count": 29,
     "metadata": {},
     "output_type": "execute_result"
    }
   ],
   "source": [
    "len(df)"
   ]
  },
  {
   "cell_type": "code",
   "execution_count": 30,
   "metadata": {
    "scrolled": true
   },
   "outputs": [
    {
     "data": {
      "text/html": [
       "<div>\n",
       "<style scoped>\n",
       "    .dataframe tbody tr th:only-of-type {\n",
       "        vertical-align: middle;\n",
       "    }\n",
       "\n",
       "    .dataframe tbody tr th {\n",
       "        vertical-align: top;\n",
       "    }\n",
       "\n",
       "    .dataframe thead th {\n",
       "        text-align: right;\n",
       "    }\n",
       "</style>\n",
       "<table border=\"1\" class=\"dataframe\">\n",
       "  <thead>\n",
       "    <tr style=\"text-align: right;\">\n",
       "      <th></th>\n",
       "      <th>Unnamed: 0</th>\n",
       "      <th>Open</th>\n",
       "      <th>High</th>\n",
       "      <th>Low</th>\n",
       "      <th>Close</th>\n",
       "      <th>Adj Close</th>\n",
       "      <th>Volume</th>\n",
       "    </tr>\n",
       "  </thead>\n",
       "  <tbody>\n",
       "    <tr>\n",
       "      <th>3445</th>\n",
       "      <td>2021-09-24 13:15:00+05:30</td>\n",
       "      <td>1766.800049</td>\n",
       "      <td>1772.949951</td>\n",
       "      <td>1766.599976</td>\n",
       "      <td>1767.75</td>\n",
       "      <td>1771.699951</td>\n",
       "      <td>667263</td>\n",
       "    </tr>\n",
       "    <tr>\n",
       "      <th>3446</th>\n",
       "      <td>2021-09-24 14:15:00+05:30</td>\n",
       "      <td>1771.699951</td>\n",
       "      <td>1772.500000</td>\n",
       "      <td>1760.150024</td>\n",
       "      <td>1768.90</td>\n",
       "      <td>1764.400024</td>\n",
       "      <td>1200835</td>\n",
       "    </tr>\n",
       "    <tr>\n",
       "      <th>3447</th>\n",
       "      <td>2021-09-24 15:15:00+05:30</td>\n",
       "      <td>1764.400024</td>\n",
       "      <td>1766.000000</td>\n",
       "      <td>1763.000000</td>\n",
       "      <td>1771.70</td>\n",
       "      <td>1764.099976</td>\n",
       "      <td>535790</td>\n",
       "    </tr>\n",
       "    <tr>\n",
       "      <th>3448</th>\n",
       "      <td>2021-09-27 09:15:00+05:30</td>\n",
       "      <td>1759.699951</td>\n",
       "      <td>1768.750000</td>\n",
       "      <td>1738.750000</td>\n",
       "      <td>1778.10</td>\n",
       "      <td>1741.550049</td>\n",
       "      <td>1168663</td>\n",
       "    </tr>\n",
       "    <tr>\n",
       "      <th>3449</th>\n",
       "      <td>2021-09-27 10:14:14+05:30</td>\n",
       "      <td>1742.349976</td>\n",
       "      <td>1742.349976</td>\n",
       "      <td>1742.349976</td>\n",
       "      <td>1779.90</td>\n",
       "      <td>1742.349976</td>\n",
       "      <td>0</td>\n",
       "    </tr>\n",
       "  </tbody>\n",
       "</table>\n",
       "</div>"
      ],
      "text/plain": [
       "                     Unnamed: 0         Open         High          Low  \\\n",
       "3445  2021-09-24 13:15:00+05:30  1766.800049  1772.949951  1766.599976   \n",
       "3446  2021-09-24 14:15:00+05:30  1771.699951  1772.500000  1760.150024   \n",
       "3447  2021-09-24 15:15:00+05:30  1764.400024  1766.000000  1763.000000   \n",
       "3448  2021-09-27 09:15:00+05:30  1759.699951  1768.750000  1738.750000   \n",
       "3449  2021-09-27 10:14:14+05:30  1742.349976  1742.349976  1742.349976   \n",
       "\n",
       "        Close    Adj Close   Volume  \n",
       "3445  1767.75  1771.699951   667263  \n",
       "3446  1768.90  1764.400024  1200835  \n",
       "3447  1771.70  1764.099976   535790  \n",
       "3448  1778.10  1741.550049  1168663  \n",
       "3449  1779.90  1742.349976        0  "
      ]
     },
     "execution_count": 30,
     "metadata": {},
     "output_type": "execute_result"
    }
   ],
   "source": [
    "df.tail()\n"
   ]
  },
  {
   "cell_type": "code",
   "execution_count": 31,
   "metadata": {},
   "outputs": [],
   "source": [
    "df1=df.reset_index()['Close']"
   ]
  },
  {
   "cell_type": "code",
   "execution_count": 32,
   "metadata": {},
   "outputs": [
    {
     "data": {
      "text/plain": [
       "0        524.20\n",
       "1        527.80\n",
       "2        528.00\n",
       "3        529.15\n",
       "4        530.15\n",
       "         ...   \n",
       "3445    1767.75\n",
       "3446    1768.90\n",
       "3447    1771.70\n",
       "3448    1778.10\n",
       "3449    1779.90\n",
       "Name: Close, Length: 3450, dtype: float64"
      ]
     },
     "execution_count": 32,
     "metadata": {},
     "output_type": "execute_result"
    }
   ],
   "source": [
    "df1.dropna()"
   ]
  },
  {
   "cell_type": "code",
   "execution_count": 33,
   "metadata": {},
   "outputs": [
    {
     "data": {
      "text/plain": [
       "[<matplotlib.lines.Line2D at 0x22f10d52340>]"
      ]
     },
     "execution_count": 33,
     "metadata": {},
     "output_type": "execute_result"
    },
    {
     "data": {
      "image/png": "[encoded data removed]",
      "text/plain": [
       "<Figure size 432x288 with 1 Axes>"
      ]
     },
     "metadata": {
      "needs_background": "light"
     },
     "output_type": "display_data"
    }
   ],
   "source": [
    "import matplotlib.pyplot as plt\n",
    "plt.plot(df1)"
   ]
  },
  {
   "cell_type": "code",
   "execution_count": 34,
   "metadata": {},
   "outputs": [],
   "source": [
    "### LSTM are sensitive to the scale of the data. so we apply MinMax scaler "
   ]
  },
  {
   "cell_type": "code",
   "execution_count": 35,
   "metadata": {},
   "outputs": [],
   "source": [
    "import numpy as np"
   ]
  },
  {
   "cell_type": "code",
   "execution_count": 36,
   "metadata": {},
   "outputs": [
    {
     "data": {
      "text/plain": [
       "0        524.20\n",
       "1        527.80\n",
       "2        528.00\n",
       "3        529.15\n",
       "4        530.15\n",
       "         ...   \n",
       "3445    1767.75\n",
       "3446    1768.90\n",
       "3447    1771.70\n",
       "3448    1778.10\n",
       "3449    1779.90\n",
       "Name: Close, Length: 3450, dtype: float64"
      ]
     },
     "execution_count": 36,
     "metadata": {},
     "output_type": "execute_result"
    }
   ],
   "source": [
    "df1"
   ]
  },
  {
   "cell_type": "code",
   "execution_count": 37,
   "metadata": {},
   "outputs": [],
   "source": [
    "from sklearn.preprocessing import MinMaxScaler\n",
    "scaler=MinMaxScaler(feature_range=(0,1))\n",
    "df1=scaler.fit_transform(np.array(df1).reshape(-1,1))"
   ]
  },
  {
   "cell_type": "code",
   "execution_count": 38,
   "metadata": {},
   "outputs": [
    {
     "name": "stdout",
     "output_type": "stream",
     "text": [
      "[[0.        ]\n",
      " [0.00286693]\n",
      " [0.0030262 ]\n",
      " ...\n",
      " [0.99346978]\n",
      " [0.99856654]\n",
      " [1.        ]]\n"
     ]
    }
   ],
   "source": [
    "print(df1)"
   ]
  },
  {
   "cell_type": "code",
   "execution_count": 39,
   "metadata": {},
   "outputs": [],
   "source": [
    "##splitting dataset into train and test split\n",
    "training_size=int(len(df1)*0.65)\n",
    "test_size=len(df1)-training_size\n",
    "train_data,test_data=df1[0:training_size,:],df1[training_size:len(df1),:1]"
   ]
  },
  {
   "cell_type": "code",
   "execution_count": 40,
   "metadata": {},
   "outputs": [
    {
     "data": {
      "text/plain": [
       "(2242, 1208)"
      ]
     },
     "execution_count": 40,
     "metadata": {},
     "output_type": "execute_result"
    }
   ],
   "source": [
    "training_size,test_size"
   ]
  },
  {
   "cell_type": "code",
   "execution_count": 41,
   "metadata": {},
   "outputs": [
    {
     "data": {
      "text/plain": [
       "array([[0.        ],\n",
       "       [0.00286693],\n",
       "       [0.0030262 ],\n",
       "       ...,\n",
       "       [0.59460858],\n",
       "       [0.59472804],\n",
       "       [0.59588277]])"
      ]
     },
     "execution_count": 41,
     "metadata": {},
     "output_type": "execute_result"
    }
   ],
   "source": [
    "train_data"
   ]
  },
  {
   "cell_type": "code",
   "execution_count": 42,
   "metadata": {},
   "outputs": [],
   "source": [
    "import numpy\n",
    "# convert an array of values into a dataset matrix\n",
    "def create_dataset(dataset, time_step=1):\n",
    "\tdataX, dataY = [], []\n",
    "\tfor i in range(len(dataset)-time_step-1):\n",
    "\t\ta = dataset[i:(i+time_step), 0]   ###i=0, 0,1,2,3-----99   100 \n",
    "\t\tdataX.append(a)\n",
    "\t\tdataY.append(dataset[i + time_step, 0])\n",
    "\treturn numpy.array(dataX), numpy.array(dataY)"
   ]
  },
  {
   "cell_type": "code",
   "execution_count": 43,
   "metadata": {},
   "outputs": [],
   "source": [
    "# reshape into X=t,t+1,t+2,t+3 and Y=t+4\n",
    "time_step = p_day\n",
    "X_train, y_train = create_dataset(train_data, time_step)\n",
    "X_test, ytest = create_dataset(test_data, time_step)"
   ]
  },
  {
   "cell_type": "code",
   "execution_count": 44,
   "metadata": {},
   "outputs": [
    {
     "name": "stdout",
     "output_type": "stream",
     "text": [
      "(2234, 7)\n",
      "(2234,)\n"
     ]
    },
    {
     "data": {
      "text/plain": [
       "(None, None)"
      ]
     },
     "execution_count": 44,
     "metadata": {},
     "output_type": "execute_result"
    }
   ],
   "source": [
    "print(X_train.shape), print(y_train.shape)"
   ]
  },
  {
   "cell_type": "code",
   "execution_count": 45,
   "metadata": {},
   "outputs": [
    {
     "name": "stdout",
     "output_type": "stream",
     "text": [
      "(1200, 7)\n",
      "(1200,)\n"
     ]
    },
    {
     "data": {
      "text/plain": [
       "(None, None)"
      ]
     },
     "execution_count": 45,
     "metadata": {},
     "output_type": "execute_result"
    }
   ],
   "source": [
    "print(X_test.shape), print(ytest.shape)"
   ]
  },
  {
   "cell_type": "code",
   "execution_count": 46,
   "metadata": {},
   "outputs": [],
   "source": [
    "# reshape input to be [samples, time steps, features] which is required for LSTM\n",
    "X_train =X_train.reshape(X_train.shape[0],X_train.shape[1] , 1)\n",
    "X_test = X_test.reshape(X_test.shape[0],X_test.shape[1] , 1)"
   ]
  },
  {
   "cell_type": "code",
   "execution_count": 47,
   "metadata": {},
   "outputs": [],
   "source": [
    "### Create the Stacked LSTM model\n",
    "from tensorflow.keras.models import Sequential\n",
    "from tensorflow.keras.layers import Dense\n",
    "from tensorflow.keras.layers import LSTM\n",
    "from tensorflow.keras.layers import Dropout"
   ]
  },
  {
   "cell_type": "code",
   "execution_count": 48,
   "metadata": {},
   "outputs": [],
   "source": [
    "model=Sequential()\n",
    "model.add(LSTM(50,return_sequences=True,input_shape=(p_day,1)))\n",
    "model.add(Dropout(0.5))\n",
    "model.add(LSTM(50,return_sequences=True))\n",
    "model.add(Dropout(0.5))\n",
    "model.add(LSTM(50,return_sequences=True))\n",
    "model.add(Dropout(0.5))\n",
    "model.add(LSTM(50))\n",
    "model.add(Dropout(0.5))\n",
    "model.add(Dense(1))\n",
    "model.compile(loss='mean_squared_error',optimizer='adam')\n"
   ]
  },
  {
   "cell_type": "code",
   "execution_count": null,
   "metadata": {},
   "outputs": [],
   "source": []
  },
  {
   "cell_type": "code",
   "execution_count": 49,
   "metadata": {},
   "outputs": [
    {
     "name": "stdout",
     "output_type": "stream",
     "text": [
      "Model: \"sequential_1\"\n",
      "_________________________________________________________________\n",
      "Layer (type)                 Output Shape              Param #   \n",
      "=================================================================\n",
      "lstm_4 (LSTM)                (None, 7, 50)             10400     \n",
      "_________________________________________________________________\n",
      "dropout_4 (Dropout)          (None, 7, 50)             0         \n",
      "_________________________________________________________________\n",
      "lstm_5 (LSTM)                (None, 7, 50)             20200     \n",
      "_________________________________________________________________\n",
      "dropout_5 (Dropout)          (None, 7, 50)             0         \n",
      "_________________________________________________________________\n",
      "lstm_6 (LSTM)                (None, 7, 50)             20200     \n",
      "_________________________________________________________________\n",
      "dropout_6 (Dropout)          (None, 7, 50)             0         \n",
      "_________________________________________________________________\n",
      "lstm_7 (LSTM)                (None, 50)                20200     \n",
      "_________________________________________________________________\n",
      "dropout_7 (Dropout)          (None, 50)                0         \n",
      "_________________________________________________________________\n",
      "dense_1 (Dense)              (None, 1)                 51        \n",
      "=================================================================\n",
      "Total params: 71,051\n",
      "Trainable params: 71,051\n",
      "Non-trainable params: 0\n",
      "_________________________________________________________________\n"
     ]
    }
   ],
   "source": [
    "model.summary()"
   ]
  },
  {
   "cell_type": "code",
   "execution_count": null,
   "metadata": {},
   "outputs": [],
   "source": []
  },
  {
   "cell_type": "code",
   "execution_count": null,
   "metadata": {},
   "outputs": [
    {
     "name": "stdout",
     "output_type": "stream",
     "text": [
      "Epoch 1/350\n",
      "224/224 - 11s - loss: 0.0074 - val_loss: 1.6413e-04\n",
      "Epoch 2/350\n",
      "224/224 - 3s - loss: 0.0024 - val_loss: 9.2707e-04\n",
      "Epoch 3/350\n",
      "224/224 - 3s - loss: 0.0020 - val_loss: 6.4994e-04\n",
      "Epoch 4/350\n",
      "224/224 - 3s - loss: 0.0016 - val_loss: 0.0175\n",
      "Epoch 5/350\n",
      "224/224 - 3s - loss: 0.0015 - val_loss: 0.0020\n",
      "Epoch 6/350\n",
      "224/224 - 3s - loss: 0.0013 - val_loss: 8.1919e-04\n",
      "Epoch 7/350\n",
      "224/224 - 2s - loss: 0.0013 - val_loss: 0.0019\n",
      "Epoch 8/350\n",
      "224/224 - 2s - loss: 0.0011 - val_loss: 0.0023\n",
      "Epoch 9/350\n",
      "224/224 - 2s - loss: 0.0011 - val_loss: 0.0033\n",
      "Epoch 10/350\n",
      "224/224 - 2s - loss: 9.6229e-04 - val_loss: 0.0112\n",
      "Epoch 11/350\n",
      "224/224 - 2s - loss: 9.4170e-04 - val_loss: 0.0067\n",
      "Epoch 12/350\n",
      "224/224 - 2s - loss: 8.5031e-04 - val_loss: 0.0043\n",
      "Epoch 13/350\n",
      "224/224 - 2s - loss: 9.2137e-04 - val_loss: 0.0081\n",
      "Epoch 14/350\n",
      "224/224 - 2s - loss: 9.2074e-04 - val_loss: 0.0028\n",
      "Epoch 15/350\n",
      "224/224 - 2s - loss: 9.0627e-04 - val_loss: 0.0038\n",
      "Epoch 16/350\n",
      "224/224 - 2s - loss: 8.4192e-04 - val_loss: 0.0092\n",
      "Epoch 17/350\n",
      "224/224 - 2s - loss: 7.7416e-04 - val_loss: 0.0118\n",
      "Epoch 18/350\n",
      "224/224 - 2s - loss: 8.2108e-04 - val_loss: 0.0225\n",
      "Epoch 19/350\n",
      "224/224 - 2s - loss: 9.2315e-04 - val_loss: 0.0255\n",
      "Epoch 20/350\n",
      "224/224 - 2s - loss: 8.4019e-04 - val_loss: 0.0424\n",
      "Epoch 21/350\n",
      "224/224 - 2s - loss: 7.9416e-04 - val_loss: 0.0290\n",
      "Epoch 22/350\n",
      "224/224 - 2s - loss: 7.7148e-04 - val_loss: 0.0390\n",
      "Epoch 23/350\n",
      "224/224 - 2s - loss: 8.7828e-04 - val_loss: 0.0402\n",
      "Epoch 24/350\n",
      "224/224 - 2s - loss: 8.4977e-04 - val_loss: 0.0440\n",
      "Epoch 25/350\n",
      "224/224 - 3s - loss: 7.6944e-04 - val_loss: 0.0371\n",
      "Epoch 26/350\n",
      "224/224 - 2s - loss: 7.7554e-04 - val_loss: 0.0518\n",
      "Epoch 27/350\n",
      "224/224 - 2s - loss: 8.1688e-04 - val_loss: 0.0440\n",
      "Epoch 28/350\n",
      "224/224 - 2s - loss: 7.5157e-04 - val_loss: 0.0403\n",
      "Epoch 29/350\n",
      "224/224 - 2s - loss: 8.0918e-04 - val_loss: 0.0393\n",
      "Epoch 30/350\n",
      "224/224 - 2s - loss: 8.5300e-04 - val_loss: 0.0432\n",
      "Epoch 31/350\n",
      "224/224 - 2s - loss: 7.8942e-04 - val_loss: 0.0405\n",
      "Epoch 32/350\n",
      "224/224 - 2s - loss: 7.3842e-04 - val_loss: 0.0278\n",
      "Epoch 33/350\n",
      "224/224 - 2s - loss: 8.2706e-04 - val_loss: 0.0359\n",
      "Epoch 34/350\n",
      "224/224 - 3s - loss: 8.5265e-04 - val_loss: 0.0248\n",
      "Epoch 35/350\n",
      "224/224 - 2s - loss: 7.5543e-04 - val_loss: 0.0316\n",
      "Epoch 36/350\n",
      "224/224 - 3s - loss: 8.6796e-04 - val_loss: 0.0299\n",
      "Epoch 37/350\n",
      "224/224 - 3s - loss: 8.2938e-04 - val_loss: 0.0283\n",
      "Epoch 38/350\n",
      "224/224 - 3s - loss: 7.4094e-04 - val_loss: 0.0243\n",
      "Epoch 39/350\n",
      "224/224 - 3s - loss: 7.6433e-04 - val_loss: 0.0292\n",
      "Epoch 40/350\n",
      "224/224 - 4s - loss: 7.3091e-04 - val_loss: 0.0252\n",
      "Epoch 41/350\n",
      "224/224 - 4s - loss: 7.5851e-04 - val_loss: 0.0181\n",
      "Epoch 42/350\n",
      "224/224 - 3s - loss: 7.0764e-04 - val_loss: 0.0260\n",
      "Epoch 43/350\n",
      "224/224 - 4s - loss: 8.3497e-04 - val_loss: 0.0246\n",
      "Epoch 44/350\n",
      "224/224 - 4s - loss: 6.9616e-04 - val_loss: 0.0240\n",
      "Epoch 45/350\n",
      "224/224 - 3s - loss: 7.2555e-04 - val_loss: 0.0232\n",
      "Epoch 46/350\n",
      "224/224 - 3s - loss: 7.3893e-04 - val_loss: 0.0231\n",
      "Epoch 47/350\n",
      "224/224 - 3s - loss: 7.1967e-04 - val_loss: 0.0275\n",
      "Epoch 48/350\n",
      "224/224 - 3s - loss: 8.1169e-04 - val_loss: 0.0271\n",
      "Epoch 49/350\n",
      "224/224 - 3s - loss: 6.2980e-04 - val_loss: 0.0244\n",
      "Epoch 50/350\n",
      "224/224 - 4s - loss: 6.8756e-04 - val_loss: 0.0270\n",
      "Epoch 51/350\n",
      "224/224 - 4s - loss: 7.8107e-04 - val_loss: 0.0285\n",
      "Epoch 52/350\n",
      "224/224 - 4s - loss: 7.5126e-04 - val_loss: 0.0361\n",
      "Epoch 53/350\n",
      "224/224 - 4s - loss: 7.5395e-04 - val_loss: 0.0257\n",
      "Epoch 54/350\n",
      "224/224 - 4s - loss: 7.7865e-04 - val_loss: 0.0248\n",
      "Epoch 55/350\n",
      "224/224 - 4s - loss: 7.0486e-04 - val_loss: 0.0245\n",
      "Epoch 56/350\n",
      "224/224 - 3s - loss: 7.1605e-04 - val_loss: 0.0320\n",
      "Epoch 57/350\n",
      "224/224 - 3s - loss: 6.8499e-04 - val_loss: 0.0311\n",
      "Epoch 58/350\n",
      "224/224 - 2s - loss: 6.8371e-04 - val_loss: 0.0217\n",
      "Epoch 59/350\n",
      "224/224 - 2s - loss: 7.3751e-04 - val_loss: 0.0285\n",
      "Epoch 60/350\n",
      "224/224 - 2s - loss: 7.0795e-04 - val_loss: 0.0251\n",
      "Epoch 61/350\n",
      "224/224 - 2s - loss: 7.0122e-04 - val_loss: 0.0200\n",
      "Epoch 62/350\n",
      "224/224 - 2s - loss: 7.9357e-04 - val_loss: 0.0372\n",
      "Epoch 63/350\n",
      "224/224 - 2s - loss: 7.5043e-04 - val_loss: 0.0156\n",
      "Epoch 64/350\n",
      "224/224 - 2s - loss: 7.4838e-04 - val_loss: 0.0234\n",
      "Epoch 65/350\n",
      "224/224 - 3s - loss: 6.4358e-04 - val_loss: 0.0383\n",
      "Epoch 66/350\n",
      "224/224 - 3s - loss: 7.1486e-04 - val_loss: 0.0253\n",
      "Epoch 67/350\n",
      "224/224 - 3s - loss: 6.6458e-04 - val_loss: 0.0160\n",
      "Epoch 68/350\n",
      "224/224 - 3s - loss: 6.6574e-04 - val_loss: 0.0283\n",
      "Epoch 69/350\n",
      "224/224 - 3s - loss: 6.6724e-04 - val_loss: 0.0292\n",
      "Epoch 70/350\n",
      "224/224 - 3s - loss: 6.8468e-04 - val_loss: 0.0233\n",
      "Epoch 71/350\n",
      "224/224 - 3s - loss: 6.8352e-04 - val_loss: 0.0218\n",
      "Epoch 72/350\n",
      "224/224 - 3s - loss: 6.6212e-04 - val_loss: 0.0265\n",
      "Epoch 73/350\n",
      "224/224 - 3s - loss: 6.8517e-04 - val_loss: 0.0339\n",
      "Epoch 74/350\n",
      "224/224 - 3s - loss: 7.1473e-04 - val_loss: 0.0252\n",
      "Epoch 75/350\n",
      "224/224 - 3s - loss: 7.1265e-04 - val_loss: 0.0270\n",
      "Epoch 76/350\n",
      "224/224 - 3s - loss: 7.2037e-04 - val_loss: 0.0297\n",
      "Epoch 77/350\n",
      "224/224 - 3s - loss: 7.4306e-04 - val_loss: 0.0244\n",
      "Epoch 78/350\n",
      "224/224 - 3s - loss: 6.5897e-04 - val_loss: 0.0180\n",
      "Epoch 79/350\n",
      "224/224 - 4s - loss: 6.8100e-04 - val_loss: 0.0263\n",
      "Epoch 80/350\n",
      "224/224 - 3s - loss: 6.8836e-04 - val_loss: 0.0201\n",
      "Epoch 81/350\n",
      "224/224 - 3s - loss: 6.9739e-04 - val_loss: 0.0244\n",
      "Epoch 82/350\n",
      "224/224 - 3s - loss: 7.0564e-04 - val_loss: 0.0210\n",
      "Epoch 83/350\n",
      "224/224 - 3s - loss: 6.2029e-04 - val_loss: 0.0306\n",
      "Epoch 84/350\n",
      "224/224 - 3s - loss: 6.9513e-04 - val_loss: 0.0255\n",
      "Epoch 85/350\n",
      "224/224 - 3s - loss: 7.2561e-04 - val_loss: 0.0214\n",
      "Epoch 86/350\n",
      "224/224 - 3s - loss: 6.5957e-04 - val_loss: 0.0285\n",
      "Epoch 87/350\n",
      "224/224 - 2s - loss: 7.3686e-04 - val_loss: 0.0240\n",
      "Epoch 88/350\n",
      "224/224 - 2s - loss: 6.4865e-04 - val_loss: 0.0228\n",
      "Epoch 89/350\n",
      "224/224 - 3s - loss: 6.5521e-04 - val_loss: 0.0319\n",
      "Epoch 90/350\n",
      "224/224 - 3s - loss: 6.7633e-04 - val_loss: 0.0219\n",
      "Epoch 91/350\n",
      "224/224 - 3s - loss: 7.2605e-04 - val_loss: 0.0297\n",
      "Epoch 92/350\n",
      "224/224 - 2s - loss: 6.4110e-04 - val_loss: 0.0217\n",
      "Epoch 93/350\n",
      "224/224 - 2s - loss: 7.0919e-04 - val_loss: 0.0309\n",
      "Epoch 94/350\n",
      "224/224 - 2s - loss: 6.6750e-04 - val_loss: 0.0213\n",
      "Epoch 95/350\n",
      "224/224 - 2s - loss: 7.2174e-04 - val_loss: 0.0281\n",
      "Epoch 96/350\n",
      "224/224 - 3s - loss: 7.5730e-04 - val_loss: 0.0274\n",
      "Epoch 97/350\n"
     ]
    }
   ],
   "source": [
    "model.fit(X_train,y_train,validation_data=(X_test,ytest),epochs=350,batch_size=10,verbose=2)"
   ]
  },
  {
   "cell_type": "code",
   "execution_count": null,
   "metadata": {},
   "outputs": [],
   "source": [
    "import tensorflow as tf"
   ]
  },
  {
   "cell_type": "code",
   "execution_count": null,
   "metadata": {},
   "outputs": [],
   "source": [
    "tf.__version__"
   ]
  },
  {
   "cell_type": "code",
   "execution_count": null,
   "metadata": {},
   "outputs": [],
   "source": [
    "### Lets Do the prediction and check performance metrics\n",
    "train_predict=model.predict(X_train)\n",
    "test_predict=model.predict(X_test)"
   ]
  },
  {
   "cell_type": "code",
   "execution_count": null,
   "metadata": {},
   "outputs": [],
   "source": [
    "##Transformback to original form\n",
    "train_predict=scaler.inverse_transform(train_predict)\n",
    "test_predict=scaler.inverse_transform(test_predict)"
   ]
  },
  {
   "cell_type": "code",
   "execution_count": null,
   "metadata": {},
   "outputs": [],
   "source": [
    "### Calculate RMSE performance metrics\n",
    "import math\n",
    "from sklearn.metrics import mean_squared_error\n",
    "math.sqrt(mean_squared_error(y_train,train_predict))"
   ]
  },
  {
   "cell_type": "code",
   "execution_count": null,
   "metadata": {},
   "outputs": [],
   "source": [
    "### Test Data RMSE\n",
    "math.sqrt(mean_squared_error(ytest,test_predict))"
   ]
  },
  {
   "cell_type": "code",
   "execution_count": null,
   "metadata": {},
   "outputs": [],
   "source": [
    "### Plotting \n",
    "# shift train predictions for plotting\n",
    "look_back=p_day\n",
    "trainPredictPlot = numpy.empty_like(df1)\n",
    "trainPredictPlot[:, :] = np.nan\n",
    "trainPredictPlot[look_back:len(train_predict)+look_back, :] = train_predict\n",
    "# shift test predictions for plotting\n",
    "testPredictPlot = numpy.empty_like(df1)\n",
    "testPredictPlot[:, :] = numpy.nan\n",
    "testPredictPlot[len(train_predict)+(look_back*2)+1:len(df1)-1, :] = test_predict\n",
    "# plot baseline and predictions\n",
    "plt.plot(scaler.inverse_transform(df1))\n",
    "plt.plot(trainPredictPlot)\n",
    "plt.plot(testPredictPlot,color=\"red\")\n",
    "plt.show()"
   ]
  },
  {
   "cell_type": "code",
   "execution_count": null,
   "metadata": {},
   "outputs": [],
   "source": [
    "len(test_data)"
   ]
  },
  {
   "cell_type": "code",
   "execution_count": null,
   "metadata": {},
   "outputs": [],
   "source": [
    "x_input=test_data[len(test_data)-p_day-1:].reshape(1,-1)\n",
    "x_input.shape\n"
   ]
  },
  {
   "cell_type": "code",
   "execution_count": null,
   "metadata": {},
   "outputs": [],
   "source": [
    "temp_input=list(x_input)\n",
    "temp_input=temp_input[0].tolist()"
   ]
  },
  {
   "cell_type": "code",
   "execution_count": null,
   "metadata": {},
   "outputs": [],
   "source": [
    "len(temp_input)"
   ]
  },
  {
   "cell_type": "code",
   "execution_count": null,
   "metadata": {},
   "outputs": [],
   "source": [
    "# demonstrate prediction for next 10 days\n",
    "from numpy import array\n",
    "\n",
    "lst_output=[]\n",
    "n_steps=p_day\n",
    "futureDays=70\n",
    "i=0\n",
    "\n",
    "while(i<futureDays):\n",
    "    \n",
    "    if(len(temp_input)>p_day):\n",
    "        #print(temp_input)\n",
    "        x_input=np.array(temp_input[1:])\n",
    "        print(\"{} day input {}\".format(i,x_input))\n",
    "        x_input=x_input.reshape(1,-1)\n",
    "        x_input = x_input.reshape((1, n_steps, 1))\n",
    "        #print(x_input)\n",
    "        yhat = model.predict(x_input, verbose=0)\n",
    "        print(\"{} day output {}\".format(i,yhat))\n",
    "        temp_input.extend(yhat[0].tolist())\n",
    "        temp_input=temp_input[1:]\n",
    "        #print(temp_input)\n",
    "        lst_output.extend(yhat.tolist())\n",
    "        i=i+1\n",
    "    else:\n",
    "        x_input = x_input.reshape((1, n_steps,1))\n",
    "        yhat = model.predict(x_input, verbose=0)\n",
    "        print(yhat[0])\n",
    "        temp_input.extend(yhat[0].tolist())\n",
    "        print(len(temp_input))\n",
    "        lst_output.extend(yhat.tolist())\n",
    "        i=i+1\n",
    "    \n",
    "\n",
    "print(lst_output)"
   ]
  },
  {
   "cell_type": "code",
   "execution_count": null,
   "metadata": {},
   "outputs": [],
   "source": [
    "day_new=np.arange(1,futureDays+1)\n",
    "day_pred=np.arange(p_day+1,p_day+1+futureDays)"
   ]
  },
  {
   "cell_type": "code",
   "execution_count": null,
   "metadata": {},
   "outputs": [],
   "source": [
    "import matplotlib.pyplot as plt"
   ]
  },
  {
   "cell_type": "code",
   "execution_count": null,
   "metadata": {},
   "outputs": [],
   "source": [
    "len(df1)"
   ]
  },
  {
   "cell_type": "code",
   "execution_count": null,
   "metadata": {},
   "outputs": [],
   "source": []
  },
  {
   "cell_type": "code",
   "execution_count": null,
   "metadata": {
    "scrolled": true
   },
   "outputs": [],
   "source": [
    "plt.plot(day_new,scaler.inverse_transform(df1[len(df1)-futureDays:]),color=\"red\")\n",
    "plt.plot(day_pred,scaler.inverse_transform(lst_output))"
   ]
  },
  {
   "cell_type": "code",
   "execution_count": null,
   "metadata": {},
   "outputs": [],
   "source": []
  },
  {
   "cell_type": "code",
   "execution_count": null,
   "metadata": {},
   "outputs": [],
   "source": [
    "df3=df1.tolist()\n",
    "df3.extend(lst_output)\n",
    "\n",
    "\n",
    "plt.plot(df3[len(df1)-365:])"
   ]
  },
  {
   "cell_type": "code",
   "execution_count": null,
   "metadata": {},
   "outputs": [],
   "source": []
  },
  {
   "cell_type": "code",
   "execution_count": null,
   "metadata": {},
   "outputs": [],
   "source": [
    "df3=scaler.inverse_transform(df3).tolist()\n",
    "df4 = pd.DataFrame(df3,columns =['Close'])\n",
    "df4\n"
   ]
  },
  {
   "cell_type": "code",
   "execution_count": null,
   "metadata": {},
   "outputs": [],
   "source": [
    "plt.plot(df4[\"Close\"][5:])\n",
    "plt.show()"
   ]
  },
  {
   "cell_type": "code",
   "execution_count": null,
   "metadata": {
    "scrolled": true
   },
   "outputs": [],
   "source": [
    "\n",
    "from sklearn.metrics import r2_score,mean_squared_error,mean_absolute_error"
   ]
  },
  {
   "cell_type": "code",
   "execution_count": null,
   "metadata": {},
   "outputs": [],
   "source": []
  },
  {
   "cell_type": "code",
   "execution_count": null,
   "metadata": {},
   "outputs": [],
   "source": []
  }
 ],
 "metadata": {
  "kernelspec": {
   "display_name": "Python 3",
   "language": "python",
   "name": "python3"
  },
  "language_info": {
   "codemirror_mode": {
    "name": "ipython",
    "version": 3
   },
   "file_extension": ".py",
   "mimetype": "text/x-python",
   "name": "python",
   "nbconvert_exporter": "python",
   "pygments_lexer": "ipython3",
   "version": "3.8.8"
  }
 },
 "nbformat": 4,
 "nbformat_minor": 2
}
