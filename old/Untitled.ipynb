{
 "cells": [
  {
   "cell_type": "code",
   "execution_count": 14,
   "metadata": {},
   "outputs": [],
   "source": [
    "\n",
    "import pandas as pd\n",
    "\n"
   ]
  },
  {
   "cell_type": "code",
   "execution_count": 15,
   "metadata": {},
   "outputs": [],
   "source": [
    "p_day=7"
   ]
  },
  {
   "cell_type": "code",
   "execution_count": null,
   "metadata": {},
   "outputs": [],
   "source": []
  },
  {
   "cell_type": "code",
   "execution_count": 16,
   "metadata": {},
   "outputs": [
    {
     "data": {
      "text/plain": [
       "Unnamed: 0     object\n",
       "Open          float64\n",
       "High          float64\n",
       "Low           float64\n",
       "Close         float64\n",
       "Adj Close     float64\n",
       "Volume          int64\n",
       "dtype: object"
      ]
     },
     "execution_count": 16,
     "metadata": {},
     "output_type": "execute_result"
    }
   ],
   "source": [
    "df=pd.read_csv(\"INFY.csv\")\n",
    "df.dtypes"
   ]
  },
  {
   "cell_type": "code",
   "execution_count": null,
   "metadata": {},
   "outputs": [],
   "source": []
  },
  {
   "cell_type": "code",
   "execution_count": 17,
   "metadata": {},
   "outputs": [
    {
     "data": {
      "text/plain": [
       "3450"
      ]
     },
     "execution_count": 17,
     "metadata": {},
     "output_type": "execute_result"
    }
   ],
   "source": [
    "len(df)"
   ]
  },
  {
   "cell_type": "code",
   "execution_count": 18,
   "metadata": {
    "scrolled": true
   },
   "outputs": [
    {
     "data": {
      "text/html": [
       "<div>\n",
       "<style scoped>\n",
       "    .dataframe tbody tr th:only-of-type {\n",
       "        vertical-align: middle;\n",
       "    }\n",
       "\n",
       "    .dataframe tbody tr th {\n",
       "        vertical-align: top;\n",
       "    }\n",
       "\n",
       "    .dataframe thead th {\n",
       "        text-align: right;\n",
       "    }\n",
       "</style>\n",
       "<table border=\"1\" class=\"dataframe\">\n",
       "  <thead>\n",
       "    <tr style=\"text-align: right;\">\n",
       "      <th></th>\n",
       "      <th>Unnamed: 0</th>\n",
       "      <th>Open</th>\n",
       "      <th>High</th>\n",
       "      <th>Low</th>\n",
       "      <th>Close</th>\n",
       "      <th>Adj Close</th>\n",
       "      <th>Volume</th>\n",
       "    </tr>\n",
       "  </thead>\n",
       "  <tbody>\n",
       "    <tr>\n",
       "      <th>3445</th>\n",
       "      <td>2021-09-24 13:15:00+05:30</td>\n",
       "      <td>1766.800049</td>\n",
       "      <td>1772.949951</td>\n",
       "      <td>1766.599976</td>\n",
       "      <td>1767.75</td>\n",
       "      <td>1771.699951</td>\n",
       "      <td>667263</td>\n",
       "    </tr>\n",
       "    <tr>\n",
       "      <th>3446</th>\n",
       "      <td>2021-09-24 14:15:00+05:30</td>\n",
       "      <td>1771.699951</td>\n",
       "      <td>1772.500000</td>\n",
       "      <td>1760.150024</td>\n",
       "      <td>1768.90</td>\n",
       "      <td>1764.400024</td>\n",
       "      <td>1200835</td>\n",
       "    </tr>\n",
       "    <tr>\n",
       "      <th>3447</th>\n",
       "      <td>2021-09-24 15:15:00+05:30</td>\n",
       "      <td>1764.400024</td>\n",
       "      <td>1766.000000</td>\n",
       "      <td>1763.000000</td>\n",
       "      <td>1771.70</td>\n",
       "      <td>1764.099976</td>\n",
       "      <td>535790</td>\n",
       "    </tr>\n",
       "    <tr>\n",
       "      <th>3448</th>\n",
       "      <td>2021-09-27 09:15:00+05:30</td>\n",
       "      <td>1759.699951</td>\n",
       "      <td>1768.750000</td>\n",
       "      <td>1738.750000</td>\n",
       "      <td>1778.10</td>\n",
       "      <td>1741.550049</td>\n",
       "      <td>1168663</td>\n",
       "    </tr>\n",
       "    <tr>\n",
       "      <th>3449</th>\n",
       "      <td>2021-09-27 10:14:14+05:30</td>\n",
       "      <td>1742.349976</td>\n",
       "      <td>1742.349976</td>\n",
       "      <td>1742.349976</td>\n",
       "      <td>1779.90</td>\n",
       "      <td>1742.349976</td>\n",
       "      <td>0</td>\n",
       "    </tr>\n",
       "  </tbody>\n",
       "</table>\n",
       "</div>"
      ],
      "text/plain": [
       "                     Unnamed: 0         Open         High          Low  \\\n",
       "3445  2021-09-24 13:15:00+05:30  1766.800049  1772.949951  1766.599976   \n",
       "3446  2021-09-24 14:15:00+05:30  1771.699951  1772.500000  1760.150024   \n",
       "3447  2021-09-24 15:15:00+05:30  1764.400024  1766.000000  1763.000000   \n",
       "3448  2021-09-27 09:15:00+05:30  1759.699951  1768.750000  1738.750000   \n",
       "3449  2021-09-27 10:14:14+05:30  1742.349976  1742.349976  1742.349976   \n",
       "\n",
       "        Close    Adj Close   Volume  \n",
       "3445  1767.75  1771.699951   667263  \n",
       "3446  1768.90  1764.400024  1200835  \n",
       "3447  1771.70  1764.099976   535790  \n",
       "3448  1778.10  1741.550049  1168663  \n",
       "3449  1779.90  1742.349976        0  "
      ]
     },
     "execution_count": 18,
     "metadata": {},
     "output_type": "execute_result"
    }
   ],
   "source": [
    "df.tail()\n"
   ]
  },
  {
   "cell_type": "code",
   "execution_count": 19,
   "metadata": {},
   "outputs": [],
   "source": [
    "df1=df.reset_index()['Close']"
   ]
  },
  {
   "cell_type": "code",
   "execution_count": 20,
   "metadata": {},
   "outputs": [
    {
     "data": {
      "text/plain": [
       "0        524.20\n",
       "1        527.80\n",
       "2        528.00\n",
       "3        529.15\n",
       "4        530.15\n",
       "         ...   \n",
       "3445    1767.75\n",
       "3446    1768.90\n",
       "3447    1771.70\n",
       "3448    1778.10\n",
       "3449    1779.90\n",
       "Name: Close, Length: 3450, dtype: float64"
      ]
     },
     "execution_count": 20,
     "metadata": {},
     "output_type": "execute_result"
    }
   ],
   "source": [
    "df1.dropna()"
   ]
  },
  {
   "cell_type": "code",
   "execution_count": 21,
   "metadata": {},
   "outputs": [
    {
     "data": {
      "text/plain": [
       "[<matplotlib.lines.Line2D at 0x180b6cedf10>]"
      ]
     },
     "execution_count": 21,
     "metadata": {},
     "output_type": "execute_result"
    },
    {
     "data": {
      "image/png": "[encoded data removed]",
      "text/plain": [
       "<Figure size 432x288 with 1 Axes>"
      ]
     },
     "metadata": {
      "needs_background": "light"
     },
     "output_type": "display_data"
    }
   ],
   "source": [
    "import matplotlib.pyplot as plt\n",
    "plt.plot(df1)"
   ]
  },
  {
   "cell_type": "code",
   "execution_count": 22,
   "metadata": {},
   "outputs": [],
   "source": [
    "### LSTM are sensitive to the scale of the data. so we apply MinMax scaler "
   ]
  },
  {
   "cell_type": "code",
   "execution_count": 23,
   "metadata": {},
   "outputs": [],
   "source": [
    "import numpy as np"
   ]
  },
  {
   "cell_type": "code",
   "execution_count": 24,
   "metadata": {},
   "outputs": [
    {
     "data": {
      "text/plain": [
       "0        524.20\n",
       "1        527.80\n",
       "2        528.00\n",
       "3        529.15\n",
       "4        530.15\n",
       "         ...   \n",
       "3445    1767.75\n",
       "3446    1768.90\n",
       "3447    1771.70\n",
       "3448    1778.10\n",
       "3449    1779.90\n",
       "Name: Close, Length: 3450, dtype: float64"
      ]
     },
     "execution_count": 24,
     "metadata": {},
     "output_type": "execute_result"
    }
   ],
   "source": [
    "df1"
   ]
  },
  {
   "cell_type": "code",
   "execution_count": 25,
   "metadata": {},
   "outputs": [],
   "source": [
    "from sklearn.preprocessing import MinMaxScaler\n",
    "scaler=MinMaxScaler(feature_range=(0,1))\n",
    "df1=scaler.fit_transform(np.array(df1).reshape(-1,1))"
   ]
  },
  {
   "cell_type": "code",
   "execution_count": 26,
   "metadata": {},
   "outputs": [
    {
     "name": "stdout",
     "output_type": "stream",
     "text": [
      "[[0.        ]\n",
      " [0.00286693]\n",
      " [0.0030262 ]\n",
      " ...\n",
      " [0.99346978]\n",
      " [0.99856654]\n",
      " [1.        ]]\n"
     ]
    }
   ],
   "source": [
    "print(df1)"
   ]
  },
  {
   "cell_type": "code",
   "execution_count": 27,
   "metadata": {},
   "outputs": [],
   "source": [
    "##splitting dataset into train and test split\n",
    "training_size=int(len(df1)*0.65)\n",
    "test_size=len(df1)-training_size\n",
    "train_data,test_data=df1[0:training_size,:],df1[training_size:len(df1),:1]"
   ]
  },
  {
   "cell_type": "code",
   "execution_count": 28,
   "metadata": {},
   "outputs": [
    {
     "data": {
      "text/plain": [
       "(2242, 1208)"
      ]
     },
     "execution_count": 28,
     "metadata": {},
     "output_type": "execute_result"
    }
   ],
   "source": [
    "training_size,test_size"
   ]
  },
  {
   "cell_type": "code",
   "execution_count": 29,
   "metadata": {},
   "outputs": [
    {
     "data": {
      "text/plain": [
       "array([[0.        ],\n",
       "       [0.00286693],\n",
       "       [0.0030262 ],\n",
       "       ...,\n",
       "       [0.59460858],\n",
       "       [0.59472804],\n",
       "       [0.59588277]])"
      ]
     },
     "execution_count": 29,
     "metadata": {},
     "output_type": "execute_result"
    }
   ],
   "source": [
    "train_data"
   ]
  },
  {
   "cell_type": "code",
   "execution_count": 30,
   "metadata": {},
   "outputs": [],
   "source": [
    "import numpy\n",
    "# convert an array of values into a dataset matrix\n",
    "def create_dataset(dataset, time_step=1):\n",
    "\tdataX, dataY = [], []\n",
    "\tfor i in range(len(dataset)-time_step-1):\n",
    "\t\ta = dataset[i:(i+time_step), 0]   ###i=0, 0,1,2,3-----99   100 \n",
    "\t\tdataX.append(a)\n",
    "\t\tdataY.append(dataset[i + time_step, 0])\n",
    "\treturn numpy.array(dataX), numpy.array(dataY)"
   ]
  },
  {
   "cell_type": "code",
   "execution_count": 31,
   "metadata": {},
   "outputs": [],
   "source": [
    "# reshape into X=t,t+1,t+2,t+3 and Y=t+4\n",
    "time_step = p_day\n",
    "X_train, y_train = create_dataset(train_data, time_step)\n",
    "X_test, ytest = create_dataset(test_data, time_step)"
   ]
  },
  {
   "cell_type": "code",
   "execution_count": 32,
   "metadata": {},
   "outputs": [
    {
     "name": "stdout",
     "output_type": "stream",
     "text": [
      "(2234, 7)\n",
      "(2234,)\n"
     ]
    },
    {
     "data": {
      "text/plain": [
       "(None, None)"
      ]
     },
     "execution_count": 32,
     "metadata": {},
     "output_type": "execute_result"
    }
   ],
   "source": [
    "print(X_train.shape), print(y_train.shape)"
   ]
  },
  {
   "cell_type": "code",
   "execution_count": 33,
   "metadata": {},
   "outputs": [
    {
     "name": "stdout",
     "output_type": "stream",
     "text": [
      "(1200, 7)\n",
      "(1200,)\n"
     ]
    },
    {
     "data": {
      "text/plain": [
       "(None, None)"
      ]
     },
     "execution_count": 33,
     "metadata": {},
     "output_type": "execute_result"
    }
   ],
   "source": [
    "print(X_test.shape), print(ytest.shape)"
   ]
  },
  {
   "cell_type": "code",
   "execution_count": 34,
   "metadata": {},
   "outputs": [],
   "source": [
    "# reshape input to be [samples, time steps, features] which is required for LSTM\n",
    "X_train =X_train.reshape(X_train.shape[0],X_train.shape[1] , 1)\n",
    "X_test = X_test.reshape(X_test.shape[0],X_test.shape[1] , 1)"
   ]
  },
  {
   "cell_type": "code",
   "execution_count": 35,
   "metadata": {},
   "outputs": [],
   "source": [
    "### Create the Stacked LSTM model\n",
    "from tensorflow.keras.models import Sequential\n",
    "from tensorflow.keras.layers import Dense\n",
    "from tensorflow.keras.layers import LSTM\n",
    "from tensorflow.keras.layers import Dropout"
   ]
  },
  {
   "cell_type": "code",
   "execution_count": 36,
   "metadata": {},
   "outputs": [],
   "source": [
    "model=Sequential()\n",
    "model.add(LSTM(50,return_sequences=True,input_shape=(p_day,1)))\n",
    "model.add(Dropout(0.5))\n",
    "model.add(LSTM(50,return_sequences=True))\n",
    "model.add(Dropout(0.5))\n",
    "model.add(LSTM(50,return_sequences=True))\n",
    "model.add(Dropout(0.5))\n",
    "model.add(LSTM(50))\n",
    "model.add(Dropout(0.5))\n",
    "model.add(Dense(1))\n",
    "model.compile(loss='mean_squared_error',optimizer='adam')\n"
   ]
  },
  {
   "cell_type": "code",
   "execution_count": null,
   "metadata": {},
   "outputs": [],
   "source": []
  },
  {
   "cell_type": "code",
   "execution_count": 37,
   "metadata": {},
   "outputs": [
    {
     "name": "stdout",
     "output_type": "stream",
     "text": [
      "Model: \"sequential\"\n",
      "_________________________________________________________________\n",
      "Layer (type)                 Output Shape              Param #   \n",
      "=================================================================\n",
      "lstm (LSTM)                  (None, 7, 50)             10400     \n",
      "_________________________________________________________________\n",
      "dropout (Dropout)            (None, 7, 50)             0         \n",
      "_________________________________________________________________\n",
      "lstm_1 (LSTM)                (None, 7, 50)             20200     \n",
      "_________________________________________________________________\n",
      "dropout_1 (Dropout)          (None, 7, 50)             0         \n",
      "_________________________________________________________________\n",
      "lstm_2 (LSTM)                (None, 7, 50)             20200     \n",
      "_________________________________________________________________\n",
      "dropout_2 (Dropout)          (None, 7, 50)             0         \n",
      "_________________________________________________________________\n",
      "lstm_3 (LSTM)                (None, 50)                20200     \n",
      "_________________________________________________________________\n",
      "dropout_3 (Dropout)          (None, 50)                0         \n",
      "_________________________________________________________________\n",
      "dense (Dense)                (None, 1)                 51        \n",
      "=================================================================\n",
      "Total params: 71,051\n",
      "Trainable params: 71,051\n",
      "Non-trainable params: 0\n",
      "_________________________________________________________________\n"
     ]
    }
   ],
   "source": [
    "model.summary()"
   ]
  },
  {
   "cell_type": "code",
   "execution_count": null,
   "metadata": {},
   "outputs": [],
   "source": []
  },
  {
   "cell_type": "code",
   "execution_count": null,
   "metadata": {},
   "outputs": [
    {
     "name": "stdout",
     "output_type": "stream",
     "text": [
      "Epoch 1/150\n",
      "224/224 - 9s - loss: 0.0022 - val_loss: 0.0078\n",
      "Epoch 2/150\n",
      "224/224 - 5s - loss: 0.0018 - val_loss: 0.0122\n",
      "Epoch 3/150\n",
      "224/224 - 5s - loss: 0.0016 - val_loss: 0.0087\n",
      "Epoch 4/150\n",
      "224/224 - 5s - loss: 0.0015 - val_loss: 0.0188\n",
      "Epoch 5/150\n",
      "224/224 - 5s - loss: 0.0012 - val_loss: 0.0070\n",
      "Epoch 6/150\n",
      "224/224 - 5s - loss: 0.0012 - val_loss: 0.0063\n",
      "Epoch 7/150\n",
      "224/224 - 5s - loss: 0.0010 - val_loss: 0.0013\n",
      "Epoch 8/150\n",
      "224/224 - 4s - loss: 9.4507e-04 - val_loss: 0.0069\n",
      "Epoch 9/150\n",
      "224/224 - 5s - loss: 0.0010 - val_loss: 0.0044\n",
      "Epoch 10/150\n",
      "224/224 - 5s - loss: 9.1244e-04 - val_loss: 0.0037\n",
      "Epoch 11/150\n",
      "224/224 - 5s - loss: 9.8920e-04 - val_loss: 0.0177\n",
      "Epoch 12/150\n",
      "224/224 - 5s - loss: 8.4814e-04 - val_loss: 0.0108\n",
      "Epoch 13/150\n",
      "224/224 - 5s - loss: 8.9533e-04 - val_loss: 0.0176\n",
      "Epoch 14/150\n",
      "224/224 - 5s - loss: 9.5157e-04 - val_loss: 0.0275\n",
      "Epoch 15/150\n",
      "224/224 - 5s - loss: 8.3373e-04 - val_loss: 0.0334\n",
      "Epoch 16/150\n",
      "224/224 - 5s - loss: 8.4782e-04 - val_loss: 0.0387\n",
      "Epoch 17/150\n",
      "224/224 - 5s - loss: 8.5365e-04 - val_loss: 0.0408\n",
      "Epoch 18/150\n",
      "224/224 - 5s - loss: 8.3289e-04 - val_loss: 0.0449\n",
      "Epoch 19/150\n",
      "224/224 - 5s - loss: 8.2739e-04 - val_loss: 0.0324\n",
      "Epoch 20/150\n",
      "224/224 - 5s - loss: 8.6163e-04 - val_loss: 0.0358\n",
      "Epoch 21/150\n",
      "224/224 - 5s - loss: 7.9112e-04 - val_loss: 0.0512\n",
      "Epoch 22/150\n",
      "224/224 - 5s - loss: 7.1617e-04 - val_loss: 0.0374\n",
      "Epoch 23/150\n",
      "224/224 - 5s - loss: 8.7621e-04 - val_loss: 0.0313\n",
      "Epoch 24/150\n",
      "224/224 - 5s - loss: 7.9403e-04 - val_loss: 0.0335\n",
      "Epoch 25/150\n",
      "224/224 - 5s - loss: 8.2713e-04 - val_loss: 0.0409\n",
      "Epoch 26/150\n",
      "224/224 - 5s - loss: 8.3524e-04 - val_loss: 0.0326\n",
      "Epoch 27/150\n",
      "224/224 - 4s - loss: 7.2229e-04 - val_loss: 0.0315\n",
      "Epoch 28/150\n",
      "224/224 - 5s - loss: 7.7989e-04 - val_loss: 0.0327\n",
      "Epoch 29/150\n",
      "224/224 - 5s - loss: 7.1513e-04 - val_loss: 0.0296\n",
      "Epoch 30/150\n",
      "224/224 - 5s - loss: 7.6870e-04 - val_loss: 0.0289\n",
      "Epoch 31/150\n",
      "224/224 - 5s - loss: 7.1878e-04 - val_loss: 0.0215\n",
      "Epoch 32/150\n",
      "224/224 - 6s - loss: 7.9409e-04 - val_loss: 0.0316\n",
      "Epoch 33/150\n",
      "224/224 - 6s - loss: 8.4990e-04 - val_loss: 0.0250\n",
      "Epoch 34/150\n",
      "224/224 - 6s - loss: 7.8210e-04 - val_loss: 0.0143\n",
      "Epoch 35/150\n",
      "224/224 - 6s - loss: 7.0277e-04 - val_loss: 0.0204\n",
      "Epoch 36/150\n",
      "224/224 - 6s - loss: 7.2622e-04 - val_loss: 0.0236\n",
      "Epoch 37/150\n",
      "224/224 - 5s - loss: 7.9339e-04 - val_loss: 0.0267\n",
      "Epoch 38/150\n",
      "224/224 - 5s - loss: 7.6558e-04 - val_loss: 0.0305\n",
      "Epoch 39/150\n",
      "224/224 - 5s - loss: 7.1506e-04 - val_loss: 0.0212\n",
      "Epoch 40/150\n",
      "224/224 - 5s - loss: 7.3221e-04 - val_loss: 0.0281\n",
      "Epoch 41/150\n",
      "224/224 - 5s - loss: 8.0762e-04 - val_loss: 0.0261\n",
      "Epoch 42/150\n",
      "224/224 - 7s - loss: 7.3967e-04 - val_loss: 0.0177\n",
      "Epoch 43/150\n",
      "224/224 - 5s - loss: 7.5435e-04 - val_loss: 0.0318\n",
      "Epoch 44/150\n",
      "224/224 - 5s - loss: 7.7773e-04 - val_loss: 0.0298\n",
      "Epoch 45/150\n",
      "224/224 - 5s - loss: 6.7117e-04 - val_loss: 0.0254\n",
      "Epoch 46/150\n",
      "224/224 - 5s - loss: 8.0498e-04 - val_loss: 0.0286\n",
      "Epoch 47/150\n",
      "224/224 - 5s - loss: 6.8641e-04 - val_loss: 0.0209\n",
      "Epoch 48/150\n",
      "224/224 - 5s - loss: 6.7708e-04 - val_loss: 0.0355\n",
      "Epoch 49/150\n",
      "224/224 - 5s - loss: 7.2980e-04 - val_loss: 0.0203\n",
      "Epoch 50/150\n",
      "224/224 - 5s - loss: 7.1872e-04 - val_loss: 0.0194\n",
      "Epoch 51/150\n",
      "224/224 - 5s - loss: 7.6807e-04 - val_loss: 0.0277\n",
      "Epoch 52/150\n",
      "224/224 - 5s - loss: 7.1211e-04 - val_loss: 0.0190\n",
      "Epoch 53/150\n",
      "224/224 - 5s - loss: 7.3266e-04 - val_loss: 0.0279\n",
      "Epoch 54/150\n",
      "224/224 - 5s - loss: 6.5184e-04 - val_loss: 0.0274\n",
      "Epoch 55/150\n",
      "224/224 - 5s - loss: 7.0846e-04 - val_loss: 0.0256\n",
      "Epoch 56/150\n",
      "224/224 - 5s - loss: 6.4807e-04 - val_loss: 0.0241\n",
      "Epoch 57/150\n",
      "224/224 - 5s - loss: 7.0937e-04 - val_loss: 0.0293\n",
      "Epoch 58/150\n",
      "224/224 - 5s - loss: 7.2728e-04 - val_loss: 0.0279\n",
      "Epoch 59/150\n",
      "224/224 - 5s - loss: 7.6748e-04 - val_loss: 0.0300\n",
      "Epoch 60/150\n",
      "224/224 - 6s - loss: 6.8309e-04 - val_loss: 0.0277\n",
      "Epoch 61/150\n",
      "224/224 - 5s - loss: 8.5198e-04 - val_loss: 0.0289\n",
      "Epoch 62/150\n",
      "224/224 - 6s - loss: 6.9098e-04 - val_loss: 0.0249\n",
      "Epoch 63/150\n",
      "224/224 - 6s - loss: 6.6876e-04 - val_loss: 0.0299\n",
      "Epoch 64/150\n",
      "224/224 - 5s - loss: 6.4471e-04 - val_loss: 0.0181\n"
     ]
    }
   ],
   "source": [
    "model.fit(X_train,y_train,validation_data=(X_test,ytest),epochs=150,batch_size=10,verbose=2)"
   ]
  },
  {
   "cell_type": "code",
   "execution_count": 39,
   "metadata": {},
   "outputs": [],
   "source": [
    "import tensorflow as tf"
   ]
  },
  {
   "cell_type": "code",
   "execution_count": 40,
   "metadata": {},
   "outputs": [
    {
     "data": {
      "text/plain": [
       "'2.6.0'"
      ]
     },
     "execution_count": 40,
     "metadata": {},
     "output_type": "execute_result"
    }
   ],
   "source": [
    "tf.__version__"
   ]
  },
  {
   "cell_type": "code",
   "execution_count": 41,
   "metadata": {},
   "outputs": [],
   "source": [
    "### Lets Do the prediction and check performance metrics\n",
    "train_predict=model.predict(X_train)\n",
    "test_predict=model.predict(X_test)"
   ]
  },
  {
   "cell_type": "code",
   "execution_count": 42,
   "metadata": {},
   "outputs": [],
   "source": [
    "##Transformback to original form\n",
    "train_predict=scaler.inverse_transform(train_predict)\n",
    "test_predict=scaler.inverse_transform(test_predict)"
   ]
  },
  {
   "cell_type": "code",
   "execution_count": 43,
   "metadata": {},
   "outputs": [
    {
     "data": {
      "text/plain": [
       "878.6256115810002"
      ]
     },
     "execution_count": 43,
     "metadata": {},
     "output_type": "execute_result"
    }
   ],
   "source": [
    "### Calculate RMSE performance metrics\n",
    "import math\n",
    "from sklearn.metrics import mean_squared_error\n",
    "math.sqrt(mean_squared_error(y_train,train_predict))"
   ]
  },
  {
   "cell_type": "code",
   "execution_count": 44,
   "metadata": {},
   "outputs": [
    {
     "data": {
      "text/plain": [
       "1451.5505188850345"
      ]
     },
     "execution_count": 44,
     "metadata": {},
     "output_type": "execute_result"
    }
   ],
   "source": [
    "### Test Data RMSE\n",
    "math.sqrt(mean_squared_error(ytest,test_predict))"
   ]
  },
  {
   "cell_type": "code",
   "execution_count": 45,
   "metadata": {},
   "outputs": [
    {
     "data": {
      "image/png": "[encoded data removed]",
      "text/plain": [
       "<Figure size 432x288 with 1 Axes>"
      ]
     },
     "metadata": {
      "needs_background": "light"
     },
     "output_type": "display_data"
    }
   ],
   "source": [
    "### Plotting \n",
    "# shift train predictions for plotting\n",
    "look_back=p_day\n",
    "trainPredictPlot = numpy.empty_like(df1)\n",
    "trainPredictPlot[:, :] = np.nan\n",
    "trainPredictPlot[look_back:len(train_predict)+look_back, :] = train_predict\n",
    "# shift test predictions for plotting\n",
    "testPredictPlot = numpy.empty_like(df1)\n",
    "testPredictPlot[:, :] = numpy.nan\n",
    "testPredictPlot[len(train_predict)+(look_back*2)+1:len(df1)-1, :] = test_predict\n",
    "# plot baseline and predictions\n",
    "plt.plot(scaler.inverse_transform(df1))\n",
    "plt.plot(trainPredictPlot)\n",
    "plt.plot(testPredictPlot,color=\"red\")\n",
    "plt.show()"
   ]
  },
  {
   "cell_type": "code",
   "execution_count": 46,
   "metadata": {},
   "outputs": [
    {
     "data": {
      "text/plain": [
       "1208"
      ]
     },
     "execution_count": 46,
     "metadata": {},
     "output_type": "execute_result"
    }
   ],
   "source": [
    "len(test_data)"
   ]
  },
  {
   "cell_type": "code",
   "execution_count": 47,
   "metadata": {},
   "outputs": [
    {
     "data": {
      "text/plain": [
       "(1, 8)"
      ]
     },
     "execution_count": 47,
     "metadata": {},
     "output_type": "execute_result"
    }
   ],
   "source": [
    "x_input=test_data[len(test_data)-p_day-1:].reshape(1,-1)\n",
    "x_input.shape\n"
   ]
  },
  {
   "cell_type": "code",
   "execution_count": 48,
   "metadata": {},
   "outputs": [],
   "source": [
    "temp_input=list(x_input)\n",
    "temp_input=temp_input[0].tolist()"
   ]
  },
  {
   "cell_type": "code",
   "execution_count": 49,
   "metadata": {},
   "outputs": [
    {
     "data": {
      "text/plain": [
       "8"
      ]
     },
     "execution_count": 49,
     "metadata": {},
     "output_type": "execute_result"
    }
   ],
   "source": [
    "len(temp_input)"
   ]
  },
  {
   "cell_type": "code",
   "execution_count": 59,
   "metadata": {},
   "outputs": [
    {
     "name": "stdout",
     "output_type": "stream",
     "text": [
      "0 day input [0.99856654 1.         0.93820602 0.93905252 0.93939698 0.93778598\n",
      " 0.93390524]\n",
      "0 day output [[0.92660165]]\n",
      "1 day input [1.         0.93820602 0.93905252 0.93939698 0.93778598 0.93390524\n",
      " 0.92660165]\n",
      "1 day output [[0.9142591]]\n",
      "2 day input [0.93820602 0.93905252 0.93939698 0.93778598 0.93390524 0.92660165\n",
      " 0.91425908]\n",
      "2 day output [[0.8973657]]\n",
      "3 day input [0.93905252 0.93939698 0.93778598 0.93390524 0.92660165 0.91425908\n",
      " 0.89736569]\n",
      "3 day output [[0.89625]]\n",
      "4 day input [0.93939698 0.93778598 0.93390524 0.92660165 0.91425908 0.89736569\n",
      " 0.89625001]\n",
      "4 day output [[0.8936431]]\n",
      "5 day input [0.93778598 0.93390524 0.92660165 0.91425908 0.89736569 0.89625001\n",
      " 0.89364308]\n",
      "5 day output [[0.88914806]]\n",
      "6 day input [0.93390524 0.92660165 0.91425908 0.89736569 0.89625001 0.89364308\n",
      " 0.88914806]\n",
      "6 day output [[0.8829101]]\n",
      "7 day input [0.92660165 0.91425908 0.89736569 0.89625001 0.89364308 0.88914806\n",
      " 0.88291007]\n",
      "7 day output [[0.8753622]]\n",
      "8 day input [0.91425908 0.89736569 0.89625001 0.89364308 0.88914806 0.88291007\n",
      " 0.87536222]\n",
      "8 day output [[0.86752754]]\n",
      "9 day input [0.89736569 0.89625001 0.89364308 0.88914806 0.88291007 0.87536222\n",
      " 0.86752754]\n",
      "9 day output [[0.86122173]]\n",
      "10 day input [0.89625001 0.89364308 0.88914806 0.88291007 0.87536222 0.86752754\n",
      " 0.86122173]\n",
      "10 day output [[0.85838825]]\n",
      "11 day input [0.89364308 0.88914806 0.88291007 0.87536222 0.86752754 0.86122173\n",
      " 0.85838825]\n",
      "11 day output [[0.8543789]]\n",
      "12 day input [0.88914806 0.88291007 0.87536222 0.86752754 0.86122173 0.85838825\n",
      " 0.85437888]\n",
      "12 day output [[0.8493941]]\n",
      "13 day input [0.88291007 0.87536222 0.86752754 0.86122173 0.85838825 0.85437888\n",
      " 0.84939408]\n",
      "13 day output [[0.84389377]]\n",
      "14 day input [0.87536222 0.86752754 0.86122173 0.85838825 0.85437888 0.84939408\n",
      " 0.84389377]\n",
      "14 day output [[0.83843935]]\n",
      "15 day input [0.86752754 0.86122173 0.85838825 0.85437888 0.84939408 0.84389377\n",
      " 0.83843935]\n",
      "15 day output [[0.8335722]]\n",
      "16 day input [0.86122173 0.85838825 0.85437888 0.84939408 0.84389377 0.83843935\n",
      " 0.83357221]\n",
      "16 day output [[0.82956755]]\n",
      "17 day input [0.85838825 0.85437888 0.84939408 0.84389377 0.83843935 0.83357221\n",
      " 0.82956755]\n",
      "17 day output [[0.82608956]]\n",
      "18 day input [0.85437888 0.84939408 0.84389377 0.83843935 0.83357221 0.82956755\n",
      " 0.82608956]\n",
      "18 day output [[0.8220424]]\n",
      "19 day input [0.84939408 0.84389377 0.83843935 0.83357221 0.82956755 0.82608956\n",
      " 0.82204241]\n",
      "19 day output [[0.81772286]]\n",
      "20 day input [0.84389377 0.83843935 0.83357221 0.82956755 0.82608956 0.82204241\n",
      " 0.81772286]\n",
      "20 day output [[0.81345165]]\n",
      "21 day input [0.83843935 0.83357221 0.82956755 0.82608956 0.82204241 0.81772286\n",
      " 0.81345165]\n",
      "21 day output [[0.8094626]]\n",
      "22 day input [0.83357221 0.82956755 0.82608956 0.82204241 0.81772286 0.81345165\n",
      " 0.80946261]\n",
      "22 day output [[0.80583394]]\n",
      "23 day input [0.82956755 0.82608956 0.82204241 0.81772286 0.81345165 0.80946261\n",
      " 0.80583394]\n",
      "23 day output [[0.80245286]]\n",
      "24 day input [0.82608956 0.82204241 0.81772286 0.81345165 0.80946261 0.80583394\n",
      " 0.80245286]\n",
      "24 day output [[0.79907835]]\n",
      "25 day input [0.82204241 0.81772286 0.81345165 0.80946261 0.80583394 0.80245286\n",
      " 0.79907835]\n",
      "25 day output [[0.7955387]]\n",
      "26 day input [0.81772286 0.81345165 0.80946261 0.80583394 0.80245286 0.79907835\n",
      " 0.79553872]\n",
      "26 day output [[0.7920207]]\n",
      "27 day input [0.81345165 0.80946261 0.80583394 0.80245286 0.79907835 0.79553872\n",
      " 0.79202068]\n",
      "27 day output [[0.78865194]]\n",
      "28 day input [0.80946261 0.80583394 0.80245286 0.79907835 0.79553872 0.79202068\n",
      " 0.78865194]\n",
      "28 day output [[0.78547114]]\n",
      "29 day input [0.80583394 0.80245286 0.79907835 0.79553872 0.79202068 0.78865194\n",
      " 0.78547114]\n",
      "29 day output [[0.7824336]]\n",
      "[[0.9266016483306885], [0.9142590761184692], [0.8973656892776489], [0.8962500095367432], [0.8936430811882019], [0.8891480565071106], [0.8829100728034973], [0.8753622174263], [0.8675275444984436], [0.8612217307090759], [0.8583882451057434], [0.854378879070282], [0.8493940830230713], [0.8438937664031982], [0.8384393453598022], [0.8335722088813782], [0.829567551612854], [0.8260895609855652], [0.8220424056053162], [0.8177228569984436], [0.8134516477584839], [0.8094626069068909], [0.8058339357376099], [0.8024528622627258], [0.7990783452987671], [0.7955387234687805], [0.7920206785202026], [0.7886519432067871], [0.7854711413383484], [0.7824336290359497]]\n"
     ]
    }
   ],
   "source": [
    "# demonstrate prediction for next 10 days\n",
    "from numpy import array\n",
    "\n",
    "lst_output=[]\n",
    "n_steps=p_day\n",
    "futureDays=30\n",
    "i=0\n",
    "\n",
    "while(i<futureDays):\n",
    "    \n",
    "    if(len(temp_input)>p_day):\n",
    "        #print(temp_input)\n",
    "        x_input=np.array(temp_input[1:])\n",
    "        print(\"{} day input {}\".format(i,x_input))\n",
    "        x_input=x_input.reshape(1,-1)\n",
    "        x_input = x_input.reshape((1, n_steps, 1))\n",
    "        #print(x_input)\n",
    "        yhat = model.predict(x_input, verbose=0)\n",
    "        print(\"{} day output {}\".format(i,yhat))\n",
    "        temp_input.extend(yhat[0].tolist())\n",
    "        temp_input=temp_input[1:]\n",
    "        #print(temp_input)\n",
    "        lst_output.extend(yhat.tolist())\n",
    "        i=i+1\n",
    "    else:\n",
    "        x_input = x_input.reshape((1, n_steps,1))\n",
    "        yhat = model.predict(x_input, verbose=0)\n",
    "        print(yhat[0])\n",
    "        temp_input.extend(yhat[0].tolist())\n",
    "        print(len(temp_input))\n",
    "        lst_output.extend(yhat.tolist())\n",
    "        i=i+1\n",
    "    \n",
    "\n",
    "print(lst_output)"
   ]
  },
  {
   "cell_type": "code",
   "execution_count": 60,
   "metadata": {},
   "outputs": [],
   "source": [
    "day_new=np.arange(1,futureDays+1)\n",
    "day_pred=np.arange(p_day+1,p_day+1+futureDays)"
   ]
  },
  {
   "cell_type": "code",
   "execution_count": 61,
   "metadata": {},
   "outputs": [],
   "source": [
    "import matplotlib.pyplot as plt"
   ]
  },
  {
   "cell_type": "code",
   "execution_count": 62,
   "metadata": {},
   "outputs": [
    {
     "data": {
      "text/plain": [
       "3450"
      ]
     },
     "execution_count": 62,
     "metadata": {},
     "output_type": "execute_result"
    }
   ],
   "source": [
    "len(df1)"
   ]
  },
  {
   "cell_type": "code",
   "execution_count": null,
   "metadata": {},
   "outputs": [],
   "source": []
  },
  {
   "cell_type": "code",
   "execution_count": 63,
   "metadata": {
    "scrolled": true
   },
   "outputs": [
    {
     "data": {
      "text/plain": [
       "[<matplotlib.lines.Line2D at 0x180cf51b220>]"
      ]
     },
     "execution_count": 63,
     "metadata": {},
     "output_type": "execute_result"
    },
    {
     "data": {
      "image/png": "[encoded data removed]",
      "text/plain": [
       "<Figure size 432x288 with 1 Axes>"
      ]
     },
     "metadata": {
      "needs_background": "light"
     },
     "output_type": "display_data"
    }
   ],
   "source": [
    "plt.plot(day_new,scaler.inverse_transform(df1[len(df1)-futureDays:]),color=\"red\")\n",
    "plt.plot(day_pred,scaler.inverse_transform(lst_output))"
   ]
  },
  {
   "cell_type": "code",
   "execution_count": null,
   "metadata": {},
   "outputs": [],
   "source": []
  },
  {
   "cell_type": "code",
   "execution_count": 64,
   "metadata": {},
   "outputs": [
    {
     "data": {
      "text/plain": [
       "[<matplotlib.lines.Line2D at 0x180cf4fd6a0>]"
      ]
     },
     "execution_count": 64,
     "metadata": {},
     "output_type": "execute_result"
    },
    {
     "data": {
      "image/png": "[encoded data removed]",
      "text/plain": [
       "<Figure size 432x288 with 1 Axes>"
      ]
     },
     "metadata": {
      "needs_background": "light"
     },
     "output_type": "display_data"
    }
   ],
   "source": [
    "df3=df1.tolist()\n",
    "df3.extend(lst_output)\n",
    "\n",
    "\n",
    "plt.plot(df3[len(df1)-365:])"
   ]
  },
  {
   "cell_type": "code",
   "execution_count": null,
   "metadata": {},
   "outputs": [],
   "source": []
  },
  {
   "cell_type": "code",
   "execution_count": 65,
   "metadata": {},
   "outputs": [
    {
     "data": {
      "text/html": [
       "<div>\n",
       "<style scoped>\n",
       "    .dataframe tbody tr th:only-of-type {\n",
       "        vertical-align: middle;\n",
       "    }\n",
       "\n",
       "    .dataframe tbody tr th {\n",
       "        vertical-align: top;\n",
       "    }\n",
       "\n",
       "    .dataframe thead th {\n",
       "        text-align: right;\n",
       "    }\n",
       "</style>\n",
       "<table border=\"1\" class=\"dataframe\">\n",
       "  <thead>\n",
       "    <tr style=\"text-align: right;\">\n",
       "      <th></th>\n",
       "      <th>Close</th>\n",
       "    </tr>\n",
       "  </thead>\n",
       "  <tbody>\n",
       "    <tr>\n",
       "      <th>0</th>\n",
       "      <td>524.200000</td>\n",
       "    </tr>\n",
       "    <tr>\n",
       "      <th>1</th>\n",
       "      <td>527.800000</td>\n",
       "    </tr>\n",
       "    <tr>\n",
       "      <th>2</th>\n",
       "      <td>528.000000</td>\n",
       "    </tr>\n",
       "    <tr>\n",
       "      <th>3</th>\n",
       "      <td>529.150000</td>\n",
       "    </tr>\n",
       "    <tr>\n",
       "      <th>4</th>\n",
       "      <td>530.150000</td>\n",
       "    </tr>\n",
       "    <tr>\n",
       "      <th>...</th>\n",
       "      <td>...</td>\n",
       "    </tr>\n",
       "    <tr>\n",
       "      <th>3475</th>\n",
       "      <td>1523.157975</td>\n",
       "    </tr>\n",
       "    <tr>\n",
       "      <th>3476</th>\n",
       "      <td>1518.740366</td>\n",
       "    </tr>\n",
       "    <tr>\n",
       "      <th>3477</th>\n",
       "      <td>1514.510245</td>\n",
       "    </tr>\n",
       "    <tr>\n",
       "      <th>3478</th>\n",
       "      <td>1510.516112</td>\n",
       "    </tr>\n",
       "    <tr>\n",
       "      <th>3479</th>\n",
       "      <td>1506.701908</td>\n",
       "    </tr>\n",
       "  </tbody>\n",
       "</table>\n",
       "<p>3480 rows × 1 columns</p>\n",
       "</div>"
      ],
      "text/plain": [
       "            Close\n",
       "0      524.200000\n",
       "1      527.800000\n",
       "2      528.000000\n",
       "3      529.150000\n",
       "4      530.150000\n",
       "...           ...\n",
       "3475  1523.157975\n",
       "3476  1518.740366\n",
       "3477  1514.510245\n",
       "3478  1510.516112\n",
       "3479  1506.701908\n",
       "\n",
       "[3480 rows x 1 columns]"
      ]
     },
     "execution_count": 65,
     "metadata": {},
     "output_type": "execute_result"
    }
   ],
   "source": [
    "df3=scaler.inverse_transform(df3).tolist()\n",
    "df4 = pd.DataFrame(df3,columns =['Close'])\n",
    "df4\n"
   ]
  },
  {
   "cell_type": "code",
   "execution_count": 66,
   "metadata": {},
   "outputs": [
    {
     "data": {
      "image/png": "[encoded data removed]",
      "text/plain": [
       "<Figure size 432x288 with 1 Axes>"
      ]
     },
     "metadata": {
      "needs_background": "light"
     },
     "output_type": "display_data"
    }
   ],
   "source": [
    "plt.plot(df4[\"Close\"][5:])\n",
    "plt.show()"
   ]
  },
  {
   "cell_type": "code",
   "execution_count": 67,
   "metadata": {
    "scrolled": true
   },
   "outputs": [
    {
     "ename": "FileNotFoundError",
     "evalue": "[Errno 2] No such file or directory: 'RELIANCEtemp.csv'",
     "output_type": "error",
     "traceback": [
      "\u001b[1;31m---------------------------------------------------------------------------\u001b[0m",
      "\u001b[1;31mFileNotFoundError\u001b[0m                         Traceback (most recent call last)",
      "\u001b[1;32m<ipython-input-67-5e8c57150fc0>\u001b[0m in \u001b[0;36m<module>\u001b[1;34m\u001b[0m\n\u001b[1;32m----> 1\u001b[1;33m \u001b[0mdf_temp\u001b[0m \u001b[1;33m=\u001b[0m \u001b[0mpd\u001b[0m\u001b[1;33m.\u001b[0m\u001b[0mread_csv\u001b[0m\u001b[1;33m(\u001b[0m\u001b[1;34m\"RELIANCEtemp.csv\"\u001b[0m\u001b[1;33m)\u001b[0m\u001b[1;33m\u001b[0m\u001b[1;33m\u001b[0m\u001b[0m\n\u001b[0m\u001b[0;32m      2\u001b[0m \u001b[0mplt\u001b[0m\u001b[1;33m.\u001b[0m\u001b[0mplot\u001b[0m\u001b[1;33m(\u001b[0m\u001b[0mdf3\u001b[0m\u001b[1;33m,\u001b[0m\u001b[0mcolor\u001b[0m\u001b[1;33m=\u001b[0m\u001b[1;34m\"red\"\u001b[0m\u001b[1;33m)\u001b[0m\u001b[1;33m\u001b[0m\u001b[1;33m\u001b[0m\u001b[0m\n\u001b[0;32m      3\u001b[0m \u001b[0mplt\u001b[0m\u001b[1;33m.\u001b[0m\u001b[0mplot\u001b[0m\u001b[1;33m(\u001b[0m\u001b[0mdf_temp\u001b[0m\u001b[1;33m[\u001b[0m\u001b[1;34m\"Close\"\u001b[0m\u001b[1;33m]\u001b[0m\u001b[1;33m)\u001b[0m\u001b[1;33m\u001b[0m\u001b[1;33m\u001b[0m\u001b[0m\n\u001b[0;32m      4\u001b[0m \u001b[0mplt\u001b[0m\u001b[1;33m.\u001b[0m\u001b[0mshow\u001b[0m\u001b[1;33m(\u001b[0m\u001b[1;33m)\u001b[0m\u001b[1;33m\u001b[0m\u001b[1;33m\u001b[0m\u001b[0m\n\u001b[0;32m      5\u001b[0m \u001b[1;33m\u001b[0m\u001b[0m\n",
      "\u001b[1;32m~\\anaconda3\\lib\\site-packages\\pandas\\io\\parsers.py\u001b[0m in \u001b[0;36mread_csv\u001b[1;34m(filepath_or_buffer, sep, delimiter, header, names, index_col, usecols, squeeze, prefix, mangle_dupe_cols, dtype, engine, converters, true_values, false_values, skipinitialspace, skiprows, skipfooter, nrows, na_values, keep_default_na, na_filter, verbose, skip_blank_lines, parse_dates, infer_datetime_format, keep_date_col, date_parser, dayfirst, cache_dates, iterator, chunksize, compression, thousands, decimal, lineterminator, quotechar, quoting, doublequote, escapechar, comment, encoding, dialect, error_bad_lines, warn_bad_lines, delim_whitespace, low_memory, memory_map, float_precision, storage_options)\u001b[0m\n\u001b[0;32m    608\u001b[0m     \u001b[0mkwds\u001b[0m\u001b[1;33m.\u001b[0m\u001b[0mupdate\u001b[0m\u001b[1;33m(\u001b[0m\u001b[0mkwds_defaults\u001b[0m\u001b[1;33m)\u001b[0m\u001b[1;33m\u001b[0m\u001b[1;33m\u001b[0m\u001b[0m\n\u001b[0;32m    609\u001b[0m \u001b[1;33m\u001b[0m\u001b[0m\n\u001b[1;32m--> 610\u001b[1;33m     \u001b[1;32mreturn\u001b[0m \u001b[0m_read\u001b[0m\u001b[1;33m(\u001b[0m\u001b[0mfilepath_or_buffer\u001b[0m\u001b[1;33m,\u001b[0m \u001b[0mkwds\u001b[0m\u001b[1;33m)\u001b[0m\u001b[1;33m\u001b[0m\u001b[1;33m\u001b[0m\u001b[0m\n\u001b[0m\u001b[0;32m    611\u001b[0m \u001b[1;33m\u001b[0m\u001b[0m\n\u001b[0;32m    612\u001b[0m \u001b[1;33m\u001b[0m\u001b[0m\n",
      "\u001b[1;32m~\\anaconda3\\lib\\site-packages\\pandas\\io\\parsers.py\u001b[0m in \u001b[0;36m_read\u001b[1;34m(filepath_or_buffer, kwds)\u001b[0m\n\u001b[0;32m    460\u001b[0m \u001b[1;33m\u001b[0m\u001b[0m\n\u001b[0;32m    461\u001b[0m     \u001b[1;31m# Create the parser.\u001b[0m\u001b[1;33m\u001b[0m\u001b[1;33m\u001b[0m\u001b[1;33m\u001b[0m\u001b[0m\n\u001b[1;32m--> 462\u001b[1;33m     \u001b[0mparser\u001b[0m \u001b[1;33m=\u001b[0m \u001b[0mTextFileReader\u001b[0m\u001b[1;33m(\u001b[0m\u001b[0mfilepath_or_buffer\u001b[0m\u001b[1;33m,\u001b[0m \u001b[1;33m**\u001b[0m\u001b[0mkwds\u001b[0m\u001b[1;33m)\u001b[0m\u001b[1;33m\u001b[0m\u001b[1;33m\u001b[0m\u001b[0m\n\u001b[0m\u001b[0;32m    463\u001b[0m \u001b[1;33m\u001b[0m\u001b[0m\n\u001b[0;32m    464\u001b[0m     \u001b[1;32mif\u001b[0m \u001b[0mchunksize\u001b[0m \u001b[1;32mor\u001b[0m \u001b[0miterator\u001b[0m\u001b[1;33m:\u001b[0m\u001b[1;33m\u001b[0m\u001b[1;33m\u001b[0m\u001b[0m\n",
      "\u001b[1;32m~\\anaconda3\\lib\\site-packages\\pandas\\io\\parsers.py\u001b[0m in \u001b[0;36m__init__\u001b[1;34m(self, f, engine, **kwds)\u001b[0m\n\u001b[0;32m    817\u001b[0m             \u001b[0mself\u001b[0m\u001b[1;33m.\u001b[0m\u001b[0moptions\u001b[0m\u001b[1;33m[\u001b[0m\u001b[1;34m\"has_index_names\"\u001b[0m\u001b[1;33m]\u001b[0m \u001b[1;33m=\u001b[0m \u001b[0mkwds\u001b[0m\u001b[1;33m[\u001b[0m\u001b[1;34m\"has_index_names\"\u001b[0m\u001b[1;33m]\u001b[0m\u001b[1;33m\u001b[0m\u001b[1;33m\u001b[0m\u001b[0m\n\u001b[0;32m    818\u001b[0m \u001b[1;33m\u001b[0m\u001b[0m\n\u001b[1;32m--> 819\u001b[1;33m         \u001b[0mself\u001b[0m\u001b[1;33m.\u001b[0m\u001b[0m_engine\u001b[0m \u001b[1;33m=\u001b[0m \u001b[0mself\u001b[0m\u001b[1;33m.\u001b[0m\u001b[0m_make_engine\u001b[0m\u001b[1;33m(\u001b[0m\u001b[0mself\u001b[0m\u001b[1;33m.\u001b[0m\u001b[0mengine\u001b[0m\u001b[1;33m)\u001b[0m\u001b[1;33m\u001b[0m\u001b[1;33m\u001b[0m\u001b[0m\n\u001b[0m\u001b[0;32m    820\u001b[0m \u001b[1;33m\u001b[0m\u001b[0m\n\u001b[0;32m    821\u001b[0m     \u001b[1;32mdef\u001b[0m \u001b[0mclose\u001b[0m\u001b[1;33m(\u001b[0m\u001b[0mself\u001b[0m\u001b[1;33m)\u001b[0m\u001b[1;33m:\u001b[0m\u001b[1;33m\u001b[0m\u001b[1;33m\u001b[0m\u001b[0m\n",
      "\u001b[1;32m~\\anaconda3\\lib\\site-packages\\pandas\\io\\parsers.py\u001b[0m in \u001b[0;36m_make_engine\u001b[1;34m(self, engine)\u001b[0m\n\u001b[0;32m   1048\u001b[0m             )\n\u001b[0;32m   1049\u001b[0m         \u001b[1;31m# error: Too many arguments for \"ParserBase\"\u001b[0m\u001b[1;33m\u001b[0m\u001b[1;33m\u001b[0m\u001b[1;33m\u001b[0m\u001b[0m\n\u001b[1;32m-> 1050\u001b[1;33m         \u001b[1;32mreturn\u001b[0m \u001b[0mmapping\u001b[0m\u001b[1;33m[\u001b[0m\u001b[0mengine\u001b[0m\u001b[1;33m]\u001b[0m\u001b[1;33m(\u001b[0m\u001b[0mself\u001b[0m\u001b[1;33m.\u001b[0m\u001b[0mf\u001b[0m\u001b[1;33m,\u001b[0m \u001b[1;33m**\u001b[0m\u001b[0mself\u001b[0m\u001b[1;33m.\u001b[0m\u001b[0moptions\u001b[0m\u001b[1;33m)\u001b[0m  \u001b[1;31m# type: ignore[call-arg]\u001b[0m\u001b[1;33m\u001b[0m\u001b[1;33m\u001b[0m\u001b[0m\n\u001b[0m\u001b[0;32m   1051\u001b[0m \u001b[1;33m\u001b[0m\u001b[0m\n\u001b[0;32m   1052\u001b[0m     \u001b[1;32mdef\u001b[0m \u001b[0m_failover_to_python\u001b[0m\u001b[1;33m(\u001b[0m\u001b[0mself\u001b[0m\u001b[1;33m)\u001b[0m\u001b[1;33m:\u001b[0m\u001b[1;33m\u001b[0m\u001b[1;33m\u001b[0m\u001b[0m\n",
      "\u001b[1;32m~\\anaconda3\\lib\\site-packages\\pandas\\io\\parsers.py\u001b[0m in \u001b[0;36m__init__\u001b[1;34m(self, src, **kwds)\u001b[0m\n\u001b[0;32m   1865\u001b[0m \u001b[1;33m\u001b[0m\u001b[0m\n\u001b[0;32m   1866\u001b[0m         \u001b[1;31m# open handles\u001b[0m\u001b[1;33m\u001b[0m\u001b[1;33m\u001b[0m\u001b[1;33m\u001b[0m\u001b[0m\n\u001b[1;32m-> 1867\u001b[1;33m         \u001b[0mself\u001b[0m\u001b[1;33m.\u001b[0m\u001b[0m_open_handles\u001b[0m\u001b[1;33m(\u001b[0m\u001b[0msrc\u001b[0m\u001b[1;33m,\u001b[0m \u001b[0mkwds\u001b[0m\u001b[1;33m)\u001b[0m\u001b[1;33m\u001b[0m\u001b[1;33m\u001b[0m\u001b[0m\n\u001b[0m\u001b[0;32m   1868\u001b[0m         \u001b[1;32massert\u001b[0m \u001b[0mself\u001b[0m\u001b[1;33m.\u001b[0m\u001b[0mhandles\u001b[0m \u001b[1;32mis\u001b[0m \u001b[1;32mnot\u001b[0m \u001b[1;32mNone\u001b[0m\u001b[1;33m\u001b[0m\u001b[1;33m\u001b[0m\u001b[0m\n\u001b[0;32m   1869\u001b[0m         \u001b[1;32mfor\u001b[0m \u001b[0mkey\u001b[0m \u001b[1;32min\u001b[0m \u001b[1;33m(\u001b[0m\u001b[1;34m\"storage_options\"\u001b[0m\u001b[1;33m,\u001b[0m \u001b[1;34m\"encoding\"\u001b[0m\u001b[1;33m,\u001b[0m \u001b[1;34m\"memory_map\"\u001b[0m\u001b[1;33m,\u001b[0m \u001b[1;34m\"compression\"\u001b[0m\u001b[1;33m)\u001b[0m\u001b[1;33m:\u001b[0m\u001b[1;33m\u001b[0m\u001b[1;33m\u001b[0m\u001b[0m\n",
      "\u001b[1;32m~\\anaconda3\\lib\\site-packages\\pandas\\io\\parsers.py\u001b[0m in \u001b[0;36m_open_handles\u001b[1;34m(self, src, kwds)\u001b[0m\n\u001b[0;32m   1360\u001b[0m         \u001b[0mLet\u001b[0m \u001b[0mthe\u001b[0m \u001b[0mreaders\u001b[0m \u001b[0mopen\u001b[0m \u001b[0mIOHanldes\u001b[0m \u001b[0mafter\u001b[0m \u001b[0mthey\u001b[0m \u001b[0mare\u001b[0m \u001b[0mdone\u001b[0m \u001b[1;32mwith\u001b[0m \u001b[0mtheir\u001b[0m \u001b[0mpotential\u001b[0m \u001b[0mraises\u001b[0m\u001b[1;33m.\u001b[0m\u001b[1;33m\u001b[0m\u001b[1;33m\u001b[0m\u001b[0m\n\u001b[0;32m   1361\u001b[0m         \"\"\"\n\u001b[1;32m-> 1362\u001b[1;33m         self.handles = get_handle(\n\u001b[0m\u001b[0;32m   1363\u001b[0m             \u001b[0msrc\u001b[0m\u001b[1;33m,\u001b[0m\u001b[1;33m\u001b[0m\u001b[1;33m\u001b[0m\u001b[0m\n\u001b[0;32m   1364\u001b[0m             \u001b[1;34m\"r\"\u001b[0m\u001b[1;33m,\u001b[0m\u001b[1;33m\u001b[0m\u001b[1;33m\u001b[0m\u001b[0m\n",
      "\u001b[1;32m~\\anaconda3\\lib\\site-packages\\pandas\\io\\common.py\u001b[0m in \u001b[0;36mget_handle\u001b[1;34m(path_or_buf, mode, encoding, compression, memory_map, is_text, errors, storage_options)\u001b[0m\n\u001b[0;32m    640\u001b[0m                 \u001b[0merrors\u001b[0m \u001b[1;33m=\u001b[0m \u001b[1;34m\"replace\"\u001b[0m\u001b[1;33m\u001b[0m\u001b[1;33m\u001b[0m\u001b[0m\n\u001b[0;32m    641\u001b[0m             \u001b[1;31m# Encoding\u001b[0m\u001b[1;33m\u001b[0m\u001b[1;33m\u001b[0m\u001b[1;33m\u001b[0m\u001b[0m\n\u001b[1;32m--> 642\u001b[1;33m             handle = open(\n\u001b[0m\u001b[0;32m    643\u001b[0m                 \u001b[0mhandle\u001b[0m\u001b[1;33m,\u001b[0m\u001b[1;33m\u001b[0m\u001b[1;33m\u001b[0m\u001b[0m\n\u001b[0;32m    644\u001b[0m                 \u001b[0mioargs\u001b[0m\u001b[1;33m.\u001b[0m\u001b[0mmode\u001b[0m\u001b[1;33m,\u001b[0m\u001b[1;33m\u001b[0m\u001b[1;33m\u001b[0m\u001b[0m\n",
      "\u001b[1;31mFileNotFoundError\u001b[0m: [Errno 2] No such file or directory: 'RELIANCEtemp.csv'"
     ]
    }
   ],
   "source": [
    "\n",
    "plt.plot(df3,color=\"red\")\n",
    "plt.plot(df_temp[\"Close\"])\n",
    "plt.show()\n",
    "\n",
    "print(df3[-31:-23])\n",
    "print(df_temp[\"Close\"][-31:])"
   ]
  },
  {
   "cell_type": "code",
   "execution_count": null,
   "metadata": {},
   "outputs": [],
   "source": []
  },
  {
   "cell_type": "code",
   "execution_count": null,
   "metadata": {},
   "outputs": [],
   "source": []
  }
 ],
 "metadata": {
  "kernelspec": {
   "display_name": "Python 3",
   "language": "python",
   "name": "python3"
  },
  "language_info": {
   "codemirror_mode": {
    "name": "ipython",
    "version": 3
   },
   "file_extension": ".py",
   "mimetype": "text/x-python",
   "name": "python",
   "nbconvert_exporter": "python",
   "pygments_lexer": "ipython3",
   "version": "3.8.8"
  }
 },
 "nbformat": 4,
 "nbformat_minor": 2
}
