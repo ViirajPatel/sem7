{
 "cells": [
  {
   "cell_type": "code",
   "execution_count": 1,
   "id": "6d3a1bd6",
   "metadata": {},
   "outputs": [
    {
     "name": "stdout",
     "output_type": "stream",
     "text": [
      "Total days in the dataset 3347\n"
     ]
    }
   ],
   "source": [
    "\n",
    "import pandas as pd\n",
    "import numpy as np\n",
    "import matplotlib.pyplot as plt\n",
    "import math\n",
    "from sklearn.preprocessing import MinMaxScaler\n",
    "from keras.preprocessing.sequence import TimeseriesGenerator\n",
    "from keras.models import Sequential\n",
    "from keras.layers import Dense, LSTM, Dropout, Activation\n",
    "#country = 'India'\n",
    "df = pd.read_csv(\"HCLTECH.csv\")\n",
    "# df = pd.read_csv('NSE-TATAGLOBAL11.csv')\n",
    "# df= pd.read_csv(\"NSE-TATA.csv\")\n",
    "df.index = df['Date']\n",
    "#creating dataframe\n",
    "data = df.sort_index(ascending=True, axis=0)\n",
    "new_data = pd.DataFrame(index=range(0, len(df)), columns=['Date', 'Close'])\n",
    "for i in range(0, len(data)):\n",
    "    new_data['Date'][i] = data['Date'][i]\n",
    "    new_data['Close'][i] = data['Close'][i]\n",
    "\n",
    "#setting index\n",
    "new_data.drop('Date', axis=1, inplace=True)\n",
    "new_data.index = pd.to_datetime(df[\"Date\"],format=\"%Y-%m-%d\")\n",
    "\n",
    "print(\"Total days in the dataset\", len(new_data))\n"
   ]
  },
  {
   "cell_type": "code",
   "execution_count": 2,
   "id": "d1a547e6",
   "metadata": {},
   "outputs": [],
   "source": [
    "x = math.ceil((len(new_data)*80)/100)\n",
    "\n",
    "train=new_data[:x]\n",
    "test = new_data[x:]\n",
    "\n",
    "##scale or normalize data as the data is too skewed\n",
    "\n",
    "scaler = MinMaxScaler(feature_range=(0, 1))\n",
    "scaler.fit(train) \n",
    "\n",
    "train_scaled = scaler.transform(train)\n",
    "test_scaled = scaler.transform(test)"
   ]
  },
  {
   "cell_type": "code",
   "execution_count": 3,
   "id": "27f102ca",
   "metadata": {},
   "outputs": [
    {
     "name": "stdout",
     "output_type": "stream",
     "text": [
      "Total number of samples in the original training data =  2678\n",
      "Total number of samples in the generated data =  2628\n"
     ]
    }
   ],
   "source": [
    "seq_size = 50  ## number of steps (lookback)\n",
    "n_features = 1 ## number of features. This dataset is univariate so it is 1\n",
    "train_generator = TimeseriesGenerator(train_scaled, train_scaled, length = seq_size, batch_size=1)\n",
    "print(\"Total number of samples in the original training data = \", len(train)) # 271\n",
    "print(\"Total number of samples in the generated data = \", len(train_generator)) # 264 with seq_size=7\n",
    "\n",
    "#Check data shape from generator\n",
    "x,y = train_generator[10] "
   ]
  },
  {
   "cell_type": "code",
   "execution_count": 4,
   "id": "2af166a4",
   "metadata": {},
   "outputs": [
    {
     "name": "stdout",
     "output_type": "stream",
     "text": [
      "Total number of samples in the original training data =  669\n",
      "Total number of samples in the generated data =  619\n"
     ]
    }
   ],
   "source": [
    "test_generator = TimeseriesGenerator(test_scaled, test_scaled, length=seq_size, batch_size=1)\n",
    "print(\"Total number of samples in the original training data = \", len(test)) # 14 as we're using last 14 days for test\n",
    "print(\"Total number of samples in the generated data = \", len(test_generator)) # 7\n",
    "#Check data shape from generator\n",
    "x,y = test_generator[0]"
   ]
  },
  {
   "cell_type": "code",
   "execution_count": 5,
   "id": "18995258",
   "metadata": {},
   "outputs": [
    {
     "name": "stdout",
     "output_type": "stream",
     "text": [
      "Model: \"sequential\"\n",
      "_________________________________________________________________\n",
      "Layer (type)                 Output Shape              Param #   \n",
      "=================================================================\n",
      "lstm (LSTM)                  (None, 50, 150)           91200     \n",
      "_________________________________________________________________\n",
      "lstm_1 (LSTM)                (None, 64)                55040     \n",
      "_________________________________________________________________\n",
      "dense (Dense)                (None, 64)                4160      \n",
      "_________________________________________________________________\n",
      "dense_1 (Dense)              (None, 1)                 65        \n",
      "=================================================================\n",
      "Total params: 150,465\n",
      "Trainable params: 150,465\n",
      "Non-trainable params: 0\n",
      "_________________________________________________________________\n",
      "Train...\n"
     ]
    },
    {
     "name": "stderr",
     "output_type": "stream",
     "text": [
      "C:\\Users\\acer\\anaconda3\\lib\\site-packages\\keras\\engine\\training.py:1972: UserWarning: `Model.fit_generator` is deprecated and will be removed in a future version. Please use `Model.fit`, which supports generators.\n",
      "  warnings.warn('`Model.fit_generator` is deprecated and '\n"
     ]
    },
    {
     "name": "stdout",
     "output_type": "stream",
     "text": [
      "Epoch 1/50\n",
      "10/10 [==============================] - 7s 474ms/step - loss: 0.0438 - val_loss: 0.0449\n",
      "Epoch 2/50\n",
      "10/10 [==============================] - 3s 371ms/step - loss: 0.0231 - val_loss: 0.1385\n",
      "Epoch 3/50\n",
      "10/10 [==============================] - 4s 393ms/step - loss: 0.0176 - val_loss: 0.1602\n",
      "Epoch 4/50\n",
      "10/10 [==============================] - 4s 394ms/step - loss: 0.0098 - val_loss: 0.0277\n",
      "Epoch 5/50\n",
      "10/10 [==============================] - 4s 400ms/step - loss: 0.0040 - val_loss: 0.0112\n",
      "Epoch 6/50\n",
      "10/10 [==============================] - 4s 412ms/step - loss: 0.0012 - val_loss: 0.0086\n",
      "Epoch 7/50\n",
      "10/10 [==============================] - 4s 431ms/step - loss: 0.0028 - val_loss: 0.0204\n",
      "Epoch 8/50\n",
      "10/10 [==============================] - 4s 435ms/step - loss: 0.0063 - val_loss: 0.0676\n",
      "Epoch 9/50\n",
      "10/10 [==============================] - 4s 485ms/step - loss: 0.0045 - val_loss: 0.0057\n",
      "Epoch 10/50\n",
      "10/10 [==============================] - 3s 381ms/step - loss: 5.5278e-04 - val_loss: 0.0121\n",
      "Epoch 11/50\n",
      "10/10 [==============================] - 4s 401ms/step - loss: 6.6838e-04 - val_loss: 0.0056\n",
      "Epoch 12/50\n",
      "10/10 [==============================] - 4s 456ms/step - loss: 4.2868e-04 - val_loss: 0.0181\n",
      "Epoch 13/50\n",
      "10/10 [==============================] - 4s 398ms/step - loss: 0.0014 - val_loss: 0.0068\n",
      "Epoch 14/50\n",
      "10/10 [==============================] - 4s 429ms/step - loss: 3.5867e-04 - val_loss: 0.0281\n",
      "Epoch 15/50\n",
      "10/10 [==============================] - 3s 376ms/step - loss: 0.0036 - val_loss: 0.0070\n",
      "Epoch 16/50\n",
      "10/10 [==============================] - 4s 386ms/step - loss: 0.0017 - val_loss: 0.0212\n",
      "Epoch 17/50\n",
      "10/10 [==============================] - 3s 371ms/step - loss: 0.0039 - val_loss: 0.0180\n",
      "Epoch 18/50\n",
      "10/10 [==============================] - 4s 399ms/step - loss: 0.0020 - val_loss: 0.0129\n",
      "Epoch 19/50\n",
      "10/10 [==============================] - 4s 399ms/step - loss: 0.0021 - val_loss: 0.0194\n",
      "Epoch 20/50\n",
      "10/10 [==============================] - 4s 413ms/step - loss: 0.0012 - val_loss: 0.0072\n",
      "Epoch 21/50\n",
      "10/10 [==============================] - 3s 380ms/step - loss: 0.0014 - val_loss: 0.0128\n",
      "Epoch 22/50\n",
      "10/10 [==============================] - 4s 407ms/step - loss: 0.0029 - val_loss: 0.0396\n",
      "Epoch 23/50\n",
      "10/10 [==============================] - 3s 367ms/step - loss: 0.0033 - val_loss: 0.0354\n",
      "Epoch 24/50\n",
      "10/10 [==============================] - 4s 395ms/step - loss: 0.0012 - val_loss: 0.0054\n",
      "Epoch 25/50\n",
      "10/10 [==============================] - 4s 393ms/step - loss: 2.7562e-04 - val_loss: 0.0064\n",
      "Epoch 26/50\n",
      "10/10 [==============================] - 4s 494ms/step - loss: 1.8952e-04 - val_loss: 0.0035\n",
      "Epoch 27/50\n",
      "10/10 [==============================] - 4s 485ms/step - loss: 0.0013 - val_loss: 0.0403\n",
      "Epoch 28/50\n",
      "10/10 [==============================] - 5s 526ms/step - loss: 8.7919e-04 - val_loss: 0.0060\n",
      "Epoch 29/50\n",
      "10/10 [==============================] - 4s 434ms/step - loss: 5.3696e-04 - val_loss: 0.0053\n",
      "Epoch 30/50\n",
      "10/10 [==============================] - 4s 479ms/step - loss: 3.6146e-04 - val_loss: 0.0050\n",
      "Epoch 31/50\n",
      "10/10 [==============================] - 4s 437ms/step - loss: 2.7511e-04 - val_loss: 0.0150\n",
      "Epoch 32/50\n",
      "10/10 [==============================] - 3s 364ms/step - loss: 0.0028 - val_loss: 0.0191\n",
      "Epoch 33/50\n",
      "10/10 [==============================] - 4s 396ms/step - loss: 0.0098 - val_loss: 0.0039\n",
      "Epoch 34/50\n",
      "10/10 [==============================] - 3s 385ms/step - loss: 9.9120e-04 - val_loss: 0.0135\n",
      "Epoch 35/50\n",
      "10/10 [==============================] - 4s 397ms/step - loss: 0.0015 - val_loss: 0.0201\n",
      "Epoch 36/50\n",
      "10/10 [==============================] - 4s 428ms/step - loss: 9.8221e-04 - val_loss: 0.0069\n",
      "Epoch 37/50\n",
      "10/10 [==============================] - 3s 376ms/step - loss: 0.0020 - val_loss: 0.0091\n",
      "Epoch 38/50\n",
      "10/10 [==============================] - 3s 380ms/step - loss: 0.0033 - val_loss: 0.0601\n",
      "Epoch 39/50\n",
      "10/10 [==============================] - 4s 428ms/step - loss: 0.0016 - val_loss: 0.0048\n",
      "Epoch 40/50\n",
      "10/10 [==============================] - 4s 400ms/step - loss: 6.7968e-04 - val_loss: 0.0034\n",
      "Epoch 41/50\n",
      "10/10 [==============================] - 4s 396ms/step - loss: 6.3492e-04 - val_loss: 0.0038\n",
      "Epoch 42/50\n",
      "10/10 [==============================] - 4s 410ms/step - loss: 6.0104e-04 - val_loss: 0.0074\n",
      "Epoch 43/50\n",
      "10/10 [==============================] - 4s 394ms/step - loss: 0.0011 - val_loss: 0.0036\n",
      "Epoch 44/50\n",
      "10/10 [==============================] - 3s 356ms/step - loss: 7.3608e-04 - val_loss: 0.0029\n",
      "Epoch 45/50\n",
      "10/10 [==============================] - 3s 373ms/step - loss: 2.2047e-04 - val_loss: 0.0032\n",
      "Epoch 46/50\n",
      "10/10 [==============================] - 4s 414ms/step - loss: 0.0011 - val_loss: 0.0043\n",
      "Epoch 47/50\n",
      "10/10 [==============================] - 4s 452ms/step - loss: 9.3214e-04 - val_loss: 0.0031\n",
      "Epoch 48/50\n",
      "10/10 [==============================] - 4s 432ms/step - loss: 0.0015 - val_loss: 0.0052\n",
      "Epoch 49/50\n",
      "10/10 [==============================] - 3s 357ms/step - loss: 5.4870e-04 - val_loss: 0.0031\n",
      "Epoch 50/50\n",
      "10/10 [==============================] - 3s 356ms/step - loss: 8.4792e-04 - val_loss: 0.0105\n"
     ]
    }
   ],
   "source": [
    "model = Sequential()\n",
    "model.add(LSTM(150, activation='relu', return_sequences=True, input_shape=(seq_size, n_features)))\n",
    "model.add(LSTM(64, activation='relu'))\n",
    "model.add(Dense(64))\n",
    "model.add(Dense(1))\n",
    "model.compile(optimizer='adam', loss='mean_squared_error')\n",
    "\n",
    "model.summary()\n",
    "print('Train...')\n",
    "##########################\n",
    "\n",
    "history = model.fit_generator(train_generator, \n",
    "                              validation_data=test_generator, \n",
    "                              epochs=50, steps_per_epoch=10)\n",
    "\n",
    "\n",
    "#plot the training and validation accuracy and loss at each epoch\n",
    "loss = history.history['loss']\n",
    "val_loss = history.history['val_loss']\n",
    "epochs = range(1, len(loss) + 1)\n",
    "# plt.plot(epochs, loss, 'y', label='Training loss')\n",
    "# plt.plot(epochs, val_loss, 'r', label='Validation loss')\n",
    "# plt.title('Training and validation loss')\n",
    "# plt.xlabel('Epochs')\n",
    "# plt.ylabel('Loss')\n",
    "# plt.legend()\n",
    "# plt.show()"
   ]
  },
  {
   "cell_type": "code",
   "execution_count": 6,
   "id": "3277b977",
   "metadata": {},
   "outputs": [
    {
     "ename": "NameError",
     "evalue": "name 'y_train' is not defined",
     "output_type": "error",
     "traceback": [
      "\u001b[1;31m---------------------------------------------------------------------------\u001b[0m",
      "\u001b[1;31mNameError\u001b[0m                                 Traceback (most recent call last)",
      "\u001b[1;32m<ipython-input-6-0b744cfcba0c>\u001b[0m in \u001b[0;36m<module>\u001b[1;34m\u001b[0m\n\u001b[0;32m      1\u001b[0m \u001b[1;32mimport\u001b[0m \u001b[0mmath\u001b[0m\u001b[1;33m\u001b[0m\u001b[1;33m\u001b[0m\u001b[0m\n\u001b[0;32m      2\u001b[0m \u001b[1;32mfrom\u001b[0m \u001b[0msklearn\u001b[0m\u001b[1;33m.\u001b[0m\u001b[0mmetrics\u001b[0m \u001b[1;32mimport\u001b[0m \u001b[0mmean_squared_error\u001b[0m\u001b[1;33m\u001b[0m\u001b[1;33m\u001b[0m\u001b[0m\n\u001b[1;32m----> 3\u001b[1;33m \u001b[0mmath\u001b[0m\u001b[1;33m.\u001b[0m\u001b[0msqrt\u001b[0m\u001b[1;33m(\u001b[0m\u001b[0mmean_squared_error\u001b[0m\u001b[1;33m(\u001b[0m\u001b[0my_train\u001b[0m\u001b[1;33m,\u001b[0m\u001b[0mtrain_predict\u001b[0m\u001b[1;33m)\u001b[0m\u001b[1;33m)\u001b[0m\u001b[1;33m\u001b[0m\u001b[1;33m\u001b[0m\u001b[0m\n\u001b[0m",
      "\u001b[1;31mNameError\u001b[0m: name 'y_train' is not defined"
     ]
    }
   ],
   "source": [
    "import math\n",
    "from sklearn.metrics import mean_squared_error\n",
    "math.sqrt(mean_squared_error(y_train,train_predict))"
   ]
  },
  {
   "cell_type": "code",
   "execution_count": 6,
   "id": "e7787b5b",
   "metadata": {},
   "outputs": [],
   "source": [
    "prediction = [] #Empty list to populate later with predictions\n",
    "\n",
    "current_batch = train_scaled[-seq_size:] #Final data points in train \n",
    "current_batch = current_batch.reshape(1, seq_size, n_features) #Reshape\n"
   ]
  },
  {
   "cell_type": "code",
   "execution_count": null,
   "id": "95a2efba",
   "metadata": {},
   "outputs": [],
   "source": []
  },
  {
   "cell_type": "code",
   "execution_count": null,
   "id": "e651c404",
   "metadata": {},
   "outputs": [],
   "source": [
    "future = 7 #Days\n",
    "for i in range(len(test) + future):\n",
    "    current_pred = model.predict(current_batch)[0]\n",
    "    prediction.append(current_pred)\n",
    "    current_batch = np.append(current_batch[:,1:,:],[[current_pred]],axis=1)\n",
    "\n",
    "### Inverse transform to before scaling so we get actual numbers\n",
    "rescaled_prediction = scaler.inverse_transform(prediction)\n",
    "\n",
    "time_series_array = test.index  #Get dates for test data\n",
    "\n",
    "#Add new dates for the forecast period\n",
    "for k in range(0, future):\n",
    "    time_series_array = time_series_array.append(time_series_array[-1:] + pd.DateOffset(1))\n",
    "\n",
    "#Create a dataframe to capture the forecast data\n",
    "df_forecast = pd.DataFrame(columns=[\"Close\",\"predicted\"], index=time_series_array)\n",
    "\n",
    "df_forecast.loc[:,\"predicted\"] = rescaled_prediction[:,0]\n",
    "df_forecast.loc[:,\"Close\"] = test[\"Close\"]\n",
    "\n",
    "#Plot\n",
    "df_forecast.plot(title=\"Predictions for next 7 days\")\n",
    "plt.show()\n"
   ]
  },
  {
   "cell_type": "code",
   "execution_count": null,
   "id": "72420eda",
   "metadata": {},
   "outputs": [],
   "source": []
  }
 ],
 "metadata": {
  "interpreter": {
   "hash": "f6fd1373de7469b4474cfd9f821dba682372631640c99a1fbd1e01b276364afd"
  },
  "kernelspec": {
   "display_name": "Python 3",
   "language": "python",
   "name": "python3"
  },
  "language_info": {
   "codemirror_mode": {
    "name": "ipython",
    "version": 3
   },
   "file_extension": ".py",
   "mimetype": "text/x-python",
   "name": "python",
   "nbconvert_exporter": "python",
   "pygments_lexer": "ipython3",
   "version": "3.8.8"
  }
 },
 "nbformat": 4,
 "nbformat_minor": 5
}
